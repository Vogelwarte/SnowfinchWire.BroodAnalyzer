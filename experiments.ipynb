{
 "cells": [
  {
   "cell_type": "code",
   "execution_count": 1,
   "metadata": {
    "collapsed": true
   },
   "outputs": [
    {
     "name": "stderr",
     "output_type": "stream",
     "text": [
      "c:\\users\\barto\\devel\\repos\\pycharmprojects\\snowfinchwire.broodanalyzer\\venv\\lib\\site-packages\\tqdm\\auto.py:22: TqdmWarning: IProgress not found. Please update jupyter and ipywidgets. See https://ipywidgets.readthedocs.io/en/stable/user_install.html\n",
      "  from .autonotebook import tqdm as notebook_tqdm\n"
     ]
    }
   ],
   "source": [
    "from pathlib import Path\n",
    "\n",
    "from sklearn.model_selection import train_test_split\n",
    "\n",
    "from opensoundscape.torch.models.cnn import load_model\n",
    "\n",
    "from sfw_brood.preprocessing import prepare_training, discover_training_data\n",
    "from sfw_brood.cnn.model import SnowfinchBroodCNN\n",
    "from sfw_brood.cnn.util import cleanup\n",
    "from sfw_brood.cnn.validator import CNNValidator"
   ]
  },
  {
   "cell_type": "code",
   "execution_count": 2,
   "outputs": [],
   "source": [
    "bs_cnn = SnowfinchBroodCNN(trained_cnn = load_model('_out/model.bs'))\n",
    "ba_cnn = SnowfinchBroodCNN(trained_cnn = load_model('_out/BA.2023-01-08T13-23-30.cnn'))"
   ],
   "metadata": {
    "collapsed": false
   }
  },
  {
   "cell_type": "code",
   "execution_count": 3,
   "outputs": [
    {
     "name": "stdout",
     "output_type": "stream",
     "text": [
      "Loading recording AT_1_2_1_22-BA10_BS02-24E144035BA44417_20220610_160000\n",
      "Loading recording AT_1_3_1_22-BA12_BS03-24E144045FDEF471_20220611_100000\n",
      "Loading recording AT_1_3_1_22-BA17_BS03-243B1F075C79F9E9_20220616_060000\n",
      "Loading recording AT_1_6_1_22-BA13_BS03-243B1F055AD2F48C_20220613_140000\n",
      "Loading recording AT_1_8_1_22-BA09_BS04-247AA5015C0309FF_20220608_120000\n",
      "Loading recording AT_1_8_1_22-BA11_BS04-24E144035BA44334_20220610_140000\n",
      "Loading recording AT_2_2_1_22-BA08_BS04-247AA5015BA4439B_20220608_080000\n",
      "Loading recording AT_2_2_1_22-BA12_BS04-2466C2065B902810_20220612_200000\n",
      "Loading recording Furka34_22a-BA07_BS04-247AA5015FDF2A00_20220612_193000\n",
      "Loading recording Furka34_22a-BA11_BS04-247AA5015FDF2A00_20220616_053000\n"
     ]
    },
    {
     "data": {
      "text/plain": "                                                    7  8  9  10  11  12  13  \\\nfile                                                                          \n_training/AT_1_2_1_22-BA10_BS02-24E144035BA4441...  0  0  0   1   0   0   0   \n_training/AT_1_2_1_22-BA10_BS02-24E144035BA4441...  0  0  0   1   0   0   0   \n_training/AT_1_2_1_22-BA10_BS02-24E144035BA4441...  0  0  0   1   0   0   0   \n_training/AT_1_2_1_22-BA10_BS02-24E144035BA4441...  0  0  0   1   0   0   0   \n_training/AT_1_2_1_22-BA10_BS02-24E144035BA4441...  0  0  0   1   0   0   0   \n...                                                .. .. ..  ..  ..  ..  ..   \n_training/Furka34_22a-BA11_BS04-247AA5015FDF2A0...  0  0  0   0   1   0   0   \n_training/Furka34_22a-BA11_BS04-247AA5015FDF2A0...  0  0  0   0   1   0   0   \n_training/Furka34_22a-BA11_BS04-247AA5015FDF2A0...  0  0  0   0   1   0   0   \n_training/Furka34_22a-BA11_BS04-247AA5015FDF2A0...  0  0  0   0   1   0   0   \n_training/Furka34_22a-BA11_BS04-247AA5015FDF2A0...  0  0  0   0   1   0   0   \n\n                                                    17  \nfile                                                    \n_training/AT_1_2_1_22-BA10_BS02-24E144035BA4441...   0  \n_training/AT_1_2_1_22-BA10_BS02-24E144035BA4441...   0  \n_training/AT_1_2_1_22-BA10_BS02-24E144035BA4441...   0  \n_training/AT_1_2_1_22-BA10_BS02-24E144035BA4441...   0  \n_training/AT_1_2_1_22-BA10_BS02-24E144035BA4441...   0  \n...                                                 ..  \n_training/Furka34_22a-BA11_BS04-247AA5015FDF2A0...   0  \n_training/Furka34_22a-BA11_BS04-247AA5015FDF2A0...   0  \n_training/Furka34_22a-BA11_BS04-247AA5015FDF2A0...   0  \n_training/Furka34_22a-BA11_BS04-247AA5015FDF2A0...   0  \n_training/Furka34_22a-BA11_BS04-247AA5015FDF2A0...   0  \n\n[10822 rows x 8 columns]",
      "text/html": "<div>\n<style scoped>\n    .dataframe tbody tr th:only-of-type {\n        vertical-align: middle;\n    }\n\n    .dataframe tbody tr th {\n        vertical-align: top;\n    }\n\n    .dataframe thead th {\n        text-align: right;\n    }\n</style>\n<table border=\"1\" class=\"dataframe\">\n  <thead>\n    <tr style=\"text-align: right;\">\n      <th></th>\n      <th>7</th>\n      <th>8</th>\n      <th>9</th>\n      <th>10</th>\n      <th>11</th>\n      <th>12</th>\n      <th>13</th>\n      <th>17</th>\n    </tr>\n    <tr>\n      <th>file</th>\n      <th></th>\n      <th></th>\n      <th></th>\n      <th></th>\n      <th></th>\n      <th></th>\n      <th></th>\n      <th></th>\n    </tr>\n  </thead>\n  <tbody>\n    <tr>\n      <th>_training/AT_1_2_1_22-BA10_BS02-24E144035BA44417_20220610_160000__0.wav</th>\n      <td>0</td>\n      <td>0</td>\n      <td>0</td>\n      <td>1</td>\n      <td>0</td>\n      <td>0</td>\n      <td>0</td>\n      <td>0</td>\n    </tr>\n    <tr>\n      <th>_training/AT_1_2_1_22-BA10_BS02-24E144035BA44417_20220610_160000__1.wav</th>\n      <td>0</td>\n      <td>0</td>\n      <td>0</td>\n      <td>1</td>\n      <td>0</td>\n      <td>0</td>\n      <td>0</td>\n      <td>0</td>\n    </tr>\n    <tr>\n      <th>_training/AT_1_2_1_22-BA10_BS02-24E144035BA44417_20220610_160000__2.wav</th>\n      <td>0</td>\n      <td>0</td>\n      <td>0</td>\n      <td>1</td>\n      <td>0</td>\n      <td>0</td>\n      <td>0</td>\n      <td>0</td>\n    </tr>\n    <tr>\n      <th>_training/AT_1_2_1_22-BA10_BS02-24E144035BA44417_20220610_160000__3.wav</th>\n      <td>0</td>\n      <td>0</td>\n      <td>0</td>\n      <td>1</td>\n      <td>0</td>\n      <td>0</td>\n      <td>0</td>\n      <td>0</td>\n    </tr>\n    <tr>\n      <th>_training/AT_1_2_1_22-BA10_BS02-24E144035BA44417_20220610_160000__4.wav</th>\n      <td>0</td>\n      <td>0</td>\n      <td>0</td>\n      <td>1</td>\n      <td>0</td>\n      <td>0</td>\n      <td>0</td>\n      <td>0</td>\n    </tr>\n    <tr>\n      <th>...</th>\n      <td>...</td>\n      <td>...</td>\n      <td>...</td>\n      <td>...</td>\n      <td>...</td>\n      <td>...</td>\n      <td>...</td>\n      <td>...</td>\n    </tr>\n    <tr>\n      <th>_training/Furka34_22a-BA11_BS04-247AA5015FDF2A00_20220616_053000__1668.wav</th>\n      <td>0</td>\n      <td>0</td>\n      <td>0</td>\n      <td>0</td>\n      <td>1</td>\n      <td>0</td>\n      <td>0</td>\n      <td>0</td>\n    </tr>\n    <tr>\n      <th>_training/Furka34_22a-BA11_BS04-247AA5015FDF2A00_20220616_053000__1669.wav</th>\n      <td>0</td>\n      <td>0</td>\n      <td>0</td>\n      <td>0</td>\n      <td>1</td>\n      <td>0</td>\n      <td>0</td>\n      <td>0</td>\n    </tr>\n    <tr>\n      <th>_training/Furka34_22a-BA11_BS04-247AA5015FDF2A00_20220616_053000__1670.wav</th>\n      <td>0</td>\n      <td>0</td>\n      <td>0</td>\n      <td>0</td>\n      <td>1</td>\n      <td>0</td>\n      <td>0</td>\n      <td>0</td>\n    </tr>\n    <tr>\n      <th>_training/Furka34_22a-BA11_BS04-247AA5015FDF2A00_20220616_053000__1671.wav</th>\n      <td>0</td>\n      <td>0</td>\n      <td>0</td>\n      <td>0</td>\n      <td>1</td>\n      <td>0</td>\n      <td>0</td>\n      <td>0</td>\n    </tr>\n    <tr>\n      <th>_training/Furka34_22a-BA11_BS04-247AA5015FDF2A00_20220616_053000__1672.wav</th>\n      <td>0</td>\n      <td>0</td>\n      <td>0</td>\n      <td>0</td>\n      <td>1</td>\n      <td>0</td>\n      <td>0</td>\n      <td>0</td>\n    </tr>\n  </tbody>\n</table>\n<p>10822 rows × 8 columns</p>\n</div>"
     },
     "execution_count": 3,
     "metadata": {},
     "output_type": "execute_result"
    }
   ],
   "source": [
    "dataset = discover_training_data('_data/ACG')\n",
    "bs_df, ba_df = prepare_training(dataset, work_dir = '_training', slice_duration_sec = 2.0, overlap_sec = 0.0)\n",
    "ba_df"
   ],
   "metadata": {
    "collapsed": false
   }
  },
  {
   "cell_type": "code",
   "execution_count": 4,
   "outputs": [
    {
     "data": {
      "text/plain": "                                                    2  3  4\nfile                                                       \n_training/AT_2_2_1_22-BA12_BS04-2466C2065B90281...  0  0  1\n_training/AT_1_3_1_22-BA17_BS03-243B1F075C79F9E...  0  1  0\n_training/Furka34_22a-BA07_BS04-247AA5015FDF2A0...  0  0  1\n_training/AT_2_2_1_22-BA12_BS04-2466C2065B90281...  0  0  1\n_training/AT_2_2_1_22-BA08_BS04-247AA5015BA4439...  0  0  1\n...                                                .. .. ..\n_training/Furka34_22a-BA07_BS04-247AA5015FDF2A0...  0  0  1\n_training/Furka34_22a-BA11_BS04-247AA5015FDF2A0...  0  0  1\n_training/Furka34_22a-BA07_BS04-247AA5015FDF2A0...  0  0  1\n_training/Furka34_22a-BA11_BS04-247AA5015FDF2A0...  0  0  1\n_training/Furka34_22a-BA11_BS04-247AA5015FDF2A0...  0  0  1\n\n[542 rows x 3 columns]",
      "text/html": "<div>\n<style scoped>\n    .dataframe tbody tr th:only-of-type {\n        vertical-align: middle;\n    }\n\n    .dataframe tbody tr th {\n        vertical-align: top;\n    }\n\n    .dataframe thead th {\n        text-align: right;\n    }\n</style>\n<table border=\"1\" class=\"dataframe\">\n  <thead>\n    <tr style=\"text-align: right;\">\n      <th></th>\n      <th>2</th>\n      <th>3</th>\n      <th>4</th>\n    </tr>\n    <tr>\n      <th>file</th>\n      <th></th>\n      <th></th>\n      <th></th>\n    </tr>\n  </thead>\n  <tbody>\n    <tr>\n      <th>_training/AT_2_2_1_22-BA12_BS04-2466C2065B902810_20220612_200000__644.wav</th>\n      <td>0</td>\n      <td>0</td>\n      <td>1</td>\n    </tr>\n    <tr>\n      <th>_training/AT_1_3_1_22-BA17_BS03-243B1F075C79F9E9_20220616_060000__878.wav</th>\n      <td>0</td>\n      <td>1</td>\n      <td>0</td>\n    </tr>\n    <tr>\n      <th>_training/Furka34_22a-BA07_BS04-247AA5015FDF2A00_20220612_193000__512.wav</th>\n      <td>0</td>\n      <td>0</td>\n      <td>1</td>\n    </tr>\n    <tr>\n      <th>_training/AT_2_2_1_22-BA12_BS04-2466C2065B902810_20220612_200000__460.wav</th>\n      <td>0</td>\n      <td>0</td>\n      <td>1</td>\n    </tr>\n    <tr>\n      <th>_training/AT_2_2_1_22-BA08_BS04-247AA5015BA4439B_20220608_080000__487.wav</th>\n      <td>0</td>\n      <td>0</td>\n      <td>1</td>\n    </tr>\n    <tr>\n      <th>...</th>\n      <td>...</td>\n      <td>...</td>\n      <td>...</td>\n    </tr>\n    <tr>\n      <th>_training/Furka34_22a-BA07_BS04-247AA5015FDF2A00_20220612_193000__486.wav</th>\n      <td>0</td>\n      <td>0</td>\n      <td>1</td>\n    </tr>\n    <tr>\n      <th>_training/Furka34_22a-BA11_BS04-247AA5015FDF2A00_20220616_053000__384.wav</th>\n      <td>0</td>\n      <td>0</td>\n      <td>1</td>\n    </tr>\n    <tr>\n      <th>_training/Furka34_22a-BA07_BS04-247AA5015FDF2A00_20220612_193000__194.wav</th>\n      <td>0</td>\n      <td>0</td>\n      <td>1</td>\n    </tr>\n    <tr>\n      <th>_training/Furka34_22a-BA11_BS04-247AA5015FDF2A00_20220616_053000__833.wav</th>\n      <td>0</td>\n      <td>0</td>\n      <td>1</td>\n    </tr>\n    <tr>\n      <th>_training/Furka34_22a-BA11_BS04-247AA5015FDF2A00_20220616_053000__413.wav</th>\n      <td>0</td>\n      <td>0</td>\n      <td>1</td>\n    </tr>\n  </tbody>\n</table>\n<p>542 rows × 3 columns</p>\n</div>"
     },
     "execution_count": 4,
     "metadata": {},
     "output_type": "execute_result"
    }
   ],
   "source": [
    "_, bs_test_df = train_test_split(bs_df, test_size = 0.05)\n",
    "bs_test_df"
   ],
   "metadata": {
    "collapsed": false
   }
  },
  {
   "cell_type": "code",
   "execution_count": 5,
   "outputs": [
    {
     "name": "stdout",
     "output_type": "stream",
     "text": [
      "[]\n"
     ]
    },
    {
     "data": {
      "text/plain": "0.9923224568138196"
     },
     "execution_count": 5,
     "metadata": {},
     "output_type": "execute_result"
    }
   ],
   "source": [
    "bs_cnn_validator = CNNValidator(bs_test_df)\n",
    "bs_accuracy = bs_cnn_validator.validate(bs_cnn, output = 'show')\n",
    "bs_accuracy"
   ],
   "metadata": {
    "collapsed": false
   }
  },
  {
   "cell_type": "code",
   "execution_count": 6,
   "outputs": [
    {
     "data": {
      "text/plain": "                                                    7  8  9  10  11  12  13  \\\nfile                                                                          \n_training/AT_1_2_1_22-BA10_BS02-24E144035BA4441...  0  0  0   1   0   0   0   \n_training/AT_1_8_1_22-BA11_BS04-24E144035BA4433...  0  0  0   0   1   0   0   \n_training/AT_2_2_1_22-BA08_BS04-247AA5015BA4439...  0  1  0   0   0   0   0   \n_training/Furka34_22a-BA07_BS04-247AA5015FDF2A0...  1  0  0   0   0   0   0   \n_training/Furka34_22a-BA11_BS04-247AA5015FDF2A0...  0  0  0   0   1   0   0   \n...                                                .. .. ..  ..  ..  ..  ..   \n_training/AT_1_8_1_22-BA09_BS04-247AA5015C0309F...  0  0  1   0   0   0   0   \n_training/AT_1_2_1_22-BA10_BS02-24E144035BA4441...  0  0  0   1   0   0   0   \n_training/AT_1_8_1_22-BA11_BS04-24E144035BA4433...  0  0  0   0   1   0   0   \n_training/AT_2_2_1_22-BA08_BS04-247AA5015BA4439...  0  1  0   0   0   0   0   \n_training/AT_1_6_1_22-BA13_BS03-243B1F055AD2F48...  0  0  0   0   0   0   1   \n\n                                                    17  \nfile                                                    \n_training/AT_1_2_1_22-BA10_BS02-24E144035BA4441...   0  \n_training/AT_1_8_1_22-BA11_BS04-24E144035BA4433...   0  \n_training/AT_2_2_1_22-BA08_BS04-247AA5015BA4439...   0  \n_training/Furka34_22a-BA07_BS04-247AA5015FDF2A0...   0  \n_training/Furka34_22a-BA11_BS04-247AA5015FDF2A0...   0  \n...                                                 ..  \n_training/AT_1_8_1_22-BA09_BS04-247AA5015C0309F...   0  \n_training/AT_1_2_1_22-BA10_BS02-24E144035BA4441...   0  \n_training/AT_1_8_1_22-BA11_BS04-24E144035BA4433...   0  \n_training/AT_2_2_1_22-BA08_BS04-247AA5015BA4439...   0  \n_training/AT_1_6_1_22-BA13_BS03-243B1F055AD2F48...   0  \n\n[542 rows x 8 columns]",
      "text/html": "<div>\n<style scoped>\n    .dataframe tbody tr th:only-of-type {\n        vertical-align: middle;\n    }\n\n    .dataframe tbody tr th {\n        vertical-align: top;\n    }\n\n    .dataframe thead th {\n        text-align: right;\n    }\n</style>\n<table border=\"1\" class=\"dataframe\">\n  <thead>\n    <tr style=\"text-align: right;\">\n      <th></th>\n      <th>7</th>\n      <th>8</th>\n      <th>9</th>\n      <th>10</th>\n      <th>11</th>\n      <th>12</th>\n      <th>13</th>\n      <th>17</th>\n    </tr>\n    <tr>\n      <th>file</th>\n      <th></th>\n      <th></th>\n      <th></th>\n      <th></th>\n      <th></th>\n      <th></th>\n      <th></th>\n      <th></th>\n    </tr>\n  </thead>\n  <tbody>\n    <tr>\n      <th>_training/AT_1_2_1_22-BA10_BS02-24E144035BA44417_20220610_160000__497.wav</th>\n      <td>0</td>\n      <td>0</td>\n      <td>0</td>\n      <td>1</td>\n      <td>0</td>\n      <td>0</td>\n      <td>0</td>\n      <td>0</td>\n    </tr>\n    <tr>\n      <th>_training/AT_1_8_1_22-BA11_BS04-24E144035BA44334_20220610_140000__307.wav</th>\n      <td>0</td>\n      <td>0</td>\n      <td>0</td>\n      <td>0</td>\n      <td>1</td>\n      <td>0</td>\n      <td>0</td>\n      <td>0</td>\n    </tr>\n    <tr>\n      <th>_training/AT_2_2_1_22-BA08_BS04-247AA5015BA4439B_20220608_080000__346.wav</th>\n      <td>0</td>\n      <td>1</td>\n      <td>0</td>\n      <td>0</td>\n      <td>0</td>\n      <td>0</td>\n      <td>0</td>\n      <td>0</td>\n    </tr>\n    <tr>\n      <th>_training/Furka34_22a-BA07_BS04-247AA5015FDF2A00_20220612_193000__298.wav</th>\n      <td>1</td>\n      <td>0</td>\n      <td>0</td>\n      <td>0</td>\n      <td>0</td>\n      <td>0</td>\n      <td>0</td>\n      <td>0</td>\n    </tr>\n    <tr>\n      <th>_training/Furka34_22a-BA11_BS04-247AA5015FDF2A00_20220616_053000__1032.wav</th>\n      <td>0</td>\n      <td>0</td>\n      <td>0</td>\n      <td>0</td>\n      <td>1</td>\n      <td>0</td>\n      <td>0</td>\n      <td>0</td>\n    </tr>\n    <tr>\n      <th>...</th>\n      <td>...</td>\n      <td>...</td>\n      <td>...</td>\n      <td>...</td>\n      <td>...</td>\n      <td>...</td>\n      <td>...</td>\n      <td>...</td>\n    </tr>\n    <tr>\n      <th>_training/AT_1_8_1_22-BA09_BS04-247AA5015C0309FF_20220608_120000__377.wav</th>\n      <td>0</td>\n      <td>0</td>\n      <td>1</td>\n      <td>0</td>\n      <td>0</td>\n      <td>0</td>\n      <td>0</td>\n      <td>0</td>\n    </tr>\n    <tr>\n      <th>_training/AT_1_2_1_22-BA10_BS02-24E144035BA44417_20220610_160000__805.wav</th>\n      <td>0</td>\n      <td>0</td>\n      <td>0</td>\n      <td>1</td>\n      <td>0</td>\n      <td>0</td>\n      <td>0</td>\n      <td>0</td>\n    </tr>\n    <tr>\n      <th>_training/AT_1_8_1_22-BA11_BS04-24E144035BA44334_20220610_140000__294.wav</th>\n      <td>0</td>\n      <td>0</td>\n      <td>0</td>\n      <td>0</td>\n      <td>1</td>\n      <td>0</td>\n      <td>0</td>\n      <td>0</td>\n    </tr>\n    <tr>\n      <th>_training/AT_2_2_1_22-BA08_BS04-247AA5015BA4439B_20220608_080000__560.wav</th>\n      <td>0</td>\n      <td>1</td>\n      <td>0</td>\n      <td>0</td>\n      <td>0</td>\n      <td>0</td>\n      <td>0</td>\n      <td>0</td>\n    </tr>\n    <tr>\n      <th>_training/AT_1_6_1_22-BA13_BS03-243B1F055AD2F48C_20220613_140000__611.wav</th>\n      <td>0</td>\n      <td>0</td>\n      <td>0</td>\n      <td>0</td>\n      <td>0</td>\n      <td>0</td>\n      <td>1</td>\n      <td>0</td>\n    </tr>\n  </tbody>\n</table>\n<p>542 rows × 8 columns</p>\n</div>"
     },
     "execution_count": 6,
     "metadata": {},
     "output_type": "execute_result"
    }
   ],
   "source": [
    "_, ba_test_df = train_test_split(ba_df, test_size = 0.05)\n",
    "ba_test_df"
   ],
   "metadata": {
    "collapsed": false
   }
  },
  {
   "cell_type": "code",
   "execution_count": 7,
   "outputs": [
    {
     "name": "stdout",
     "output_type": "stream",
     "text": [
      "[]\n"
     ]
    },
    {
     "data": {
      "text/plain": "0.9846743295019157"
     },
     "execution_count": 7,
     "metadata": {},
     "output_type": "execute_result"
    }
   ],
   "source": [
    "ba_cnn_validator = CNNValidator(ba_test_df)\n",
    "ba_accuracy = ba_cnn_validator.validate(ba_cnn, output = 'show')\n",
    "ba_accuracy"
   ],
   "metadata": {
    "collapsed": false
   }
  },
  {
   "cell_type": "code",
   "execution_count": 2,
   "outputs": [],
   "source": [
    "cleanup(Path('_training'))"
   ],
   "metadata": {
    "collapsed": false
   }
  },
  {
   "cell_type": "code",
   "execution_count": null,
   "outputs": [],
   "source": [],
   "metadata": {
    "collapsed": false
   }
  }
 ],
 "metadata": {
  "kernelspec": {
   "display_name": "Python 3",
   "language": "python",
   "name": "python3"
  },
  "language_info": {
   "codemirror_mode": {
    "name": "ipython",
    "version": 2
   },
   "file_extension": ".py",
   "mimetype": "text/x-python",
   "name": "python",
   "nbconvert_exporter": "python",
   "pygments_lexer": "ipython2",
   "version": "2.7.6"
  }
 },
 "nbformat": 4,
 "nbformat_minor": 0
}
