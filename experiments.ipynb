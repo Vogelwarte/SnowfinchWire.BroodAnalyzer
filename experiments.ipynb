{
 "cells": [
  {
   "cell_type": "code",
   "execution_count": 1,
   "metadata": {
    "collapsed": true
   },
   "outputs": [
    {
     "name": "stderr",
     "output_type": "stream",
     "text": [
      "c:\\users\\barto\\devel\\repos\\pycharmprojects\\snowfinchwire.broodanalyzer\\venv\\lib\\site-packages\\tqdm\\auto.py:22: TqdmWarning: IProgress not found. Please update jupyter and ipywidgets. See https://ipywidgets.readthedocs.io/en/stable/user_install.html\n",
      "  from .autonotebook import tqdm as notebook_tqdm\n"
     ]
    }
   ],
   "source": [
    "from pathlib import Path\n",
    "from opensoundscape.torch.models.cnn import load_model"
   ]
  },
  {
   "cell_type": "code",
   "execution_count": 2,
   "outputs": [
    {
     "data": {
      "text/plain": "CNN(\n  (network): ResNet(\n    (conv1): Conv2d(3, 64, kernel_size=(7, 7), stride=(2, 2), padding=(3, 3), bias=False)\n    (bn1): BatchNorm2d(64, eps=1e-05, momentum=0.1, affine=True, track_running_stats=True)\n    (relu): ReLU(inplace=True)\n    (maxpool): MaxPool2d(kernel_size=3, stride=2, padding=1, dilation=1, ceil_mode=False)\n    (layer1): Sequential(\n      (0): BasicBlock(\n        (conv1): Conv2d(64, 64, kernel_size=(3, 3), stride=(1, 1), padding=(1, 1), bias=False)\n        (bn1): BatchNorm2d(64, eps=1e-05, momentum=0.1, affine=True, track_running_stats=True)\n        (relu): ReLU(inplace=True)\n        (conv2): Conv2d(64, 64, kernel_size=(3, 3), stride=(1, 1), padding=(1, 1), bias=False)\n        (bn2): BatchNorm2d(64, eps=1e-05, momentum=0.1, affine=True, track_running_stats=True)\n      )\n      (1): BasicBlock(\n        (conv1): Conv2d(64, 64, kernel_size=(3, 3), stride=(1, 1), padding=(1, 1), bias=False)\n        (bn1): BatchNorm2d(64, eps=1e-05, momentum=0.1, affine=True, track_running_stats=True)\n        (relu): ReLU(inplace=True)\n        (conv2): Conv2d(64, 64, kernel_size=(3, 3), stride=(1, 1), padding=(1, 1), bias=False)\n        (bn2): BatchNorm2d(64, eps=1e-05, momentum=0.1, affine=True, track_running_stats=True)\n      )\n    )\n    (layer2): Sequential(\n      (0): BasicBlock(\n        (conv1): Conv2d(64, 128, kernel_size=(3, 3), stride=(2, 2), padding=(1, 1), bias=False)\n        (bn1): BatchNorm2d(128, eps=1e-05, momentum=0.1, affine=True, track_running_stats=True)\n        (relu): ReLU(inplace=True)\n        (conv2): Conv2d(128, 128, kernel_size=(3, 3), stride=(1, 1), padding=(1, 1), bias=False)\n        (bn2): BatchNorm2d(128, eps=1e-05, momentum=0.1, affine=True, track_running_stats=True)\n        (downsample): Sequential(\n          (0): Conv2d(64, 128, kernel_size=(1, 1), stride=(2, 2), bias=False)\n          (1): BatchNorm2d(128, eps=1e-05, momentum=0.1, affine=True, track_running_stats=True)\n        )\n      )\n      (1): BasicBlock(\n        (conv1): Conv2d(128, 128, kernel_size=(3, 3), stride=(1, 1), padding=(1, 1), bias=False)\n        (bn1): BatchNorm2d(128, eps=1e-05, momentum=0.1, affine=True, track_running_stats=True)\n        (relu): ReLU(inplace=True)\n        (conv2): Conv2d(128, 128, kernel_size=(3, 3), stride=(1, 1), padding=(1, 1), bias=False)\n        (bn2): BatchNorm2d(128, eps=1e-05, momentum=0.1, affine=True, track_running_stats=True)\n      )\n    )\n    (layer3): Sequential(\n      (0): BasicBlock(\n        (conv1): Conv2d(128, 256, kernel_size=(3, 3), stride=(2, 2), padding=(1, 1), bias=False)\n        (bn1): BatchNorm2d(256, eps=1e-05, momentum=0.1, affine=True, track_running_stats=True)\n        (relu): ReLU(inplace=True)\n        (conv2): Conv2d(256, 256, kernel_size=(3, 3), stride=(1, 1), padding=(1, 1), bias=False)\n        (bn2): BatchNorm2d(256, eps=1e-05, momentum=0.1, affine=True, track_running_stats=True)\n        (downsample): Sequential(\n          (0): Conv2d(128, 256, kernel_size=(1, 1), stride=(2, 2), bias=False)\n          (1): BatchNorm2d(256, eps=1e-05, momentum=0.1, affine=True, track_running_stats=True)\n        )\n      )\n      (1): BasicBlock(\n        (conv1): Conv2d(256, 256, kernel_size=(3, 3), stride=(1, 1), padding=(1, 1), bias=False)\n        (bn1): BatchNorm2d(256, eps=1e-05, momentum=0.1, affine=True, track_running_stats=True)\n        (relu): ReLU(inplace=True)\n        (conv2): Conv2d(256, 256, kernel_size=(3, 3), stride=(1, 1), padding=(1, 1), bias=False)\n        (bn2): BatchNorm2d(256, eps=1e-05, momentum=0.1, affine=True, track_running_stats=True)\n      )\n    )\n    (layer4): Sequential(\n      (0): BasicBlock(\n        (conv1): Conv2d(256, 512, kernel_size=(3, 3), stride=(2, 2), padding=(1, 1), bias=False)\n        (bn1): BatchNorm2d(512, eps=1e-05, momentum=0.1, affine=True, track_running_stats=True)\n        (relu): ReLU(inplace=True)\n        (conv2): Conv2d(512, 512, kernel_size=(3, 3), stride=(1, 1), padding=(1, 1), bias=False)\n        (bn2): BatchNorm2d(512, eps=1e-05, momentum=0.1, affine=True, track_running_stats=True)\n        (downsample): Sequential(\n          (0): Conv2d(256, 512, kernel_size=(1, 1), stride=(2, 2), bias=False)\n          (1): BatchNorm2d(512, eps=1e-05, momentum=0.1, affine=True, track_running_stats=True)\n        )\n      )\n      (1): BasicBlock(\n        (conv1): Conv2d(512, 512, kernel_size=(3, 3), stride=(1, 1), padding=(1, 1), bias=False)\n        (bn1): BatchNorm2d(512, eps=1e-05, momentum=0.1, affine=True, track_running_stats=True)\n        (relu): ReLU(inplace=True)\n        (conv2): Conv2d(512, 512, kernel_size=(3, 3), stride=(1, 1), padding=(1, 1), bias=False)\n        (bn2): BatchNorm2d(512, eps=1e-05, momentum=0.1, affine=True, track_running_stats=True)\n      )\n    )\n    (avgpool): AdaptiveAvgPool2d(output_size=(1, 1))\n    (fc): Linear(in_features=512, out_features=3, bias=True)\n  )\n  (loss_fn): CrossEntropyLoss_hot()\n)"
     },
     "execution_count": 2,
     "metadata": {},
     "output_type": "execute_result"
    }
   ],
   "source": [
    "cnn = load_model('_out/trained_model')\n",
    "cnn"
   ],
   "metadata": {
    "collapsed": false
   }
  },
  {
   "cell_type": "code",
   "execution_count": 9,
   "outputs": [
    {
     "data": {
      "text/plain": "['_data\\\\ACG\\\\AT_1_2_1_22-BA10_BS02-24E144035BA44417_20220610_160000.flac',\n '_data\\\\ACG\\\\AT_1_3_1_22-BA12_BS03-24E144045FDEF471_20220611_100000.flac',\n '_data\\\\ACG\\\\AT_1_3_1_22-BA17_BS03-243B1F075C79F9E9_20220616_060000.flac',\n '_data\\\\ACG\\\\AT_1_6_1_22-BA13_BS03-243B1F055AD2F48C_20220613_140000.flac',\n '_data\\\\ACG\\\\AT_1_8_1_22-BA09_BS04-247AA5015C0309FF_20220608_120000.flac',\n '_data\\\\ACG\\\\AT_1_8_1_22-BA11_BS04-24E144035BA44334_20220610_140000.flac',\n '_data\\\\ACG\\\\AT_2_2_1_22-BA08_BS04-247AA5015BA4439B_20220608_080000.flac',\n '_data\\\\ACG\\\\AT_2_2_1_22-BA12_BS04-2466C2065B902810_20220612_200000.flac',\n '_data\\\\ACG\\\\Furka34_22a-BA07_BS04-247AA5015FDF2A00_20220612_193000.flac',\n '_data\\\\ACG\\\\Furka34_22a-BA11_BS04-247AA5015FDF2A00_20220616_053000.flac',\n '_data\\\\PZd\\\\AT_1_6_1_22-BA06_BS03-243B1F075C79F9E9_20220605_180000.flac']"
     },
     "execution_count": 9,
     "metadata": {},
     "output_type": "execute_result"
    }
   ],
   "source": [
    "recordings = [str(rec) for rec in Path('_data').rglob('*.flac')]\n",
    "recordings"
   ],
   "metadata": {
    "collapsed": false
   }
  },
  {
   "cell_type": "code",
   "execution_count": 24,
   "outputs": [
    {
     "name": "stdout",
     "output_type": "stream",
     "text": [
      "[]\n"
     ]
    }
   ],
   "source": [
    "result = cnn.predict(recordings[0:2], activation_layer = 'softmax', num_workers = 12)"
   ],
   "metadata": {
    "collapsed": false
   }
  },
  {
   "cell_type": "code",
   "execution_count": 25,
   "outputs": [
    {
     "data": {
      "text/plain": "                                                                               2  \\\nfile                                               start_time end_time             \n_data\\ACG\\AT_1_2_1_22-BA10_BS02-24E144035BA4441... 0.0        2.0       0.999969   \n                                                   2.0        4.0       1.000000   \n                                                   4.0        6.0       0.999999   \n                                                   6.0        8.0       1.000000   \n                                                   8.0        10.0      1.000000   \n...                                                                          ...   \n_data\\ACG\\AT_1_3_1_22-BA12_BS03-24E144045FDEF47... 3584.0     3586.0    0.000957   \n                                                   3586.0     3588.0    0.001996   \n                                                   3588.0     3590.0    0.001672   \n                                                   3590.0     3592.0    0.004837   \n                                                   3592.0     3594.0    0.000585   \n\n                                                                                   3  \\\nfile                                               start_time end_time                 \n_data\\ACG\\AT_1_2_1_22-BA10_BS02-24E144035BA4441... 0.0        2.0       1.574216e-08   \n                                                   2.0        4.0       4.094832e-10   \n                                                   4.0        6.0       3.761133e-10   \n                                                   6.0        8.0       9.138553e-10   \n                                                   8.0        10.0      4.571794e-10   \n...                                                                              ...   \n_data\\ACG\\AT_1_3_1_22-BA12_BS03-24E144045FDEF47... 3584.0     3586.0    9.811305e-01   \n                                                   3586.0     3588.0    8.182967e-01   \n                                                   3588.0     3590.0    9.653136e-01   \n                                                   3590.0     3592.0    9.246002e-01   \n                                                   3592.0     3594.0    9.941070e-01   \n\n                                                                                   4  \nfile                                               start_time end_time                \n_data\\ACG\\AT_1_2_1_22-BA10_BS02-24E144035BA4441... 0.0        2.0       3.093738e-05  \n                                                   2.0        4.0       1.063729e-07  \n                                                   4.0        6.0       7.672913e-07  \n                                                   6.0        8.0       2.452355e-08  \n                                                   8.0        10.0      1.208392e-08  \n...                                                                              ...  \n_data\\ACG\\AT_1_3_1_22-BA12_BS03-24E144045FDEF47... 3584.0     3586.0    1.791243e-02  \n                                                   3586.0     3588.0    1.797071e-01  \n                                                   3588.0     3590.0    3.301479e-02  \n                                                   3590.0     3592.0    7.056247e-02  \n                                                   3592.0     3594.0    5.308172e-03  \n\n[3594 rows x 3 columns]",
      "text/html": "<div>\n<style scoped>\n    .dataframe tbody tr th:only-of-type {\n        vertical-align: middle;\n    }\n\n    .dataframe tbody tr th {\n        vertical-align: top;\n    }\n\n    .dataframe thead th {\n        text-align: right;\n    }\n</style>\n<table border=\"1\" class=\"dataframe\">\n  <thead>\n    <tr style=\"text-align: right;\">\n      <th></th>\n      <th></th>\n      <th></th>\n      <th>2</th>\n      <th>3</th>\n      <th>4</th>\n    </tr>\n    <tr>\n      <th>file</th>\n      <th>start_time</th>\n      <th>end_time</th>\n      <th></th>\n      <th></th>\n      <th></th>\n    </tr>\n  </thead>\n  <tbody>\n    <tr>\n      <th rowspan=\"5\" valign=\"top\">_data\\ACG\\AT_1_2_1_22-BA10_BS02-24E144035BA44417_20220610_160000.flac</th>\n      <th>0.0</th>\n      <th>2.0</th>\n      <td>0.999969</td>\n      <td>1.574216e-08</td>\n      <td>3.093738e-05</td>\n    </tr>\n    <tr>\n      <th>2.0</th>\n      <th>4.0</th>\n      <td>1.000000</td>\n      <td>4.094832e-10</td>\n      <td>1.063729e-07</td>\n    </tr>\n    <tr>\n      <th>4.0</th>\n      <th>6.0</th>\n      <td>0.999999</td>\n      <td>3.761133e-10</td>\n      <td>7.672913e-07</td>\n    </tr>\n    <tr>\n      <th>6.0</th>\n      <th>8.0</th>\n      <td>1.000000</td>\n      <td>9.138553e-10</td>\n      <td>2.452355e-08</td>\n    </tr>\n    <tr>\n      <th>8.0</th>\n      <th>10.0</th>\n      <td>1.000000</td>\n      <td>4.571794e-10</td>\n      <td>1.208392e-08</td>\n    </tr>\n    <tr>\n      <th>...</th>\n      <th>...</th>\n      <th>...</th>\n      <td>...</td>\n      <td>...</td>\n      <td>...</td>\n    </tr>\n    <tr>\n      <th rowspan=\"5\" valign=\"top\">_data\\ACG\\AT_1_3_1_22-BA12_BS03-24E144045FDEF471_20220611_100000.flac</th>\n      <th>3584.0</th>\n      <th>3586.0</th>\n      <td>0.000957</td>\n      <td>9.811305e-01</td>\n      <td>1.791243e-02</td>\n    </tr>\n    <tr>\n      <th>3586.0</th>\n      <th>3588.0</th>\n      <td>0.001996</td>\n      <td>8.182967e-01</td>\n      <td>1.797071e-01</td>\n    </tr>\n    <tr>\n      <th>3588.0</th>\n      <th>3590.0</th>\n      <td>0.001672</td>\n      <td>9.653136e-01</td>\n      <td>3.301479e-02</td>\n    </tr>\n    <tr>\n      <th>3590.0</th>\n      <th>3592.0</th>\n      <td>0.004837</td>\n      <td>9.246002e-01</td>\n      <td>7.056247e-02</td>\n    </tr>\n    <tr>\n      <th>3592.0</th>\n      <th>3594.0</th>\n      <td>0.000585</td>\n      <td>9.941070e-01</td>\n      <td>5.308172e-03</td>\n    </tr>\n  </tbody>\n</table>\n<p>3594 rows × 3 columns</p>\n</div>"
     },
     "execution_count": 25,
     "metadata": {},
     "output_type": "execute_result"
    }
   ],
   "source": [
    "result[0]"
   ],
   "metadata": {
    "collapsed": false
   }
  },
  {
   "cell_type": "code",
   "execution_count": null,
   "outputs": [],
   "source": [],
   "metadata": {
    "collapsed": false
   }
  }
 ],
 "metadata": {
  "kernelspec": {
   "display_name": "Python 3",
   "language": "python",
   "name": "python3"
  },
  "language_info": {
   "codemirror_mode": {
    "name": "ipython",
    "version": 2
   },
   "file_extension": ".py",
   "mimetype": "text/x-python",
   "name": "python",
   "nbconvert_exporter": "python",
   "pygments_lexer": "ipython2",
   "version": "2.7.6"
  }
 },
 "nbformat": 4,
 "nbformat_minor": 0
}
