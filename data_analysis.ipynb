{
 "cells": [
  {
   "cell_type": "code",
   "execution_count": 106,
   "metadata": {
    "collapsed": true
   },
   "outputs": [],
   "source": [
    "import matplotlib.pyplot as plt\n",
    "import pandas as pd"
   ]
  },
  {
   "cell_type": "code",
   "execution_count": 81,
   "outputs": [
    {
     "name": "stderr",
     "output_type": "stream",
     "text": [
      "UsageError: Line magic function `%` not found.\n"
     ]
    }
   ],
   "source": [
    "# % matplotlib tk"
   ],
   "metadata": {
    "collapsed": false
   }
  },
  {
   "cell_type": "code",
   "execution_count": 107,
   "outputs": [],
   "source": [
    "def extract_rec_name(file_name: str) -> str:\n",
    "\tend_idx = file_name.rindex('__')\n",
    "\treturn file_name[:end_idx]\n",
    "\n",
    "\n",
    "def extract_brood_id(rec_name: str) -> str:\n",
    "\treturn rec_name[:-16]\n",
    "\n",
    "\n",
    "def count_samples_per_brood(df: pd.DataFrame, agg_features = None) -> pd.DataFrame:\n",
    "\tif agg_features is None:\n",
    "\t\tagg_features = ['brood_id', 'class']\n",
    "\n",
    "\tagg_df = pd.DataFrame(\n",
    "\t\tdata = {\n",
    "\t\t\t'class': df['class'],\n",
    "\t\t\t'recording': df['file'].apply(extract_rec_name)\n",
    "\t\t}\n",
    "\t)\n",
    "\n",
    "\tagg_df['brood_id'] = agg_df['recording'].apply(extract_brood_id)\n",
    "\tagg_df = agg_df.reset_index().groupby(agg_features).count()\n",
    "\n",
    "\treturn agg_df.rename(columns = { 'index': 'sample_count' }).sort_values(by = 'class').reset_index()\n",
    "\n",
    "\n",
    "def count_samples_per_file(df: pd.DataFrame) -> pd.DataFrame:\n",
    "\tagg_df = pd.DataFrame(\n",
    "\t\tdata = {\n",
    "\t\t\t'class': df['class'],\n",
    "\t\t\t'recording': df['file'].apply(extract_rec_name)\n",
    "\t\t}\n",
    "\t)\n",
    "\n",
    "\tagg_features = ['recording', 'class']\n",
    "\tagg_df = agg_df.reset_index().groupby(agg_features).count()\n",
    "\n",
    "\treturn agg_df.rename(columns = { 'index': 'sample_count' }).sort_values(by = 'class').reset_index()"
   ],
   "metadata": {
    "collapsed": false
   }
  },
  {
   "cell_type": "code",
   "execution_count": 108,
   "outputs": [],
   "source": [
    "def plot_sample_count(df: pd.DataFrame, x_label_col: str, x_rotation: str, x_label: str, title: str):\n",
    "\tall_colors = list(plt.get_cmap('Set3').colors)\n",
    "\tcolor_map = { }\n",
    "\tclass_colors = []\n",
    "\n",
    "\tfor i, cls in enumerate(df['class'].unique()):\n",
    "\t\tcolor_map[cls] = all_colors[i]\n",
    "\n",
    "\tfor cls in df['class']:\n",
    "\t\tclass_colors.append(color_map[cls])\n",
    "\n",
    "\tplt.figure()\n",
    "\n",
    "\tplt.bar(df[x_label_col], df['sample_count'], color = class_colors)\n",
    "\t# x_tick_labels = df[x_label_col]\n",
    "\t# if x_tick_labels.dtype == 'object':\n",
    "\t# \tx_tick_labels = [f'{label[:11]}...' for label in x_tick_labels]\n",
    "\n",
    "\tplt.xticks(df[x_label_col], rotation = x_rotation)\n",
    "\tplt.xlabel(x_label)\n",
    "\tplt.title(title)\n",
    "\n",
    "\thandles = [plt.Rectangle((0, 0), 1, 1, color = color_map[label]) for label in df['class'].unique()]\n",
    "\tplt.legend(handles, df['class'].unique())\n",
    "\n",
    "\tplt.show()\n",
    "\n",
    "# if save_figs:\n",
    "# \tplt.savefig(f'_out/{x_label}.pdf')\n",
    "# else:\n",
    "# \tplt.show()"
   ],
   "metadata": {
    "collapsed": false
   }
  },
  {
   "cell_type": "markdown",
   "source": [
    "## Brood size"
   ],
   "metadata": {
    "collapsed": false
   }
  },
  {
   "cell_type": "code",
   "execution_count": 164,
   "outputs": [
    {
     "data": {
      "text/plain": "                                       file    event  is_silence  class    1  \\\n0          12_1_1_22_20220626_120000__0.wav  feeding       False      3  0.0   \n1          12_1_1_22_20220626_120000__1.wav  feeding       False      3  0.0   \n2          12_1_1_22_20220626_120000__2.wav  feeding       False      3  0.0   \n3          12_1_1_22_20220626_120000__3.wav  feeding       False      3  0.0   \n4          12_1_1_22_20220626_120000__4.wav  feeding       False      3  0.0   \n...                                     ...      ...         ...    ...  ...   \n587576  Furka13_22a_20220616_173000__25.wav  feeding       False      5  0.0   \n587577  Furka13_22a_20220616_173000__26.wav  feeding       False      5  0.0   \n587578  Furka13_22a_20220616_173000__27.wav  feeding       False      5  0.0   \n587579  Furka13_22a_20220616_173000__28.wav  feeding       False      5  0.0   \n587580  Furka13_22a_20220616_173000__29.wav  feeding       False      5  0.0   \n\n          2    3    4    5                    recording     brood_id  \n0       0.0  1.0  0.0  0.0    12_1_1_22_20220626_120000    12_1_1_22  \n1       0.0  1.0  0.0  0.0    12_1_1_22_20220626_120000    12_1_1_22  \n2       0.0  1.0  0.0  0.0    12_1_1_22_20220626_120000    12_1_1_22  \n3       0.0  1.0  0.0  0.0    12_1_1_22_20220626_120000    12_1_1_22  \n4       0.0  1.0  0.0  0.0    12_1_1_22_20220626_120000    12_1_1_22  \n...     ...  ...  ...  ...                          ...          ...  \n587576  0.0  0.0  0.0  1.0  Furka13_22a_20220616_173000  Furka13_22a  \n587577  0.0  0.0  0.0  1.0  Furka13_22a_20220616_173000  Furka13_22a  \n587578  0.0  0.0  0.0  1.0  Furka13_22a_20220616_173000  Furka13_22a  \n587579  0.0  0.0  0.0  1.0  Furka13_22a_20220616_173000  Furka13_22a  \n587580  0.0  0.0  0.0  1.0  Furka13_22a_20220616_173000  Furka13_22a  \n\n[587581 rows x 11 columns]",
      "text/html": "<div>\n<style scoped>\n    .dataframe tbody tr th:only-of-type {\n        vertical-align: middle;\n    }\n\n    .dataframe tbody tr th {\n        vertical-align: top;\n    }\n\n    .dataframe thead th {\n        text-align: right;\n    }\n</style>\n<table border=\"1\" class=\"dataframe\">\n  <thead>\n    <tr style=\"text-align: right;\">\n      <th></th>\n      <th>file</th>\n      <th>event</th>\n      <th>is_silence</th>\n      <th>class</th>\n      <th>1</th>\n      <th>2</th>\n      <th>3</th>\n      <th>4</th>\n      <th>5</th>\n      <th>recording</th>\n      <th>brood_id</th>\n    </tr>\n  </thead>\n  <tbody>\n    <tr>\n      <th>0</th>\n      <td>12_1_1_22_20220626_120000__0.wav</td>\n      <td>feeding</td>\n      <td>False</td>\n      <td>3</td>\n      <td>0.0</td>\n      <td>0.0</td>\n      <td>1.0</td>\n      <td>0.0</td>\n      <td>0.0</td>\n      <td>12_1_1_22_20220626_120000</td>\n      <td>12_1_1_22</td>\n    </tr>\n    <tr>\n      <th>1</th>\n      <td>12_1_1_22_20220626_120000__1.wav</td>\n      <td>feeding</td>\n      <td>False</td>\n      <td>3</td>\n      <td>0.0</td>\n      <td>0.0</td>\n      <td>1.0</td>\n      <td>0.0</td>\n      <td>0.0</td>\n      <td>12_1_1_22_20220626_120000</td>\n      <td>12_1_1_22</td>\n    </tr>\n    <tr>\n      <th>2</th>\n      <td>12_1_1_22_20220626_120000__2.wav</td>\n      <td>feeding</td>\n      <td>False</td>\n      <td>3</td>\n      <td>0.0</td>\n      <td>0.0</td>\n      <td>1.0</td>\n      <td>0.0</td>\n      <td>0.0</td>\n      <td>12_1_1_22_20220626_120000</td>\n      <td>12_1_1_22</td>\n    </tr>\n    <tr>\n      <th>3</th>\n      <td>12_1_1_22_20220626_120000__3.wav</td>\n      <td>feeding</td>\n      <td>False</td>\n      <td>3</td>\n      <td>0.0</td>\n      <td>0.0</td>\n      <td>1.0</td>\n      <td>0.0</td>\n      <td>0.0</td>\n      <td>12_1_1_22_20220626_120000</td>\n      <td>12_1_1_22</td>\n    </tr>\n    <tr>\n      <th>4</th>\n      <td>12_1_1_22_20220626_120000__4.wav</td>\n      <td>feeding</td>\n      <td>False</td>\n      <td>3</td>\n      <td>0.0</td>\n      <td>0.0</td>\n      <td>1.0</td>\n      <td>0.0</td>\n      <td>0.0</td>\n      <td>12_1_1_22_20220626_120000</td>\n      <td>12_1_1_22</td>\n    </tr>\n    <tr>\n      <th>...</th>\n      <td>...</td>\n      <td>...</td>\n      <td>...</td>\n      <td>...</td>\n      <td>...</td>\n      <td>...</td>\n      <td>...</td>\n      <td>...</td>\n      <td>...</td>\n      <td>...</td>\n      <td>...</td>\n    </tr>\n    <tr>\n      <th>587576</th>\n      <td>Furka13_22a_20220616_173000__25.wav</td>\n      <td>feeding</td>\n      <td>False</td>\n      <td>5</td>\n      <td>0.0</td>\n      <td>0.0</td>\n      <td>0.0</td>\n      <td>0.0</td>\n      <td>1.0</td>\n      <td>Furka13_22a_20220616_173000</td>\n      <td>Furka13_22a</td>\n    </tr>\n    <tr>\n      <th>587577</th>\n      <td>Furka13_22a_20220616_173000__26.wav</td>\n      <td>feeding</td>\n      <td>False</td>\n      <td>5</td>\n      <td>0.0</td>\n      <td>0.0</td>\n      <td>0.0</td>\n      <td>0.0</td>\n      <td>1.0</td>\n      <td>Furka13_22a_20220616_173000</td>\n      <td>Furka13_22a</td>\n    </tr>\n    <tr>\n      <th>587578</th>\n      <td>Furka13_22a_20220616_173000__27.wav</td>\n      <td>feeding</td>\n      <td>False</td>\n      <td>5</td>\n      <td>0.0</td>\n      <td>0.0</td>\n      <td>0.0</td>\n      <td>0.0</td>\n      <td>1.0</td>\n      <td>Furka13_22a_20220616_173000</td>\n      <td>Furka13_22a</td>\n    </tr>\n    <tr>\n      <th>587579</th>\n      <td>Furka13_22a_20220616_173000__28.wav</td>\n      <td>feeding</td>\n      <td>False</td>\n      <td>5</td>\n      <td>0.0</td>\n      <td>0.0</td>\n      <td>0.0</td>\n      <td>0.0</td>\n      <td>1.0</td>\n      <td>Furka13_22a_20220616_173000</td>\n      <td>Furka13_22a</td>\n    </tr>\n    <tr>\n      <th>587580</th>\n      <td>Furka13_22a_20220616_173000__29.wav</td>\n      <td>feeding</td>\n      <td>False</td>\n      <td>5</td>\n      <td>0.0</td>\n      <td>0.0</td>\n      <td>0.0</td>\n      <td>0.0</td>\n      <td>1.0</td>\n      <td>Furka13_22a_20220616_173000</td>\n      <td>Furka13_22a</td>\n    </tr>\n  </tbody>\n</table>\n<p>587581 rows × 11 columns</p>\n</div>"
     },
     "execution_count": 164,
     "metadata": {},
     "output_type": "execute_result"
    }
   ],
   "source": [
    "bs_data = pd.read_csv(\n",
    "\t'_data.export/server/s2-o1/brood-size.csv', dtype = {\n",
    "\t\t'is_silence': bool,\n",
    "\t\t'class': int\n",
    "\t}\n",
    ")\n",
    "bs_data"
   ],
   "metadata": {
    "collapsed": false
   }
  },
  {
   "cell_type": "code",
   "execution_count": 165,
   "outputs": [
    {
     "data": {
      "text/plain": "                                       file    event  is_silence  class    1  \\\n0          12_1_1_22_20220626_120000__0.wav  feeding       False      3  0.0   \n1          12_1_1_22_20220626_120000__1.wav  feeding       False      3  0.0   \n2          12_1_1_22_20220626_120000__2.wav  feeding       False      3  0.0   \n3          12_1_1_22_20220626_120000__3.wav  feeding       False      3  0.0   \n4          12_1_1_22_20220626_120000__4.wav  feeding       False      3  0.0   \n...                                     ...      ...         ...    ...  ...   \n587576  Furka13_22a_20220616_173000__25.wav  feeding       False      5  0.0   \n587577  Furka13_22a_20220616_173000__26.wav  feeding       False      5  0.0   \n587578  Furka13_22a_20220616_173000__27.wav  feeding       False      5  0.0   \n587579  Furka13_22a_20220616_173000__28.wav  feeding       False      5  0.0   \n587580  Furka13_22a_20220616_173000__29.wav  feeding       False      5  0.0   \n\n          2    3    4    5                    recording     brood_id  \n0       0.0  1.0  0.0  0.0    12_1_1_22_20220626_120000    12_1_1_22  \n1       0.0  1.0  0.0  0.0    12_1_1_22_20220626_120000    12_1_1_22  \n2       0.0  1.0  0.0  0.0    12_1_1_22_20220626_120000    12_1_1_22  \n3       0.0  1.0  0.0  0.0    12_1_1_22_20220626_120000    12_1_1_22  \n4       0.0  1.0  0.0  0.0    12_1_1_22_20220626_120000    12_1_1_22  \n...     ...  ...  ...  ...                          ...          ...  \n587576  0.0  0.0  0.0  1.0  Furka13_22a_20220616_173000  Furka13_22a  \n587577  0.0  0.0  0.0  1.0  Furka13_22a_20220616_173000  Furka13_22a  \n587578  0.0  0.0  0.0  1.0  Furka13_22a_20220616_173000  Furka13_22a  \n587579  0.0  0.0  0.0  1.0  Furka13_22a_20220616_173000  Furka13_22a  \n587580  0.0  0.0  0.0  1.0  Furka13_22a_20220616_173000  Furka13_22a  \n\n[587480 rows x 11 columns]",
      "text/html": "<div>\n<style scoped>\n    .dataframe tbody tr th:only-of-type {\n        vertical-align: middle;\n    }\n\n    .dataframe tbody tr th {\n        vertical-align: top;\n    }\n\n    .dataframe thead th {\n        text-align: right;\n    }\n</style>\n<table border=\"1\" class=\"dataframe\">\n  <thead>\n    <tr style=\"text-align: right;\">\n      <th></th>\n      <th>file</th>\n      <th>event</th>\n      <th>is_silence</th>\n      <th>class</th>\n      <th>1</th>\n      <th>2</th>\n      <th>3</th>\n      <th>4</th>\n      <th>5</th>\n      <th>recording</th>\n      <th>brood_id</th>\n    </tr>\n  </thead>\n  <tbody>\n    <tr>\n      <th>0</th>\n      <td>12_1_1_22_20220626_120000__0.wav</td>\n      <td>feeding</td>\n      <td>False</td>\n      <td>3</td>\n      <td>0.0</td>\n      <td>0.0</td>\n      <td>1.0</td>\n      <td>0.0</td>\n      <td>0.0</td>\n      <td>12_1_1_22_20220626_120000</td>\n      <td>12_1_1_22</td>\n    </tr>\n    <tr>\n      <th>1</th>\n      <td>12_1_1_22_20220626_120000__1.wav</td>\n      <td>feeding</td>\n      <td>False</td>\n      <td>3</td>\n      <td>0.0</td>\n      <td>0.0</td>\n      <td>1.0</td>\n      <td>0.0</td>\n      <td>0.0</td>\n      <td>12_1_1_22_20220626_120000</td>\n      <td>12_1_1_22</td>\n    </tr>\n    <tr>\n      <th>2</th>\n      <td>12_1_1_22_20220626_120000__2.wav</td>\n      <td>feeding</td>\n      <td>False</td>\n      <td>3</td>\n      <td>0.0</td>\n      <td>0.0</td>\n      <td>1.0</td>\n      <td>0.0</td>\n      <td>0.0</td>\n      <td>12_1_1_22_20220626_120000</td>\n      <td>12_1_1_22</td>\n    </tr>\n    <tr>\n      <th>3</th>\n      <td>12_1_1_22_20220626_120000__3.wav</td>\n      <td>feeding</td>\n      <td>False</td>\n      <td>3</td>\n      <td>0.0</td>\n      <td>0.0</td>\n      <td>1.0</td>\n      <td>0.0</td>\n      <td>0.0</td>\n      <td>12_1_1_22_20220626_120000</td>\n      <td>12_1_1_22</td>\n    </tr>\n    <tr>\n      <th>4</th>\n      <td>12_1_1_22_20220626_120000__4.wav</td>\n      <td>feeding</td>\n      <td>False</td>\n      <td>3</td>\n      <td>0.0</td>\n      <td>0.0</td>\n      <td>1.0</td>\n      <td>0.0</td>\n      <td>0.0</td>\n      <td>12_1_1_22_20220626_120000</td>\n      <td>12_1_1_22</td>\n    </tr>\n    <tr>\n      <th>...</th>\n      <td>...</td>\n      <td>...</td>\n      <td>...</td>\n      <td>...</td>\n      <td>...</td>\n      <td>...</td>\n      <td>...</td>\n      <td>...</td>\n      <td>...</td>\n      <td>...</td>\n      <td>...</td>\n    </tr>\n    <tr>\n      <th>587576</th>\n      <td>Furka13_22a_20220616_173000__25.wav</td>\n      <td>feeding</td>\n      <td>False</td>\n      <td>5</td>\n      <td>0.0</td>\n      <td>0.0</td>\n      <td>0.0</td>\n      <td>0.0</td>\n      <td>1.0</td>\n      <td>Furka13_22a_20220616_173000</td>\n      <td>Furka13_22a</td>\n    </tr>\n    <tr>\n      <th>587577</th>\n      <td>Furka13_22a_20220616_173000__26.wav</td>\n      <td>feeding</td>\n      <td>False</td>\n      <td>5</td>\n      <td>0.0</td>\n      <td>0.0</td>\n      <td>0.0</td>\n      <td>0.0</td>\n      <td>1.0</td>\n      <td>Furka13_22a_20220616_173000</td>\n      <td>Furka13_22a</td>\n    </tr>\n    <tr>\n      <th>587578</th>\n      <td>Furka13_22a_20220616_173000__27.wav</td>\n      <td>feeding</td>\n      <td>False</td>\n      <td>5</td>\n      <td>0.0</td>\n      <td>0.0</td>\n      <td>0.0</td>\n      <td>0.0</td>\n      <td>1.0</td>\n      <td>Furka13_22a_20220616_173000</td>\n      <td>Furka13_22a</td>\n    </tr>\n    <tr>\n      <th>587579</th>\n      <td>Furka13_22a_20220616_173000__28.wav</td>\n      <td>feeding</td>\n      <td>False</td>\n      <td>5</td>\n      <td>0.0</td>\n      <td>0.0</td>\n      <td>0.0</td>\n      <td>0.0</td>\n      <td>1.0</td>\n      <td>Furka13_22a_20220616_173000</td>\n      <td>Furka13_22a</td>\n    </tr>\n    <tr>\n      <th>587580</th>\n      <td>Furka13_22a_20220616_173000__29.wav</td>\n      <td>feeding</td>\n      <td>False</td>\n      <td>5</td>\n      <td>0.0</td>\n      <td>0.0</td>\n      <td>0.0</td>\n      <td>0.0</td>\n      <td>1.0</td>\n      <td>Furka13_22a_20220616_173000</td>\n      <td>Furka13_22a</td>\n    </tr>\n  </tbody>\n</table>\n<p>587480 rows × 11 columns</p>\n</div>"
     },
     "execution_count": 165,
     "metadata": {},
     "output_type": "execute_result"
    }
   ],
   "source": [
    "bs_data = bs_data[~bs_data['file'].duplicated(keep = 'first')]\n",
    "bs_data"
   ],
   "metadata": {
    "collapsed": false
   }
  },
  {
   "cell_type": "code",
   "execution_count": 125,
   "outputs": [
    {
     "data": {
      "text/plain": "       brood_id  class  sample_count  recording\n0   Furka33_22a      1            19         19\n1   Furka10_22a      1            36         36\n2      1_2_1_22      2          3248       3248\n3   Furka33_22a      2          4653       4653\n4      8_5_1_22      2             1          1\n5     10_1_1_22      3          2875       2875\n6     12_1_1_22      3           747        747\n7      1_3_1_22      3          2568       2568\n8      1_6_1_22      3          3822       3822\n9   Furka31_22a      3          6198       6198\n10     8_5_1_22      3           445        445\n11  Furka34_22a      4          5393       5393\n12  Furka14_22a      4          7482       7482\n13  Furka12_22a      4          2661       2661\n14     8_5_1_22      4          1456       1456\n15     7_1_1_22      4          2261       2261\n16     4_4_1_22      4          4411       4411\n17     2_2_1_22      4          4316       4316\n18     1_8_1_22      4          4221       4221\n19    12_1_1_22      4             2          2\n20  Furka10_22a      4          8294       8294\n21    Joch4_22a      4          1345       1345\n22  Furka34_22a      5          1197       1197\n23  Furka12_22a      5          7272       7272\n24  Furka13_22a      5          8377       8377",
      "text/html": "<div>\n<style scoped>\n    .dataframe tbody tr th:only-of-type {\n        vertical-align: middle;\n    }\n\n    .dataframe tbody tr th {\n        vertical-align: top;\n    }\n\n    .dataframe thead th {\n        text-align: right;\n    }\n</style>\n<table border=\"1\" class=\"dataframe\">\n  <thead>\n    <tr style=\"text-align: right;\">\n      <th></th>\n      <th>brood_id</th>\n      <th>class</th>\n      <th>sample_count</th>\n      <th>recording</th>\n    </tr>\n  </thead>\n  <tbody>\n    <tr>\n      <th>0</th>\n      <td>Furka33_22a</td>\n      <td>1</td>\n      <td>19</td>\n      <td>19</td>\n    </tr>\n    <tr>\n      <th>1</th>\n      <td>Furka10_22a</td>\n      <td>1</td>\n      <td>36</td>\n      <td>36</td>\n    </tr>\n    <tr>\n      <th>2</th>\n      <td>1_2_1_22</td>\n      <td>2</td>\n      <td>3248</td>\n      <td>3248</td>\n    </tr>\n    <tr>\n      <th>3</th>\n      <td>Furka33_22a</td>\n      <td>2</td>\n      <td>4653</td>\n      <td>4653</td>\n    </tr>\n    <tr>\n      <th>4</th>\n      <td>8_5_1_22</td>\n      <td>2</td>\n      <td>1</td>\n      <td>1</td>\n    </tr>\n    <tr>\n      <th>5</th>\n      <td>10_1_1_22</td>\n      <td>3</td>\n      <td>2875</td>\n      <td>2875</td>\n    </tr>\n    <tr>\n      <th>6</th>\n      <td>12_1_1_22</td>\n      <td>3</td>\n      <td>747</td>\n      <td>747</td>\n    </tr>\n    <tr>\n      <th>7</th>\n      <td>1_3_1_22</td>\n      <td>3</td>\n      <td>2568</td>\n      <td>2568</td>\n    </tr>\n    <tr>\n      <th>8</th>\n      <td>1_6_1_22</td>\n      <td>3</td>\n      <td>3822</td>\n      <td>3822</td>\n    </tr>\n    <tr>\n      <th>9</th>\n      <td>Furka31_22a</td>\n      <td>3</td>\n      <td>6198</td>\n      <td>6198</td>\n    </tr>\n    <tr>\n      <th>10</th>\n      <td>8_5_1_22</td>\n      <td>3</td>\n      <td>445</td>\n      <td>445</td>\n    </tr>\n    <tr>\n      <th>11</th>\n      <td>Furka34_22a</td>\n      <td>4</td>\n      <td>5393</td>\n      <td>5393</td>\n    </tr>\n    <tr>\n      <th>12</th>\n      <td>Furka14_22a</td>\n      <td>4</td>\n      <td>7482</td>\n      <td>7482</td>\n    </tr>\n    <tr>\n      <th>13</th>\n      <td>Furka12_22a</td>\n      <td>4</td>\n      <td>2661</td>\n      <td>2661</td>\n    </tr>\n    <tr>\n      <th>14</th>\n      <td>8_5_1_22</td>\n      <td>4</td>\n      <td>1456</td>\n      <td>1456</td>\n    </tr>\n    <tr>\n      <th>15</th>\n      <td>7_1_1_22</td>\n      <td>4</td>\n      <td>2261</td>\n      <td>2261</td>\n    </tr>\n    <tr>\n      <th>16</th>\n      <td>4_4_1_22</td>\n      <td>4</td>\n      <td>4411</td>\n      <td>4411</td>\n    </tr>\n    <tr>\n      <th>17</th>\n      <td>2_2_1_22</td>\n      <td>4</td>\n      <td>4316</td>\n      <td>4316</td>\n    </tr>\n    <tr>\n      <th>18</th>\n      <td>1_8_1_22</td>\n      <td>4</td>\n      <td>4221</td>\n      <td>4221</td>\n    </tr>\n    <tr>\n      <th>19</th>\n      <td>12_1_1_22</td>\n      <td>4</td>\n      <td>2</td>\n      <td>2</td>\n    </tr>\n    <tr>\n      <th>20</th>\n      <td>Furka10_22a</td>\n      <td>4</td>\n      <td>8294</td>\n      <td>8294</td>\n    </tr>\n    <tr>\n      <th>21</th>\n      <td>Joch4_22a</td>\n      <td>4</td>\n      <td>1345</td>\n      <td>1345</td>\n    </tr>\n    <tr>\n      <th>22</th>\n      <td>Furka34_22a</td>\n      <td>5</td>\n      <td>1197</td>\n      <td>1197</td>\n    </tr>\n    <tr>\n      <th>23</th>\n      <td>Furka12_22a</td>\n      <td>5</td>\n      <td>7272</td>\n      <td>7272</td>\n    </tr>\n    <tr>\n      <th>24</th>\n      <td>Furka13_22a</td>\n      <td>5</td>\n      <td>8377</td>\n      <td>8377</td>\n    </tr>\n  </tbody>\n</table>\n</div>"
     },
     "execution_count": 125,
     "metadata": {},
     "output_type": "execute_result"
    }
   ],
   "source": [
    "bs_agg_df = count_samples_per_brood(bs_data[~bs_data['is_silence']])\n",
    "# bs_agg_df['recording'] = bs_agg_df['recording'].apply(lambda rec: f'{rec[:16]}...')\n",
    "bs_agg_df"
   ],
   "metadata": {
    "collapsed": false
   }
  },
  {
   "cell_type": "code",
   "execution_count": 62,
   "outputs": [
    {
     "data": {
      "text/plain": "   class  sample_count\n0      1            78\n1      2         14865\n2      3         31828\n3      4         81176\n4      5         32949",
      "text/html": "<div>\n<style scoped>\n    .dataframe tbody tr th:only-of-type {\n        vertical-align: middle;\n    }\n\n    .dataframe tbody tr th {\n        vertical-align: top;\n    }\n\n    .dataframe thead th {\n        text-align: right;\n    }\n</style>\n<table border=\"1\" class=\"dataframe\">\n  <thead>\n    <tr style=\"text-align: right;\">\n      <th></th>\n      <th>class</th>\n      <th>sample_count</th>\n    </tr>\n  </thead>\n  <tbody>\n    <tr>\n      <th>0</th>\n      <td>1</td>\n      <td>78</td>\n    </tr>\n    <tr>\n      <th>1</th>\n      <td>2</td>\n      <td>14865</td>\n    </tr>\n    <tr>\n      <th>2</th>\n      <td>3</td>\n      <td>31828</td>\n    </tr>\n    <tr>\n      <th>3</th>\n      <td>4</td>\n      <td>81176</td>\n    </tr>\n    <tr>\n      <th>4</th>\n      <td>5</td>\n      <td>32949</td>\n    </tr>\n  </tbody>\n</table>\n</div>"
     },
     "execution_count": 62,
     "metadata": {},
     "output_type": "execute_result"
    }
   ],
   "source": [
    "bs_cls_agg_df = bs_agg_df[['class', 'sample_count']].groupby('class').sum().reset_index()\n",
    "bs_cls_agg_df"
   ],
   "metadata": {
    "collapsed": false
   }
  },
  {
   "cell_type": "code",
   "execution_count": 111,
   "outputs": [
    {
     "data": {
      "text/plain": "       brood_id  class  sample_count  recording\n0   Furka33_22a      1            84         84\n1   Furka10_22a      1           175        175\n2      1_2_1_22      2         21904      21904\n3   Furka33_22a      2         31806      31806\n4      8_5_1_22      2             9          9\n5   Furka12_22a      2             5          5\n6     10_1_1_22      3         20141      20141\n7     12_1_1_22      3          4967       4967\n8      1_3_1_22      3         17610      17610\n9      1_6_1_22      3         26187      26187\n10  Furka31_22a      3         43244      43244\n11     8_5_1_22      3          3224       3224\n12  Furka34_22a      4         39502      39502\n13  Furka14_22a      4         52769      52769\n14  Furka12_22a      4         18667      18667\n15     8_5_1_22      4         10977      10977\n16     7_1_1_22      4         15213      15213\n17     4_4_1_22      4         30231      30231\n18     2_2_1_22      4         28680      28680\n19     1_8_1_22      4         30889      30889\n20    12_1_1_22      4            11         11\n21  Furka10_22a      4         60244      60244\n22    Joch4_22a      4          8515       8515\n23  Furka34_22a      5          8448       8448\n24  Furka12_22a      5         54074      54074\n25  Furka13_22a      5         59010      59010",
      "text/html": "<div>\n<style scoped>\n    .dataframe tbody tr th:only-of-type {\n        vertical-align: middle;\n    }\n\n    .dataframe tbody tr th {\n        vertical-align: top;\n    }\n\n    .dataframe thead th {\n        text-align: right;\n    }\n</style>\n<table border=\"1\" class=\"dataframe\">\n  <thead>\n    <tr style=\"text-align: right;\">\n      <th></th>\n      <th>brood_id</th>\n      <th>class</th>\n      <th>sample_count</th>\n      <th>recording</th>\n    </tr>\n  </thead>\n  <tbody>\n    <tr>\n      <th>0</th>\n      <td>Furka33_22a</td>\n      <td>1</td>\n      <td>84</td>\n      <td>84</td>\n    </tr>\n    <tr>\n      <th>1</th>\n      <td>Furka10_22a</td>\n      <td>1</td>\n      <td>175</td>\n      <td>175</td>\n    </tr>\n    <tr>\n      <th>2</th>\n      <td>1_2_1_22</td>\n      <td>2</td>\n      <td>21904</td>\n      <td>21904</td>\n    </tr>\n    <tr>\n      <th>3</th>\n      <td>Furka33_22a</td>\n      <td>2</td>\n      <td>31806</td>\n      <td>31806</td>\n    </tr>\n    <tr>\n      <th>4</th>\n      <td>8_5_1_22</td>\n      <td>2</td>\n      <td>9</td>\n      <td>9</td>\n    </tr>\n    <tr>\n      <th>5</th>\n      <td>Furka12_22a</td>\n      <td>2</td>\n      <td>5</td>\n      <td>5</td>\n    </tr>\n    <tr>\n      <th>6</th>\n      <td>10_1_1_22</td>\n      <td>3</td>\n      <td>20141</td>\n      <td>20141</td>\n    </tr>\n    <tr>\n      <th>7</th>\n      <td>12_1_1_22</td>\n      <td>3</td>\n      <td>4967</td>\n      <td>4967</td>\n    </tr>\n    <tr>\n      <th>8</th>\n      <td>1_3_1_22</td>\n      <td>3</td>\n      <td>17610</td>\n      <td>17610</td>\n    </tr>\n    <tr>\n      <th>9</th>\n      <td>1_6_1_22</td>\n      <td>3</td>\n      <td>26187</td>\n      <td>26187</td>\n    </tr>\n    <tr>\n      <th>10</th>\n      <td>Furka31_22a</td>\n      <td>3</td>\n      <td>43244</td>\n      <td>43244</td>\n    </tr>\n    <tr>\n      <th>11</th>\n      <td>8_5_1_22</td>\n      <td>3</td>\n      <td>3224</td>\n      <td>3224</td>\n    </tr>\n    <tr>\n      <th>12</th>\n      <td>Furka34_22a</td>\n      <td>4</td>\n      <td>39502</td>\n      <td>39502</td>\n    </tr>\n    <tr>\n      <th>13</th>\n      <td>Furka14_22a</td>\n      <td>4</td>\n      <td>52769</td>\n      <td>52769</td>\n    </tr>\n    <tr>\n      <th>14</th>\n      <td>Furka12_22a</td>\n      <td>4</td>\n      <td>18667</td>\n      <td>18667</td>\n    </tr>\n    <tr>\n      <th>15</th>\n      <td>8_5_1_22</td>\n      <td>4</td>\n      <td>10977</td>\n      <td>10977</td>\n    </tr>\n    <tr>\n      <th>16</th>\n      <td>7_1_1_22</td>\n      <td>4</td>\n      <td>15213</td>\n      <td>15213</td>\n    </tr>\n    <tr>\n      <th>17</th>\n      <td>4_4_1_22</td>\n      <td>4</td>\n      <td>30231</td>\n      <td>30231</td>\n    </tr>\n    <tr>\n      <th>18</th>\n      <td>2_2_1_22</td>\n      <td>4</td>\n      <td>28680</td>\n      <td>28680</td>\n    </tr>\n    <tr>\n      <th>19</th>\n      <td>1_8_1_22</td>\n      <td>4</td>\n      <td>30889</td>\n      <td>30889</td>\n    </tr>\n    <tr>\n      <th>20</th>\n      <td>12_1_1_22</td>\n      <td>4</td>\n      <td>11</td>\n      <td>11</td>\n    </tr>\n    <tr>\n      <th>21</th>\n      <td>Furka10_22a</td>\n      <td>4</td>\n      <td>60244</td>\n      <td>60244</td>\n    </tr>\n    <tr>\n      <th>22</th>\n      <td>Joch4_22a</td>\n      <td>4</td>\n      <td>8515</td>\n      <td>8515</td>\n    </tr>\n    <tr>\n      <th>23</th>\n      <td>Furka34_22a</td>\n      <td>5</td>\n      <td>8448</td>\n      <td>8448</td>\n    </tr>\n    <tr>\n      <th>24</th>\n      <td>Furka12_22a</td>\n      <td>5</td>\n      <td>54074</td>\n      <td>54074</td>\n    </tr>\n    <tr>\n      <th>25</th>\n      <td>Furka13_22a</td>\n      <td>5</td>\n      <td>59010</td>\n      <td>59010</td>\n    </tr>\n  </tbody>\n</table>\n</div>"
     },
     "execution_count": 111,
     "metadata": {},
     "output_type": "execute_result"
    }
   ],
   "source": [
    "bs_feeding_agg_df = count_samples_per_brood(bs_data.loc[~bs_data['is_silence'] & (bs_data['event'] == 'feeding')])\n",
    "# bs_feeding_agg_df['recording'] = bs_feeding_agg_df['recording'].apply(lambda rec: f'{rec[:16]}...')\n",
    "bs_feeding_agg_df"
   ],
   "metadata": {
    "collapsed": false
   }
  },
  {
   "cell_type": "code",
   "execution_count": 126,
   "outputs": [
    {
     "data": {
      "text/plain": "                       recording  n_samples\n0    Furka33_22a_20220710_053000          1\n1    Furka33_22a_20220710_153000          1\n2    Furka33_22a_20220710_163000          3\n3    Furka33_22a_20220710_173000          1\n4    Furka33_22a_20220710_183000          9\n..                           ...        ...\n249  Furka33_22a_20220727_163000          2\n250  Furka33_22a_20220727_173000         16\n251  Furka33_22a_20220727_183000         17\n252  Furka33_22a_20220727_193000         14\n253  Furka33_22a_20220727_203000          5\n\n[254 rows x 2 columns]",
      "text/html": "<div>\n<style scoped>\n    .dataframe tbody tr th:only-of-type {\n        vertical-align: middle;\n    }\n\n    .dataframe tbody tr th {\n        vertical-align: top;\n    }\n\n    .dataframe thead th {\n        text-align: right;\n    }\n</style>\n<table border=\"1\" class=\"dataframe\">\n  <thead>\n    <tr style=\"text-align: right;\">\n      <th></th>\n      <th>recording</th>\n      <th>n_samples</th>\n    </tr>\n  </thead>\n  <tbody>\n    <tr>\n      <th>0</th>\n      <td>Furka33_22a_20220710_053000</td>\n      <td>1</td>\n    </tr>\n    <tr>\n      <th>1</th>\n      <td>Furka33_22a_20220710_153000</td>\n      <td>1</td>\n    </tr>\n    <tr>\n      <th>2</th>\n      <td>Furka33_22a_20220710_163000</td>\n      <td>3</td>\n    </tr>\n    <tr>\n      <th>3</th>\n      <td>Furka33_22a_20220710_173000</td>\n      <td>1</td>\n    </tr>\n    <tr>\n      <th>4</th>\n      <td>Furka33_22a_20220710_183000</td>\n      <td>9</td>\n    </tr>\n    <tr>\n      <th>...</th>\n      <td>...</td>\n      <td>...</td>\n    </tr>\n    <tr>\n      <th>249</th>\n      <td>Furka33_22a_20220727_163000</td>\n      <td>2</td>\n    </tr>\n    <tr>\n      <th>250</th>\n      <td>Furka33_22a_20220727_173000</td>\n      <td>16</td>\n    </tr>\n    <tr>\n      <th>251</th>\n      <td>Furka33_22a_20220727_183000</td>\n      <td>17</td>\n    </tr>\n    <tr>\n      <th>252</th>\n      <td>Furka33_22a_20220727_193000</td>\n      <td>14</td>\n    </tr>\n    <tr>\n      <th>253</th>\n      <td>Furka33_22a_20220727_203000</td>\n      <td>5</td>\n    </tr>\n  </tbody>\n</table>\n<p>254 rows × 2 columns</p>\n</div>"
     },
     "execution_count": 126,
     "metadata": {},
     "output_type": "execute_result"
    }
   ],
   "source": [
    "bs_data['recording'] = bs_data['file'].apply(extract_rec_name)\n",
    "bs_data['brood_id'] = bs_data['recording'].apply(extract_brood_id)\n",
    "furka33_bs2_df = bs_data[(bs_data['brood_id'] == 'Furka33_22a') & (bs_data['class'] == 2)]\n",
    "furka33_bs2_agg_fg = furka33_bs2_df[['recording', 'file']].groupby('recording').count().rename(columns = { 'file': 'n_samples' })\n",
    "furka33_bs2_agg_fg = furka33_bs2_agg_fg.sort_values('recording').reset_index()\n",
    "furka33_bs2_agg_fg"
   ],
   "metadata": {
    "collapsed": false
   }
  },
  {
   "cell_type": "code",
   "execution_count": 127,
   "outputs": [
    {
     "name": "stdout",
     "output_type": "stream",
     "text": [
      "['Furka33_22a_20220710_183000', 'Furka33_22a_20220711_193000', 'Furka33_22a_20220712_183000', 'Furka33_22a_20220713_173000', 'Furka33_22a_20220714_193000', 'Furka33_22a_20220715_063000', 'Furka33_22a_20220716_073000', 'Furka33_22a_20220717_063000', 'Furka33_22a_20220718_063000', 'Furka33_22a_20220719_083000', 'Furka33_22a_20220720_093000', 'Furka33_22a_20220721_063000', 'Furka33_22a_20220722_063000']\n",
      "534\n"
     ]
    }
   ],
   "source": [
    "from datetime import datetime\n",
    "\n",
    "\n",
    "def rec_time(rec_title: str) -> datetime:\n",
    "\treturn datetime(\n",
    "\t\tint(rec_title[-15:-11]), int(rec_title[-11:-9]), int(rec_title[-9:-7])\n",
    "\t)\n",
    "\n",
    "\n",
    "val_bs2 = []\n",
    "val_b2_samples = 0\n",
    "prev_date = rec_time(furka33_bs2_agg_fg.iloc[0]['recording'])\n",
    "\n",
    "i = 0\n",
    "t = prev_date\n",
    "\n",
    "while i < len(furka33_bs2_agg_fg):\n",
    "\tmax_samples = 0\n",
    "\tmax_rec = None\n",
    "\n",
    "\twhile i < len(furka33_bs2_agg_fg) and (t - prev_date).days == 0:\n",
    "\t\trow = furka33_bs2_agg_fg.iloc[i]\n",
    "\t\tt = rec_time(row['recording'])\n",
    "\t\ti = i + 1\n",
    "\t\tif max_samples < row['n_samples']:\n",
    "\t\t\tmax_samples = row['n_samples']\n",
    "\t\t\tmax_rec = row['recording']\n",
    "\n",
    "\tprev_date = t\n",
    "\tval_b2_samples += max_samples\n",
    "\tval_bs2.append(max_rec)\n",
    "\tif val_b2_samples >= 500:\n",
    "\t\tbreak\n",
    "\n",
    "# for i in range(1, len(furka33_bs2_agg_fg)):\n",
    "# \trow = furka33_bs2_agg_fg.iloc[i]\n",
    "# \tt = rec_time(row['rec'])\n",
    "# \tif (t - prev_date).days >= 1:\n",
    "# \t\tval_bs2.append(row['rec'])\n",
    "# \t\tval_b2_samples += row['n_samples']\n",
    "# \t\tprev_date = t\n",
    "# \t\tif val_b2_samples >= 1000:\n",
    "# \t\t\tbreak\n",
    "\n",
    "print(val_bs2)\n",
    "print(val_b2_samples)"
   ],
   "metadata": {
    "collapsed": false
   }
  },
  {
   "cell_type": "code",
   "execution_count": 128,
   "outputs": [
    {
     "data": {
      "text/plain": "                                      file    event  is_silence  class    1  \\\n45340   Furka33_22a_20220710_183000__0.wav  feeding       False      2  0.0   \n45341   Furka33_22a_20220710_183000__1.wav  feeding       False      2  0.0   \n45342   Furka33_22a_20220710_183000__2.wav  feeding       False      2  0.0   \n45343   Furka33_22a_20220710_183000__3.wav  feeding       False      2  0.0   \n45344   Furka33_22a_20220710_183000__4.wav  feeding       False      2  0.0   \n...                                    ...      ...         ...    ...  ...   \n48991  Furka33_22a_20220713_173000__34.wav  feeding       False      2  0.0   \n48992  Furka33_22a_20220713_173000__35.wav  feeding       False      2  0.0   \n48993  Furka33_22a_20220713_173000__36.wav  feeding       False      2  0.0   \n48994  Furka33_22a_20220713_173000__37.wav  feeding       False      2  0.0   \n48995  Furka33_22a_20220713_173000__38.wav  feeding       False      2  0.0   \n\n         2    3    4    5                    recording         brood_id  \n45340  1.0  0.0  0.0  0.0  Furka33_22a_20220710_183000  Furka33_22a_val  \n45341  1.0  0.0  0.0  0.0  Furka33_22a_20220710_183000  Furka33_22a_val  \n45342  1.0  0.0  0.0  0.0  Furka33_22a_20220710_183000  Furka33_22a_val  \n45343  1.0  0.0  0.0  0.0  Furka33_22a_20220710_183000  Furka33_22a_val  \n45344  1.0  0.0  0.0  0.0  Furka33_22a_20220710_183000  Furka33_22a_val  \n...    ...  ...  ...  ...                          ...              ...  \n48991  1.0  0.0  0.0  0.0  Furka33_22a_20220713_173000  Furka33_22a_val  \n48992  1.0  0.0  0.0  0.0  Furka33_22a_20220713_173000  Furka33_22a_val  \n48993  1.0  0.0  0.0  0.0  Furka33_22a_20220713_173000  Furka33_22a_val  \n48994  1.0  0.0  0.0  0.0  Furka33_22a_20220713_173000  Furka33_22a_val  \n48995  1.0  0.0  0.0  0.0  Furka33_22a_20220713_173000  Furka33_22a_val  \n\n[534 rows x 11 columns]",
      "text/html": "<div>\n<style scoped>\n    .dataframe tbody tr th:only-of-type {\n        vertical-align: middle;\n    }\n\n    .dataframe tbody tr th {\n        vertical-align: top;\n    }\n\n    .dataframe thead th {\n        text-align: right;\n    }\n</style>\n<table border=\"1\" class=\"dataframe\">\n  <thead>\n    <tr style=\"text-align: right;\">\n      <th></th>\n      <th>file</th>\n      <th>event</th>\n      <th>is_silence</th>\n      <th>class</th>\n      <th>1</th>\n      <th>2</th>\n      <th>3</th>\n      <th>4</th>\n      <th>5</th>\n      <th>recording</th>\n      <th>brood_id</th>\n    </tr>\n  </thead>\n  <tbody>\n    <tr>\n      <th>45340</th>\n      <td>Furka33_22a_20220710_183000__0.wav</td>\n      <td>feeding</td>\n      <td>False</td>\n      <td>2</td>\n      <td>0.0</td>\n      <td>1.0</td>\n      <td>0.0</td>\n      <td>0.0</td>\n      <td>0.0</td>\n      <td>Furka33_22a_20220710_183000</td>\n      <td>Furka33_22a_val</td>\n    </tr>\n    <tr>\n      <th>45341</th>\n      <td>Furka33_22a_20220710_183000__1.wav</td>\n      <td>feeding</td>\n      <td>False</td>\n      <td>2</td>\n      <td>0.0</td>\n      <td>1.0</td>\n      <td>0.0</td>\n      <td>0.0</td>\n      <td>0.0</td>\n      <td>Furka33_22a_20220710_183000</td>\n      <td>Furka33_22a_val</td>\n    </tr>\n    <tr>\n      <th>45342</th>\n      <td>Furka33_22a_20220710_183000__2.wav</td>\n      <td>feeding</td>\n      <td>False</td>\n      <td>2</td>\n      <td>0.0</td>\n      <td>1.0</td>\n      <td>0.0</td>\n      <td>0.0</td>\n      <td>0.0</td>\n      <td>Furka33_22a_20220710_183000</td>\n      <td>Furka33_22a_val</td>\n    </tr>\n    <tr>\n      <th>45343</th>\n      <td>Furka33_22a_20220710_183000__3.wav</td>\n      <td>feeding</td>\n      <td>False</td>\n      <td>2</td>\n      <td>0.0</td>\n      <td>1.0</td>\n      <td>0.0</td>\n      <td>0.0</td>\n      <td>0.0</td>\n      <td>Furka33_22a_20220710_183000</td>\n      <td>Furka33_22a_val</td>\n    </tr>\n    <tr>\n      <th>45344</th>\n      <td>Furka33_22a_20220710_183000__4.wav</td>\n      <td>feeding</td>\n      <td>False</td>\n      <td>2</td>\n      <td>0.0</td>\n      <td>1.0</td>\n      <td>0.0</td>\n      <td>0.0</td>\n      <td>0.0</td>\n      <td>Furka33_22a_20220710_183000</td>\n      <td>Furka33_22a_val</td>\n    </tr>\n    <tr>\n      <th>...</th>\n      <td>...</td>\n      <td>...</td>\n      <td>...</td>\n      <td>...</td>\n      <td>...</td>\n      <td>...</td>\n      <td>...</td>\n      <td>...</td>\n      <td>...</td>\n      <td>...</td>\n      <td>...</td>\n    </tr>\n    <tr>\n      <th>48991</th>\n      <td>Furka33_22a_20220713_173000__34.wav</td>\n      <td>feeding</td>\n      <td>False</td>\n      <td>2</td>\n      <td>0.0</td>\n      <td>1.0</td>\n      <td>0.0</td>\n      <td>0.0</td>\n      <td>0.0</td>\n      <td>Furka33_22a_20220713_173000</td>\n      <td>Furka33_22a_val</td>\n    </tr>\n    <tr>\n      <th>48992</th>\n      <td>Furka33_22a_20220713_173000__35.wav</td>\n      <td>feeding</td>\n      <td>False</td>\n      <td>2</td>\n      <td>0.0</td>\n      <td>1.0</td>\n      <td>0.0</td>\n      <td>0.0</td>\n      <td>0.0</td>\n      <td>Furka33_22a_20220713_173000</td>\n      <td>Furka33_22a_val</td>\n    </tr>\n    <tr>\n      <th>48993</th>\n      <td>Furka33_22a_20220713_173000__36.wav</td>\n      <td>feeding</td>\n      <td>False</td>\n      <td>2</td>\n      <td>0.0</td>\n      <td>1.0</td>\n      <td>0.0</td>\n      <td>0.0</td>\n      <td>0.0</td>\n      <td>Furka33_22a_20220713_173000</td>\n      <td>Furka33_22a_val</td>\n    </tr>\n    <tr>\n      <th>48994</th>\n      <td>Furka33_22a_20220713_173000__37.wav</td>\n      <td>feeding</td>\n      <td>False</td>\n      <td>2</td>\n      <td>0.0</td>\n      <td>1.0</td>\n      <td>0.0</td>\n      <td>0.0</td>\n      <td>0.0</td>\n      <td>Furka33_22a_20220713_173000</td>\n      <td>Furka33_22a_val</td>\n    </tr>\n    <tr>\n      <th>48995</th>\n      <td>Furka33_22a_20220713_173000__38.wav</td>\n      <td>feeding</td>\n      <td>False</td>\n      <td>2</td>\n      <td>0.0</td>\n      <td>1.0</td>\n      <td>0.0</td>\n      <td>0.0</td>\n      <td>0.0</td>\n      <td>Furka33_22a_20220713_173000</td>\n      <td>Furka33_22a_val</td>\n    </tr>\n  </tbody>\n</table>\n<p>534 rows × 11 columns</p>\n</div>"
     },
     "execution_count": 128,
     "metadata": {},
     "output_type": "execute_result"
    }
   ],
   "source": [
    "bs2_val_idx = bs_data['recording'].isin(val_bs2)\n",
    "bs_data.loc[bs2_val_idx, 'brood_id'] = 'Furka33_22a_val'\n",
    "bs_data[bs2_val_idx]"
   ],
   "metadata": {
    "collapsed": false
   }
  },
  {
   "cell_type": "code",
   "execution_count": 166,
   "outputs": [],
   "source": [
    "bs_data.to_csv('_data.export/server/s2-o1/brood-size.csv', index = False)"
   ],
   "metadata": {
    "collapsed": false
   }
  },
  {
   "cell_type": "code",
   "execution_count": 28,
   "outputs": [
    {
     "data": {
      "text/plain": "   class  sample_count\n0      1            78\n1      2         14865\n2      3         31828\n3      4         81176\n4      5         32949",
      "text/html": "<div>\n<style scoped>\n    .dataframe tbody tr th:only-of-type {\n        vertical-align: middle;\n    }\n\n    .dataframe tbody tr th {\n        vertical-align: top;\n    }\n\n    .dataframe thead th {\n        text-align: right;\n    }\n</style>\n<table border=\"1\" class=\"dataframe\">\n  <thead>\n    <tr style=\"text-align: right;\">\n      <th></th>\n      <th>class</th>\n      <th>sample_count</th>\n    </tr>\n  </thead>\n  <tbody>\n    <tr>\n      <th>0</th>\n      <td>1</td>\n      <td>78</td>\n    </tr>\n    <tr>\n      <th>1</th>\n      <td>2</td>\n      <td>14865</td>\n    </tr>\n    <tr>\n      <th>2</th>\n      <td>3</td>\n      <td>31828</td>\n    </tr>\n    <tr>\n      <th>3</th>\n      <td>4</td>\n      <td>81176</td>\n    </tr>\n    <tr>\n      <th>4</th>\n      <td>5</td>\n      <td>32949</td>\n    </tr>\n  </tbody>\n</table>\n</div>"
     },
     "execution_count": 28,
     "metadata": {},
     "output_type": "execute_result"
    }
   ],
   "source": [
    "bs_feed_cls_agg_df = bs_feeding_agg_df[['class', 'sample_count']].groupby('class').sum().reset_index()\n",
    "bs_feed_cls_agg_df"
   ],
   "metadata": {
    "collapsed": false
   }
  },
  {
   "cell_type": "code",
   "execution_count": 89,
   "outputs": [
    {
     "data": {
      "text/plain": "                                            recording  class  sample_count\n0   AT_1_2_1_22-BA04_BS02-2466C2065B90281B_2022060...      2           161\n1   AT_1_2_1_22-BA10_BS02-24E144035BA44417_2022061...      2          1960\n2   Furka33_22a-BA17_BS02-248D9B02603706BB_2022072...      2          2641\n3   Furka33_22a-BA05_BS02-248D9B02603706BB_2022071...      2           947\n4   AT_1_3_1_22-BA12_BS03-24E144045FDEF471_2022061...      3           128\n5   AT_1_3_1_22-BA17_BS03-243B1F075C79F9E9_2022061...      3          1345\n6   AT_1_6_1_22-BA06_BS03-243B1F075C79F9E9_2022060...      3           253\n7   AT_1_6_1_22-BA13_BS03-243B1F055AD2F48C_2022061...      3          2244\n8   Furka31_22a-BA16_BS03-247AA5015FDF2A00_2022080...      3          2428\n9   Furka31_22a-BA04_BS03-247AA5015FDF2A00_2022072...      3           590\n10  Furka34_22a-BA11_BS04-247AA5015FDF2A00_2022061...      4          3030\n11  Furka34_22a-BA07_BS04-247AA5015FDF2A00_2022061...      4          1041\n12  Furka14_22a-BA13_BS04-24F3190160370695_2022061...      4          2080\n13  Furka14_22a-BA02_BS04-24F3190160370695_2022060...      4           287\n14  Joch4_22a-BA18_BS04-242A260460375836_20220624_...      4            17\n15  Furka12_22a-BA14_BS04-24F3190160370695_2022072...      4          3188\n16  Joch4_22a-BA15_BS04-242A260460375836_20220621_...      4          2630\n17  Furka10_22a-BA12_BS04-24E144045FDF1AD9_2022061...      4          3136\n18  Furka10_22a-BA03_BS04-24E144045FDF1AD9_2022060...      4           204\n19  AT_2_2_1_22-BA12_BS04-2466C2065B902810_2022061...      4           684\n20  AT_2_2_1_22-BA08_BS04-247AA5015BA4439B_2022060...      4          1932\n21  AT_1_8_1_22-BA11_BS04-24E144035BA44334_2022061...      4          1190\n22  AT_1_8_1_22-BA09_BS04-247AA5015C0309FF_2022060...      4           783\n23  Furka13_22a-BA15_BS05-248D9B02603706BB_2022061...      5          3520\n24  Furka13_22a-BA08_BS05-248D9B02603706BB_2022060...      5          2515\n25  Furka12_22a-BA06_BS05-24F3190160370695_2022072...      5          2194",
      "text/html": "<div>\n<style scoped>\n    .dataframe tbody tr th:only-of-type {\n        vertical-align: middle;\n    }\n\n    .dataframe tbody tr th {\n        vertical-align: top;\n    }\n\n    .dataframe thead th {\n        text-align: right;\n    }\n</style>\n<table border=\"1\" class=\"dataframe\">\n  <thead>\n    <tr style=\"text-align: right;\">\n      <th></th>\n      <th>recording</th>\n      <th>class</th>\n      <th>sample_count</th>\n    </tr>\n  </thead>\n  <tbody>\n    <tr>\n      <th>0</th>\n      <td>AT_1_2_1_22-BA04_BS02-2466C2065B90281B_2022060...</td>\n      <td>2</td>\n      <td>161</td>\n    </tr>\n    <tr>\n      <th>1</th>\n      <td>AT_1_2_1_22-BA10_BS02-24E144035BA44417_2022061...</td>\n      <td>2</td>\n      <td>1960</td>\n    </tr>\n    <tr>\n      <th>2</th>\n      <td>Furka33_22a-BA17_BS02-248D9B02603706BB_2022072...</td>\n      <td>2</td>\n      <td>2641</td>\n    </tr>\n    <tr>\n      <th>3</th>\n      <td>Furka33_22a-BA05_BS02-248D9B02603706BB_2022071...</td>\n      <td>2</td>\n      <td>947</td>\n    </tr>\n    <tr>\n      <th>4</th>\n      <td>AT_1_3_1_22-BA12_BS03-24E144045FDEF471_2022061...</td>\n      <td>3</td>\n      <td>128</td>\n    </tr>\n    <tr>\n      <th>5</th>\n      <td>AT_1_3_1_22-BA17_BS03-243B1F075C79F9E9_2022061...</td>\n      <td>3</td>\n      <td>1345</td>\n    </tr>\n    <tr>\n      <th>6</th>\n      <td>AT_1_6_1_22-BA06_BS03-243B1F075C79F9E9_2022060...</td>\n      <td>3</td>\n      <td>253</td>\n    </tr>\n    <tr>\n      <th>7</th>\n      <td>AT_1_6_1_22-BA13_BS03-243B1F055AD2F48C_2022061...</td>\n      <td>3</td>\n      <td>2244</td>\n    </tr>\n    <tr>\n      <th>8</th>\n      <td>Furka31_22a-BA16_BS03-247AA5015FDF2A00_2022080...</td>\n      <td>3</td>\n      <td>2428</td>\n    </tr>\n    <tr>\n      <th>9</th>\n      <td>Furka31_22a-BA04_BS03-247AA5015FDF2A00_2022072...</td>\n      <td>3</td>\n      <td>590</td>\n    </tr>\n    <tr>\n      <th>10</th>\n      <td>Furka34_22a-BA11_BS04-247AA5015FDF2A00_2022061...</td>\n      <td>4</td>\n      <td>3030</td>\n    </tr>\n    <tr>\n      <th>11</th>\n      <td>Furka34_22a-BA07_BS04-247AA5015FDF2A00_2022061...</td>\n      <td>4</td>\n      <td>1041</td>\n    </tr>\n    <tr>\n      <th>12</th>\n      <td>Furka14_22a-BA13_BS04-24F3190160370695_2022061...</td>\n      <td>4</td>\n      <td>2080</td>\n    </tr>\n    <tr>\n      <th>13</th>\n      <td>Furka14_22a-BA02_BS04-24F3190160370695_2022060...</td>\n      <td>4</td>\n      <td>287</td>\n    </tr>\n    <tr>\n      <th>14</th>\n      <td>Joch4_22a-BA18_BS04-242A260460375836_20220624_...</td>\n      <td>4</td>\n      <td>17</td>\n    </tr>\n    <tr>\n      <th>15</th>\n      <td>Furka12_22a-BA14_BS04-24F3190160370695_2022072...</td>\n      <td>4</td>\n      <td>3188</td>\n    </tr>\n    <tr>\n      <th>16</th>\n      <td>Joch4_22a-BA15_BS04-242A260460375836_20220621_...</td>\n      <td>4</td>\n      <td>2630</td>\n    </tr>\n    <tr>\n      <th>17</th>\n      <td>Furka10_22a-BA12_BS04-24E144045FDF1AD9_2022061...</td>\n      <td>4</td>\n      <td>3136</td>\n    </tr>\n    <tr>\n      <th>18</th>\n      <td>Furka10_22a-BA03_BS04-24E144045FDF1AD9_2022060...</td>\n      <td>4</td>\n      <td>204</td>\n    </tr>\n    <tr>\n      <th>19</th>\n      <td>AT_2_2_1_22-BA12_BS04-2466C2065B902810_2022061...</td>\n      <td>4</td>\n      <td>684</td>\n    </tr>\n    <tr>\n      <th>20</th>\n      <td>AT_2_2_1_22-BA08_BS04-247AA5015BA4439B_2022060...</td>\n      <td>4</td>\n      <td>1932</td>\n    </tr>\n    <tr>\n      <th>21</th>\n      <td>AT_1_8_1_22-BA11_BS04-24E144035BA44334_2022061...</td>\n      <td>4</td>\n      <td>1190</td>\n    </tr>\n    <tr>\n      <th>22</th>\n      <td>AT_1_8_1_22-BA09_BS04-247AA5015C0309FF_2022060...</td>\n      <td>4</td>\n      <td>783</td>\n    </tr>\n    <tr>\n      <th>23</th>\n      <td>Furka13_22a-BA15_BS05-248D9B02603706BB_2022061...</td>\n      <td>5</td>\n      <td>3520</td>\n    </tr>\n    <tr>\n      <th>24</th>\n      <td>Furka13_22a-BA08_BS05-248D9B02603706BB_2022060...</td>\n      <td>5</td>\n      <td>2515</td>\n    </tr>\n    <tr>\n      <th>25</th>\n      <td>Furka12_22a-BA06_BS05-24F3190160370695_2022072...</td>\n      <td>5</td>\n      <td>2194</td>\n    </tr>\n  </tbody>\n</table>\n</div>"
     },
     "execution_count": 89,
     "metadata": {},
     "output_type": "execute_result"
    }
   ],
   "source": [
    "bs_contact_agg_df = count_samples_per_file(bs_data.loc[~bs_data['is_silence'] & (bs_data['event'] == 'contact')])\n",
    "bs_contact_agg_df"
   ],
   "metadata": {
    "collapsed": false
   }
  },
  {
   "cell_type": "code",
   "execution_count": 90,
   "outputs": [
    {
     "data": {
      "text/plain": "   class  sample_count\n0      2          5709\n1      3          6988\n2      4         20202\n3      5          8229",
      "text/html": "<div>\n<style scoped>\n    .dataframe tbody tr th:only-of-type {\n        vertical-align: middle;\n    }\n\n    .dataframe tbody tr th {\n        vertical-align: top;\n    }\n\n    .dataframe thead th {\n        text-align: right;\n    }\n</style>\n<table border=\"1\" class=\"dataframe\">\n  <thead>\n    <tr style=\"text-align: right;\">\n      <th></th>\n      <th>class</th>\n      <th>sample_count</th>\n    </tr>\n  </thead>\n  <tbody>\n    <tr>\n      <th>0</th>\n      <td>2</td>\n      <td>5709</td>\n    </tr>\n    <tr>\n      <th>1</th>\n      <td>3</td>\n      <td>6988</td>\n    </tr>\n    <tr>\n      <th>2</th>\n      <td>4</td>\n      <td>20202</td>\n    </tr>\n    <tr>\n      <th>3</th>\n      <td>5</td>\n      <td>8229</td>\n    </tr>\n  </tbody>\n</table>\n</div>"
     },
     "execution_count": 90,
     "metadata": {},
     "output_type": "execute_result"
    }
   ],
   "source": [
    "bs_contact_cls_agg_df = bs_contact_agg_df[['class', 'sample_count']].groupby('class').sum().reset_index()\n",
    "bs_contact_cls_agg_df"
   ],
   "metadata": {
    "collapsed": false
   }
  },
  {
   "cell_type": "code",
   "execution_count": 29,
   "outputs": [
    {
     "data": {
      "text/plain": "<Figure size 640x480 with 1 Axes>",
      "image/png": "[encoded data removed]"
     },
     "metadata": {},
     "output_type": "display_data"
    },
    {
     "data": {
      "text/plain": "<Figure size 640x480 with 1 Axes>",
      "image/png": "[encoded data removed]"
     },
     "metadata": {},
     "output_type": "display_data"
    }
   ],
   "source": [
    "# plot_sample_count(\n",
    "# \tbs_cls_agg_df, x_label_col = 'class', x_rotation = 'horizontal', x_label = 'Brood size',\n",
    "# \ttitle = '2s sample count per brood size'\n",
    "# )\n",
    "\n",
    "# plot_sample_count(\n",
    "# \tbs_agg_df, x_label_col = 'recording', x_rotation = 'vertical', x_label = 'Recording',\n",
    "# \ttitle = '2s sample count per recording'\n",
    "# )\n",
    "\n",
    "plot_sample_count(\n",
    "\tbs_feed_cls_agg_df, x_label_col = 'class', x_rotation = 'horizontal', x_label = 'Brood size',\n",
    "\ttitle = 'Feeding 2s sample count per brood size'\n",
    ")\n",
    "\n",
    "plot_sample_count(\n",
    "\tbs_feeding_agg_df, x_label_col = 'brood_id', x_rotation = 'vertical', x_label = 'Brood ID',\n",
    "\ttitle = 'Feeding 2s sample count per brood'\n",
    ")\n",
    "\n",
    "# plot_sample_count(\n",
    "# \tbs_contact_cls_agg_df, x_label_col = 'class', x_rotation = 'horizontal', x_label = 'Brood size',\n",
    "# \ttitle = 'Contact 2s sample count per brood size'\n",
    "# )\n",
    "\n",
    "# plot_sample_count(\n",
    "# \tbs_contact_agg_df, x_label_col = 'recording', x_rotation = 'vertical', x_label = 'Recording',\n",
    "# \ttitle = 'Contact 2s sample count per recording'\n",
    "# )"
   ],
   "metadata": {
    "collapsed": false
   }
  },
  {
   "cell_type": "markdown",
   "source": [
    "## Brood age"
   ],
   "metadata": {
    "collapsed": false
   }
  },
  {
   "cell_type": "code",
   "execution_count": 171,
   "outputs": [
    {
     "data": {
      "text/plain": "                                       file    event  is_silence  class_min  \\\n0          12_1_1_22_20220626_120000__0.wav  feeding       False        5.0   \n1          12_1_1_22_20220626_120000__1.wav  feeding       False        5.0   \n2          12_1_1_22_20220626_120000__2.wav  feeding       False        5.0   \n3          12_1_1_22_20220626_120000__3.wav  feeding       False        5.0   \n4          12_1_1_22_20220626_120000__4.wav  feeding       False        5.0   \n...                                     ...      ...         ...        ...   \n587576  Furka13_22a_20220616_173000__25.wav  feeding       False       18.0   \n587577  Furka13_22a_20220616_173000__26.wav  feeding       False       18.0   \n587578  Furka13_22a_20220616_173000__27.wav  feeding       False       18.0   \n587579  Furka13_22a_20220616_173000__28.wav  feeding       False       18.0   \n587580  Furka13_22a_20220616_173000__29.wav  feeding       False       18.0   \n\n        class_max                    recording     brood_id  \n0             6.0    12_1_1_22_20220626_120000    12_1_1_22  \n1             6.0    12_1_1_22_20220626_120000    12_1_1_22  \n2             6.0    12_1_1_22_20220626_120000    12_1_1_22  \n3             6.0    12_1_1_22_20220626_120000    12_1_1_22  \n4             6.0    12_1_1_22_20220626_120000    12_1_1_22  \n...           ...                          ...          ...  \n587576       19.0  Furka13_22a_20220616_173000  Furka13_22a  \n587577       19.0  Furka13_22a_20220616_173000  Furka13_22a  \n587578       19.0  Furka13_22a_20220616_173000  Furka13_22a  \n587579       19.0  Furka13_22a_20220616_173000  Furka13_22a  \n587580       19.0  Furka13_22a_20220616_173000  Furka13_22a  \n\n[587581 rows x 7 columns]",
      "text/html": "<div>\n<style scoped>\n    .dataframe tbody tr th:only-of-type {\n        vertical-align: middle;\n    }\n\n    .dataframe tbody tr th {\n        vertical-align: top;\n    }\n\n    .dataframe thead th {\n        text-align: right;\n    }\n</style>\n<table border=\"1\" class=\"dataframe\">\n  <thead>\n    <tr style=\"text-align: right;\">\n      <th></th>\n      <th>file</th>\n      <th>event</th>\n      <th>is_silence</th>\n      <th>class_min</th>\n      <th>class_max</th>\n      <th>recording</th>\n      <th>brood_id</th>\n    </tr>\n  </thead>\n  <tbody>\n    <tr>\n      <th>0</th>\n      <td>12_1_1_22_20220626_120000__0.wav</td>\n      <td>feeding</td>\n      <td>False</td>\n      <td>5.0</td>\n      <td>6.0</td>\n      <td>12_1_1_22_20220626_120000</td>\n      <td>12_1_1_22</td>\n    </tr>\n    <tr>\n      <th>1</th>\n      <td>12_1_1_22_20220626_120000__1.wav</td>\n      <td>feeding</td>\n      <td>False</td>\n      <td>5.0</td>\n      <td>6.0</td>\n      <td>12_1_1_22_20220626_120000</td>\n      <td>12_1_1_22</td>\n    </tr>\n    <tr>\n      <th>2</th>\n      <td>12_1_1_22_20220626_120000__2.wav</td>\n      <td>feeding</td>\n      <td>False</td>\n      <td>5.0</td>\n      <td>6.0</td>\n      <td>12_1_1_22_20220626_120000</td>\n      <td>12_1_1_22</td>\n    </tr>\n    <tr>\n      <th>3</th>\n      <td>12_1_1_22_20220626_120000__3.wav</td>\n      <td>feeding</td>\n      <td>False</td>\n      <td>5.0</td>\n      <td>6.0</td>\n      <td>12_1_1_22_20220626_120000</td>\n      <td>12_1_1_22</td>\n    </tr>\n    <tr>\n      <th>4</th>\n      <td>12_1_1_22_20220626_120000__4.wav</td>\n      <td>feeding</td>\n      <td>False</td>\n      <td>5.0</td>\n      <td>6.0</td>\n      <td>12_1_1_22_20220626_120000</td>\n      <td>12_1_1_22</td>\n    </tr>\n    <tr>\n      <th>...</th>\n      <td>...</td>\n      <td>...</td>\n      <td>...</td>\n      <td>...</td>\n      <td>...</td>\n      <td>...</td>\n      <td>...</td>\n    </tr>\n    <tr>\n      <th>587576</th>\n      <td>Furka13_22a_20220616_173000__25.wav</td>\n      <td>feeding</td>\n      <td>False</td>\n      <td>18.0</td>\n      <td>19.0</td>\n      <td>Furka13_22a_20220616_173000</td>\n      <td>Furka13_22a</td>\n    </tr>\n    <tr>\n      <th>587577</th>\n      <td>Furka13_22a_20220616_173000__26.wav</td>\n      <td>feeding</td>\n      <td>False</td>\n      <td>18.0</td>\n      <td>19.0</td>\n      <td>Furka13_22a_20220616_173000</td>\n      <td>Furka13_22a</td>\n    </tr>\n    <tr>\n      <th>587578</th>\n      <td>Furka13_22a_20220616_173000__27.wav</td>\n      <td>feeding</td>\n      <td>False</td>\n      <td>18.0</td>\n      <td>19.0</td>\n      <td>Furka13_22a_20220616_173000</td>\n      <td>Furka13_22a</td>\n    </tr>\n    <tr>\n      <th>587579</th>\n      <td>Furka13_22a_20220616_173000__28.wav</td>\n      <td>feeding</td>\n      <td>False</td>\n      <td>18.0</td>\n      <td>19.0</td>\n      <td>Furka13_22a_20220616_173000</td>\n      <td>Furka13_22a</td>\n    </tr>\n    <tr>\n      <th>587580</th>\n      <td>Furka13_22a_20220616_173000__29.wav</td>\n      <td>feeding</td>\n      <td>False</td>\n      <td>18.0</td>\n      <td>19.0</td>\n      <td>Furka13_22a_20220616_173000</td>\n      <td>Furka13_22a</td>\n    </tr>\n  </tbody>\n</table>\n<p>587581 rows × 7 columns</p>\n</div>"
     },
     "execution_count": 171,
     "metadata": {},
     "output_type": "execute_result"
    }
   ],
   "source": [
    "ba_data = pd.read_csv(\n",
    "\t'_data.export/server/s2-o1/brood-age.csv', dtype = { 'is_silence': bool }\n",
    ")\n",
    "ba_data"
   ],
   "metadata": {
    "collapsed": false
   }
  },
  {
   "cell_type": "code",
   "execution_count": 172,
   "outputs": [
    {
     "data": {
      "text/plain": "                                       file    event  is_silence  class_min  \\\n0          12_1_1_22_20220626_120000__0.wav  feeding       False        5.0   \n1          12_1_1_22_20220626_120000__1.wav  feeding       False        5.0   \n2          12_1_1_22_20220626_120000__2.wav  feeding       False        5.0   \n3          12_1_1_22_20220626_120000__3.wav  feeding       False        5.0   \n4          12_1_1_22_20220626_120000__4.wav  feeding       False        5.0   \n...                                     ...      ...         ...        ...   \n587576  Furka13_22a_20220616_173000__25.wav  feeding       False       18.0   \n587577  Furka13_22a_20220616_173000__26.wav  feeding       False       18.0   \n587578  Furka13_22a_20220616_173000__27.wav  feeding       False       18.0   \n587579  Furka13_22a_20220616_173000__28.wav  feeding       False       18.0   \n587580  Furka13_22a_20220616_173000__29.wav  feeding       False       18.0   \n\n        class_max                    recording     brood_id  \n0             6.0    12_1_1_22_20220626_120000    12_1_1_22  \n1             6.0    12_1_1_22_20220626_120000    12_1_1_22  \n2             6.0    12_1_1_22_20220626_120000    12_1_1_22  \n3             6.0    12_1_1_22_20220626_120000    12_1_1_22  \n4             6.0    12_1_1_22_20220626_120000    12_1_1_22  \n...           ...                          ...          ...  \n587576       19.0  Furka13_22a_20220616_173000  Furka13_22a  \n587577       19.0  Furka13_22a_20220616_173000  Furka13_22a  \n587578       19.0  Furka13_22a_20220616_173000  Furka13_22a  \n587579       19.0  Furka13_22a_20220616_173000  Furka13_22a  \n587580       19.0  Furka13_22a_20220616_173000  Furka13_22a  \n\n[587480 rows x 7 columns]",
      "text/html": "<div>\n<style scoped>\n    .dataframe tbody tr th:only-of-type {\n        vertical-align: middle;\n    }\n\n    .dataframe tbody tr th {\n        vertical-align: top;\n    }\n\n    .dataframe thead th {\n        text-align: right;\n    }\n</style>\n<table border=\"1\" class=\"dataframe\">\n  <thead>\n    <tr style=\"text-align: right;\">\n      <th></th>\n      <th>file</th>\n      <th>event</th>\n      <th>is_silence</th>\n      <th>class_min</th>\n      <th>class_max</th>\n      <th>recording</th>\n      <th>brood_id</th>\n    </tr>\n  </thead>\n  <tbody>\n    <tr>\n      <th>0</th>\n      <td>12_1_1_22_20220626_120000__0.wav</td>\n      <td>feeding</td>\n      <td>False</td>\n      <td>5.0</td>\n      <td>6.0</td>\n      <td>12_1_1_22_20220626_120000</td>\n      <td>12_1_1_22</td>\n    </tr>\n    <tr>\n      <th>1</th>\n      <td>12_1_1_22_20220626_120000__1.wav</td>\n      <td>feeding</td>\n      <td>False</td>\n      <td>5.0</td>\n      <td>6.0</td>\n      <td>12_1_1_22_20220626_120000</td>\n      <td>12_1_1_22</td>\n    </tr>\n    <tr>\n      <th>2</th>\n      <td>12_1_1_22_20220626_120000__2.wav</td>\n      <td>feeding</td>\n      <td>False</td>\n      <td>5.0</td>\n      <td>6.0</td>\n      <td>12_1_1_22_20220626_120000</td>\n      <td>12_1_1_22</td>\n    </tr>\n    <tr>\n      <th>3</th>\n      <td>12_1_1_22_20220626_120000__3.wav</td>\n      <td>feeding</td>\n      <td>False</td>\n      <td>5.0</td>\n      <td>6.0</td>\n      <td>12_1_1_22_20220626_120000</td>\n      <td>12_1_1_22</td>\n    </tr>\n    <tr>\n      <th>4</th>\n      <td>12_1_1_22_20220626_120000__4.wav</td>\n      <td>feeding</td>\n      <td>False</td>\n      <td>5.0</td>\n      <td>6.0</td>\n      <td>12_1_1_22_20220626_120000</td>\n      <td>12_1_1_22</td>\n    </tr>\n    <tr>\n      <th>...</th>\n      <td>...</td>\n      <td>...</td>\n      <td>...</td>\n      <td>...</td>\n      <td>...</td>\n      <td>...</td>\n      <td>...</td>\n    </tr>\n    <tr>\n      <th>587576</th>\n      <td>Furka13_22a_20220616_173000__25.wav</td>\n      <td>feeding</td>\n      <td>False</td>\n      <td>18.0</td>\n      <td>19.0</td>\n      <td>Furka13_22a_20220616_173000</td>\n      <td>Furka13_22a</td>\n    </tr>\n    <tr>\n      <th>587577</th>\n      <td>Furka13_22a_20220616_173000__26.wav</td>\n      <td>feeding</td>\n      <td>False</td>\n      <td>18.0</td>\n      <td>19.0</td>\n      <td>Furka13_22a_20220616_173000</td>\n      <td>Furka13_22a</td>\n    </tr>\n    <tr>\n      <th>587578</th>\n      <td>Furka13_22a_20220616_173000__27.wav</td>\n      <td>feeding</td>\n      <td>False</td>\n      <td>18.0</td>\n      <td>19.0</td>\n      <td>Furka13_22a_20220616_173000</td>\n      <td>Furka13_22a</td>\n    </tr>\n    <tr>\n      <th>587579</th>\n      <td>Furka13_22a_20220616_173000__28.wav</td>\n      <td>feeding</td>\n      <td>False</td>\n      <td>18.0</td>\n      <td>19.0</td>\n      <td>Furka13_22a_20220616_173000</td>\n      <td>Furka13_22a</td>\n    </tr>\n    <tr>\n      <th>587580</th>\n      <td>Furka13_22a_20220616_173000__29.wav</td>\n      <td>feeding</td>\n      <td>False</td>\n      <td>18.0</td>\n      <td>19.0</td>\n      <td>Furka13_22a_20220616_173000</td>\n      <td>Furka13_22a</td>\n    </tr>\n  </tbody>\n</table>\n<p>587480 rows × 7 columns</p>\n</div>"
     },
     "execution_count": 172,
     "metadata": {},
     "output_type": "execute_result"
    }
   ],
   "source": [
    "ba_data = ba_data[~ba_data['file'].duplicated(keep = 'first')]\n",
    "ba_data.to_csv('_data.export/server/s2-o1/brood-age.csv', index = False)\n",
    "ba_data"
   ],
   "metadata": {
    "collapsed": false
   }
  },
  {
   "cell_type": "code",
   "execution_count": 122,
   "outputs": [
    {
     "data": {
      "text/plain": "                                     file    event  is_silence  class_min  \\\n0        12_1_1_22_20220626_150000__0.wav  feeding       False        5.0   \n1        12_1_1_22_20220626_150000__1.wav  feeding       False        5.0   \n2        12_1_1_22_20220626_150000__2.wav  feeding       False        5.0   \n3        12_1_1_22_20220626_150000__3.wav  feeding       False        5.0   \n4        12_1_1_22_20220626_150000__4.wav  feeding       False        5.0   \n...                                   ...      ...         ...        ...   \n83785  Furka13_22a_20220617_173000__0.wav  feeding       False       19.0   \n83786  Furka13_22a_20220617_173000__1.wav  feeding       False       19.0   \n83787  Furka13_22a_20220617_173000__2.wav  feeding       False       19.0   \n83788  Furka13_22a_20220617_173000__3.wav  feeding       False       19.0   \n83789  Furka13_22a_20220617_173000__4.wav  feeding       False       19.0   \n\n       class_max                    recording     brood_id  \n0            6.0    12_1_1_22_20220626_150000    12_1_1_22  \n1            6.0    12_1_1_22_20220626_150000    12_1_1_22  \n2            6.0    12_1_1_22_20220626_150000    12_1_1_22  \n3            6.0    12_1_1_22_20220626_150000    12_1_1_22  \n4            6.0    12_1_1_22_20220626_150000    12_1_1_22  \n...          ...                          ...          ...  \n83785       20.0  Furka13_22a_20220617_173000  Furka13_22a  \n83786       20.0  Furka13_22a_20220617_173000  Furka13_22a  \n83787       20.0  Furka13_22a_20220617_173000  Furka13_22a  \n83788       20.0  Furka13_22a_20220617_173000  Furka13_22a  \n83789       20.0  Furka13_22a_20220617_173000  Furka13_22a  \n\n[83790 rows x 7 columns]",
      "text/html": "<div>\n<style scoped>\n    .dataframe tbody tr th:only-of-type {\n        vertical-align: middle;\n    }\n\n    .dataframe tbody tr th {\n        vertical-align: top;\n    }\n\n    .dataframe thead th {\n        text-align: right;\n    }\n</style>\n<table border=\"1\" class=\"dataframe\">\n  <thead>\n    <tr style=\"text-align: right;\">\n      <th></th>\n      <th>file</th>\n      <th>event</th>\n      <th>is_silence</th>\n      <th>class_min</th>\n      <th>class_max</th>\n      <th>recording</th>\n      <th>brood_id</th>\n    </tr>\n  </thead>\n  <tbody>\n    <tr>\n      <th>0</th>\n      <td>12_1_1_22_20220626_150000__0.wav</td>\n      <td>feeding</td>\n      <td>False</td>\n      <td>5.0</td>\n      <td>6.0</td>\n      <td>12_1_1_22_20220626_150000</td>\n      <td>12_1_1_22</td>\n    </tr>\n    <tr>\n      <th>1</th>\n      <td>12_1_1_22_20220626_150000__1.wav</td>\n      <td>feeding</td>\n      <td>False</td>\n      <td>5.0</td>\n      <td>6.0</td>\n      <td>12_1_1_22_20220626_150000</td>\n      <td>12_1_1_22</td>\n    </tr>\n    <tr>\n      <th>2</th>\n      <td>12_1_1_22_20220626_150000__2.wav</td>\n      <td>feeding</td>\n      <td>False</td>\n      <td>5.0</td>\n      <td>6.0</td>\n      <td>12_1_1_22_20220626_150000</td>\n      <td>12_1_1_22</td>\n    </tr>\n    <tr>\n      <th>3</th>\n      <td>12_1_1_22_20220626_150000__3.wav</td>\n      <td>feeding</td>\n      <td>False</td>\n      <td>5.0</td>\n      <td>6.0</td>\n      <td>12_1_1_22_20220626_150000</td>\n      <td>12_1_1_22</td>\n    </tr>\n    <tr>\n      <th>4</th>\n      <td>12_1_1_22_20220626_150000__4.wav</td>\n      <td>feeding</td>\n      <td>False</td>\n      <td>5.0</td>\n      <td>6.0</td>\n      <td>12_1_1_22_20220626_150000</td>\n      <td>12_1_1_22</td>\n    </tr>\n    <tr>\n      <th>...</th>\n      <td>...</td>\n      <td>...</td>\n      <td>...</td>\n      <td>...</td>\n      <td>...</td>\n      <td>...</td>\n      <td>...</td>\n    </tr>\n    <tr>\n      <th>83785</th>\n      <td>Furka13_22a_20220617_173000__0.wav</td>\n      <td>feeding</td>\n      <td>False</td>\n      <td>19.0</td>\n      <td>20.0</td>\n      <td>Furka13_22a_20220617_173000</td>\n      <td>Furka13_22a</td>\n    </tr>\n    <tr>\n      <th>83786</th>\n      <td>Furka13_22a_20220617_173000__1.wav</td>\n      <td>feeding</td>\n      <td>False</td>\n      <td>19.0</td>\n      <td>20.0</td>\n      <td>Furka13_22a_20220617_173000</td>\n      <td>Furka13_22a</td>\n    </tr>\n    <tr>\n      <th>83787</th>\n      <td>Furka13_22a_20220617_173000__2.wav</td>\n      <td>feeding</td>\n      <td>False</td>\n      <td>19.0</td>\n      <td>20.0</td>\n      <td>Furka13_22a_20220617_173000</td>\n      <td>Furka13_22a</td>\n    </tr>\n    <tr>\n      <th>83788</th>\n      <td>Furka13_22a_20220617_173000__3.wav</td>\n      <td>feeding</td>\n      <td>False</td>\n      <td>19.0</td>\n      <td>20.0</td>\n      <td>Furka13_22a_20220617_173000</td>\n      <td>Furka13_22a</td>\n    </tr>\n    <tr>\n      <th>83789</th>\n      <td>Furka13_22a_20220617_173000__4.wav</td>\n      <td>feeding</td>\n      <td>False</td>\n      <td>19.0</td>\n      <td>20.0</td>\n      <td>Furka13_22a_20220617_173000</td>\n      <td>Furka13_22a</td>\n    </tr>\n  </tbody>\n</table>\n<p>83790 rows × 7 columns</p>\n</div>"
     },
     "execution_count": 122,
     "metadata": {},
     "output_type": "execute_result"
    }
   ],
   "source": [
    "ba_data['recording'] = ba_data['file'].apply(extract_rec_name)\n",
    "ba_data['brood_id'] = ba_data['recording'].apply(extract_brood_id)\n",
    "ba_data.to_csv('_data.export/server/s10-o1/brood-age.csv', index = False)\n",
    "ba_data"
   ],
   "metadata": {
    "collapsed": false
   }
  },
  {
   "cell_type": "code",
   "execution_count": 3,
   "outputs": [
    {
     "data": {
      "text/plain": "                                      file    event  is_silence  class_min  \\\n0         12_1_1_22_20220627_060000__0.wav  feeding       False        6.0   \n1         12_1_1_22_20220627_060000__1.wav  feeding       False        6.0   \n2         12_1_1_22_20220627_060000__2.wav  feeding       False        6.0   \n3         12_1_1_22_20220627_060000__3.wav  feeding       False        6.0   \n4         12_1_1_22_20220627_060000__4.wav  feeding       False        6.0   \n...                                    ...      ...         ...        ...   \n161472  Furka13_22a_20220618_073000__4.wav  feeding       False       20.0   \n161473  Furka13_22a_20220618_073000__5.wav  feeding       False       20.0   \n161474  Furka13_22a_20220617_053000__0.wav  feeding       False       19.0   \n161475  Furka13_22a_20220617_053000__1.wav  feeding       False       19.0   \n161476  Furka13_22a_20220617_053000__2.wav  feeding       False       19.0   \n\n        class_max  \n0             7.0  \n1             7.0  \n2             7.0  \n3             7.0  \n4             7.0  \n...           ...  \n161472       21.0  \n161473       21.0  \n161474       20.0  \n161475       20.0  \n161476       20.0  \n\n[160896 rows x 5 columns]",
      "text/html": "<div>\n<style scoped>\n    .dataframe tbody tr th:only-of-type {\n        vertical-align: middle;\n    }\n\n    .dataframe tbody tr th {\n        vertical-align: top;\n    }\n\n    .dataframe thead th {\n        text-align: right;\n    }\n</style>\n<table border=\"1\" class=\"dataframe\">\n  <thead>\n    <tr style=\"text-align: right;\">\n      <th></th>\n      <th>file</th>\n      <th>event</th>\n      <th>is_silence</th>\n      <th>class_min</th>\n      <th>class_max</th>\n    </tr>\n  </thead>\n  <tbody>\n    <tr>\n      <th>0</th>\n      <td>12_1_1_22_20220627_060000__0.wav</td>\n      <td>feeding</td>\n      <td>False</td>\n      <td>6.0</td>\n      <td>7.0</td>\n    </tr>\n    <tr>\n      <th>1</th>\n      <td>12_1_1_22_20220627_060000__1.wav</td>\n      <td>feeding</td>\n      <td>False</td>\n      <td>6.0</td>\n      <td>7.0</td>\n    </tr>\n    <tr>\n      <th>2</th>\n      <td>12_1_1_22_20220627_060000__2.wav</td>\n      <td>feeding</td>\n      <td>False</td>\n      <td>6.0</td>\n      <td>7.0</td>\n    </tr>\n    <tr>\n      <th>3</th>\n      <td>12_1_1_22_20220627_060000__3.wav</td>\n      <td>feeding</td>\n      <td>False</td>\n      <td>6.0</td>\n      <td>7.0</td>\n    </tr>\n    <tr>\n      <th>4</th>\n      <td>12_1_1_22_20220627_060000__4.wav</td>\n      <td>feeding</td>\n      <td>False</td>\n      <td>6.0</td>\n      <td>7.0</td>\n    </tr>\n    <tr>\n      <th>...</th>\n      <td>...</td>\n      <td>...</td>\n      <td>...</td>\n      <td>...</td>\n      <td>...</td>\n    </tr>\n    <tr>\n      <th>161472</th>\n      <td>Furka13_22a_20220618_073000__4.wav</td>\n      <td>feeding</td>\n      <td>False</td>\n      <td>20.0</td>\n      <td>21.0</td>\n    </tr>\n    <tr>\n      <th>161473</th>\n      <td>Furka13_22a_20220618_073000__5.wav</td>\n      <td>feeding</td>\n      <td>False</td>\n      <td>20.0</td>\n      <td>21.0</td>\n    </tr>\n    <tr>\n      <th>161474</th>\n      <td>Furka13_22a_20220617_053000__0.wav</td>\n      <td>feeding</td>\n      <td>False</td>\n      <td>19.0</td>\n      <td>20.0</td>\n    </tr>\n    <tr>\n      <th>161475</th>\n      <td>Furka13_22a_20220617_053000__1.wav</td>\n      <td>feeding</td>\n      <td>False</td>\n      <td>19.0</td>\n      <td>20.0</td>\n    </tr>\n    <tr>\n      <th>161476</th>\n      <td>Furka13_22a_20220617_053000__2.wav</td>\n      <td>feeding</td>\n      <td>False</td>\n      <td>19.0</td>\n      <td>20.0</td>\n    </tr>\n  </tbody>\n</table>\n<p>160896 rows × 5 columns</p>\n</div>"
     },
     "execution_count": 3,
     "metadata": {},
     "output_type": "execute_result"
    }
   ],
   "source": [
    "ba_data = ba_data[~ba_data['is_silence']]\n",
    "ba_data"
   ],
   "metadata": {
    "collapsed": false
   }
  },
  {
   "cell_type": "code",
   "execution_count": 37,
   "outputs": [
    {
     "name": "stderr",
     "output_type": "stream",
     "text": [
      "C:\\Users\\barto\\Devel\\Repos\\PycharmProjects\\SnowfinchWire.BroodAnalyzer\\sfw_brood\\preprocessing.py:198: SettingWithCopyWarning: \n",
      "A value is trying to be set on a copy of a slice from a DataFrame.\n",
      "Try using .loc[row_indexer,col_indexer] = value instead\n",
      "\n",
      "See the caveats in the documentation: https://pandas.pydata.org/pandas-docs/stable/user_guide/indexing.html#returning-a-view-versus-a-copy\n",
      "  age_group_df['class_min'] = age_group_df['class_min'].apply(map_age)\n",
      "C:\\Users\\barto\\Devel\\Repos\\PycharmProjects\\SnowfinchWire.BroodAnalyzer\\sfw_brood\\preprocessing.py:199: SettingWithCopyWarning: \n",
      "A value is trying to be set on a copy of a slice from a DataFrame.\n",
      "Try using .loc[row_indexer,col_indexer] = value instead\n",
      "\n",
      "See the caveats in the documentation: https://pandas.pydata.org/pandas-docs/stable/user_guide/indexing.html#returning-a-view-versus-a-copy\n",
      "  age_group_df['class_max'] = age_group_df['class_max'].apply(map_age)\n"
     ]
    },
    {
     "data": {
      "text/plain": "                                       file   class  00-5.5  06-8.5  09-11.5  \\\n0       Furka14_22a_20220605_203000__38.wav  00-5.5     1.0     0.0      0.0   \n1       Furka10_22a_20220603_163000__45.wav  00-5.5     1.0     0.0      0.0   \n2       Furka10_22a_20220603_163000__46.wav  00-5.5     1.0     0.0      0.0   \n3       Furka10_22a_20220603_163000__47.wav  00-5.5     1.0     0.0      0.0   \n4       Furka10_22a_20220603_163000__48.wav  00-5.5     1.0     0.0      0.0   \n...                                     ...     ...     ...     ...      ...   \n113038     1_3_1_22_20220615_150000__22.wav   15-30     0.0     0.0      0.0   \n113039     1_3_1_22_20220615_150000__23.wav   15-30     0.0     0.0      0.0   \n113040     1_3_1_22_20220615_150000__24.wav   15-30     0.0     0.0      0.0   \n113041     1_3_1_22_20220615_150000__10.wav   15-30     0.0     0.0      0.0   \n113042   Furka13_22a_20220617_053000__2.wav   15-30     0.0     0.0      0.0   \n\n        12-14.5  15-30     brood_id  \n0           0.0    0.0  Furka14_22a  \n1           0.0    0.0  Furka10_22a  \n2           0.0    0.0  Furka10_22a  \n3           0.0    0.0  Furka10_22a  \n4           0.0    0.0  Furka10_22a  \n...         ...    ...          ...  \n113038      0.0    1.0     1_3_1_22  \n113039      0.0    1.0     1_3_1_22  \n113040      0.0    1.0     1_3_1_22  \n113041      0.0    1.0     1_3_1_22  \n113042      0.0    1.0  Furka13_22a  \n\n[113043 rows x 8 columns]",
      "text/html": "<div>\n<style scoped>\n    .dataframe tbody tr th:only-of-type {\n        vertical-align: middle;\n    }\n\n    .dataframe tbody tr th {\n        vertical-align: top;\n    }\n\n    .dataframe thead th {\n        text-align: right;\n    }\n</style>\n<table border=\"1\" class=\"dataframe\">\n  <thead>\n    <tr style=\"text-align: right;\">\n      <th></th>\n      <th>file</th>\n      <th>class</th>\n      <th>00-5.5</th>\n      <th>06-8.5</th>\n      <th>09-11.5</th>\n      <th>12-14.5</th>\n      <th>15-30</th>\n      <th>brood_id</th>\n    </tr>\n  </thead>\n  <tbody>\n    <tr>\n      <th>0</th>\n      <td>Furka14_22a_20220605_203000__38.wav</td>\n      <td>00-5.5</td>\n      <td>1.0</td>\n      <td>0.0</td>\n      <td>0.0</td>\n      <td>0.0</td>\n      <td>0.0</td>\n      <td>Furka14_22a</td>\n    </tr>\n    <tr>\n      <th>1</th>\n      <td>Furka10_22a_20220603_163000__45.wav</td>\n      <td>00-5.5</td>\n      <td>1.0</td>\n      <td>0.0</td>\n      <td>0.0</td>\n      <td>0.0</td>\n      <td>0.0</td>\n      <td>Furka10_22a</td>\n    </tr>\n    <tr>\n      <th>2</th>\n      <td>Furka10_22a_20220603_163000__46.wav</td>\n      <td>00-5.5</td>\n      <td>1.0</td>\n      <td>0.0</td>\n      <td>0.0</td>\n      <td>0.0</td>\n      <td>0.0</td>\n      <td>Furka10_22a</td>\n    </tr>\n    <tr>\n      <th>3</th>\n      <td>Furka10_22a_20220603_163000__47.wav</td>\n      <td>00-5.5</td>\n      <td>1.0</td>\n      <td>0.0</td>\n      <td>0.0</td>\n      <td>0.0</td>\n      <td>0.0</td>\n      <td>Furka10_22a</td>\n    </tr>\n    <tr>\n      <th>4</th>\n      <td>Furka10_22a_20220603_163000__48.wav</td>\n      <td>00-5.5</td>\n      <td>1.0</td>\n      <td>0.0</td>\n      <td>0.0</td>\n      <td>0.0</td>\n      <td>0.0</td>\n      <td>Furka10_22a</td>\n    </tr>\n    <tr>\n      <th>...</th>\n      <td>...</td>\n      <td>...</td>\n      <td>...</td>\n      <td>...</td>\n      <td>...</td>\n      <td>...</td>\n      <td>...</td>\n      <td>...</td>\n    </tr>\n    <tr>\n      <th>113038</th>\n      <td>1_3_1_22_20220615_150000__22.wav</td>\n      <td>15-30</td>\n      <td>0.0</td>\n      <td>0.0</td>\n      <td>0.0</td>\n      <td>0.0</td>\n      <td>1.0</td>\n      <td>1_3_1_22</td>\n    </tr>\n    <tr>\n      <th>113039</th>\n      <td>1_3_1_22_20220615_150000__23.wav</td>\n      <td>15-30</td>\n      <td>0.0</td>\n      <td>0.0</td>\n      <td>0.0</td>\n      <td>0.0</td>\n      <td>1.0</td>\n      <td>1_3_1_22</td>\n    </tr>\n    <tr>\n      <th>113040</th>\n      <td>1_3_1_22_20220615_150000__24.wav</td>\n      <td>15-30</td>\n      <td>0.0</td>\n      <td>0.0</td>\n      <td>0.0</td>\n      <td>0.0</td>\n      <td>1.0</td>\n      <td>1_3_1_22</td>\n    </tr>\n    <tr>\n      <th>113041</th>\n      <td>1_3_1_22_20220615_150000__10.wav</td>\n      <td>15-30</td>\n      <td>0.0</td>\n      <td>0.0</td>\n      <td>0.0</td>\n      <td>0.0</td>\n      <td>1.0</td>\n      <td>1_3_1_22</td>\n    </tr>\n    <tr>\n      <th>113042</th>\n      <td>Furka13_22a_20220617_053000__2.wav</td>\n      <td>15-30</td>\n      <td>0.0</td>\n      <td>0.0</td>\n      <td>0.0</td>\n      <td>0.0</td>\n      <td>1.0</td>\n      <td>Furka13_22a</td>\n    </tr>\n  </tbody>\n</table>\n<p>113043 rows × 8 columns</p>\n</div>"
     },
     "execution_count": 37,
     "metadata": {},
     "output_type": "execute_result"
    }
   ],
   "source": [
    "from sfw_brood.preprocessing import group_ages\n",
    "\n",
    "age_group_df = group_ages(ba_data, [(0, 5.5), (6, 8.5), (9, 11.5), (12, 14.5), (15, 30)])\n",
    "age_group_df['brood_id'] = age_group_df['file'].apply(lambda file: extract_brood_id(extract_rec_name(file)))\n",
    "age_group_df"
   ],
   "metadata": {
    "collapsed": false
   }
  },
  {
   "cell_type": "code",
   "execution_count": 42,
   "outputs": [
    {
     "data": {
      "text/plain": "         file\nclass        \n00-5.5    612\n06-8.5   1590\n09-11.5  1389\n12-14.5  1579\n15-30    1426",
      "text/html": "<div>\n<style scoped>\n    .dataframe tbody tr th:only-of-type {\n        vertical-align: middle;\n    }\n\n    .dataframe tbody tr th {\n        vertical-align: top;\n    }\n\n    .dataframe thead th {\n        text-align: right;\n    }\n</style>\n<table border=\"1\" class=\"dataframe\">\n  <thead>\n    <tr style=\"text-align: right;\">\n      <th></th>\n      <th>file</th>\n    </tr>\n    <tr>\n      <th>class</th>\n      <th></th>\n    </tr>\n  </thead>\n  <tbody>\n    <tr>\n      <th>00-5.5</th>\n      <td>612</td>\n    </tr>\n    <tr>\n      <th>06-8.5</th>\n      <td>1590</td>\n    </tr>\n    <tr>\n      <th>09-11.5</th>\n      <td>1389</td>\n    </tr>\n    <tr>\n      <th>12-14.5</th>\n      <td>1579</td>\n    </tr>\n    <tr>\n      <th>15-30</th>\n      <td>1426</td>\n    </tr>\n  </tbody>\n</table>\n</div>"
     },
     "execution_count": 42,
     "metadata": {},
     "output_type": "execute_result"
    }
   ],
   "source": [
    "age_group_df.loc[age_group_df['brood_id'] == 'Furka33_22a', ['class', 'file']].groupby('class').count()"
   ],
   "metadata": {
    "collapsed": false
   }
  },
  {
   "cell_type": "code",
   "execution_count": 43,
   "outputs": [],
   "source": [
    "validation_broods = ['Joch4_22a', 'Furka33_22a']\n",
    "test_broods = ['Furka12_22a', '12_1_1_22', '8_5_1_22', '10_1_1_22', '1_6_1_22', '1_8_1_22']\n",
    "train_broods = list(age_group_df['brood_id'].unique())\n",
    "for brood_id in test_broods + validation_broods:\n",
    "\ttrain_broods.remove(brood_id)"
   ],
   "metadata": {
    "collapsed": false
   }
  },
  {
   "cell_type": "code",
   "execution_count": 44,
   "outputs": [
    {
     "data": {
      "text/plain": "                                       file   class  00-5.5  06-8.5  09-11.5  \\\n0       Furka14_22a_20220605_203000__38.wav  00-5.5     1.0     0.0      0.0   \n1       Furka10_22a_20220603_163000__45.wav  00-5.5     1.0     0.0      0.0   \n2       Furka10_22a_20220603_163000__46.wav  00-5.5     1.0     0.0      0.0   \n3       Furka10_22a_20220603_163000__47.wav  00-5.5     1.0     0.0      0.0   \n4       Furka10_22a_20220603_163000__48.wav  00-5.5     1.0     0.0      0.0   \n...                                     ...     ...     ...     ...      ...   \n113038     1_3_1_22_20220615_150000__22.wav   15-30     0.0     0.0      0.0   \n113039     1_3_1_22_20220615_150000__23.wav   15-30     0.0     0.0      0.0   \n113040     1_3_1_22_20220615_150000__24.wav   15-30     0.0     0.0      0.0   \n113041     1_3_1_22_20220615_150000__10.wav   15-30     0.0     0.0      0.0   \n113042   Furka13_22a_20220617_053000__2.wav   15-30     0.0     0.0      0.0   \n\n        12-14.5  15-30     brood_id  \n0           0.0    0.0  Furka14_22a  \n1           0.0    0.0  Furka10_22a  \n2           0.0    0.0  Furka10_22a  \n3           0.0    0.0  Furka10_22a  \n4           0.0    0.0  Furka10_22a  \n...         ...    ...          ...  \n113038      0.0    1.0     1_3_1_22  \n113039      0.0    1.0     1_3_1_22  \n113040      0.0    1.0     1_3_1_22  \n113041      0.0    1.0     1_3_1_22  \n113042      0.0    1.0  Furka13_22a  \n\n[85956 rows x 8 columns]",
      "text/html": "<div>\n<style scoped>\n    .dataframe tbody tr th:only-of-type {\n        vertical-align: middle;\n    }\n\n    .dataframe tbody tr th {\n        vertical-align: top;\n    }\n\n    .dataframe thead th {\n        text-align: right;\n    }\n</style>\n<table border=\"1\" class=\"dataframe\">\n  <thead>\n    <tr style=\"text-align: right;\">\n      <th></th>\n      <th>file</th>\n      <th>class</th>\n      <th>00-5.5</th>\n      <th>06-8.5</th>\n      <th>09-11.5</th>\n      <th>12-14.5</th>\n      <th>15-30</th>\n      <th>brood_id</th>\n    </tr>\n  </thead>\n  <tbody>\n    <tr>\n      <th>0</th>\n      <td>Furka14_22a_20220605_203000__38.wav</td>\n      <td>00-5.5</td>\n      <td>1.0</td>\n      <td>0.0</td>\n      <td>0.0</td>\n      <td>0.0</td>\n      <td>0.0</td>\n      <td>Furka14_22a</td>\n    </tr>\n    <tr>\n      <th>1</th>\n      <td>Furka10_22a_20220603_163000__45.wav</td>\n      <td>00-5.5</td>\n      <td>1.0</td>\n      <td>0.0</td>\n      <td>0.0</td>\n      <td>0.0</td>\n      <td>0.0</td>\n      <td>Furka10_22a</td>\n    </tr>\n    <tr>\n      <th>2</th>\n      <td>Furka10_22a_20220603_163000__46.wav</td>\n      <td>00-5.5</td>\n      <td>1.0</td>\n      <td>0.0</td>\n      <td>0.0</td>\n      <td>0.0</td>\n      <td>0.0</td>\n      <td>Furka10_22a</td>\n    </tr>\n    <tr>\n      <th>3</th>\n      <td>Furka10_22a_20220603_163000__47.wav</td>\n      <td>00-5.5</td>\n      <td>1.0</td>\n      <td>0.0</td>\n      <td>0.0</td>\n      <td>0.0</td>\n      <td>0.0</td>\n      <td>Furka10_22a</td>\n    </tr>\n    <tr>\n      <th>4</th>\n      <td>Furka10_22a_20220603_163000__48.wav</td>\n      <td>00-5.5</td>\n      <td>1.0</td>\n      <td>0.0</td>\n      <td>0.0</td>\n      <td>0.0</td>\n      <td>0.0</td>\n      <td>Furka10_22a</td>\n    </tr>\n    <tr>\n      <th>...</th>\n      <td>...</td>\n      <td>...</td>\n      <td>...</td>\n      <td>...</td>\n      <td>...</td>\n      <td>...</td>\n      <td>...</td>\n      <td>...</td>\n    </tr>\n    <tr>\n      <th>113038</th>\n      <td>1_3_1_22_20220615_150000__22.wav</td>\n      <td>15-30</td>\n      <td>0.0</td>\n      <td>0.0</td>\n      <td>0.0</td>\n      <td>0.0</td>\n      <td>1.0</td>\n      <td>1_3_1_22</td>\n    </tr>\n    <tr>\n      <th>113039</th>\n      <td>1_3_1_22_20220615_150000__23.wav</td>\n      <td>15-30</td>\n      <td>0.0</td>\n      <td>0.0</td>\n      <td>0.0</td>\n      <td>0.0</td>\n      <td>1.0</td>\n      <td>1_3_1_22</td>\n    </tr>\n    <tr>\n      <th>113040</th>\n      <td>1_3_1_22_20220615_150000__24.wav</td>\n      <td>15-30</td>\n      <td>0.0</td>\n      <td>0.0</td>\n      <td>0.0</td>\n      <td>0.0</td>\n      <td>1.0</td>\n      <td>1_3_1_22</td>\n    </tr>\n    <tr>\n      <th>113041</th>\n      <td>1_3_1_22_20220615_150000__10.wav</td>\n      <td>15-30</td>\n      <td>0.0</td>\n      <td>0.0</td>\n      <td>0.0</td>\n      <td>0.0</td>\n      <td>1.0</td>\n      <td>1_3_1_22</td>\n    </tr>\n    <tr>\n      <th>113042</th>\n      <td>Furka13_22a_20220617_053000__2.wav</td>\n      <td>15-30</td>\n      <td>0.0</td>\n      <td>0.0</td>\n      <td>0.0</td>\n      <td>0.0</td>\n      <td>1.0</td>\n      <td>Furka13_22a</td>\n    </tr>\n  </tbody>\n</table>\n<p>85956 rows × 8 columns</p>\n</div>"
     },
     "execution_count": 44,
     "metadata": {},
     "output_type": "execute_result"
    }
   ],
   "source": [
    "train_age_df = age_group_df[age_group_df['brood_id'].isin(train_broods)]\n",
    "train_age_df"
   ],
   "metadata": {
    "collapsed": false
   }
  },
  {
   "cell_type": "code",
   "execution_count": 45,
   "outputs": [
    {
     "data": {
      "text/plain": "                                       file   class  00-5.5  06-8.5  09-11.5  \\\n11773   Furka12_22a_20220717_183000__92.wav  00-5.5     1.0     0.0      0.0   \n11774   Furka12_22a_20220717_183000__91.wav  00-5.5     1.0     0.0      0.0   \n11775   Furka12_22a_20220717_183000__90.wav  00-5.5     1.0     0.0      0.0   \n11776   Furka12_22a_20220717_183000__89.wav  00-5.5     1.0     0.0      0.0   \n11777   Furka12_22a_20220717_183000__88.wav  00-5.5     1.0     0.0      0.0   \n...                                     ...     ...     ...     ...      ...   \n108414     1_6_1_22_20220615_080000__55.wav   15-30     0.0     0.0      0.0   \n108415     1_6_1_22_20220615_080000__56.wav   15-30     0.0     0.0      0.0   \n108416     1_6_1_22_20220615_080000__57.wav   15-30     0.0     0.0      0.0   \n108417     1_6_1_22_20220615_080000__58.wav   15-30     0.0     0.0      0.0   \n108418     1_6_1_22_20220615_080000__59.wav   15-30     0.0     0.0      0.0   \n\n        12-14.5  15-30     brood_id  \n11773       0.0    0.0  Furka12_22a  \n11774       0.0    0.0  Furka12_22a  \n11775       0.0    0.0  Furka12_22a  \n11776       0.0    0.0  Furka12_22a  \n11777       0.0    0.0  Furka12_22a  \n...         ...    ...          ...  \n108414      0.0    1.0     1_6_1_22  \n108415      0.0    1.0     1_6_1_22  \n108416      0.0    1.0     1_6_1_22  \n108417      0.0    1.0     1_6_1_22  \n108418      0.0    1.0     1_6_1_22  \n\n[18821 rows x 8 columns]",
      "text/html": "<div>\n<style scoped>\n    .dataframe tbody tr th:only-of-type {\n        vertical-align: middle;\n    }\n\n    .dataframe tbody tr th {\n        vertical-align: top;\n    }\n\n    .dataframe thead th {\n        text-align: right;\n    }\n</style>\n<table border=\"1\" class=\"dataframe\">\n  <thead>\n    <tr style=\"text-align: right;\">\n      <th></th>\n      <th>file</th>\n      <th>class</th>\n      <th>00-5.5</th>\n      <th>06-8.5</th>\n      <th>09-11.5</th>\n      <th>12-14.5</th>\n      <th>15-30</th>\n      <th>brood_id</th>\n    </tr>\n  </thead>\n  <tbody>\n    <tr>\n      <th>11773</th>\n      <td>Furka12_22a_20220717_183000__92.wav</td>\n      <td>00-5.5</td>\n      <td>1.0</td>\n      <td>0.0</td>\n      <td>0.0</td>\n      <td>0.0</td>\n      <td>0.0</td>\n      <td>Furka12_22a</td>\n    </tr>\n    <tr>\n      <th>11774</th>\n      <td>Furka12_22a_20220717_183000__91.wav</td>\n      <td>00-5.5</td>\n      <td>1.0</td>\n      <td>0.0</td>\n      <td>0.0</td>\n      <td>0.0</td>\n      <td>0.0</td>\n      <td>Furka12_22a</td>\n    </tr>\n    <tr>\n      <th>11775</th>\n      <td>Furka12_22a_20220717_183000__90.wav</td>\n      <td>00-5.5</td>\n      <td>1.0</td>\n      <td>0.0</td>\n      <td>0.0</td>\n      <td>0.0</td>\n      <td>0.0</td>\n      <td>Furka12_22a</td>\n    </tr>\n    <tr>\n      <th>11776</th>\n      <td>Furka12_22a_20220717_183000__89.wav</td>\n      <td>00-5.5</td>\n      <td>1.0</td>\n      <td>0.0</td>\n      <td>0.0</td>\n      <td>0.0</td>\n      <td>0.0</td>\n      <td>Furka12_22a</td>\n    </tr>\n    <tr>\n      <th>11777</th>\n      <td>Furka12_22a_20220717_183000__88.wav</td>\n      <td>00-5.5</td>\n      <td>1.0</td>\n      <td>0.0</td>\n      <td>0.0</td>\n      <td>0.0</td>\n      <td>0.0</td>\n      <td>Furka12_22a</td>\n    </tr>\n    <tr>\n      <th>...</th>\n      <td>...</td>\n      <td>...</td>\n      <td>...</td>\n      <td>...</td>\n      <td>...</td>\n      <td>...</td>\n      <td>...</td>\n      <td>...</td>\n    </tr>\n    <tr>\n      <th>108414</th>\n      <td>1_6_1_22_20220615_080000__55.wav</td>\n      <td>15-30</td>\n      <td>0.0</td>\n      <td>0.0</td>\n      <td>0.0</td>\n      <td>0.0</td>\n      <td>1.0</td>\n      <td>1_6_1_22</td>\n    </tr>\n    <tr>\n      <th>108415</th>\n      <td>1_6_1_22_20220615_080000__56.wav</td>\n      <td>15-30</td>\n      <td>0.0</td>\n      <td>0.0</td>\n      <td>0.0</td>\n      <td>0.0</td>\n      <td>1.0</td>\n      <td>1_6_1_22</td>\n    </tr>\n    <tr>\n      <th>108416</th>\n      <td>1_6_1_22_20220615_080000__57.wav</td>\n      <td>15-30</td>\n      <td>0.0</td>\n      <td>0.0</td>\n      <td>0.0</td>\n      <td>0.0</td>\n      <td>1.0</td>\n      <td>1_6_1_22</td>\n    </tr>\n    <tr>\n      <th>108417</th>\n      <td>1_6_1_22_20220615_080000__58.wav</td>\n      <td>15-30</td>\n      <td>0.0</td>\n      <td>0.0</td>\n      <td>0.0</td>\n      <td>0.0</td>\n      <td>1.0</td>\n      <td>1_6_1_22</td>\n    </tr>\n    <tr>\n      <th>108418</th>\n      <td>1_6_1_22_20220615_080000__59.wav</td>\n      <td>15-30</td>\n      <td>0.0</td>\n      <td>0.0</td>\n      <td>0.0</td>\n      <td>0.0</td>\n      <td>1.0</td>\n      <td>1_6_1_22</td>\n    </tr>\n  </tbody>\n</table>\n<p>18821 rows × 8 columns</p>\n</div>"
     },
     "execution_count": 45,
     "metadata": {},
     "output_type": "execute_result"
    }
   ],
   "source": [
    "test_age_df = age_group_df[age_group_df['brood_id'].isin(test_broods)]\n",
    "test_age_df"
   ],
   "metadata": {
    "collapsed": false
   }
  },
  {
   "cell_type": "code",
   "execution_count": 46,
   "outputs": [
    {
     "data": {
      "text/plain": "                                      file   class  00-5.5  06-8.5  09-11.5  \\\n6419    Furka33_22a_20220711_183000__7.wav  00-5.5     1.0     0.0      0.0   \n6421    Furka33_22a_20220711_183000__6.wav  00-5.5     1.0     0.0      0.0   \n6422    Furka33_22a_20220711_183000__4.wav  00-5.5     1.0     0.0      0.0   \n6423    Furka33_22a_20220711_183000__3.wav  00-5.5     1.0     0.0      0.0   \n6424    Furka33_22a_20220711_183000__2.wav  00-5.5     1.0     0.0      0.0   \n...                                    ...     ...     ...     ...      ...   \n106633    Joch4_22a_20220624_073000__6.wav   15-30     0.0     0.0      0.0   \n106634    Joch4_22a_20220624_073000__5.wav   15-30     0.0     0.0      0.0   \n106635    Joch4_22a_20220624_073000__4.wav   15-30     0.0     0.0      0.0   \n106636    Joch4_22a_20220624_073000__3.wav   15-30     0.0     0.0      0.0   \n106637   Joch4_22a_20220624_073000__17.wav   15-30     0.0     0.0      0.0   \n\n        12-14.5  15-30     brood_id  \n6419        0.0    0.0  Furka33_22a  \n6421        0.0    0.0  Furka33_22a  \n6422        0.0    0.0  Furka33_22a  \n6423        0.0    0.0  Furka33_22a  \n6424        0.0    0.0  Furka33_22a  \n...         ...    ...          ...  \n106633      0.0    1.0    Joch4_22a  \n106634      0.0    1.0    Joch4_22a  \n106635      0.0    1.0    Joch4_22a  \n106636      0.0    1.0    Joch4_22a  \n106637      0.0    1.0    Joch4_22a  \n\n[8266 rows x 8 columns]",
      "text/html": "<div>\n<style scoped>\n    .dataframe tbody tr th:only-of-type {\n        vertical-align: middle;\n    }\n\n    .dataframe tbody tr th {\n        vertical-align: top;\n    }\n\n    .dataframe thead th {\n        text-align: right;\n    }\n</style>\n<table border=\"1\" class=\"dataframe\">\n  <thead>\n    <tr style=\"text-align: right;\">\n      <th></th>\n      <th>file</th>\n      <th>class</th>\n      <th>00-5.5</th>\n      <th>06-8.5</th>\n      <th>09-11.5</th>\n      <th>12-14.5</th>\n      <th>15-30</th>\n      <th>brood_id</th>\n    </tr>\n  </thead>\n  <tbody>\n    <tr>\n      <th>6419</th>\n      <td>Furka33_22a_20220711_183000__7.wav</td>\n      <td>00-5.5</td>\n      <td>1.0</td>\n      <td>0.0</td>\n      <td>0.0</td>\n      <td>0.0</td>\n      <td>0.0</td>\n      <td>Furka33_22a</td>\n    </tr>\n    <tr>\n      <th>6421</th>\n      <td>Furka33_22a_20220711_183000__6.wav</td>\n      <td>00-5.5</td>\n      <td>1.0</td>\n      <td>0.0</td>\n      <td>0.0</td>\n      <td>0.0</td>\n      <td>0.0</td>\n      <td>Furka33_22a</td>\n    </tr>\n    <tr>\n      <th>6422</th>\n      <td>Furka33_22a_20220711_183000__4.wav</td>\n      <td>00-5.5</td>\n      <td>1.0</td>\n      <td>0.0</td>\n      <td>0.0</td>\n      <td>0.0</td>\n      <td>0.0</td>\n      <td>Furka33_22a</td>\n    </tr>\n    <tr>\n      <th>6423</th>\n      <td>Furka33_22a_20220711_183000__3.wav</td>\n      <td>00-5.5</td>\n      <td>1.0</td>\n      <td>0.0</td>\n      <td>0.0</td>\n      <td>0.0</td>\n      <td>0.0</td>\n      <td>Furka33_22a</td>\n    </tr>\n    <tr>\n      <th>6424</th>\n      <td>Furka33_22a_20220711_183000__2.wav</td>\n      <td>00-5.5</td>\n      <td>1.0</td>\n      <td>0.0</td>\n      <td>0.0</td>\n      <td>0.0</td>\n      <td>0.0</td>\n      <td>Furka33_22a</td>\n    </tr>\n    <tr>\n      <th>...</th>\n      <td>...</td>\n      <td>...</td>\n      <td>...</td>\n      <td>...</td>\n      <td>...</td>\n      <td>...</td>\n      <td>...</td>\n      <td>...</td>\n    </tr>\n    <tr>\n      <th>106633</th>\n      <td>Joch4_22a_20220624_073000__6.wav</td>\n      <td>15-30</td>\n      <td>0.0</td>\n      <td>0.0</td>\n      <td>0.0</td>\n      <td>0.0</td>\n      <td>1.0</td>\n      <td>Joch4_22a</td>\n    </tr>\n    <tr>\n      <th>106634</th>\n      <td>Joch4_22a_20220624_073000__5.wav</td>\n      <td>15-30</td>\n      <td>0.0</td>\n      <td>0.0</td>\n      <td>0.0</td>\n      <td>0.0</td>\n      <td>1.0</td>\n      <td>Joch4_22a</td>\n    </tr>\n    <tr>\n      <th>106635</th>\n      <td>Joch4_22a_20220624_073000__4.wav</td>\n      <td>15-30</td>\n      <td>0.0</td>\n      <td>0.0</td>\n      <td>0.0</td>\n      <td>0.0</td>\n      <td>1.0</td>\n      <td>Joch4_22a</td>\n    </tr>\n    <tr>\n      <th>106636</th>\n      <td>Joch4_22a_20220624_073000__3.wav</td>\n      <td>15-30</td>\n      <td>0.0</td>\n      <td>0.0</td>\n      <td>0.0</td>\n      <td>0.0</td>\n      <td>1.0</td>\n      <td>Joch4_22a</td>\n    </tr>\n    <tr>\n      <th>106637</th>\n      <td>Joch4_22a_20220624_073000__17.wav</td>\n      <td>15-30</td>\n      <td>0.0</td>\n      <td>0.0</td>\n      <td>0.0</td>\n      <td>0.0</td>\n      <td>1.0</td>\n      <td>Joch4_22a</td>\n    </tr>\n  </tbody>\n</table>\n<p>8266 rows × 8 columns</p>\n</div>"
     },
     "execution_count": 46,
     "metadata": {},
     "output_type": "execute_result"
    }
   ],
   "source": [
    "validation_age_df = age_group_df[age_group_df['brood_id'].isin(validation_broods)]\n",
    "validation_age_df"
   ],
   "metadata": {
    "collapsed": false
   }
  },
  {
   "cell_type": "code",
   "execution_count": 47,
   "outputs": [
    {
     "data": {
      "text/plain": "         n_samples\nclass             \n00-5.5       13913\n06-8.5       24604\n09-11.5      15928\n12-14.5      15492\n15-30        16019",
      "text/html": "<div>\n<style scoped>\n    .dataframe tbody tr th:only-of-type {\n        vertical-align: middle;\n    }\n\n    .dataframe tbody tr th {\n        vertical-align: top;\n    }\n\n    .dataframe thead th {\n        text-align: right;\n    }\n</style>\n<table border=\"1\" class=\"dataframe\">\n  <thead>\n    <tr style=\"text-align: right;\">\n      <th></th>\n      <th>n_samples</th>\n    </tr>\n    <tr>\n      <th>class</th>\n      <th></th>\n    </tr>\n  </thead>\n  <tbody>\n    <tr>\n      <th>00-5.5</th>\n      <td>13913</td>\n    </tr>\n    <tr>\n      <th>06-8.5</th>\n      <td>24604</td>\n    </tr>\n    <tr>\n      <th>09-11.5</th>\n      <td>15928</td>\n    </tr>\n    <tr>\n      <th>12-14.5</th>\n      <td>15492</td>\n    </tr>\n    <tr>\n      <th>15-30</th>\n      <td>16019</td>\n    </tr>\n  </tbody>\n</table>\n</div>"
     },
     "execution_count": 47,
     "metadata": {},
     "output_type": "execute_result"
    }
   ],
   "source": [
    "train_agg_df = train_age_df[['class', 'file']].groupby('class').count()\n",
    "train_agg_df = train_agg_df.rename(columns = { 'file': 'n_samples' })\n",
    "train_agg_df"
   ],
   "metadata": {
    "collapsed": false
   }
  },
  {
   "cell_type": "code",
   "execution_count": 48,
   "outputs": [
    {
     "data": {
      "text/plain": "         n_samples\nclass             \n00-5.5        1527\n06-8.5        4547\n09-11.5       4875\n12-14.5       3487\n15-30         4385",
      "text/html": "<div>\n<style scoped>\n    .dataframe tbody tr th:only-of-type {\n        vertical-align: middle;\n    }\n\n    .dataframe tbody tr th {\n        vertical-align: top;\n    }\n\n    .dataframe thead th {\n        text-align: right;\n    }\n</style>\n<table border=\"1\" class=\"dataframe\">\n  <thead>\n    <tr style=\"text-align: right;\">\n      <th></th>\n      <th>n_samples</th>\n    </tr>\n    <tr>\n      <th>class</th>\n      <th></th>\n    </tr>\n  </thead>\n  <tbody>\n    <tr>\n      <th>00-5.5</th>\n      <td>1527</td>\n    </tr>\n    <tr>\n      <th>06-8.5</th>\n      <td>4547</td>\n    </tr>\n    <tr>\n      <th>09-11.5</th>\n      <td>4875</td>\n    </tr>\n    <tr>\n      <th>12-14.5</th>\n      <td>3487</td>\n    </tr>\n    <tr>\n      <th>15-30</th>\n      <td>4385</td>\n    </tr>\n  </tbody>\n</table>\n</div>"
     },
     "execution_count": 48,
     "metadata": {},
     "output_type": "execute_result"
    }
   ],
   "source": [
    "test_agg_df = test_age_df[['class', 'file']].groupby('class').count()\n",
    "test_agg_df = test_agg_df.rename(columns = { 'file': 'n_samples' })\n",
    "test_agg_df"
   ],
   "metadata": {
    "collapsed": false
   }
  },
  {
   "cell_type": "code",
   "execution_count": 49,
   "outputs": [
    {
     "data": {
      "text/plain": "         n_samples\nclass             \n00-5.5         612\n06-8.5        1590\n09-11.5       1389\n12-14.5       1990\n15-30         2685",
      "text/html": "<div>\n<style scoped>\n    .dataframe tbody tr th:only-of-type {\n        vertical-align: middle;\n    }\n\n    .dataframe tbody tr th {\n        vertical-align: top;\n    }\n\n    .dataframe thead th {\n        text-align: right;\n    }\n</style>\n<table border=\"1\" class=\"dataframe\">\n  <thead>\n    <tr style=\"text-align: right;\">\n      <th></th>\n      <th>n_samples</th>\n    </tr>\n    <tr>\n      <th>class</th>\n      <th></th>\n    </tr>\n  </thead>\n  <tbody>\n    <tr>\n      <th>00-5.5</th>\n      <td>612</td>\n    </tr>\n    <tr>\n      <th>06-8.5</th>\n      <td>1590</td>\n    </tr>\n    <tr>\n      <th>09-11.5</th>\n      <td>1389</td>\n    </tr>\n    <tr>\n      <th>12-14.5</th>\n      <td>1990</td>\n    </tr>\n    <tr>\n      <th>15-30</th>\n      <td>2685</td>\n    </tr>\n  </tbody>\n</table>\n</div>"
     },
     "execution_count": 49,
     "metadata": {},
     "output_type": "execute_result"
    }
   ],
   "source": [
    "validation_agg_df = validation_age_df[['class', 'file']].groupby('class').count()\n",
    "validation_agg_df = validation_agg_df.rename(columns = { 'file': 'n_samples' })\n",
    "validation_agg_df"
   ],
   "metadata": {
    "collapsed": false
   }
  },
  {
   "cell_type": "code",
   "execution_count": 18,
   "outputs": [
    {
     "data": {
      "text/plain": "     class  sample_count\n0   00-4.5          6865\n1   05-7.5         28517\n2  08-10.5         22464\n3  11-13.5         23041\n4  14-16.5         18914\n5    17-30          6886",
      "text/html": "<div>\n<style scoped>\n    .dataframe tbody tr th:only-of-type {\n        vertical-align: middle;\n    }\n\n    .dataframe tbody tr th {\n        vertical-align: top;\n    }\n\n    .dataframe thead th {\n        text-align: right;\n    }\n</style>\n<table border=\"1\" class=\"dataframe\">\n  <thead>\n    <tr style=\"text-align: right;\">\n      <th></th>\n      <th>class</th>\n      <th>sample_count</th>\n    </tr>\n  </thead>\n  <tbody>\n    <tr>\n      <th>0</th>\n      <td>00-4.5</td>\n      <td>6865</td>\n    </tr>\n    <tr>\n      <th>1</th>\n      <td>05-7.5</td>\n      <td>28517</td>\n    </tr>\n    <tr>\n      <th>2</th>\n      <td>08-10.5</td>\n      <td>22464</td>\n    </tr>\n    <tr>\n      <th>3</th>\n      <td>11-13.5</td>\n      <td>23041</td>\n    </tr>\n    <tr>\n      <th>4</th>\n      <td>14-16.5</td>\n      <td>18914</td>\n    </tr>\n    <tr>\n      <th>5</th>\n      <td>17-30</td>\n      <td>6886</td>\n    </tr>\n  </tbody>\n</table>\n</div>"
     },
     "execution_count": 18,
     "metadata": {},
     "output_type": "execute_result"
    }
   ],
   "source": [
    "ba_cls_agg_df = ba_agg_df[['class', 'sample_count']].groupby('class').sum().sort_values(by = 'class').reset_index()\n",
    "ba_cls_agg_df"
   ],
   "metadata": {
    "collapsed": false
   }
  },
  {
   "cell_type": "code",
   "execution_count": 95,
   "outputs": [
    {
     "data": {
      "text/plain": "              recording  class  sample_count\n0   Furka14_22a-BA02...      2           249\n1   Furka10_22a-BA03...      3           651\n2   AT_1_2_1_22-BA04...      4           200\n3   Furka31_22a-BA04...      4           286\n4   Furka33_22a-BA05...      5           211\n5   Furka12_22a-BA06...      6           419\n6   AT_1_6_1_22-BA06...      6           171\n7   Furka34_22a-BA07...      7           307\n8   AT_2_2_1_22-BA08...      8           248\n9   Furka13_22a-BA08...      8           399\n10  AT_1_8_1_22-BA09...      9           301\n11  AT_1_2_1_22-BA10...     10           182\n12  AT_1_8_1_22-BA11...     11           351\n13  Furka34_22a-BA11...     11           203\n14  AT_2_2_1_22-BA12...     12           153\n15  Furka10_22a-BA12...     12           136\n16  AT_1_3_1_22-BA12...     12            14\n17  AT_1_6_1_22-BA13...     13           202\n18  Furka14_22a-BA13...     13           126\n19  Furka12_22a-BA14...     14           370\n20  Furka13_22a-BA15...     15            66\n21  Joch4_22a-BA15_B...     15            84\n22  Furka31_22a-BA16...     16           103\n23  Furka33_22a-BA17...     17            26\n24  AT_1_3_1_22-BA17...     17           366\n25  Joch4_22a-BA18_B...     18            29",
      "text/html": "<div>\n<style scoped>\n    .dataframe tbody tr th:only-of-type {\n        vertical-align: middle;\n    }\n\n    .dataframe tbody tr th {\n        vertical-align: top;\n    }\n\n    .dataframe thead th {\n        text-align: right;\n    }\n</style>\n<table border=\"1\" class=\"dataframe\">\n  <thead>\n    <tr style=\"text-align: right;\">\n      <th></th>\n      <th>recording</th>\n      <th>class</th>\n      <th>sample_count</th>\n    </tr>\n  </thead>\n  <tbody>\n    <tr>\n      <th>0</th>\n      <td>Furka14_22a-BA02...</td>\n      <td>2</td>\n      <td>249</td>\n    </tr>\n    <tr>\n      <th>1</th>\n      <td>Furka10_22a-BA03...</td>\n      <td>3</td>\n      <td>651</td>\n    </tr>\n    <tr>\n      <th>2</th>\n      <td>AT_1_2_1_22-BA04...</td>\n      <td>4</td>\n      <td>200</td>\n    </tr>\n    <tr>\n      <th>3</th>\n      <td>Furka31_22a-BA04...</td>\n      <td>4</td>\n      <td>286</td>\n    </tr>\n    <tr>\n      <th>4</th>\n      <td>Furka33_22a-BA05...</td>\n      <td>5</td>\n      <td>211</td>\n    </tr>\n    <tr>\n      <th>5</th>\n      <td>Furka12_22a-BA06...</td>\n      <td>6</td>\n      <td>419</td>\n    </tr>\n    <tr>\n      <th>6</th>\n      <td>AT_1_6_1_22-BA06...</td>\n      <td>6</td>\n      <td>171</td>\n    </tr>\n    <tr>\n      <th>7</th>\n      <td>Furka34_22a-BA07...</td>\n      <td>7</td>\n      <td>307</td>\n    </tr>\n    <tr>\n      <th>8</th>\n      <td>AT_2_2_1_22-BA08...</td>\n      <td>8</td>\n      <td>248</td>\n    </tr>\n    <tr>\n      <th>9</th>\n      <td>Furka13_22a-BA08...</td>\n      <td>8</td>\n      <td>399</td>\n    </tr>\n    <tr>\n      <th>10</th>\n      <td>AT_1_8_1_22-BA09...</td>\n      <td>9</td>\n      <td>301</td>\n    </tr>\n    <tr>\n      <th>11</th>\n      <td>AT_1_2_1_22-BA10...</td>\n      <td>10</td>\n      <td>182</td>\n    </tr>\n    <tr>\n      <th>12</th>\n      <td>AT_1_8_1_22-BA11...</td>\n      <td>11</td>\n      <td>351</td>\n    </tr>\n    <tr>\n      <th>13</th>\n      <td>Furka34_22a-BA11...</td>\n      <td>11</td>\n      <td>203</td>\n    </tr>\n    <tr>\n      <th>14</th>\n      <td>AT_2_2_1_22-BA12...</td>\n      <td>12</td>\n      <td>153</td>\n    </tr>\n    <tr>\n      <th>15</th>\n      <td>Furka10_22a-BA12...</td>\n      <td>12</td>\n      <td>136</td>\n    </tr>\n    <tr>\n      <th>16</th>\n      <td>AT_1_3_1_22-BA12...</td>\n      <td>12</td>\n      <td>14</td>\n    </tr>\n    <tr>\n      <th>17</th>\n      <td>AT_1_6_1_22-BA13...</td>\n      <td>13</td>\n      <td>202</td>\n    </tr>\n    <tr>\n      <th>18</th>\n      <td>Furka14_22a-BA13...</td>\n      <td>13</td>\n      <td>126</td>\n    </tr>\n    <tr>\n      <th>19</th>\n      <td>Furka12_22a-BA14...</td>\n      <td>14</td>\n      <td>370</td>\n    </tr>\n    <tr>\n      <th>20</th>\n      <td>Furka13_22a-BA15...</td>\n      <td>15</td>\n      <td>66</td>\n    </tr>\n    <tr>\n      <th>21</th>\n      <td>Joch4_22a-BA15_B...</td>\n      <td>15</td>\n      <td>84</td>\n    </tr>\n    <tr>\n      <th>22</th>\n      <td>Furka31_22a-BA16...</td>\n      <td>16</td>\n      <td>103</td>\n    </tr>\n    <tr>\n      <th>23</th>\n      <td>Furka33_22a-BA17...</td>\n      <td>17</td>\n      <td>26</td>\n    </tr>\n    <tr>\n      <th>24</th>\n      <td>AT_1_3_1_22-BA17...</td>\n      <td>17</td>\n      <td>366</td>\n    </tr>\n    <tr>\n      <th>25</th>\n      <td>Joch4_22a-BA18_B...</td>\n      <td>18</td>\n      <td>29</td>\n    </tr>\n  </tbody>\n</table>\n</div>"
     },
     "execution_count": 95,
     "metadata": {},
     "output_type": "execute_result"
    }
   ],
   "source": [
    "ba_feed_agg_df = count_samples_per_file(ba_data.loc[~ba_data['is_silence'] & (ba_data['event'] == 'feeding')])\n",
    "ba_feed_agg_df['recording'] = ba_feed_agg_df['recording'].apply(lambda rec: f'{rec[:16]}...')\n",
    "ba_feed_agg_df"
   ],
   "metadata": {
    "collapsed": false
   }
  },
  {
   "cell_type": "code",
   "execution_count": 96,
   "outputs": [
    {
     "data": {
      "text/plain": "    class  sample_count\n0       2           249\n1       3           651\n2       4           486\n3       5           211\n4       6           590\n5       7           307\n6       8           647\n7       9           301\n8      10           182\n9      11           554\n10     12           303\n11     13           328\n12     14           370\n13     15           150\n14     16           103\n15     17           392\n16     18            29",
      "text/html": "<div>\n<style scoped>\n    .dataframe tbody tr th:only-of-type {\n        vertical-align: middle;\n    }\n\n    .dataframe tbody tr th {\n        vertical-align: top;\n    }\n\n    .dataframe thead th {\n        text-align: right;\n    }\n</style>\n<table border=\"1\" class=\"dataframe\">\n  <thead>\n    <tr style=\"text-align: right;\">\n      <th></th>\n      <th>class</th>\n      <th>sample_count</th>\n    </tr>\n  </thead>\n  <tbody>\n    <tr>\n      <th>0</th>\n      <td>2</td>\n      <td>249</td>\n    </tr>\n    <tr>\n      <th>1</th>\n      <td>3</td>\n      <td>651</td>\n    </tr>\n    <tr>\n      <th>2</th>\n      <td>4</td>\n      <td>486</td>\n    </tr>\n    <tr>\n      <th>3</th>\n      <td>5</td>\n      <td>211</td>\n    </tr>\n    <tr>\n      <th>4</th>\n      <td>6</td>\n      <td>590</td>\n    </tr>\n    <tr>\n      <th>5</th>\n      <td>7</td>\n      <td>307</td>\n    </tr>\n    <tr>\n      <th>6</th>\n      <td>8</td>\n      <td>647</td>\n    </tr>\n    <tr>\n      <th>7</th>\n      <td>9</td>\n      <td>301</td>\n    </tr>\n    <tr>\n      <th>8</th>\n      <td>10</td>\n      <td>182</td>\n    </tr>\n    <tr>\n      <th>9</th>\n      <td>11</td>\n      <td>554</td>\n    </tr>\n    <tr>\n      <th>10</th>\n      <td>12</td>\n      <td>303</td>\n    </tr>\n    <tr>\n      <th>11</th>\n      <td>13</td>\n      <td>328</td>\n    </tr>\n    <tr>\n      <th>12</th>\n      <td>14</td>\n      <td>370</td>\n    </tr>\n    <tr>\n      <th>13</th>\n      <td>15</td>\n      <td>150</td>\n    </tr>\n    <tr>\n      <th>14</th>\n      <td>16</td>\n      <td>103</td>\n    </tr>\n    <tr>\n      <th>15</th>\n      <td>17</td>\n      <td>392</td>\n    </tr>\n    <tr>\n      <th>16</th>\n      <td>18</td>\n      <td>29</td>\n    </tr>\n  </tbody>\n</table>\n</div>"
     },
     "execution_count": 96,
     "metadata": {},
     "output_type": "execute_result"
    }
   ],
   "source": [
    "ba_feed_cls_agg_df = ba_feed_agg_df[['class', 'sample_count']].groupby('class').sum().sort_values(\n",
    "\tby = 'class').reset_index()\n",
    "ba_feed_cls_agg_df"
   ],
   "metadata": {
    "collapsed": false
   }
  },
  {
   "cell_type": "code",
   "execution_count": 76,
   "outputs": [
    {
     "data": {
      "text/plain": "                                            recording  class  sample_count\n0   Furka14_22a-BA02_BS04-24F3190160370695_2022060...      2           287\n1   Furka10_22a-BA03_BS04-24E144045FDF1AD9_2022060...      3           204\n2   AT_1_2_1_22-BA04_BS02-2466C2065B90281B_2022060...      4           161\n3   Furka31_22a-BA04_BS03-247AA5015FDF2A00_2022072...      4           590\n4   Furka33_22a-BA05_BS02-248D9B02603706BB_2022071...      5           947\n5   Furka12_22a-BA06_BS05-24F3190160370695_2022072...      6          2194\n6   AT_1_6_1_22-BA06_BS03-243B1F075C79F9E9_2022060...      6           253\n7   Furka34_22a-BA07_BS04-247AA5015FDF2A00_2022061...      7          1041\n8   AT_2_2_1_22-BA08_BS04-247AA5015BA4439B_2022060...      8          1932\n9   Furka13_22a-BA08_BS05-248D9B02603706BB_2022060...      8          2515\n10  AT_1_8_1_22-BA09_BS04-247AA5015C0309FF_2022060...      9           783\n11  AT_1_2_1_22-BA10_BS02-24E144035BA44417_2022061...     10          1960\n12  AT_1_8_1_22-BA11_BS04-24E144035BA44334_2022061...     11          1190\n13  Furka34_22a-BA11_BS04-247AA5015FDF2A00_2022061...     11          3030\n14  AT_2_2_1_22-BA12_BS04-2466C2065B902810_2022061...     12           684\n15  Furka10_22a-BA12_BS04-24E144045FDF1AD9_2022061...     12          3136\n16  AT_1_3_1_22-BA12_BS03-24E144045FDEF471_2022061...     12           128\n17  AT_1_6_1_22-BA13_BS03-243B1F055AD2F48C_2022061...     13          2244\n18  Furka14_22a-BA13_BS04-24F3190160370695_2022061...     13          2080\n19  Furka12_22a-BA14_BS04-24F3190160370695_2022072...     14          3188\n20  Furka13_22a-BA15_BS05-248D9B02603706BB_2022061...     15          3520\n21  Joch4_22a-BA15_BS04-242A260460375836_20220621_...     15          2630\n22  Furka31_22a-BA16_BS03-247AA5015FDF2A00_2022080...     16          2428\n23  Furka33_22a-BA17_BS02-248D9B02603706BB_2022072...     17          2641\n24  AT_1_3_1_22-BA17_BS03-243B1F075C79F9E9_2022061...     17          1345\n25  Joch4_22a-BA18_BS04-242A260460375836_20220624_...     18            17",
      "text/html": "<div>\n<style scoped>\n    .dataframe tbody tr th:only-of-type {\n        vertical-align: middle;\n    }\n\n    .dataframe tbody tr th {\n        vertical-align: top;\n    }\n\n    .dataframe thead th {\n        text-align: right;\n    }\n</style>\n<table border=\"1\" class=\"dataframe\">\n  <thead>\n    <tr style=\"text-align: right;\">\n      <th></th>\n      <th>recording</th>\n      <th>class</th>\n      <th>sample_count</th>\n    </tr>\n  </thead>\n  <tbody>\n    <tr>\n      <th>0</th>\n      <td>Furka14_22a-BA02_BS04-24F3190160370695_2022060...</td>\n      <td>2</td>\n      <td>287</td>\n    </tr>\n    <tr>\n      <th>1</th>\n      <td>Furka10_22a-BA03_BS04-24E144045FDF1AD9_2022060...</td>\n      <td>3</td>\n      <td>204</td>\n    </tr>\n    <tr>\n      <th>2</th>\n      <td>AT_1_2_1_22-BA04_BS02-2466C2065B90281B_2022060...</td>\n      <td>4</td>\n      <td>161</td>\n    </tr>\n    <tr>\n      <th>3</th>\n      <td>Furka31_22a-BA04_BS03-247AA5015FDF2A00_2022072...</td>\n      <td>4</td>\n      <td>590</td>\n    </tr>\n    <tr>\n      <th>4</th>\n      <td>Furka33_22a-BA05_BS02-248D9B02603706BB_2022071...</td>\n      <td>5</td>\n      <td>947</td>\n    </tr>\n    <tr>\n      <th>5</th>\n      <td>Furka12_22a-BA06_BS05-24F3190160370695_2022072...</td>\n      <td>6</td>\n      <td>2194</td>\n    </tr>\n    <tr>\n      <th>6</th>\n      <td>AT_1_6_1_22-BA06_BS03-243B1F075C79F9E9_2022060...</td>\n      <td>6</td>\n      <td>253</td>\n    </tr>\n    <tr>\n      <th>7</th>\n      <td>Furka34_22a-BA07_BS04-247AA5015FDF2A00_2022061...</td>\n      <td>7</td>\n      <td>1041</td>\n    </tr>\n    <tr>\n      <th>8</th>\n      <td>AT_2_2_1_22-BA08_BS04-247AA5015BA4439B_2022060...</td>\n      <td>8</td>\n      <td>1932</td>\n    </tr>\n    <tr>\n      <th>9</th>\n      <td>Furka13_22a-BA08_BS05-248D9B02603706BB_2022060...</td>\n      <td>8</td>\n      <td>2515</td>\n    </tr>\n    <tr>\n      <th>10</th>\n      <td>AT_1_8_1_22-BA09_BS04-247AA5015C0309FF_2022060...</td>\n      <td>9</td>\n      <td>783</td>\n    </tr>\n    <tr>\n      <th>11</th>\n      <td>AT_1_2_1_22-BA10_BS02-24E144035BA44417_2022061...</td>\n      <td>10</td>\n      <td>1960</td>\n    </tr>\n    <tr>\n      <th>12</th>\n      <td>AT_1_8_1_22-BA11_BS04-24E144035BA44334_2022061...</td>\n      <td>11</td>\n      <td>1190</td>\n    </tr>\n    <tr>\n      <th>13</th>\n      <td>Furka34_22a-BA11_BS04-247AA5015FDF2A00_2022061...</td>\n      <td>11</td>\n      <td>3030</td>\n    </tr>\n    <tr>\n      <th>14</th>\n      <td>AT_2_2_1_22-BA12_BS04-2466C2065B902810_2022061...</td>\n      <td>12</td>\n      <td>684</td>\n    </tr>\n    <tr>\n      <th>15</th>\n      <td>Furka10_22a-BA12_BS04-24E144045FDF1AD9_2022061...</td>\n      <td>12</td>\n      <td>3136</td>\n    </tr>\n    <tr>\n      <th>16</th>\n      <td>AT_1_3_1_22-BA12_BS03-24E144045FDEF471_2022061...</td>\n      <td>12</td>\n      <td>128</td>\n    </tr>\n    <tr>\n      <th>17</th>\n      <td>AT_1_6_1_22-BA13_BS03-243B1F055AD2F48C_2022061...</td>\n      <td>13</td>\n      <td>2244</td>\n    </tr>\n    <tr>\n      <th>18</th>\n      <td>Furka14_22a-BA13_BS04-24F3190160370695_2022061...</td>\n      <td>13</td>\n      <td>2080</td>\n    </tr>\n    <tr>\n      <th>19</th>\n      <td>Furka12_22a-BA14_BS04-24F3190160370695_2022072...</td>\n      <td>14</td>\n      <td>3188</td>\n    </tr>\n    <tr>\n      <th>20</th>\n      <td>Furka13_22a-BA15_BS05-248D9B02603706BB_2022061...</td>\n      <td>15</td>\n      <td>3520</td>\n    </tr>\n    <tr>\n      <th>21</th>\n      <td>Joch4_22a-BA15_BS04-242A260460375836_20220621_...</td>\n      <td>15</td>\n      <td>2630</td>\n    </tr>\n    <tr>\n      <th>22</th>\n      <td>Furka31_22a-BA16_BS03-247AA5015FDF2A00_2022080...</td>\n      <td>16</td>\n      <td>2428</td>\n    </tr>\n    <tr>\n      <th>23</th>\n      <td>Furka33_22a-BA17_BS02-248D9B02603706BB_2022072...</td>\n      <td>17</td>\n      <td>2641</td>\n    </tr>\n    <tr>\n      <th>24</th>\n      <td>AT_1_3_1_22-BA17_BS03-243B1F075C79F9E9_2022061...</td>\n      <td>17</td>\n      <td>1345</td>\n    </tr>\n    <tr>\n      <th>25</th>\n      <td>Joch4_22a-BA18_BS04-242A260460375836_20220624_...</td>\n      <td>18</td>\n      <td>17</td>\n    </tr>\n  </tbody>\n</table>\n</div>"
     },
     "execution_count": 76,
     "metadata": {},
     "output_type": "execute_result"
    }
   ],
   "source": [
    "ba_contact_agg_df = count_samples_per_file(ba_data.loc[~ba_data['is_silence'] & (ba_data['event'] == 'contact')])\n",
    "ba_contact_agg_df"
   ],
   "metadata": {
    "collapsed": false
   }
  },
  {
   "cell_type": "code",
   "execution_count": 77,
   "outputs": [
    {
     "data": {
      "text/plain": "    class  sample_count\n0       2           287\n1       3           204\n2       4           751\n3       5           947\n4       6          2447\n5       7          1041\n6       8          4447\n7       9           783\n8      10          1960\n9      11          4220\n10     12          3948\n11     13          4324\n12     14          3188\n13     15          6150\n14     16          2428\n15     17          3986\n16     18            17",
      "text/html": "<div>\n<style scoped>\n    .dataframe tbody tr th:only-of-type {\n        vertical-align: middle;\n    }\n\n    .dataframe tbody tr th {\n        vertical-align: top;\n    }\n\n    .dataframe thead th {\n        text-align: right;\n    }\n</style>\n<table border=\"1\" class=\"dataframe\">\n  <thead>\n    <tr style=\"text-align: right;\">\n      <th></th>\n      <th>class</th>\n      <th>sample_count</th>\n    </tr>\n  </thead>\n  <tbody>\n    <tr>\n      <th>0</th>\n      <td>2</td>\n      <td>287</td>\n    </tr>\n    <tr>\n      <th>1</th>\n      <td>3</td>\n      <td>204</td>\n    </tr>\n    <tr>\n      <th>2</th>\n      <td>4</td>\n      <td>751</td>\n    </tr>\n    <tr>\n      <th>3</th>\n      <td>5</td>\n      <td>947</td>\n    </tr>\n    <tr>\n      <th>4</th>\n      <td>6</td>\n      <td>2447</td>\n    </tr>\n    <tr>\n      <th>5</th>\n      <td>7</td>\n      <td>1041</td>\n    </tr>\n    <tr>\n      <th>6</th>\n      <td>8</td>\n      <td>4447</td>\n    </tr>\n    <tr>\n      <th>7</th>\n      <td>9</td>\n      <td>783</td>\n    </tr>\n    <tr>\n      <th>8</th>\n      <td>10</td>\n      <td>1960</td>\n    </tr>\n    <tr>\n      <th>9</th>\n      <td>11</td>\n      <td>4220</td>\n    </tr>\n    <tr>\n      <th>10</th>\n      <td>12</td>\n      <td>3948</td>\n    </tr>\n    <tr>\n      <th>11</th>\n      <td>13</td>\n      <td>4324</td>\n    </tr>\n    <tr>\n      <th>12</th>\n      <td>14</td>\n      <td>3188</td>\n    </tr>\n    <tr>\n      <th>13</th>\n      <td>15</td>\n      <td>6150</td>\n    </tr>\n    <tr>\n      <th>14</th>\n      <td>16</td>\n      <td>2428</td>\n    </tr>\n    <tr>\n      <th>15</th>\n      <td>17</td>\n      <td>3986</td>\n    </tr>\n    <tr>\n      <th>16</th>\n      <td>18</td>\n      <td>17</td>\n    </tr>\n  </tbody>\n</table>\n</div>"
     },
     "execution_count": 77,
     "metadata": {},
     "output_type": "execute_result"
    }
   ],
   "source": [
    "ba_contact_cls_agg_df = ba_contact_agg_df[['class', 'sample_count']].groupby('class').sum().sort_values(\n",
    "\tby = 'class').reset_index()\n",
    "ba_contact_cls_agg_df"
   ],
   "metadata": {
    "collapsed": false
   }
  },
  {
   "cell_type": "code",
   "execution_count": 97,
   "outputs": [],
   "source": [
    "plot_sample_count(\n",
    "\tba_agg_df.iloc[:12], x_label_col = 'recording', x_rotation = 'vertical', x_label = 'Recording',\n",
    "\ttitle = '2s samples per brood age 2 - 10'\n",
    ")\n",
    "\n",
    "plot_sample_count(\n",
    "\tba_agg_df.iloc[12:], x_label_col = 'recording', x_rotation = 'vertical', x_label = 'Recording',\n",
    "\ttitle = '2s samples per brood age 11 - 18'\n",
    ")\n",
    "\n",
    "plot_sample_count(\n",
    "\tba_cls_agg_df[:10], x_label_col = 'class', x_rotation = 'horizontal', x_label = 'Brood age',\n",
    "\ttitle = '2s samples per recording, age 2 - 10'\n",
    ")\n",
    "\n",
    "plot_sample_count(\n",
    "\tba_cls_agg_df[10:], x_label_col = 'class', x_rotation = 'horizontal', x_label = 'Brood age',\n",
    "\ttitle = '2s samples per recording age 11 - 18'\n",
    ")\n",
    "\n",
    "plot_sample_count(\n",
    "\tba_feed_agg_df.iloc[:12], x_label_col = 'recording', x_rotation = 'vertical', x_label = 'Recording',\n",
    "\ttitle = 'Feeding 2s samples per brood age 2 - 10'\n",
    ")\n",
    "\n",
    "plot_sample_count(\n",
    "\tba_feed_agg_df.iloc[12:], x_label_col = 'recording', x_rotation = 'vertical', x_label = 'Recording',\n",
    "\ttitle = 'Feeding 2s samples per brood age 11 - 18'\n",
    ")\n",
    "\n",
    "plot_sample_count(\n",
    "\tba_feed_cls_agg_df[:10], x_label_col = 'class', x_rotation = 'horizontal', x_label = 'Brood age',\n",
    "\ttitle = 'Feeding 2s samples per recording, age 2 - 10'\n",
    ")\n",
    "\n",
    "plot_sample_count(\n",
    "\tba_feed_cls_agg_df[10:], x_label_col = 'class', x_rotation = 'horizontal', x_label = 'Brood age',\n",
    "\ttitle = 'Feeding 2s samples per recording age 11 - 18'\n",
    ")\n",
    "\n",
    "plot_sample_count(\n",
    "\tba_contact_agg_df.iloc[:12], x_label_col = 'recording', x_rotation = 'vertical', x_label = 'Recording',\n",
    "\ttitle = 'Contact 2s samples per brood age 2 - 10'\n",
    ")\n",
    "\n",
    "plot_sample_count(\n",
    "\tba_contact_agg_df.iloc[12:], x_label_col = 'recording', x_rotation = 'vertical', x_label = 'Recording',\n",
    "\ttitle = 'Contact 2s samples per brood age 11 - 18'\n",
    ")\n",
    "\n",
    "plot_sample_count(\n",
    "\tba_contact_cls_agg_df[:10], x_label_col = 'class', x_rotation = 'horizontal', x_label = 'Brood age',\n",
    "\ttitle = 'Contact 2s samples per recording, age 2 - 10'\n",
    ")\n",
    "\n",
    "plot_sample_count(\n",
    "\tba_contact_cls_agg_df[10:], x_label_col = 'class', x_rotation = 'horizontal', x_label = 'Brood age',\n",
    "\ttitle = 'Contact 2s samples per recording age 11 - 18'\n",
    ")"
   ],
   "metadata": {
    "collapsed": false
   }
  },
  {
   "cell_type": "markdown",
   "source": [
    "### Age grouping"
   ],
   "metadata": {
    "collapsed": false
   }
  },
  {
   "cell_type": "code",
   "execution_count": 100,
   "outputs": [
    {
     "name": "stderr",
     "output_type": "stream",
     "text": [
      "c:\\users\\barto\\devel\\repos\\pycharmprojects\\snowfinchwire.broodanalyzer\\venv\\lib\\site-packages\\tqdm\\auto.py:22: TqdmWarning: IProgress not found. Please update jupyter and ipywidgets. See https://ipywidgets.readthedocs.io/en/stable/user_install.html\n",
      "  from .autonotebook import tqdm as notebook_tqdm\n"
     ]
    }
   ],
   "source": [
    "from sfw_brood.preprocessing import group_ages\n",
    "from sklearn.preprocessing import OneHotEncoder"
   ],
   "metadata": {
    "collapsed": false
   }
  },
  {
   "cell_type": "code",
   "execution_count": 117,
   "outputs": [
    {
     "name": "stderr",
     "output_type": "stream",
     "text": [
      "C:\\Users\\barto\\Devel\\Repos\\PycharmProjects\\SnowfinchWire.BroodAnalyzer\\sfw_brood\\preprocessing.py:168: SettingWithCopyWarning: \n",
      "A value is trying to be set on a copy of a slice from a DataFrame.\n",
      "Try using .loc[row_indexer,col_indexer] = value instead\n",
      "\n",
      "See the caveats in the documentation: https://pandas.pydata.org/pandas-docs/stable/user_guide/indexing.html#returning-a-view-versus-a-copy\n",
      "  age_group_df['class'] = age_group_df['class'].apply(map_age)\n"
     ]
    },
    {
     "data": {
      "text/plain": "                                                   file  class  00-04  05-07  \\\n0     AT_1_2_1_22-BA04_BS02-2466C2065B90281B_2022060...  00-04    1.0    0.0   \n1     Furka10_22a-BA03_BS04-24E144045FDF1AD9_2022060...  00-04    1.0    0.0   \n2     Furka10_22a-BA03_BS04-24E144045FDF1AD9_2022060...  00-04    1.0    0.0   \n3     Furka10_22a-BA03_BS04-24E144045FDF1AD9_2022060...  00-04    1.0    0.0   \n4     Furka10_22a-BA03_BS04-24E144045FDF1AD9_2022060...  00-04    1.0    0.0   \n...                                                 ...    ...    ...    ...   \n5848  AT_1_3_1_22-BA17_BS03-243B1F075C79F9E9_2022061...  14-30    0.0    0.0   \n5849  AT_1_3_1_22-BA17_BS03-243B1F075C79F9E9_2022061...  14-30    0.0    0.0   \n5850  AT_1_3_1_22-BA17_BS03-243B1F075C79F9E9_2022061...  14-30    0.0    0.0   \n5851  AT_1_3_1_22-BA17_BS03-243B1F075C79F9E9_2022061...  14-30    0.0    0.0   \n5852  Furka33_22a-BA17_BS02-248D9B02603706BB_2022072...  14-30    0.0    0.0   \n\n      08-10  11-13  14-30  \n0       0.0    0.0    0.0  \n1       0.0    0.0    0.0  \n2       0.0    0.0    0.0  \n3       0.0    0.0    0.0  \n4       0.0    0.0    0.0  \n...     ...    ...    ...  \n5848    0.0    0.0    1.0  \n5849    0.0    0.0    1.0  \n5850    0.0    0.0    1.0  \n5851    0.0    0.0    1.0  \n5852    0.0    0.0    1.0  \n\n[5853 rows x 7 columns]",
      "text/html": "<div>\n<style scoped>\n    .dataframe tbody tr th:only-of-type {\n        vertical-align: middle;\n    }\n\n    .dataframe tbody tr th {\n        vertical-align: top;\n    }\n\n    .dataframe thead th {\n        text-align: right;\n    }\n</style>\n<table border=\"1\" class=\"dataframe\">\n  <thead>\n    <tr style=\"text-align: right;\">\n      <th></th>\n      <th>file</th>\n      <th>class</th>\n      <th>00-04</th>\n      <th>05-07</th>\n      <th>08-10</th>\n      <th>11-13</th>\n      <th>14-30</th>\n    </tr>\n  </thead>\n  <tbody>\n    <tr>\n      <th>0</th>\n      <td>AT_1_2_1_22-BA04_BS02-2466C2065B90281B_2022060...</td>\n      <td>00-04</td>\n      <td>1.0</td>\n      <td>0.0</td>\n      <td>0.0</td>\n      <td>0.0</td>\n      <td>0.0</td>\n    </tr>\n    <tr>\n      <th>1</th>\n      <td>Furka10_22a-BA03_BS04-24E144045FDF1AD9_2022060...</td>\n      <td>00-04</td>\n      <td>1.0</td>\n      <td>0.0</td>\n      <td>0.0</td>\n      <td>0.0</td>\n      <td>0.0</td>\n    </tr>\n    <tr>\n      <th>2</th>\n      <td>Furka10_22a-BA03_BS04-24E144045FDF1AD9_2022060...</td>\n      <td>00-04</td>\n      <td>1.0</td>\n      <td>0.0</td>\n      <td>0.0</td>\n      <td>0.0</td>\n      <td>0.0</td>\n    </tr>\n    <tr>\n      <th>3</th>\n      <td>Furka10_22a-BA03_BS04-24E144045FDF1AD9_2022060...</td>\n      <td>00-04</td>\n      <td>1.0</td>\n      <td>0.0</td>\n      <td>0.0</td>\n      <td>0.0</td>\n      <td>0.0</td>\n    </tr>\n    <tr>\n      <th>4</th>\n      <td>Furka10_22a-BA03_BS04-24E144045FDF1AD9_2022060...</td>\n      <td>00-04</td>\n      <td>1.0</td>\n      <td>0.0</td>\n      <td>0.0</td>\n      <td>0.0</td>\n      <td>0.0</td>\n    </tr>\n    <tr>\n      <th>...</th>\n      <td>...</td>\n      <td>...</td>\n      <td>...</td>\n      <td>...</td>\n      <td>...</td>\n      <td>...</td>\n      <td>...</td>\n    </tr>\n    <tr>\n      <th>5848</th>\n      <td>AT_1_3_1_22-BA17_BS03-243B1F075C79F9E9_2022061...</td>\n      <td>14-30</td>\n      <td>0.0</td>\n      <td>0.0</td>\n      <td>0.0</td>\n      <td>0.0</td>\n      <td>1.0</td>\n    </tr>\n    <tr>\n      <th>5849</th>\n      <td>AT_1_3_1_22-BA17_BS03-243B1F075C79F9E9_2022061...</td>\n      <td>14-30</td>\n      <td>0.0</td>\n      <td>0.0</td>\n      <td>0.0</td>\n      <td>0.0</td>\n      <td>1.0</td>\n    </tr>\n    <tr>\n      <th>5850</th>\n      <td>AT_1_3_1_22-BA17_BS03-243B1F075C79F9E9_2022061...</td>\n      <td>14-30</td>\n      <td>0.0</td>\n      <td>0.0</td>\n      <td>0.0</td>\n      <td>0.0</td>\n      <td>1.0</td>\n    </tr>\n    <tr>\n      <th>5851</th>\n      <td>AT_1_3_1_22-BA17_BS03-243B1F075C79F9E9_2022061...</td>\n      <td>14-30</td>\n      <td>0.0</td>\n      <td>0.0</td>\n      <td>0.0</td>\n      <td>0.0</td>\n      <td>1.0</td>\n    </tr>\n    <tr>\n      <th>5852</th>\n      <td>Furka33_22a-BA17_BS02-248D9B02603706BB_2022072...</td>\n      <td>14-30</td>\n      <td>0.0</td>\n      <td>0.0</td>\n      <td>0.0</td>\n      <td>0.0</td>\n      <td>1.0</td>\n    </tr>\n  </tbody>\n</table>\n<p>5853 rows × 7 columns</p>\n</div>"
     },
     "execution_count": 117,
     "metadata": {},
     "output_type": "execute_result"
    }
   ],
   "source": [
    "age_group_df = group_ages(\n",
    "\tba_data[~ba_data['is_silence'] & (ba_data['event'] == 'feeding')],\n",
    "\t# groups = [(0, 5), (6, 8), (9, 12), (13, 30)]\n",
    "\tgroups = [(0, 4), (5, 7), (8, 10), (11, 13), (14, 30)]\n",
    ")\n",
    "age_group_df"
   ],
   "metadata": {
    "collapsed": false
   }
  },
  {
   "cell_type": "code",
   "execution_count": 118,
   "outputs": [
    {
     "data": {
      "text/plain": "       file\nclass      \n00-04  1386\n05-07  1108\n08-10  1130\n11-13  1185\n14-30  1044",
      "text/html": "<div>\n<style scoped>\n    .dataframe tbody tr th:only-of-type {\n        vertical-align: middle;\n    }\n\n    .dataframe tbody tr th {\n        vertical-align: top;\n    }\n\n    .dataframe thead th {\n        text-align: right;\n    }\n</style>\n<table border=\"1\" class=\"dataframe\">\n  <thead>\n    <tr style=\"text-align: right;\">\n      <th></th>\n      <th>file</th>\n    </tr>\n    <tr>\n      <th>class</th>\n      <th></th>\n    </tr>\n  </thead>\n  <tbody>\n    <tr>\n      <th>00-04</th>\n      <td>1386</td>\n    </tr>\n    <tr>\n      <th>05-07</th>\n      <td>1108</td>\n    </tr>\n    <tr>\n      <th>08-10</th>\n      <td>1130</td>\n    </tr>\n    <tr>\n      <th>11-13</th>\n      <td>1185</td>\n    </tr>\n    <tr>\n      <th>14-30</th>\n      <td>1044</td>\n    </tr>\n  </tbody>\n</table>\n</div>"
     },
     "execution_count": 118,
     "metadata": {},
     "output_type": "execute_result"
    }
   ],
   "source": [
    "age_group_agg_df = age_group_df[['file', 'class']].groupby('class').count()\n",
    "# age_group_agg_df = age_group_agg_df.reset_index().drop(columns = 'index').rename(columns = { 'file': 'sample_count' })\n",
    "age_group_agg_df"
   ],
   "metadata": {
    "collapsed": false
   }
  },
  {
   "cell_type": "code",
   "execution_count": 134,
   "outputs": [
    {
     "data": {
      "text/plain": "      Unnamed: 0                                               file  \\\n0              0  /home/gardzielb/sfw-brood-work/s10-o1/s10.0-o1...   \n1              1  /home/gardzielb/sfw-brood-work/s10-o1/s10.0-o1...   \n2              2  /home/gardzielb/sfw-brood-work/s10-o1/s10.0-o1...   \n3              3  /home/gardzielb/sfw-brood-work/s10-o1/s10.0-o1...   \n4              4  /home/gardzielb/sfw-brood-work/s10-o1/s10.0-o1...   \n...          ...                                                ...   \n4540        4540  /home/gardzielb/sfw-brood-work/s10-o1/s10.0-o1...   \n4541        4541  /home/gardzielb/sfw-brood-work/s10-o1/s10.0-o1...   \n4542        4542  /home/gardzielb/sfw-brood-work/s10-o1/s10.0-o1...   \n4543        4543  /home/gardzielb/sfw-brood-work/s10-o1/s10.0-o1...   \n4544        4544  /home/gardzielb/sfw-brood-work/s10-o1/s10.0-o1...   \n\n      start_time  end_time   0.0-5.5  12.0-14.5  15.0-30.0   6.0-8.5  9.0-11.5  \n0            0.0      10.0  0.145375   0.002373   0.000947  0.821907  0.029398  \n1            0.0      10.0  0.041199   0.000332   0.000175  0.939115  0.019179  \n2            0.0      10.0  0.673341   0.002104   0.000701  0.305342  0.018513  \n3            0.0      10.0  0.417363   0.003195   0.001411  0.557213  0.020818  \n4            0.0      10.0  0.307838   0.000813   0.000545  0.674995  0.015808  \n...          ...       ...       ...        ...        ...       ...       ...  \n4540         0.0      10.0  0.005258   0.004524   0.001065  0.789088  0.200065  \n4541         0.0      10.0  0.020158   0.002010   0.000486  0.884838  0.092508  \n4542         0.0      10.0  0.001565   0.000547   0.000138  0.881197  0.116554  \n4543         0.0      10.0  0.000739   0.000094   0.000016  0.956540  0.042612  \n4544         0.0      10.0  0.016212   0.003251   0.000686  0.870192  0.109659  \n\n[4545 rows x 9 columns]",
      "text/html": "<div>\n<style scoped>\n    .dataframe tbody tr th:only-of-type {\n        vertical-align: middle;\n    }\n\n    .dataframe tbody tr th {\n        vertical-align: top;\n    }\n\n    .dataframe thead th {\n        text-align: right;\n    }\n</style>\n<table border=\"1\" class=\"dataframe\">\n  <thead>\n    <tr style=\"text-align: right;\">\n      <th></th>\n      <th>Unnamed: 0</th>\n      <th>file</th>\n      <th>start_time</th>\n      <th>end_time</th>\n      <th>0.0-5.5</th>\n      <th>12.0-14.5</th>\n      <th>15.0-30.0</th>\n      <th>6.0-8.5</th>\n      <th>9.0-11.5</th>\n    </tr>\n  </thead>\n  <tbody>\n    <tr>\n      <th>0</th>\n      <td>0</td>\n      <td>/home/gardzielb/sfw-brood-work/s10-o1/s10.0-o1...</td>\n      <td>0.0</td>\n      <td>10.0</td>\n      <td>0.145375</td>\n      <td>0.002373</td>\n      <td>0.000947</td>\n      <td>0.821907</td>\n      <td>0.029398</td>\n    </tr>\n    <tr>\n      <th>1</th>\n      <td>1</td>\n      <td>/home/gardzielb/sfw-brood-work/s10-o1/s10.0-o1...</td>\n      <td>0.0</td>\n      <td>10.0</td>\n      <td>0.041199</td>\n      <td>0.000332</td>\n      <td>0.000175</td>\n      <td>0.939115</td>\n      <td>0.019179</td>\n    </tr>\n    <tr>\n      <th>2</th>\n      <td>2</td>\n      <td>/home/gardzielb/sfw-brood-work/s10-o1/s10.0-o1...</td>\n      <td>0.0</td>\n      <td>10.0</td>\n      <td>0.673341</td>\n      <td>0.002104</td>\n      <td>0.000701</td>\n      <td>0.305342</td>\n      <td>0.018513</td>\n    </tr>\n    <tr>\n      <th>3</th>\n      <td>3</td>\n      <td>/home/gardzielb/sfw-brood-work/s10-o1/s10.0-o1...</td>\n      <td>0.0</td>\n      <td>10.0</td>\n      <td>0.417363</td>\n      <td>0.003195</td>\n      <td>0.001411</td>\n      <td>0.557213</td>\n      <td>0.020818</td>\n    </tr>\n    <tr>\n      <th>4</th>\n      <td>4</td>\n      <td>/home/gardzielb/sfw-brood-work/s10-o1/s10.0-o1...</td>\n      <td>0.0</td>\n      <td>10.0</td>\n      <td>0.307838</td>\n      <td>0.000813</td>\n      <td>0.000545</td>\n      <td>0.674995</td>\n      <td>0.015808</td>\n    </tr>\n    <tr>\n      <th>...</th>\n      <td>...</td>\n      <td>...</td>\n      <td>...</td>\n      <td>...</td>\n      <td>...</td>\n      <td>...</td>\n      <td>...</td>\n      <td>...</td>\n      <td>...</td>\n    </tr>\n    <tr>\n      <th>4540</th>\n      <td>4540</td>\n      <td>/home/gardzielb/sfw-brood-work/s10-o1/s10.0-o1...</td>\n      <td>0.0</td>\n      <td>10.0</td>\n      <td>0.005258</td>\n      <td>0.004524</td>\n      <td>0.001065</td>\n      <td>0.789088</td>\n      <td>0.200065</td>\n    </tr>\n    <tr>\n      <th>4541</th>\n      <td>4541</td>\n      <td>/home/gardzielb/sfw-brood-work/s10-o1/s10.0-o1...</td>\n      <td>0.0</td>\n      <td>10.0</td>\n      <td>0.020158</td>\n      <td>0.002010</td>\n      <td>0.000486</td>\n      <td>0.884838</td>\n      <td>0.092508</td>\n    </tr>\n    <tr>\n      <th>4542</th>\n      <td>4542</td>\n      <td>/home/gardzielb/sfw-brood-work/s10-o1/s10.0-o1...</td>\n      <td>0.0</td>\n      <td>10.0</td>\n      <td>0.001565</td>\n      <td>0.000547</td>\n      <td>0.000138</td>\n      <td>0.881197</td>\n      <td>0.116554</td>\n    </tr>\n    <tr>\n      <th>4543</th>\n      <td>4543</td>\n      <td>/home/gardzielb/sfw-brood-work/s10-o1/s10.0-o1...</td>\n      <td>0.0</td>\n      <td>10.0</td>\n      <td>0.000739</td>\n      <td>0.000094</td>\n      <td>0.000016</td>\n      <td>0.956540</td>\n      <td>0.042612</td>\n    </tr>\n    <tr>\n      <th>4544</th>\n      <td>4544</td>\n      <td>/home/gardzielb/sfw-brood-work/s10-o1/s10.0-o1...</td>\n      <td>0.0</td>\n      <td>10.0</td>\n      <td>0.016212</td>\n      <td>0.003251</td>\n      <td>0.000686</td>\n      <td>0.870192</td>\n      <td>0.109659</td>\n    </tr>\n  </tbody>\n</table>\n<p>4545 rows × 9 columns</p>\n</div>"
     },
     "execution_count": 134,
     "metadata": {},
     "output_type": "execute_result"
    }
   ],
   "source": [
    "pred_df = pd.read_csv('_data.export/pred.csv')\n",
    "pred_df"
   ],
   "metadata": {
    "collapsed": false
   }
  },
  {
   "cell_type": "code",
   "execution_count": 138,
   "outputs": [
    {
     "data": {
      "text/plain": "                                                    0.0-5.5  12.0-14.5  \\\nfile                                                                     \n/home/gardzielb/sfw-brood-work/s10-o1/s10.0-o1....      1.0        0.0   \n/home/gardzielb/sfw-brood-work/s10-o1/s10.0-o1....      1.0        0.0   \n/home/gardzielb/sfw-brood-work/s10-o1/s10.0-o1....      1.0        0.0   \n/home/gardzielb/sfw-brood-work/s10-o1/s10.0-o1....      1.0        0.0   \n/home/gardzielb/sfw-brood-work/s10-o1/s10.0-o1....      1.0        0.0   \n...                                                     ...        ...   \n/home/gardzielb/sfw-brood-work/s10-o1/s10.0-o1....      0.0        0.0   \n/home/gardzielb/sfw-brood-work/s10-o1/s10.0-o1....      0.0        0.0   \n/home/gardzielb/sfw-brood-work/s10-o1/s10.0-o1....      0.0        0.0   \n/home/gardzielb/sfw-brood-work/s10-o1/s10.0-o1....      0.0        0.0   \n/home/gardzielb/sfw-brood-work/s10-o1/s10.0-o1....      0.0        0.0   \n\n                                                    15.0-30.0  6.0-8.5  \\\nfile                                                                     \n/home/gardzielb/sfw-brood-work/s10-o1/s10.0-o1....        0.0      0.0   \n/home/gardzielb/sfw-brood-work/s10-o1/s10.0-o1....        0.0      0.0   \n/home/gardzielb/sfw-brood-work/s10-o1/s10.0-o1....        0.0      0.0   \n/home/gardzielb/sfw-brood-work/s10-o1/s10.0-o1....        0.0      0.0   \n/home/gardzielb/sfw-brood-work/s10-o1/s10.0-o1....        0.0      0.0   \n...                                                       ...      ...   \n/home/gardzielb/sfw-brood-work/s10-o1/s10.0-o1....        0.0      0.0   \n/home/gardzielb/sfw-brood-work/s10-o1/s10.0-o1....        0.0      0.0   \n/home/gardzielb/sfw-brood-work/s10-o1/s10.0-o1....        0.0      0.0   \n/home/gardzielb/sfw-brood-work/s10-o1/s10.0-o1....        0.0      0.0   \n/home/gardzielb/sfw-brood-work/s10-o1/s10.0-o1....        0.0      0.0   \n\n                                                    9.0-11.5  \nfile                                                          \n/home/gardzielb/sfw-brood-work/s10-o1/s10.0-o1....       0.0  \n/home/gardzielb/sfw-brood-work/s10-o1/s10.0-o1....       0.0  \n/home/gardzielb/sfw-brood-work/s10-o1/s10.0-o1....       0.0  \n/home/gardzielb/sfw-brood-work/s10-o1/s10.0-o1....       0.0  \n/home/gardzielb/sfw-brood-work/s10-o1/s10.0-o1....       0.0  \n...                                                      ...  \n/home/gardzielb/sfw-brood-work/s10-o1/s10.0-o1....       1.0  \n/home/gardzielb/sfw-brood-work/s10-o1/s10.0-o1....       1.0  \n/home/gardzielb/sfw-brood-work/s10-o1/s10.0-o1....       1.0  \n/home/gardzielb/sfw-brood-work/s10-o1/s10.0-o1....       1.0  \n/home/gardzielb/sfw-brood-work/s10-o1/s10.0-o1....       1.0  \n\n[9701 rows x 5 columns]",
      "text/html": "<div>\n<style scoped>\n    .dataframe tbody tr th:only-of-type {\n        vertical-align: middle;\n    }\n\n    .dataframe tbody tr th {\n        vertical-align: top;\n    }\n\n    .dataframe thead th {\n        text-align: right;\n    }\n</style>\n<table border=\"1\" class=\"dataframe\">\n  <thead>\n    <tr style=\"text-align: right;\">\n      <th></th>\n      <th>0.0-5.5</th>\n      <th>12.0-14.5</th>\n      <th>15.0-30.0</th>\n      <th>6.0-8.5</th>\n      <th>9.0-11.5</th>\n    </tr>\n    <tr>\n      <th>file</th>\n      <th></th>\n      <th></th>\n      <th></th>\n      <th></th>\n      <th></th>\n    </tr>\n  </thead>\n  <tbody>\n    <tr>\n      <th>/home/gardzielb/sfw-brood-work/s10-o1/s10.0-o1.0/12_1_1_22_20220625_150000__0.wav</th>\n      <td>1.0</td>\n      <td>0.0</td>\n      <td>0.0</td>\n      <td>0.0</td>\n      <td>0.0</td>\n    </tr>\n    <tr>\n      <th>/home/gardzielb/sfw-brood-work/s10-o1/s10.0-o1.0/1_8_1_22_20220604_200000__21.wav</th>\n      <td>1.0</td>\n      <td>0.0</td>\n      <td>0.0</td>\n      <td>0.0</td>\n      <td>0.0</td>\n    </tr>\n    <tr>\n      <th>/home/gardzielb/sfw-brood-work/s10-o1/s10.0-o1.0/1_8_1_22_20220604_200000__20.wav</th>\n      <td>1.0</td>\n      <td>0.0</td>\n      <td>0.0</td>\n      <td>0.0</td>\n      <td>0.0</td>\n    </tr>\n    <tr>\n      <th>/home/gardzielb/sfw-brood-work/s10-o1/s10.0-o1.0/1_8_1_22_20220604_200000__19.wav</th>\n      <td>1.0</td>\n      <td>0.0</td>\n      <td>0.0</td>\n      <td>0.0</td>\n      <td>0.0</td>\n    </tr>\n    <tr>\n      <th>/home/gardzielb/sfw-brood-work/s10-o1/s10.0-o1.0/1_8_1_22_20220604_200000__18.wav</th>\n      <td>1.0</td>\n      <td>0.0</td>\n      <td>0.0</td>\n      <td>0.0</td>\n      <td>0.0</td>\n    </tr>\n    <tr>\n      <th>...</th>\n      <td>...</td>\n      <td>...</td>\n      <td>...</td>\n      <td>...</td>\n      <td>...</td>\n    </tr>\n    <tr>\n      <th>/home/gardzielb/sfw-brood-work/s10-o1/s10.0-o1.0/1_8_1_22_20220609_050000__37.wav</th>\n      <td>0.0</td>\n      <td>0.0</td>\n      <td>0.0</td>\n      <td>0.0</td>\n      <td>1.0</td>\n    </tr>\n    <tr>\n      <th>/home/gardzielb/sfw-brood-work/s10-o1/s10.0-o1.0/1_8_1_22_20220609_050000__38.wav</th>\n      <td>0.0</td>\n      <td>0.0</td>\n      <td>0.0</td>\n      <td>0.0</td>\n      <td>1.0</td>\n    </tr>\n    <tr>\n      <th>/home/gardzielb/sfw-brood-work/s10-o1/s10.0-o1.0/1_8_1_22_20220609_050000__39.wav</th>\n      <td>0.0</td>\n      <td>0.0</td>\n      <td>0.0</td>\n      <td>0.0</td>\n      <td>1.0</td>\n    </tr>\n    <tr>\n      <th>/home/gardzielb/sfw-brood-work/s10-o1/s10.0-o1.0/1_8_1_22_20220609_050000__40.wav</th>\n      <td>0.0</td>\n      <td>0.0</td>\n      <td>0.0</td>\n      <td>0.0</td>\n      <td>1.0</td>\n    </tr>\n    <tr>\n      <th>/home/gardzielb/sfw-brood-work/s10-o1/s10.0-o1.0/1_8_1_22_20220609_050000__29.wav</th>\n      <td>0.0</td>\n      <td>0.0</td>\n      <td>0.0</td>\n      <td>0.0</td>\n      <td>1.0</td>\n    </tr>\n  </tbody>\n</table>\n<p>9701 rows × 5 columns</p>\n</div>"
     },
     "execution_count": 138,
     "metadata": {},
     "output_type": "execute_result"
    }
   ],
   "source": [
    "test_df = pd.read_csv('_data.export/test-data.csv')\n",
    "test_df = test_df.set_index('file')\n",
    "test_df"
   ],
   "metadata": {
    "collapsed": false
   }
  },
  {
   "cell_type": "code",
   "execution_count": 136,
   "outputs": [
    {
     "data": {
      "text/plain": "                                                   file         0\n0     /home/gardzielb/sfw-brood-work/s10-o1/s10.0-o1...   0.0-5.5\n1     /home/gardzielb/sfw-brood-work/s10-o1/s10.0-o1...   0.0-5.5\n2     /home/gardzielb/sfw-brood-work/s10-o1/s10.0-o1...   0.0-5.5\n3     /home/gardzielb/sfw-brood-work/s10-o1/s10.0-o1...   0.0-5.5\n4     /home/gardzielb/sfw-brood-work/s10-o1/s10.0-o1...   0.0-5.5\n...                                                 ...       ...\n4552  /home/gardzielb/sfw-brood-work/s10-o1/s10.0-o1...  9.0-11.5\n4553  /home/gardzielb/sfw-brood-work/s10-o1/s10.0-o1...  9.0-11.5\n4554  /home/gardzielb/sfw-brood-work/s10-o1/s10.0-o1...  9.0-11.5\n4555  /home/gardzielb/sfw-brood-work/s10-o1/s10.0-o1...  9.0-11.5\n4556  /home/gardzielb/sfw-brood-work/s10-o1/s10.0-o1...  9.0-11.5\n\n[4557 rows x 2 columns]",
      "text/html": "<div>\n<style scoped>\n    .dataframe tbody tr th:only-of-type {\n        vertical-align: middle;\n    }\n\n    .dataframe tbody tr th {\n        vertical-align: top;\n    }\n\n    .dataframe thead th {\n        text-align: right;\n    }\n</style>\n<table border=\"1\" class=\"dataframe\">\n  <thead>\n    <tr style=\"text-align: right;\">\n      <th></th>\n      <th>file</th>\n      <th>0</th>\n    </tr>\n  </thead>\n  <tbody>\n    <tr>\n      <th>0</th>\n      <td>/home/gardzielb/sfw-brood-work/s10-o1/s10.0-o1...</td>\n      <td>0.0-5.5</td>\n    </tr>\n    <tr>\n      <th>1</th>\n      <td>/home/gardzielb/sfw-brood-work/s10-o1/s10.0-o1...</td>\n      <td>0.0-5.5</td>\n    </tr>\n    <tr>\n      <th>2</th>\n      <td>/home/gardzielb/sfw-brood-work/s10-o1/s10.0-o1...</td>\n      <td>0.0-5.5</td>\n    </tr>\n    <tr>\n      <th>3</th>\n      <td>/home/gardzielb/sfw-brood-work/s10-o1/s10.0-o1...</td>\n      <td>0.0-5.5</td>\n    </tr>\n    <tr>\n      <th>4</th>\n      <td>/home/gardzielb/sfw-brood-work/s10-o1/s10.0-o1...</td>\n      <td>0.0-5.5</td>\n    </tr>\n    <tr>\n      <th>...</th>\n      <td>...</td>\n      <td>...</td>\n    </tr>\n    <tr>\n      <th>4552</th>\n      <td>/home/gardzielb/sfw-brood-work/s10-o1/s10.0-o1...</td>\n      <td>9.0-11.5</td>\n    </tr>\n    <tr>\n      <th>4553</th>\n      <td>/home/gardzielb/sfw-brood-work/s10-o1/s10.0-o1...</td>\n      <td>9.0-11.5</td>\n    </tr>\n    <tr>\n      <th>4554</th>\n      <td>/home/gardzielb/sfw-brood-work/s10-o1/s10.0-o1...</td>\n      <td>9.0-11.5</td>\n    </tr>\n    <tr>\n      <th>4555</th>\n      <td>/home/gardzielb/sfw-brood-work/s10-o1/s10.0-o1...</td>\n      <td>9.0-11.5</td>\n    </tr>\n    <tr>\n      <th>4556</th>\n      <td>/home/gardzielb/sfw-brood-work/s10-o1/s10.0-o1...</td>\n      <td>9.0-11.5</td>\n    </tr>\n  </tbody>\n</table>\n<p>4557 rows × 2 columns</p>\n</div>"
     },
     "execution_count": 136,
     "metadata": {},
     "output_type": "execute_result"
    }
   ],
   "source": [
    "y_true = pd.read_csv('_data.export/y-true.csv')\n",
    "y_true"
   ],
   "metadata": {
    "collapsed": false
   }
  },
  {
   "cell_type": "code",
   "execution_count": 141,
   "outputs": [
    {
     "data": {
      "text/plain": "                                                    0.0-5.5  12.0-14.5  \\\nfile                                                                     \n/home/gardzielb/sfw-brood-work/s10-o1/s10.0-o1....      1.0        0.0   \n/home/gardzielb/sfw-brood-work/s10-o1/s10.0-o1....      1.0        0.0   \n/home/gardzielb/sfw-brood-work/s10-o1/s10.0-o1....      1.0        0.0   \n/home/gardzielb/sfw-brood-work/s10-o1/s10.0-o1....      1.0        0.0   \n/home/gardzielb/sfw-brood-work/s10-o1/s10.0-o1....      1.0        0.0   \n...                                                     ...        ...   \n/home/gardzielb/sfw-brood-work/s10-o1/s10.0-o1....      0.0        0.0   \n/home/gardzielb/sfw-brood-work/s10-o1/s10.0-o1....      0.0        0.0   \n/home/gardzielb/sfw-brood-work/s10-o1/s10.0-o1....      0.0        0.0   \n/home/gardzielb/sfw-brood-work/s10-o1/s10.0-o1....      0.0        0.0   \n/home/gardzielb/sfw-brood-work/s10-o1/s10.0-o1....      0.0        0.0   \n\n                                                    15.0-30.0  6.0-8.5  \\\nfile                                                                     \n/home/gardzielb/sfw-brood-work/s10-o1/s10.0-o1....        0.0      0.0   \n/home/gardzielb/sfw-brood-work/s10-o1/s10.0-o1....        0.0      0.0   \n/home/gardzielb/sfw-brood-work/s10-o1/s10.0-o1....        0.0      0.0   \n/home/gardzielb/sfw-brood-work/s10-o1/s10.0-o1....        0.0      0.0   \n/home/gardzielb/sfw-brood-work/s10-o1/s10.0-o1....        0.0      0.0   \n...                                                       ...      ...   \n/home/gardzielb/sfw-brood-work/s10-o1/s10.0-o1....        0.0      0.0   \n/home/gardzielb/sfw-brood-work/s10-o1/s10.0-o1....        0.0      0.0   \n/home/gardzielb/sfw-brood-work/s10-o1/s10.0-o1....        0.0      0.0   \n/home/gardzielb/sfw-brood-work/s10-o1/s10.0-o1....        0.0      0.0   \n/home/gardzielb/sfw-brood-work/s10-o1/s10.0-o1....        0.0      0.0   \n\n                                                    9.0-11.5  \nfile                                                          \n/home/gardzielb/sfw-brood-work/s10-o1/s10.0-o1....       0.0  \n/home/gardzielb/sfw-brood-work/s10-o1/s10.0-o1....       0.0  \n/home/gardzielb/sfw-brood-work/s10-o1/s10.0-o1....       0.0  \n/home/gardzielb/sfw-brood-work/s10-o1/s10.0-o1....       0.0  \n/home/gardzielb/sfw-brood-work/s10-o1/s10.0-o1....       0.0  \n...                                                      ...  \n/home/gardzielb/sfw-brood-work/s10-o1/s10.0-o1....       1.0  \n/home/gardzielb/sfw-brood-work/s10-o1/s10.0-o1....       1.0  \n/home/gardzielb/sfw-brood-work/s10-o1/s10.0-o1....       1.0  \n/home/gardzielb/sfw-brood-work/s10-o1/s10.0-o1....       1.0  \n/home/gardzielb/sfw-brood-work/s10-o1/s10.0-o1....       1.0  \n\n[4557 rows x 5 columns]",
      "text/html": "<div>\n<style scoped>\n    .dataframe tbody tr th:only-of-type {\n        vertical-align: middle;\n    }\n\n    .dataframe tbody tr th {\n        vertical-align: top;\n    }\n\n    .dataframe thead th {\n        text-align: right;\n    }\n</style>\n<table border=\"1\" class=\"dataframe\">\n  <thead>\n    <tr style=\"text-align: right;\">\n      <th></th>\n      <th>0.0-5.5</th>\n      <th>12.0-14.5</th>\n      <th>15.0-30.0</th>\n      <th>6.0-8.5</th>\n      <th>9.0-11.5</th>\n    </tr>\n    <tr>\n      <th>file</th>\n      <th></th>\n      <th></th>\n      <th></th>\n      <th></th>\n      <th></th>\n    </tr>\n  </thead>\n  <tbody>\n    <tr>\n      <th>/home/gardzielb/sfw-brood-work/s10-o1/s10.0-o1.0/1_8_1_22_20220604_200000__21.wav</th>\n      <td>1.0</td>\n      <td>0.0</td>\n      <td>0.0</td>\n      <td>0.0</td>\n      <td>0.0</td>\n    </tr>\n    <tr>\n      <th>/home/gardzielb/sfw-brood-work/s10-o1/s10.0-o1.0/1_8_1_22_20220604_200000__18.wav</th>\n      <td>1.0</td>\n      <td>0.0</td>\n      <td>0.0</td>\n      <td>0.0</td>\n      <td>0.0</td>\n    </tr>\n    <tr>\n      <th>/home/gardzielb/sfw-brood-work/s10-o1/s10.0-o1.0/1_8_1_22_20220604_200000__16.wav</th>\n      <td>1.0</td>\n      <td>0.0</td>\n      <td>0.0</td>\n      <td>0.0</td>\n      <td>0.0</td>\n    </tr>\n    <tr>\n      <th>/home/gardzielb/sfw-brood-work/s10-o1/s10.0-o1.0/1_8_1_22_20220604_200000__15.wav</th>\n      <td>1.0</td>\n      <td>0.0</td>\n      <td>0.0</td>\n      <td>0.0</td>\n      <td>0.0</td>\n    </tr>\n    <tr>\n      <th>/home/gardzielb/sfw-brood-work/s10-o1/s10.0-o1.0/1_8_1_22_20220604_200000__12.wav</th>\n      <td>1.0</td>\n      <td>0.0</td>\n      <td>0.0</td>\n      <td>0.0</td>\n      <td>0.0</td>\n    </tr>\n    <tr>\n      <th>...</th>\n      <td>...</td>\n      <td>...</td>\n      <td>...</td>\n      <td>...</td>\n      <td>...</td>\n    </tr>\n    <tr>\n      <th>/home/gardzielb/sfw-brood-work/s10-o1/s10.0-o1.0/1_8_1_22_20220609_050000__27.wav</th>\n      <td>0.0</td>\n      <td>0.0</td>\n      <td>0.0</td>\n      <td>0.0</td>\n      <td>1.0</td>\n    </tr>\n    <tr>\n      <th>/home/gardzielb/sfw-brood-work/s10-o1/s10.0-o1.0/1_8_1_22_20220609_050000__30.wav</th>\n      <td>0.0</td>\n      <td>0.0</td>\n      <td>0.0</td>\n      <td>0.0</td>\n      <td>1.0</td>\n    </tr>\n    <tr>\n      <th>/home/gardzielb/sfw-brood-work/s10-o1/s10.0-o1.0/1_8_1_22_20220609_050000__32.wav</th>\n      <td>0.0</td>\n      <td>0.0</td>\n      <td>0.0</td>\n      <td>0.0</td>\n      <td>1.0</td>\n    </tr>\n    <tr>\n      <th>/home/gardzielb/sfw-brood-work/s10-o1/s10.0-o1.0/1_8_1_22_20220609_050000__34.wav</th>\n      <td>0.0</td>\n      <td>0.0</td>\n      <td>0.0</td>\n      <td>0.0</td>\n      <td>1.0</td>\n    </tr>\n    <tr>\n      <th>/home/gardzielb/sfw-brood-work/s10-o1/s10.0-o1.0/1_8_1_22_20220609_050000__37.wav</th>\n      <td>0.0</td>\n      <td>0.0</td>\n      <td>0.0</td>\n      <td>0.0</td>\n      <td>1.0</td>\n    </tr>\n  </tbody>\n</table>\n<p>4557 rows × 5 columns</p>\n</div>"
     },
     "execution_count": 141,
     "metadata": {},
     "output_type": "execute_result"
    }
   ],
   "source": [
    "true_df = test_df.loc[pred_df.file, test_df.columns]\n",
    "true_df"
   ],
   "metadata": {
    "collapsed": false
   }
  },
  {
   "cell_type": "code",
   "execution_count": 143,
   "outputs": [
    {
     "data": {
      "text/plain": "9689"
     },
     "execution_count": 143,
     "metadata": {},
     "output_type": "execute_result"
    }
   ],
   "source": [
    "len(test_df.index.unique())"
   ],
   "metadata": {
    "collapsed": false
   }
  },
  {
   "cell_type": "code",
   "execution_count": 152,
   "outputs": [
    {
     "data": {
      "text/plain": "                                                    0.0-5.5  12.0-14.5  \\\nfile                                                                     \n/home/gardzielb/sfw-brood-work/s10-o1/s10.0-o1....      1.0        0.0   \n/home/gardzielb/sfw-brood-work/s10-o1/s10.0-o1....      1.0        0.0   \n/home/gardzielb/sfw-brood-work/s10-o1/s10.0-o1....      1.0        0.0   \n/home/gardzielb/sfw-brood-work/s10-o1/s10.0-o1....      1.0        0.0   \n/home/gardzielb/sfw-brood-work/s10-o1/s10.0-o1....      1.0        0.0   \n...                                                     ...        ...   \n/home/gardzielb/sfw-brood-work/s10-o1/s10.0-o1....      0.0        0.0   \n/home/gardzielb/sfw-brood-work/s10-o1/s10.0-o1....      0.0        0.0   \n/home/gardzielb/sfw-brood-work/s10-o1/s10.0-o1....      0.0        0.0   \n/home/gardzielb/sfw-brood-work/s10-o1/s10.0-o1....      0.0        0.0   \n/home/gardzielb/sfw-brood-work/s10-o1/s10.0-o1....      0.0        0.0   \n\n                                                    15.0-30.0  6.0-8.5  \\\nfile                                                                     \n/home/gardzielb/sfw-brood-work/s10-o1/s10.0-o1....        0.0      0.0   \n/home/gardzielb/sfw-brood-work/s10-o1/s10.0-o1....        0.0      0.0   \n/home/gardzielb/sfw-brood-work/s10-o1/s10.0-o1....        0.0      0.0   \n/home/gardzielb/sfw-brood-work/s10-o1/s10.0-o1....        0.0      0.0   \n/home/gardzielb/sfw-brood-work/s10-o1/s10.0-o1....        0.0      0.0   \n...                                                       ...      ...   \n/home/gardzielb/sfw-brood-work/s10-o1/s10.0-o1....        0.0      0.0   \n/home/gardzielb/sfw-brood-work/s10-o1/s10.0-o1....        0.0      0.0   \n/home/gardzielb/sfw-brood-work/s10-o1/s10.0-o1....        0.0      0.0   \n/home/gardzielb/sfw-brood-work/s10-o1/s10.0-o1....        0.0      0.0   \n/home/gardzielb/sfw-brood-work/s10-o1/s10.0-o1....        0.0      0.0   \n\n                                                    9.0-11.5  \nfile                                                          \n/home/gardzielb/sfw-brood-work/s10-o1/s10.0-o1....       0.0  \n/home/gardzielb/sfw-brood-work/s10-o1/s10.0-o1....       0.0  \n/home/gardzielb/sfw-brood-work/s10-o1/s10.0-o1....       0.0  \n/home/gardzielb/sfw-brood-work/s10-o1/s10.0-o1....       0.0  \n/home/gardzielb/sfw-brood-work/s10-o1/s10.0-o1....       0.0  \n...                                                      ...  \n/home/gardzielb/sfw-brood-work/s10-o1/s10.0-o1....       1.0  \n/home/gardzielb/sfw-brood-work/s10-o1/s10.0-o1....       1.0  \n/home/gardzielb/sfw-brood-work/s10-o1/s10.0-o1....       1.0  \n/home/gardzielb/sfw-brood-work/s10-o1/s10.0-o1....       1.0  \n/home/gardzielb/sfw-brood-work/s10-o1/s10.0-o1....       1.0  \n\n[4545 rows x 5 columns]",
      "text/html": "<div>\n<style scoped>\n    .dataframe tbody tr th:only-of-type {\n        vertical-align: middle;\n    }\n\n    .dataframe tbody tr th {\n        vertical-align: top;\n    }\n\n    .dataframe thead th {\n        text-align: right;\n    }\n</style>\n<table border=\"1\" class=\"dataframe\">\n  <thead>\n    <tr style=\"text-align: right;\">\n      <th></th>\n      <th>0.0-5.5</th>\n      <th>12.0-14.5</th>\n      <th>15.0-30.0</th>\n      <th>6.0-8.5</th>\n      <th>9.0-11.5</th>\n    </tr>\n    <tr>\n      <th>file</th>\n      <th></th>\n      <th></th>\n      <th></th>\n      <th></th>\n      <th></th>\n    </tr>\n  </thead>\n  <tbody>\n    <tr>\n      <th>/home/gardzielb/sfw-brood-work/s10-o1/s10.0-o1.0/1_8_1_22_20220604_200000__21.wav</th>\n      <td>1.0</td>\n      <td>0.0</td>\n      <td>0.0</td>\n      <td>0.0</td>\n      <td>0.0</td>\n    </tr>\n    <tr>\n      <th>/home/gardzielb/sfw-brood-work/s10-o1/s10.0-o1.0/1_8_1_22_20220604_200000__18.wav</th>\n      <td>1.0</td>\n      <td>0.0</td>\n      <td>0.0</td>\n      <td>0.0</td>\n      <td>0.0</td>\n    </tr>\n    <tr>\n      <th>/home/gardzielb/sfw-brood-work/s10-o1/s10.0-o1.0/1_8_1_22_20220604_200000__16.wav</th>\n      <td>1.0</td>\n      <td>0.0</td>\n      <td>0.0</td>\n      <td>0.0</td>\n      <td>0.0</td>\n    </tr>\n    <tr>\n      <th>/home/gardzielb/sfw-brood-work/s10-o1/s10.0-o1.0/1_8_1_22_20220604_200000__15.wav</th>\n      <td>1.0</td>\n      <td>0.0</td>\n      <td>0.0</td>\n      <td>0.0</td>\n      <td>0.0</td>\n    </tr>\n    <tr>\n      <th>/home/gardzielb/sfw-brood-work/s10-o1/s10.0-o1.0/1_8_1_22_20220604_200000__12.wav</th>\n      <td>1.0</td>\n      <td>0.0</td>\n      <td>0.0</td>\n      <td>0.0</td>\n      <td>0.0</td>\n    </tr>\n    <tr>\n      <th>...</th>\n      <td>...</td>\n      <td>...</td>\n      <td>...</td>\n      <td>...</td>\n      <td>...</td>\n    </tr>\n    <tr>\n      <th>/home/gardzielb/sfw-brood-work/s10-o1/s10.0-o1.0/1_8_1_22_20220609_050000__27.wav</th>\n      <td>0.0</td>\n      <td>0.0</td>\n      <td>0.0</td>\n      <td>0.0</td>\n      <td>1.0</td>\n    </tr>\n    <tr>\n      <th>/home/gardzielb/sfw-brood-work/s10-o1/s10.0-o1.0/1_8_1_22_20220609_050000__30.wav</th>\n      <td>0.0</td>\n      <td>0.0</td>\n      <td>0.0</td>\n      <td>0.0</td>\n      <td>1.0</td>\n    </tr>\n    <tr>\n      <th>/home/gardzielb/sfw-brood-work/s10-o1/s10.0-o1.0/1_8_1_22_20220609_050000__32.wav</th>\n      <td>0.0</td>\n      <td>0.0</td>\n      <td>0.0</td>\n      <td>0.0</td>\n      <td>1.0</td>\n    </tr>\n    <tr>\n      <th>/home/gardzielb/sfw-brood-work/s10-o1/s10.0-o1.0/1_8_1_22_20220609_050000__34.wav</th>\n      <td>0.0</td>\n      <td>0.0</td>\n      <td>0.0</td>\n      <td>0.0</td>\n      <td>1.0</td>\n    </tr>\n    <tr>\n      <th>/home/gardzielb/sfw-brood-work/s10-o1/s10.0-o1.0/1_8_1_22_20220609_050000__37.wav</th>\n      <td>0.0</td>\n      <td>0.0</td>\n      <td>0.0</td>\n      <td>0.0</td>\n      <td>1.0</td>\n    </tr>\n  </tbody>\n</table>\n<p>4545 rows × 5 columns</p>\n</div>"
     },
     "execution_count": 152,
     "metadata": {},
     "output_type": "execute_result"
    }
   ],
   "source": [
    "test_df.loc[~test_df.index.duplicated(keep = 'first')].loc[pred_df.file, test_df.columns]"
   ],
   "metadata": {
    "collapsed": false
   }
  },
  {
   "cell_type": "code",
   "execution_count": 153,
   "outputs": [
    {
     "data": {
      "text/plain": "                                                    0.0-5.5  12.0-14.5  \\\nfile                                                                     \n/home/gardzielb/sfw-brood-work/s10-o1/s10.0-o1....      0.0        1.0   \n/home/gardzielb/sfw-brood-work/s10-o1/s10.0-o1....      0.0        1.0   \n/home/gardzielb/sfw-brood-work/s10-o1/s10.0-o1....      0.0        1.0   \n/home/gardzielb/sfw-brood-work/s10-o1/s10.0-o1....      0.0        1.0   \n/home/gardzielb/sfw-brood-work/s10-o1/s10.0-o1....      0.0        1.0   \n/home/gardzielb/sfw-brood-work/s10-o1/s10.0-o1....      0.0        1.0   \n/home/gardzielb/sfw-brood-work/s10-o1/s10.0-o1....      0.0        1.0   \n/home/gardzielb/sfw-brood-work/s10-o1/s10.0-o1....      0.0        1.0   \n/home/gardzielb/sfw-brood-work/s10-o1/s10.0-o1....      0.0        0.0   \n/home/gardzielb/sfw-brood-work/s10-o1/s10.0-o1....      0.0        0.0   \n/home/gardzielb/sfw-brood-work/s10-o1/s10.0-o1....      0.0        0.0   \n/home/gardzielb/sfw-brood-work/s10-o1/s10.0-o1....      0.0        0.0   \n\n                                                    15.0-30.0  6.0-8.5  \\\nfile                                                                     \n/home/gardzielb/sfw-brood-work/s10-o1/s10.0-o1....        0.0      0.0   \n/home/gardzielb/sfw-brood-work/s10-o1/s10.0-o1....        0.0      0.0   \n/home/gardzielb/sfw-brood-work/s10-o1/s10.0-o1....        0.0      0.0   \n/home/gardzielb/sfw-brood-work/s10-o1/s10.0-o1....        0.0      0.0   \n/home/gardzielb/sfw-brood-work/s10-o1/s10.0-o1....        0.0      0.0   \n/home/gardzielb/sfw-brood-work/s10-o1/s10.0-o1....        0.0      0.0   \n/home/gardzielb/sfw-brood-work/s10-o1/s10.0-o1....        0.0      0.0   \n/home/gardzielb/sfw-brood-work/s10-o1/s10.0-o1....        0.0      0.0   \n/home/gardzielb/sfw-brood-work/s10-o1/s10.0-o1....        1.0      0.0   \n/home/gardzielb/sfw-brood-work/s10-o1/s10.0-o1....        1.0      0.0   \n/home/gardzielb/sfw-brood-work/s10-o1/s10.0-o1....        1.0      0.0   \n/home/gardzielb/sfw-brood-work/s10-o1/s10.0-o1....        1.0      0.0   \n\n                                                    9.0-11.5  \nfile                                                          \n/home/gardzielb/sfw-brood-work/s10-o1/s10.0-o1....       0.0  \n/home/gardzielb/sfw-brood-work/s10-o1/s10.0-o1....       0.0  \n/home/gardzielb/sfw-brood-work/s10-o1/s10.0-o1....       0.0  \n/home/gardzielb/sfw-brood-work/s10-o1/s10.0-o1....       0.0  \n/home/gardzielb/sfw-brood-work/s10-o1/s10.0-o1....       0.0  \n/home/gardzielb/sfw-brood-work/s10-o1/s10.0-o1....       0.0  \n/home/gardzielb/sfw-brood-work/s10-o1/s10.0-o1....       0.0  \n/home/gardzielb/sfw-brood-work/s10-o1/s10.0-o1....       0.0  \n/home/gardzielb/sfw-brood-work/s10-o1/s10.0-o1....       0.0  \n/home/gardzielb/sfw-brood-work/s10-o1/s10.0-o1....       0.0  \n/home/gardzielb/sfw-brood-work/s10-o1/s10.0-o1....       0.0  \n/home/gardzielb/sfw-brood-work/s10-o1/s10.0-o1....       0.0  ",
      "text/html": "<div>\n<style scoped>\n    .dataframe tbody tr th:only-of-type {\n        vertical-align: middle;\n    }\n\n    .dataframe tbody tr th {\n        vertical-align: top;\n    }\n\n    .dataframe thead th {\n        text-align: right;\n    }\n</style>\n<table border=\"1\" class=\"dataframe\">\n  <thead>\n    <tr style=\"text-align: right;\">\n      <th></th>\n      <th>0.0-5.5</th>\n      <th>12.0-14.5</th>\n      <th>15.0-30.0</th>\n      <th>6.0-8.5</th>\n      <th>9.0-11.5</th>\n    </tr>\n    <tr>\n      <th>file</th>\n      <th></th>\n      <th></th>\n      <th></th>\n      <th></th>\n      <th></th>\n    </tr>\n  </thead>\n  <tbody>\n    <tr>\n      <th>/home/gardzielb/sfw-brood-work/s10-o1/s10.0-o1.0/10_1_1_22_20220627_160000__0.wav</th>\n      <td>0.0</td>\n      <td>1.0</td>\n      <td>0.0</td>\n      <td>0.0</td>\n      <td>0.0</td>\n    </tr>\n    <tr>\n      <th>/home/gardzielb/sfw-brood-work/s10-o1/s10.0-o1.0/10_1_1_22_20220627_170000__5.wav</th>\n      <td>0.0</td>\n      <td>1.0</td>\n      <td>0.0</td>\n      <td>0.0</td>\n      <td>0.0</td>\n    </tr>\n    <tr>\n      <th>/home/gardzielb/sfw-brood-work/s10-o1/s10.0-o1.0/10_1_1_22_20220627_170000__6.wav</th>\n      <td>0.0</td>\n      <td>1.0</td>\n      <td>0.0</td>\n      <td>0.0</td>\n      <td>0.0</td>\n    </tr>\n    <tr>\n      <th>/home/gardzielb/sfw-brood-work/s10-o1/s10.0-o1.0/10_1_1_22_20220627_170000__4.wav</th>\n      <td>0.0</td>\n      <td>1.0</td>\n      <td>0.0</td>\n      <td>0.0</td>\n      <td>0.0</td>\n    </tr>\n    <tr>\n      <th>/home/gardzielb/sfw-brood-work/s10-o1/s10.0-o1.0/10_1_1_22_20220627_170000__3.wav</th>\n      <td>0.0</td>\n      <td>1.0</td>\n      <td>0.0</td>\n      <td>0.0</td>\n      <td>0.0</td>\n    </tr>\n    <tr>\n      <th>/home/gardzielb/sfw-brood-work/s10-o1/s10.0-o1.0/10_1_1_22_20220627_170000__0.wav</th>\n      <td>0.0</td>\n      <td>1.0</td>\n      <td>0.0</td>\n      <td>0.0</td>\n      <td>0.0</td>\n    </tr>\n    <tr>\n      <th>/home/gardzielb/sfw-brood-work/s10-o1/s10.0-o1.0/10_1_1_22_20220627_170000__2.wav</th>\n      <td>0.0</td>\n      <td>1.0</td>\n      <td>0.0</td>\n      <td>0.0</td>\n      <td>0.0</td>\n    </tr>\n    <tr>\n      <th>/home/gardzielb/sfw-brood-work/s10-o1/s10.0-o1.0/10_1_1_22_20220627_170000__1.wav</th>\n      <td>0.0</td>\n      <td>1.0</td>\n      <td>0.0</td>\n      <td>0.0</td>\n      <td>0.0</td>\n    </tr>\n    <tr>\n      <th>/home/gardzielb/sfw-brood-work/s10-o1/s10.0-o1.0/1_6_1_22_20220615_090000__3.wav</th>\n      <td>0.0</td>\n      <td>0.0</td>\n      <td>1.0</td>\n      <td>0.0</td>\n      <td>0.0</td>\n    </tr>\n    <tr>\n      <th>/home/gardzielb/sfw-brood-work/s10-o1/s10.0-o1.0/1_6_1_22_20220615_090000__2.wav</th>\n      <td>0.0</td>\n      <td>0.0</td>\n      <td>1.0</td>\n      <td>0.0</td>\n      <td>0.0</td>\n    </tr>\n    <tr>\n      <th>/home/gardzielb/sfw-brood-work/s10-o1/s10.0-o1.0/1_6_1_22_20220615_090000__1.wav</th>\n      <td>0.0</td>\n      <td>0.0</td>\n      <td>1.0</td>\n      <td>0.0</td>\n      <td>0.0</td>\n    </tr>\n    <tr>\n      <th>/home/gardzielb/sfw-brood-work/s10-o1/s10.0-o1.0/1_6_1_22_20220615_090000__0.wav</th>\n      <td>0.0</td>\n      <td>0.0</td>\n      <td>1.0</td>\n      <td>0.0</td>\n      <td>0.0</td>\n    </tr>\n  </tbody>\n</table>\n</div>"
     },
     "execution_count": 153,
     "metadata": {},
     "output_type": "execute_result"
    }
   ],
   "source": [
    "test_df.loc[test_df.index.duplicated(keep = 'first')]"
   ],
   "metadata": {
    "collapsed": false
   }
  },
  {
   "cell_type": "code",
   "execution_count": null,
   "outputs": [],
   "source": [],
   "metadata": {
    "collapsed": false
   }
  }
 ],
 "metadata": {
  "kernelspec": {
   "display_name": "Python 3",
   "language": "python",
   "name": "python3"
  },
  "language_info": {
   "codemirror_mode": {
    "name": "ipython",
    "version": 2
   },
   "file_extension": ".py",
   "mimetype": "text/x-python",
   "name": "python",
   "nbconvert_exporter": "python",
   "pygments_lexer": "ipython2",
   "version": "2.7.6"
  }
 },
 "nbformat": 4,
 "nbformat_minor": 0
}
