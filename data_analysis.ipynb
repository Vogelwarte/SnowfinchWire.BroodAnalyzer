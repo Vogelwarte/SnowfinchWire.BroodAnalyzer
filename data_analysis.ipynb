{
 "cells": [
  {
   "cell_type": "code",
   "execution_count": 80,
   "metadata": {
    "collapsed": true
   },
   "outputs": [],
   "source": [
    "import matplotlib.pyplot as plt\n",
    "import pandas as pd"
   ]
  },
  {
   "cell_type": "code",
   "execution_count": 81,
   "outputs": [
    {
     "name": "stderr",
     "output_type": "stream",
     "text": [
      "UsageError: Line magic function `%` not found.\n"
     ]
    }
   ],
   "source": [
    "% matplotlib tk"
   ],
   "metadata": {
    "collapsed": false
   }
  },
  {
   "cell_type": "code",
   "execution_count": 82,
   "outputs": [],
   "source": [
    "def extract_rec_name(file_name: str) -> str:\n",
    "\tend_idx = file_name.rindex('__')\n",
    "\treturn file_name[:end_idx]\n",
    "\n",
    "\n",
    "def count_samples_per_file(df: pd.DataFrame) -> pd.DataFrame:\n",
    "\tagg_df = pd.DataFrame(\n",
    "\t\tdata = {\n",
    "\t\t\t'class': df['class'],\n",
    "\t\t\t'recording': df['file'].apply(extract_rec_name)\n",
    "\t\t}\n",
    "\t)\n",
    "\n",
    "\tagg_features = ['recording', 'class']\n",
    "\tagg_df = agg_df.reset_index().groupby(agg_features).count()\n",
    "\n",
    "\treturn agg_df.rename(columns = { 'index': 'sample_count' }).sort_values(by = 'class').reset_index()"
   ],
   "metadata": {
    "collapsed": false
   }
  },
  {
   "cell_type": "code",
   "execution_count": 83,
   "outputs": [],
   "source": [
    "def plot_sample_count(df: pd.DataFrame, x_label_col: str, x_rotation: str, x_label: str, title: str):\n",
    "\tall_colors = list(plt.get_cmap('Set3').colors)\n",
    "\tcolor_map = { }\n",
    "\tclass_colors = []\n",
    "\n",
    "\tfor i, cls in enumerate(df['class'].unique()):\n",
    "\t\tcolor_map[cls] = all_colors[i]\n",
    "\n",
    "\tfor cls in df['class']:\n",
    "\t\tclass_colors.append(color_map[cls])\n",
    "\n",
    "\tplt.figure()\n",
    "\n",
    "\tplt.bar(df[x_label_col], df['sample_count'], color = class_colors)\n",
    "\t# x_tick_labels = df[x_label_col]\n",
    "\t# if x_tick_labels.dtype == 'object':\n",
    "\t# \tx_tick_labels = [f'{label[:11]}...' for label in x_tick_labels]\n",
    "\n",
    "\tplt.xticks(df[x_label_col], rotation = x_rotation)\n",
    "\tplt.xlabel(x_label)\n",
    "\tplt.title(title)\n",
    "\n",
    "\thandles = [plt.Rectangle((0, 0), 1, 1, color = color_map[label]) for label in df['class'].unique()]\n",
    "\tplt.legend(handles, df['class'].unique())\n",
    "\n",
    "\tplt.show()\n",
    "\n",
    "# if save_figs:\n",
    "# \tplt.savefig(f'_out/{x_label}.pdf')\n",
    "# else:\n",
    "# \tplt.show()"
   ],
   "metadata": {
    "collapsed": false
   }
  },
  {
   "cell_type": "markdown",
   "source": [
    "## Brood size"
   ],
   "metadata": {
    "collapsed": false
   }
  },
  {
   "cell_type": "code",
   "execution_count": 84,
   "outputs": [
    {
     "data": {
      "text/plain": "                                                    file    event  is_silence  \\\n0      AT_1_3_1_22-BA12_BS03-24E144045FDEF471_2022061...  contact       False   \n1      AT_1_3_1_22-BA12_BS03-24E144045FDEF471_2022061...  contact       False   \n2      AT_1_3_1_22-BA12_BS03-24E144045FDEF471_2022061...  contact       False   \n3      AT_1_3_1_22-BA12_BS03-24E144045FDEF471_2022061...  contact       False   \n4      AT_1_3_1_22-BA12_BS03-24E144045FDEF471_2022061...  contact       False   \n...                                                  ...      ...         ...   \n52921  Furka33_22a-BA17_BS02-248D9B02603706BB_2022072...  contact       False   \n52922  Furka33_22a-BA17_BS02-248D9B02603706BB_2022072...  contact       False   \n52923  Furka33_22a-BA17_BS02-248D9B02603706BB_2022072...  contact       False   \n52924  Furka33_22a-BA17_BS02-248D9B02603706BB_2022072...  contact       False   \n52925  Furka33_22a-BA17_BS02-248D9B02603706BB_2022072...  contact       False   \n\n       class  2  3  4  5  \n0          3  0  1  0  0  \n1          3  0  1  0  0  \n2          3  0  1  0  0  \n3          3  0  1  0  0  \n4          3  0  1  0  0  \n...      ... .. .. .. ..  \n52921      2  1  0  0  0  \n52922      2  1  0  0  0  \n52923      2  1  0  0  0  \n52924      2  1  0  0  0  \n52925      2  1  0  0  0  \n\n[52926 rows x 8 columns]",
      "text/html": "<div>\n<style scoped>\n    .dataframe tbody tr th:only-of-type {\n        vertical-align: middle;\n    }\n\n    .dataframe tbody tr th {\n        vertical-align: top;\n    }\n\n    .dataframe thead th {\n        text-align: right;\n    }\n</style>\n<table border=\"1\" class=\"dataframe\">\n  <thead>\n    <tr style=\"text-align: right;\">\n      <th></th>\n      <th>file</th>\n      <th>event</th>\n      <th>is_silence</th>\n      <th>class</th>\n      <th>2</th>\n      <th>3</th>\n      <th>4</th>\n      <th>5</th>\n    </tr>\n  </thead>\n  <tbody>\n    <tr>\n      <th>0</th>\n      <td>AT_1_3_1_22-BA12_BS03-24E144045FDEF471_2022061...</td>\n      <td>contact</td>\n      <td>False</td>\n      <td>3</td>\n      <td>0</td>\n      <td>1</td>\n      <td>0</td>\n      <td>0</td>\n    </tr>\n    <tr>\n      <th>1</th>\n      <td>AT_1_3_1_22-BA12_BS03-24E144045FDEF471_2022061...</td>\n      <td>contact</td>\n      <td>False</td>\n      <td>3</td>\n      <td>0</td>\n      <td>1</td>\n      <td>0</td>\n      <td>0</td>\n    </tr>\n    <tr>\n      <th>2</th>\n      <td>AT_1_3_1_22-BA12_BS03-24E144045FDEF471_2022061...</td>\n      <td>contact</td>\n      <td>False</td>\n      <td>3</td>\n      <td>0</td>\n      <td>1</td>\n      <td>0</td>\n      <td>0</td>\n    </tr>\n    <tr>\n      <th>3</th>\n      <td>AT_1_3_1_22-BA12_BS03-24E144045FDEF471_2022061...</td>\n      <td>contact</td>\n      <td>False</td>\n      <td>3</td>\n      <td>0</td>\n      <td>1</td>\n      <td>0</td>\n      <td>0</td>\n    </tr>\n    <tr>\n      <th>4</th>\n      <td>AT_1_3_1_22-BA12_BS03-24E144045FDEF471_2022061...</td>\n      <td>contact</td>\n      <td>False</td>\n      <td>3</td>\n      <td>0</td>\n      <td>1</td>\n      <td>0</td>\n      <td>0</td>\n    </tr>\n    <tr>\n      <th>...</th>\n      <td>...</td>\n      <td>...</td>\n      <td>...</td>\n      <td>...</td>\n      <td>...</td>\n      <td>...</td>\n      <td>...</td>\n      <td>...</td>\n    </tr>\n    <tr>\n      <th>52921</th>\n      <td>Furka33_22a-BA17_BS02-248D9B02603706BB_2022072...</td>\n      <td>contact</td>\n      <td>False</td>\n      <td>2</td>\n      <td>1</td>\n      <td>0</td>\n      <td>0</td>\n      <td>0</td>\n    </tr>\n    <tr>\n      <th>52922</th>\n      <td>Furka33_22a-BA17_BS02-248D9B02603706BB_2022072...</td>\n      <td>contact</td>\n      <td>False</td>\n      <td>2</td>\n      <td>1</td>\n      <td>0</td>\n      <td>0</td>\n      <td>0</td>\n    </tr>\n    <tr>\n      <th>52923</th>\n      <td>Furka33_22a-BA17_BS02-248D9B02603706BB_2022072...</td>\n      <td>contact</td>\n      <td>False</td>\n      <td>2</td>\n      <td>1</td>\n      <td>0</td>\n      <td>0</td>\n      <td>0</td>\n    </tr>\n    <tr>\n      <th>52924</th>\n      <td>Furka33_22a-BA17_BS02-248D9B02603706BB_2022072...</td>\n      <td>contact</td>\n      <td>False</td>\n      <td>2</td>\n      <td>1</td>\n      <td>0</td>\n      <td>0</td>\n      <td>0</td>\n    </tr>\n    <tr>\n      <th>52925</th>\n      <td>Furka33_22a-BA17_BS02-248D9B02603706BB_2022072...</td>\n      <td>contact</td>\n      <td>False</td>\n      <td>2</td>\n      <td>1</td>\n      <td>0</td>\n      <td>0</td>\n      <td>0</td>\n    </tr>\n  </tbody>\n</table>\n<p>52926 rows × 8 columns</p>\n</div>"
     },
     "execution_count": 84,
     "metadata": {},
     "output_type": "execute_result"
    }
   ],
   "source": [
    "bs_data = pd.read_csv('_data.export/s2.0-o1.0/brood-size.csv')\n",
    "bs_data"
   ],
   "metadata": {
    "collapsed": false
   }
  },
  {
   "cell_type": "code",
   "execution_count": 85,
   "outputs": [
    {
     "data": {
      "text/plain": "              recording  class  sample_count\n0   AT_1_2_1_22-BA04...      2           361\n1   AT_1_2_1_22-BA10...      2          2142\n2   Furka33_22a-BA17...      2          2667\n3   Furka33_22a-BA05...      2          1158\n4   AT_1_3_1_22-BA12...      3           142\n5   AT_1_3_1_22-BA17...      3          1711\n6   AT_1_6_1_22-BA06...      3           424\n7   AT_1_6_1_22-BA13...      3          2446\n8   Furka31_22a-BA16...      3          2531\n9   Furka31_22a-BA04...      3           876\n10  Furka34_22a-BA11...      4          3233\n11  Furka34_22a-BA07...      4          1348\n12  Furka14_22a-BA13...      4          2206\n13  Furka14_22a-BA02...      4           536\n14  Joch4_22a-BA18_B...      4            46\n15  Furka12_22a-BA14...      4          3558\n16  Joch4_22a-BA15_B...      4          2714\n17  Furka10_22a-BA12...      4          3272\n18  Furka10_22a-BA03...      4           855\n19  AT_2_2_1_22-BA12...      4           837\n20  AT_2_2_1_22-BA08...      4          2180\n21  AT_1_8_1_22-BA11...      4          1541\n22  AT_1_8_1_22-BA09...      4          1084\n23  Furka13_22a-BA15...      5          3586\n24  Furka13_22a-BA08...      5          2914\n25  Furka12_22a-BA06...      5          2613",
      "text/html": "<div>\n<style scoped>\n    .dataframe tbody tr th:only-of-type {\n        vertical-align: middle;\n    }\n\n    .dataframe tbody tr th {\n        vertical-align: top;\n    }\n\n    .dataframe thead th {\n        text-align: right;\n    }\n</style>\n<table border=\"1\" class=\"dataframe\">\n  <thead>\n    <tr style=\"text-align: right;\">\n      <th></th>\n      <th>recording</th>\n      <th>class</th>\n      <th>sample_count</th>\n    </tr>\n  </thead>\n  <tbody>\n    <tr>\n      <th>0</th>\n      <td>AT_1_2_1_22-BA04...</td>\n      <td>2</td>\n      <td>361</td>\n    </tr>\n    <tr>\n      <th>1</th>\n      <td>AT_1_2_1_22-BA10...</td>\n      <td>2</td>\n      <td>2142</td>\n    </tr>\n    <tr>\n      <th>2</th>\n      <td>Furka33_22a-BA17...</td>\n      <td>2</td>\n      <td>2667</td>\n    </tr>\n    <tr>\n      <th>3</th>\n      <td>Furka33_22a-BA05...</td>\n      <td>2</td>\n      <td>1158</td>\n    </tr>\n    <tr>\n      <th>4</th>\n      <td>AT_1_3_1_22-BA12...</td>\n      <td>3</td>\n      <td>142</td>\n    </tr>\n    <tr>\n      <th>5</th>\n      <td>AT_1_3_1_22-BA17...</td>\n      <td>3</td>\n      <td>1711</td>\n    </tr>\n    <tr>\n      <th>6</th>\n      <td>AT_1_6_1_22-BA06...</td>\n      <td>3</td>\n      <td>424</td>\n    </tr>\n    <tr>\n      <th>7</th>\n      <td>AT_1_6_1_22-BA13...</td>\n      <td>3</td>\n      <td>2446</td>\n    </tr>\n    <tr>\n      <th>8</th>\n      <td>Furka31_22a-BA16...</td>\n      <td>3</td>\n      <td>2531</td>\n    </tr>\n    <tr>\n      <th>9</th>\n      <td>Furka31_22a-BA04...</td>\n      <td>3</td>\n      <td>876</td>\n    </tr>\n    <tr>\n      <th>10</th>\n      <td>Furka34_22a-BA11...</td>\n      <td>4</td>\n      <td>3233</td>\n    </tr>\n    <tr>\n      <th>11</th>\n      <td>Furka34_22a-BA07...</td>\n      <td>4</td>\n      <td>1348</td>\n    </tr>\n    <tr>\n      <th>12</th>\n      <td>Furka14_22a-BA13...</td>\n      <td>4</td>\n      <td>2206</td>\n    </tr>\n    <tr>\n      <th>13</th>\n      <td>Furka14_22a-BA02...</td>\n      <td>4</td>\n      <td>536</td>\n    </tr>\n    <tr>\n      <th>14</th>\n      <td>Joch4_22a-BA18_B...</td>\n      <td>4</td>\n      <td>46</td>\n    </tr>\n    <tr>\n      <th>15</th>\n      <td>Furka12_22a-BA14...</td>\n      <td>4</td>\n      <td>3558</td>\n    </tr>\n    <tr>\n      <th>16</th>\n      <td>Joch4_22a-BA15_B...</td>\n      <td>4</td>\n      <td>2714</td>\n    </tr>\n    <tr>\n      <th>17</th>\n      <td>Furka10_22a-BA12...</td>\n      <td>4</td>\n      <td>3272</td>\n    </tr>\n    <tr>\n      <th>18</th>\n      <td>Furka10_22a-BA03...</td>\n      <td>4</td>\n      <td>855</td>\n    </tr>\n    <tr>\n      <th>19</th>\n      <td>AT_2_2_1_22-BA12...</td>\n      <td>4</td>\n      <td>837</td>\n    </tr>\n    <tr>\n      <th>20</th>\n      <td>AT_2_2_1_22-BA08...</td>\n      <td>4</td>\n      <td>2180</td>\n    </tr>\n    <tr>\n      <th>21</th>\n      <td>AT_1_8_1_22-BA11...</td>\n      <td>4</td>\n      <td>1541</td>\n    </tr>\n    <tr>\n      <th>22</th>\n      <td>AT_1_8_1_22-BA09...</td>\n      <td>4</td>\n      <td>1084</td>\n    </tr>\n    <tr>\n      <th>23</th>\n      <td>Furka13_22a-BA15...</td>\n      <td>5</td>\n      <td>3586</td>\n    </tr>\n    <tr>\n      <th>24</th>\n      <td>Furka13_22a-BA08...</td>\n      <td>5</td>\n      <td>2914</td>\n    </tr>\n    <tr>\n      <th>25</th>\n      <td>Furka12_22a-BA06...</td>\n      <td>5</td>\n      <td>2613</td>\n    </tr>\n  </tbody>\n</table>\n</div>"
     },
     "execution_count": 85,
     "metadata": {},
     "output_type": "execute_result"
    }
   ],
   "source": [
    "bs_agg_df = count_samples_per_file(bs_data[~bs_data['is_silence']])\n",
    "bs_agg_df['recording'] = bs_agg_df['recording'].apply(lambda rec: f'{rec[:16]}...')\n",
    "bs_agg_df"
   ],
   "metadata": {
    "collapsed": false
   }
  },
  {
   "cell_type": "code",
   "execution_count": 86,
   "outputs": [
    {
     "data": {
      "text/plain": "   class  sample_count\n0      2          6328\n1      3          8130\n2      4         23410\n3      5          9113",
      "text/html": "<div>\n<style scoped>\n    .dataframe tbody tr th:only-of-type {\n        vertical-align: middle;\n    }\n\n    .dataframe tbody tr th {\n        vertical-align: top;\n    }\n\n    .dataframe thead th {\n        text-align: right;\n    }\n</style>\n<table border=\"1\" class=\"dataframe\">\n  <thead>\n    <tr style=\"text-align: right;\">\n      <th></th>\n      <th>class</th>\n      <th>sample_count</th>\n    </tr>\n  </thead>\n  <tbody>\n    <tr>\n      <th>0</th>\n      <td>2</td>\n      <td>6328</td>\n    </tr>\n    <tr>\n      <th>1</th>\n      <td>3</td>\n      <td>8130</td>\n    </tr>\n    <tr>\n      <th>2</th>\n      <td>4</td>\n      <td>23410</td>\n    </tr>\n    <tr>\n      <th>3</th>\n      <td>5</td>\n      <td>9113</td>\n    </tr>\n  </tbody>\n</table>\n</div>"
     },
     "execution_count": 86,
     "metadata": {},
     "output_type": "execute_result"
    }
   ],
   "source": [
    "bs_cls_agg_df = bs_agg_df[['class', 'sample_count']].groupby('class').sum().reset_index()\n",
    "bs_cls_agg_df"
   ],
   "metadata": {
    "collapsed": false
   }
  },
  {
   "cell_type": "code",
   "execution_count": 93,
   "outputs": [
    {
     "data": {
      "text/plain": "              recording  class  sample_count\n0   AT_1_2_1_22-BA04...      2           200\n1   AT_1_2_1_22-BA10...      2           182\n2   Furka33_22a-BA17...      2            26\n3   Furka33_22a-BA05...      2           211\n4   AT_1_3_1_22-BA12...      3            14\n5   AT_1_3_1_22-BA17...      3           366\n6   AT_1_6_1_22-BA06...      3           171\n7   AT_1_6_1_22-BA13...      3           202\n8   Furka31_22a-BA16...      3           103\n9   Furka31_22a-BA04...      3           286\n10  Furka34_22a-BA11...      4           203\n11  Furka34_22a-BA07...      4           307\n12  Furka14_22a-BA13...      4           126\n13  Furka14_22a-BA02...      4           249\n14  Joch4_22a-BA18_B...      4            29\n15  Furka12_22a-BA14...      4           370\n16  Joch4_22a-BA15_B...      4            84\n17  Furka10_22a-BA12...      4           136\n18  Furka10_22a-BA03...      4           651\n19  AT_2_2_1_22-BA12...      4           153\n20  AT_2_2_1_22-BA08...      4           248\n21  AT_1_8_1_22-BA11...      4           351\n22  AT_1_8_1_22-BA09...      4           301\n23  Furka13_22a-BA15...      5            66\n24  Furka13_22a-BA08...      5           399\n25  Furka12_22a-BA06...      5           419",
      "text/html": "<div>\n<style scoped>\n    .dataframe tbody tr th:only-of-type {\n        vertical-align: middle;\n    }\n\n    .dataframe tbody tr th {\n        vertical-align: top;\n    }\n\n    .dataframe thead th {\n        text-align: right;\n    }\n</style>\n<table border=\"1\" class=\"dataframe\">\n  <thead>\n    <tr style=\"text-align: right;\">\n      <th></th>\n      <th>recording</th>\n      <th>class</th>\n      <th>sample_count</th>\n    </tr>\n  </thead>\n  <tbody>\n    <tr>\n      <th>0</th>\n      <td>AT_1_2_1_22-BA04...</td>\n      <td>2</td>\n      <td>200</td>\n    </tr>\n    <tr>\n      <th>1</th>\n      <td>AT_1_2_1_22-BA10...</td>\n      <td>2</td>\n      <td>182</td>\n    </tr>\n    <tr>\n      <th>2</th>\n      <td>Furka33_22a-BA17...</td>\n      <td>2</td>\n      <td>26</td>\n    </tr>\n    <tr>\n      <th>3</th>\n      <td>Furka33_22a-BA05...</td>\n      <td>2</td>\n      <td>211</td>\n    </tr>\n    <tr>\n      <th>4</th>\n      <td>AT_1_3_1_22-BA12...</td>\n      <td>3</td>\n      <td>14</td>\n    </tr>\n    <tr>\n      <th>5</th>\n      <td>AT_1_3_1_22-BA17...</td>\n      <td>3</td>\n      <td>366</td>\n    </tr>\n    <tr>\n      <th>6</th>\n      <td>AT_1_6_1_22-BA06...</td>\n      <td>3</td>\n      <td>171</td>\n    </tr>\n    <tr>\n      <th>7</th>\n      <td>AT_1_6_1_22-BA13...</td>\n      <td>3</td>\n      <td>202</td>\n    </tr>\n    <tr>\n      <th>8</th>\n      <td>Furka31_22a-BA16...</td>\n      <td>3</td>\n      <td>103</td>\n    </tr>\n    <tr>\n      <th>9</th>\n      <td>Furka31_22a-BA04...</td>\n      <td>3</td>\n      <td>286</td>\n    </tr>\n    <tr>\n      <th>10</th>\n      <td>Furka34_22a-BA11...</td>\n      <td>4</td>\n      <td>203</td>\n    </tr>\n    <tr>\n      <th>11</th>\n      <td>Furka34_22a-BA07...</td>\n      <td>4</td>\n      <td>307</td>\n    </tr>\n    <tr>\n      <th>12</th>\n      <td>Furka14_22a-BA13...</td>\n      <td>4</td>\n      <td>126</td>\n    </tr>\n    <tr>\n      <th>13</th>\n      <td>Furka14_22a-BA02...</td>\n      <td>4</td>\n      <td>249</td>\n    </tr>\n    <tr>\n      <th>14</th>\n      <td>Joch4_22a-BA18_B...</td>\n      <td>4</td>\n      <td>29</td>\n    </tr>\n    <tr>\n      <th>15</th>\n      <td>Furka12_22a-BA14...</td>\n      <td>4</td>\n      <td>370</td>\n    </tr>\n    <tr>\n      <th>16</th>\n      <td>Joch4_22a-BA15_B...</td>\n      <td>4</td>\n      <td>84</td>\n    </tr>\n    <tr>\n      <th>17</th>\n      <td>Furka10_22a-BA12...</td>\n      <td>4</td>\n      <td>136</td>\n    </tr>\n    <tr>\n      <th>18</th>\n      <td>Furka10_22a-BA03...</td>\n      <td>4</td>\n      <td>651</td>\n    </tr>\n    <tr>\n      <th>19</th>\n      <td>AT_2_2_1_22-BA12...</td>\n      <td>4</td>\n      <td>153</td>\n    </tr>\n    <tr>\n      <th>20</th>\n      <td>AT_2_2_1_22-BA08...</td>\n      <td>4</td>\n      <td>248</td>\n    </tr>\n    <tr>\n      <th>21</th>\n      <td>AT_1_8_1_22-BA11...</td>\n      <td>4</td>\n      <td>351</td>\n    </tr>\n    <tr>\n      <th>22</th>\n      <td>AT_1_8_1_22-BA09...</td>\n      <td>4</td>\n      <td>301</td>\n    </tr>\n    <tr>\n      <th>23</th>\n      <td>Furka13_22a-BA15...</td>\n      <td>5</td>\n      <td>66</td>\n    </tr>\n    <tr>\n      <th>24</th>\n      <td>Furka13_22a-BA08...</td>\n      <td>5</td>\n      <td>399</td>\n    </tr>\n    <tr>\n      <th>25</th>\n      <td>Furka12_22a-BA06...</td>\n      <td>5</td>\n      <td>419</td>\n    </tr>\n  </tbody>\n</table>\n</div>"
     },
     "execution_count": 93,
     "metadata": {},
     "output_type": "execute_result"
    }
   ],
   "source": [
    "bs_feeding_agg_df = count_samples_per_file(bs_data.loc[~bs_data['is_silence'] & (bs_data['event'] == 'feeding')])\n",
    "bs_feeding_agg_df['recording'] = bs_feeding_agg_df['recording'].apply(lambda rec: f'{rec[:16]}...')\n",
    "bs_feeding_agg_df"
   ],
   "metadata": {
    "collapsed": false
   }
  },
  {
   "cell_type": "code",
   "execution_count": 88,
   "outputs": [
    {
     "data": {
      "text/plain": "   class  sample_count\n0      2           619\n1      3          1142\n2      4          3208\n3      5           884",
      "text/html": "<div>\n<style scoped>\n    .dataframe tbody tr th:only-of-type {\n        vertical-align: middle;\n    }\n\n    .dataframe tbody tr th {\n        vertical-align: top;\n    }\n\n    .dataframe thead th {\n        text-align: right;\n    }\n</style>\n<table border=\"1\" class=\"dataframe\">\n  <thead>\n    <tr style=\"text-align: right;\">\n      <th></th>\n      <th>class</th>\n      <th>sample_count</th>\n    </tr>\n  </thead>\n  <tbody>\n    <tr>\n      <th>0</th>\n      <td>2</td>\n      <td>619</td>\n    </tr>\n    <tr>\n      <th>1</th>\n      <td>3</td>\n      <td>1142</td>\n    </tr>\n    <tr>\n      <th>2</th>\n      <td>4</td>\n      <td>3208</td>\n    </tr>\n    <tr>\n      <th>3</th>\n      <td>5</td>\n      <td>884</td>\n    </tr>\n  </tbody>\n</table>\n</div>"
     },
     "execution_count": 88,
     "metadata": {},
     "output_type": "execute_result"
    }
   ],
   "source": [
    "bs_feed_cls_agg_df = bs_feeding_agg_df[['class', 'sample_count']].groupby('class').sum().reset_index()\n",
    "bs_feed_cls_agg_df"
   ],
   "metadata": {
    "collapsed": false
   }
  },
  {
   "cell_type": "code",
   "execution_count": 89,
   "outputs": [
    {
     "data": {
      "text/plain": "                                            recording  class  sample_count\n0   AT_1_2_1_22-BA04_BS02-2466C2065B90281B_2022060...      2           161\n1   AT_1_2_1_22-BA10_BS02-24E144035BA44417_2022061...      2          1960\n2   Furka33_22a-BA17_BS02-248D9B02603706BB_2022072...      2          2641\n3   Furka33_22a-BA05_BS02-248D9B02603706BB_2022071...      2           947\n4   AT_1_3_1_22-BA12_BS03-24E144045FDEF471_2022061...      3           128\n5   AT_1_3_1_22-BA17_BS03-243B1F075C79F9E9_2022061...      3          1345\n6   AT_1_6_1_22-BA06_BS03-243B1F075C79F9E9_2022060...      3           253\n7   AT_1_6_1_22-BA13_BS03-243B1F055AD2F48C_2022061...      3          2244\n8   Furka31_22a-BA16_BS03-247AA5015FDF2A00_2022080...      3          2428\n9   Furka31_22a-BA04_BS03-247AA5015FDF2A00_2022072...      3           590\n10  Furka34_22a-BA11_BS04-247AA5015FDF2A00_2022061...      4          3030\n11  Furka34_22a-BA07_BS04-247AA5015FDF2A00_2022061...      4          1041\n12  Furka14_22a-BA13_BS04-24F3190160370695_2022061...      4          2080\n13  Furka14_22a-BA02_BS04-24F3190160370695_2022060...      4           287\n14  Joch4_22a-BA18_BS04-242A260460375836_20220624_...      4            17\n15  Furka12_22a-BA14_BS04-24F3190160370695_2022072...      4          3188\n16  Joch4_22a-BA15_BS04-242A260460375836_20220621_...      4          2630\n17  Furka10_22a-BA12_BS04-24E144045FDF1AD9_2022061...      4          3136\n18  Furka10_22a-BA03_BS04-24E144045FDF1AD9_2022060...      4           204\n19  AT_2_2_1_22-BA12_BS04-2466C2065B902810_2022061...      4           684\n20  AT_2_2_1_22-BA08_BS04-247AA5015BA4439B_2022060...      4          1932\n21  AT_1_8_1_22-BA11_BS04-24E144035BA44334_2022061...      4          1190\n22  AT_1_8_1_22-BA09_BS04-247AA5015C0309FF_2022060...      4           783\n23  Furka13_22a-BA15_BS05-248D9B02603706BB_2022061...      5          3520\n24  Furka13_22a-BA08_BS05-248D9B02603706BB_2022060...      5          2515\n25  Furka12_22a-BA06_BS05-24F3190160370695_2022072...      5          2194",
      "text/html": "<div>\n<style scoped>\n    .dataframe tbody tr th:only-of-type {\n        vertical-align: middle;\n    }\n\n    .dataframe tbody tr th {\n        vertical-align: top;\n    }\n\n    .dataframe thead th {\n        text-align: right;\n    }\n</style>\n<table border=\"1\" class=\"dataframe\">\n  <thead>\n    <tr style=\"text-align: right;\">\n      <th></th>\n      <th>recording</th>\n      <th>class</th>\n      <th>sample_count</th>\n    </tr>\n  </thead>\n  <tbody>\n    <tr>\n      <th>0</th>\n      <td>AT_1_2_1_22-BA04_BS02-2466C2065B90281B_2022060...</td>\n      <td>2</td>\n      <td>161</td>\n    </tr>\n    <tr>\n      <th>1</th>\n      <td>AT_1_2_1_22-BA10_BS02-24E144035BA44417_2022061...</td>\n      <td>2</td>\n      <td>1960</td>\n    </tr>\n    <tr>\n      <th>2</th>\n      <td>Furka33_22a-BA17_BS02-248D9B02603706BB_2022072...</td>\n      <td>2</td>\n      <td>2641</td>\n    </tr>\n    <tr>\n      <th>3</th>\n      <td>Furka33_22a-BA05_BS02-248D9B02603706BB_2022071...</td>\n      <td>2</td>\n      <td>947</td>\n    </tr>\n    <tr>\n      <th>4</th>\n      <td>AT_1_3_1_22-BA12_BS03-24E144045FDEF471_2022061...</td>\n      <td>3</td>\n      <td>128</td>\n    </tr>\n    <tr>\n      <th>5</th>\n      <td>AT_1_3_1_22-BA17_BS03-243B1F075C79F9E9_2022061...</td>\n      <td>3</td>\n      <td>1345</td>\n    </tr>\n    <tr>\n      <th>6</th>\n      <td>AT_1_6_1_22-BA06_BS03-243B1F075C79F9E9_2022060...</td>\n      <td>3</td>\n      <td>253</td>\n    </tr>\n    <tr>\n      <th>7</th>\n      <td>AT_1_6_1_22-BA13_BS03-243B1F055AD2F48C_2022061...</td>\n      <td>3</td>\n      <td>2244</td>\n    </tr>\n    <tr>\n      <th>8</th>\n      <td>Furka31_22a-BA16_BS03-247AA5015FDF2A00_2022080...</td>\n      <td>3</td>\n      <td>2428</td>\n    </tr>\n    <tr>\n      <th>9</th>\n      <td>Furka31_22a-BA04_BS03-247AA5015FDF2A00_2022072...</td>\n      <td>3</td>\n      <td>590</td>\n    </tr>\n    <tr>\n      <th>10</th>\n      <td>Furka34_22a-BA11_BS04-247AA5015FDF2A00_2022061...</td>\n      <td>4</td>\n      <td>3030</td>\n    </tr>\n    <tr>\n      <th>11</th>\n      <td>Furka34_22a-BA07_BS04-247AA5015FDF2A00_2022061...</td>\n      <td>4</td>\n      <td>1041</td>\n    </tr>\n    <tr>\n      <th>12</th>\n      <td>Furka14_22a-BA13_BS04-24F3190160370695_2022061...</td>\n      <td>4</td>\n      <td>2080</td>\n    </tr>\n    <tr>\n      <th>13</th>\n      <td>Furka14_22a-BA02_BS04-24F3190160370695_2022060...</td>\n      <td>4</td>\n      <td>287</td>\n    </tr>\n    <tr>\n      <th>14</th>\n      <td>Joch4_22a-BA18_BS04-242A260460375836_20220624_...</td>\n      <td>4</td>\n      <td>17</td>\n    </tr>\n    <tr>\n      <th>15</th>\n      <td>Furka12_22a-BA14_BS04-24F3190160370695_2022072...</td>\n      <td>4</td>\n      <td>3188</td>\n    </tr>\n    <tr>\n      <th>16</th>\n      <td>Joch4_22a-BA15_BS04-242A260460375836_20220621_...</td>\n      <td>4</td>\n      <td>2630</td>\n    </tr>\n    <tr>\n      <th>17</th>\n      <td>Furka10_22a-BA12_BS04-24E144045FDF1AD9_2022061...</td>\n      <td>4</td>\n      <td>3136</td>\n    </tr>\n    <tr>\n      <th>18</th>\n      <td>Furka10_22a-BA03_BS04-24E144045FDF1AD9_2022060...</td>\n      <td>4</td>\n      <td>204</td>\n    </tr>\n    <tr>\n      <th>19</th>\n      <td>AT_2_2_1_22-BA12_BS04-2466C2065B902810_2022061...</td>\n      <td>4</td>\n      <td>684</td>\n    </tr>\n    <tr>\n      <th>20</th>\n      <td>AT_2_2_1_22-BA08_BS04-247AA5015BA4439B_2022060...</td>\n      <td>4</td>\n      <td>1932</td>\n    </tr>\n    <tr>\n      <th>21</th>\n      <td>AT_1_8_1_22-BA11_BS04-24E144035BA44334_2022061...</td>\n      <td>4</td>\n      <td>1190</td>\n    </tr>\n    <tr>\n      <th>22</th>\n      <td>AT_1_8_1_22-BA09_BS04-247AA5015C0309FF_2022060...</td>\n      <td>4</td>\n      <td>783</td>\n    </tr>\n    <tr>\n      <th>23</th>\n      <td>Furka13_22a-BA15_BS05-248D9B02603706BB_2022061...</td>\n      <td>5</td>\n      <td>3520</td>\n    </tr>\n    <tr>\n      <th>24</th>\n      <td>Furka13_22a-BA08_BS05-248D9B02603706BB_2022060...</td>\n      <td>5</td>\n      <td>2515</td>\n    </tr>\n    <tr>\n      <th>25</th>\n      <td>Furka12_22a-BA06_BS05-24F3190160370695_2022072...</td>\n      <td>5</td>\n      <td>2194</td>\n    </tr>\n  </tbody>\n</table>\n</div>"
     },
     "execution_count": 89,
     "metadata": {},
     "output_type": "execute_result"
    }
   ],
   "source": [
    "bs_contact_agg_df = count_samples_per_file(bs_data.loc[~bs_data['is_silence'] & (bs_data['event'] == 'contact')])\n",
    "bs_contact_agg_df"
   ],
   "metadata": {
    "collapsed": false
   }
  },
  {
   "cell_type": "code",
   "execution_count": 90,
   "outputs": [
    {
     "data": {
      "text/plain": "   class  sample_count\n0      2          5709\n1      3          6988\n2      4         20202\n3      5          8229",
      "text/html": "<div>\n<style scoped>\n    .dataframe tbody tr th:only-of-type {\n        vertical-align: middle;\n    }\n\n    .dataframe tbody tr th {\n        vertical-align: top;\n    }\n\n    .dataframe thead th {\n        text-align: right;\n    }\n</style>\n<table border=\"1\" class=\"dataframe\">\n  <thead>\n    <tr style=\"text-align: right;\">\n      <th></th>\n      <th>class</th>\n      <th>sample_count</th>\n    </tr>\n  </thead>\n  <tbody>\n    <tr>\n      <th>0</th>\n      <td>2</td>\n      <td>5709</td>\n    </tr>\n    <tr>\n      <th>1</th>\n      <td>3</td>\n      <td>6988</td>\n    </tr>\n    <tr>\n      <th>2</th>\n      <td>4</td>\n      <td>20202</td>\n    </tr>\n    <tr>\n      <th>3</th>\n      <td>5</td>\n      <td>8229</td>\n    </tr>\n  </tbody>\n</table>\n</div>"
     },
     "execution_count": 90,
     "metadata": {},
     "output_type": "execute_result"
    }
   ],
   "source": [
    "bs_contact_cls_agg_df = bs_contact_agg_df[['class', 'sample_count']].groupby('class').sum().reset_index()\n",
    "bs_contact_cls_agg_df"
   ],
   "metadata": {
    "collapsed": false
   }
  },
  {
   "cell_type": "code",
   "execution_count": 94,
   "outputs": [],
   "source": [
    "plot_sample_count(\n",
    "\tbs_cls_agg_df, x_label_col = 'class', x_rotation = 'horizontal', x_label = 'Brood size',\n",
    "\ttitle = '2s sample count per brood size'\n",
    ")\n",
    "\n",
    "plot_sample_count(\n",
    "\tbs_agg_df, x_label_col = 'recording', x_rotation = 'vertical', x_label = 'Recording',\n",
    "\ttitle = '2s sample count per recording'\n",
    ")\n",
    "\n",
    "plot_sample_count(\n",
    "\tbs_feed_cls_agg_df, x_label_col = 'class', x_rotation = 'horizontal', x_label = 'Brood size',\n",
    "\ttitle = 'Feeding 2s sample count per brood size'\n",
    ")\n",
    "\n",
    "plot_sample_count(\n",
    "\tbs_feeding_agg_df, x_label_col = 'recording', x_rotation = 'vertical', x_label = 'Recording',\n",
    "\ttitle = 'Feeding 2s sample count per recording'\n",
    ")\n",
    "\n",
    "plot_sample_count(\n",
    "\tbs_contact_cls_agg_df, x_label_col = 'class', x_rotation = 'horizontal', x_label = 'Brood size',\n",
    "\ttitle = 'Contact 2s sample count per brood size'\n",
    ")\n",
    "\n",
    "plot_sample_count(\n",
    "\tbs_contact_agg_df, x_label_col = 'recording', x_rotation = 'vertical', x_label = 'Recording',\n",
    "\ttitle = 'Contact 2s sample count per recording'\n",
    ")"
   ],
   "metadata": {
    "collapsed": false
   }
  },
  {
   "cell_type": "markdown",
   "source": [
    "## Brood age"
   ],
   "metadata": {
    "collapsed": false
   }
  },
  {
   "cell_type": "code",
   "execution_count": 99,
   "outputs": [
    {
     "data": {
      "text/plain": "                                                    file    event  is_silence  \\\n0      AT_1_3_1_22-BA12_BS03-24E144045FDEF471_2022061...  contact       False   \n1      AT_1_3_1_22-BA12_BS03-24E144045FDEF471_2022061...  contact       False   \n2      AT_1_3_1_22-BA12_BS03-24E144045FDEF471_2022061...  contact       False   \n3      AT_1_3_1_22-BA12_BS03-24E144045FDEF471_2022061...  contact       False   \n4      AT_1_3_1_22-BA12_BS03-24E144045FDEF471_2022061...  contact       False   \n...                                                  ...      ...         ...   \n52921  Furka33_22a-BA17_BS02-248D9B02603706BB_2022072...  contact       False   \n52922  Furka33_22a-BA17_BS02-248D9B02603706BB_2022072...  contact       False   \n52923  Furka33_22a-BA17_BS02-248D9B02603706BB_2022072...  contact       False   \n52924  Furka33_22a-BA17_BS02-248D9B02603706BB_2022072...  contact       False   \n52925  Furka33_22a-BA17_BS02-248D9B02603706BB_2022072...  contact       False   \n\n       class  2  3  4  5  6  7  ...  9  10  11  12  13  14  15  16  17  18  \n0         12  0  0  0  0  0  0  ...  0   0   0   1   0   0   0   0   0   0  \n1         12  0  0  0  0  0  0  ...  0   0   0   1   0   0   0   0   0   0  \n2         12  0  0  0  0  0  0  ...  0   0   0   1   0   0   0   0   0   0  \n3         12  0  0  0  0  0  0  ...  0   0   0   1   0   0   0   0   0   0  \n4         12  0  0  0  0  0  0  ...  0   0   0   1   0   0   0   0   0   0  \n...      ... .. .. .. .. .. ..  ... ..  ..  ..  ..  ..  ..  ..  ..  ..  ..  \n52921     17  0  0  0  0  0  0  ...  0   0   0   0   0   0   0   0   1   0  \n52922     17  0  0  0  0  0  0  ...  0   0   0   0   0   0   0   0   1   0  \n52923     17  0  0  0  0  0  0  ...  0   0   0   0   0   0   0   0   1   0  \n52924     17  0  0  0  0  0  0  ...  0   0   0   0   0   0   0   0   1   0  \n52925     17  0  0  0  0  0  0  ...  0   0   0   0   0   0   0   0   1   0  \n\n[52926 rows x 21 columns]",
      "text/html": "<div>\n<style scoped>\n    .dataframe tbody tr th:only-of-type {\n        vertical-align: middle;\n    }\n\n    .dataframe tbody tr th {\n        vertical-align: top;\n    }\n\n    .dataframe thead th {\n        text-align: right;\n    }\n</style>\n<table border=\"1\" class=\"dataframe\">\n  <thead>\n    <tr style=\"text-align: right;\">\n      <th></th>\n      <th>file</th>\n      <th>event</th>\n      <th>is_silence</th>\n      <th>class</th>\n      <th>2</th>\n      <th>3</th>\n      <th>4</th>\n      <th>5</th>\n      <th>6</th>\n      <th>7</th>\n      <th>...</th>\n      <th>9</th>\n      <th>10</th>\n      <th>11</th>\n      <th>12</th>\n      <th>13</th>\n      <th>14</th>\n      <th>15</th>\n      <th>16</th>\n      <th>17</th>\n      <th>18</th>\n    </tr>\n  </thead>\n  <tbody>\n    <tr>\n      <th>0</th>\n      <td>AT_1_3_1_22-BA12_BS03-24E144045FDEF471_2022061...</td>\n      <td>contact</td>\n      <td>False</td>\n      <td>12</td>\n      <td>0</td>\n      <td>0</td>\n      <td>0</td>\n      <td>0</td>\n      <td>0</td>\n      <td>0</td>\n      <td>...</td>\n      <td>0</td>\n      <td>0</td>\n      <td>0</td>\n      <td>1</td>\n      <td>0</td>\n      <td>0</td>\n      <td>0</td>\n      <td>0</td>\n      <td>0</td>\n      <td>0</td>\n    </tr>\n    <tr>\n      <th>1</th>\n      <td>AT_1_3_1_22-BA12_BS03-24E144045FDEF471_2022061...</td>\n      <td>contact</td>\n      <td>False</td>\n      <td>12</td>\n      <td>0</td>\n      <td>0</td>\n      <td>0</td>\n      <td>0</td>\n      <td>0</td>\n      <td>0</td>\n      <td>...</td>\n      <td>0</td>\n      <td>0</td>\n      <td>0</td>\n      <td>1</td>\n      <td>0</td>\n      <td>0</td>\n      <td>0</td>\n      <td>0</td>\n      <td>0</td>\n      <td>0</td>\n    </tr>\n    <tr>\n      <th>2</th>\n      <td>AT_1_3_1_22-BA12_BS03-24E144045FDEF471_2022061...</td>\n      <td>contact</td>\n      <td>False</td>\n      <td>12</td>\n      <td>0</td>\n      <td>0</td>\n      <td>0</td>\n      <td>0</td>\n      <td>0</td>\n      <td>0</td>\n      <td>...</td>\n      <td>0</td>\n      <td>0</td>\n      <td>0</td>\n      <td>1</td>\n      <td>0</td>\n      <td>0</td>\n      <td>0</td>\n      <td>0</td>\n      <td>0</td>\n      <td>0</td>\n    </tr>\n    <tr>\n      <th>3</th>\n      <td>AT_1_3_1_22-BA12_BS03-24E144045FDEF471_2022061...</td>\n      <td>contact</td>\n      <td>False</td>\n      <td>12</td>\n      <td>0</td>\n      <td>0</td>\n      <td>0</td>\n      <td>0</td>\n      <td>0</td>\n      <td>0</td>\n      <td>...</td>\n      <td>0</td>\n      <td>0</td>\n      <td>0</td>\n      <td>1</td>\n      <td>0</td>\n      <td>0</td>\n      <td>0</td>\n      <td>0</td>\n      <td>0</td>\n      <td>0</td>\n    </tr>\n    <tr>\n      <th>4</th>\n      <td>AT_1_3_1_22-BA12_BS03-24E144045FDEF471_2022061...</td>\n      <td>contact</td>\n      <td>False</td>\n      <td>12</td>\n      <td>0</td>\n      <td>0</td>\n      <td>0</td>\n      <td>0</td>\n      <td>0</td>\n      <td>0</td>\n      <td>...</td>\n      <td>0</td>\n      <td>0</td>\n      <td>0</td>\n      <td>1</td>\n      <td>0</td>\n      <td>0</td>\n      <td>0</td>\n      <td>0</td>\n      <td>0</td>\n      <td>0</td>\n    </tr>\n    <tr>\n      <th>...</th>\n      <td>...</td>\n      <td>...</td>\n      <td>...</td>\n      <td>...</td>\n      <td>...</td>\n      <td>...</td>\n      <td>...</td>\n      <td>...</td>\n      <td>...</td>\n      <td>...</td>\n      <td>...</td>\n      <td>...</td>\n      <td>...</td>\n      <td>...</td>\n      <td>...</td>\n      <td>...</td>\n      <td>...</td>\n      <td>...</td>\n      <td>...</td>\n      <td>...</td>\n      <td>...</td>\n    </tr>\n    <tr>\n      <th>52921</th>\n      <td>Furka33_22a-BA17_BS02-248D9B02603706BB_2022072...</td>\n      <td>contact</td>\n      <td>False</td>\n      <td>17</td>\n      <td>0</td>\n      <td>0</td>\n      <td>0</td>\n      <td>0</td>\n      <td>0</td>\n      <td>0</td>\n      <td>...</td>\n      <td>0</td>\n      <td>0</td>\n      <td>0</td>\n      <td>0</td>\n      <td>0</td>\n      <td>0</td>\n      <td>0</td>\n      <td>0</td>\n      <td>1</td>\n      <td>0</td>\n    </tr>\n    <tr>\n      <th>52922</th>\n      <td>Furka33_22a-BA17_BS02-248D9B02603706BB_2022072...</td>\n      <td>contact</td>\n      <td>False</td>\n      <td>17</td>\n      <td>0</td>\n      <td>0</td>\n      <td>0</td>\n      <td>0</td>\n      <td>0</td>\n      <td>0</td>\n      <td>...</td>\n      <td>0</td>\n      <td>0</td>\n      <td>0</td>\n      <td>0</td>\n      <td>0</td>\n      <td>0</td>\n      <td>0</td>\n      <td>0</td>\n      <td>1</td>\n      <td>0</td>\n    </tr>\n    <tr>\n      <th>52923</th>\n      <td>Furka33_22a-BA17_BS02-248D9B02603706BB_2022072...</td>\n      <td>contact</td>\n      <td>False</td>\n      <td>17</td>\n      <td>0</td>\n      <td>0</td>\n      <td>0</td>\n      <td>0</td>\n      <td>0</td>\n      <td>0</td>\n      <td>...</td>\n      <td>0</td>\n      <td>0</td>\n      <td>0</td>\n      <td>0</td>\n      <td>0</td>\n      <td>0</td>\n      <td>0</td>\n      <td>0</td>\n      <td>1</td>\n      <td>0</td>\n    </tr>\n    <tr>\n      <th>52924</th>\n      <td>Furka33_22a-BA17_BS02-248D9B02603706BB_2022072...</td>\n      <td>contact</td>\n      <td>False</td>\n      <td>17</td>\n      <td>0</td>\n      <td>0</td>\n      <td>0</td>\n      <td>0</td>\n      <td>0</td>\n      <td>0</td>\n      <td>...</td>\n      <td>0</td>\n      <td>0</td>\n      <td>0</td>\n      <td>0</td>\n      <td>0</td>\n      <td>0</td>\n      <td>0</td>\n      <td>0</td>\n      <td>1</td>\n      <td>0</td>\n    </tr>\n    <tr>\n      <th>52925</th>\n      <td>Furka33_22a-BA17_BS02-248D9B02603706BB_2022072...</td>\n      <td>contact</td>\n      <td>False</td>\n      <td>17</td>\n      <td>0</td>\n      <td>0</td>\n      <td>0</td>\n      <td>0</td>\n      <td>0</td>\n      <td>0</td>\n      <td>...</td>\n      <td>0</td>\n      <td>0</td>\n      <td>0</td>\n      <td>0</td>\n      <td>0</td>\n      <td>0</td>\n      <td>0</td>\n      <td>0</td>\n      <td>1</td>\n      <td>0</td>\n    </tr>\n  </tbody>\n</table>\n<p>52926 rows × 21 columns</p>\n</div>"
     },
     "execution_count": 99,
     "metadata": {},
     "output_type": "execute_result"
    }
   ],
   "source": [
    "ba_data = pd.read_csv('_data.export/s2.0-o1.0/brood-age.csv')\n",
    "ba_data"
   ],
   "metadata": {
    "collapsed": false
   }
  },
  {
   "cell_type": "code",
   "execution_count": 72,
   "outputs": [
    {
     "data": {
      "text/plain": "              recording  class  sample_count\n0   AT_1_2_1_22-BA04...      2           536\n1   AT_1_2_1_22-BA10...      3           855\n2   Furka33_22a-BA17...      4           361\n3   Furka33_22a-BA05...      4           876\n4   AT_1_3_1_22-BA12...      5          1158\n5   AT_1_3_1_22-BA17...      6          2613\n6   AT_1_6_1_22-BA06...      6           424\n7   AT_1_6_1_22-BA13...      7          1348\n8   Furka31_22a-BA16...      8          2180\n9   Furka31_22a-BA04...      8          2914\n10  Furka34_22a-BA11...      9          1084\n11  Furka34_22a-BA07...     10          2142\n12  Furka14_22a-BA13...     11          1541\n13  Furka14_22a-BA02...     11          3233\n14  Joch4_22a-BA18_B...     12           837\n15  Furka12_22a-BA14...     12          3272\n16  Joch4_22a-BA15_B...     12           142\n17  Furka10_22a-BA12...     13          2446\n18  Furka10_22a-BA03...     13          2206\n19  AT_2_2_1_22-BA12...     14          3558\n20  AT_2_2_1_22-BA08...     15          3586\n21  AT_1_8_1_22-BA11...     15          2714\n22  AT_1_8_1_22-BA09...     16          2531\n23  Furka13_22a-BA15...     17          2667\n24  Furka13_22a-BA08...     17          1711\n25  Furka12_22a-BA06...     18            46",
      "text/html": "<div>\n<style scoped>\n    .dataframe tbody tr th:only-of-type {\n        vertical-align: middle;\n    }\n\n    .dataframe tbody tr th {\n        vertical-align: top;\n    }\n\n    .dataframe thead th {\n        text-align: right;\n    }\n</style>\n<table border=\"1\" class=\"dataframe\">\n  <thead>\n    <tr style=\"text-align: right;\">\n      <th></th>\n      <th>recording</th>\n      <th>class</th>\n      <th>sample_count</th>\n    </tr>\n  </thead>\n  <tbody>\n    <tr>\n      <th>0</th>\n      <td>AT_1_2_1_22-BA04...</td>\n      <td>2</td>\n      <td>536</td>\n    </tr>\n    <tr>\n      <th>1</th>\n      <td>AT_1_2_1_22-BA10...</td>\n      <td>3</td>\n      <td>855</td>\n    </tr>\n    <tr>\n      <th>2</th>\n      <td>Furka33_22a-BA17...</td>\n      <td>4</td>\n      <td>361</td>\n    </tr>\n    <tr>\n      <th>3</th>\n      <td>Furka33_22a-BA05...</td>\n      <td>4</td>\n      <td>876</td>\n    </tr>\n    <tr>\n      <th>4</th>\n      <td>AT_1_3_1_22-BA12...</td>\n      <td>5</td>\n      <td>1158</td>\n    </tr>\n    <tr>\n      <th>5</th>\n      <td>AT_1_3_1_22-BA17...</td>\n      <td>6</td>\n      <td>2613</td>\n    </tr>\n    <tr>\n      <th>6</th>\n      <td>AT_1_6_1_22-BA06...</td>\n      <td>6</td>\n      <td>424</td>\n    </tr>\n    <tr>\n      <th>7</th>\n      <td>AT_1_6_1_22-BA13...</td>\n      <td>7</td>\n      <td>1348</td>\n    </tr>\n    <tr>\n      <th>8</th>\n      <td>Furka31_22a-BA16...</td>\n      <td>8</td>\n      <td>2180</td>\n    </tr>\n    <tr>\n      <th>9</th>\n      <td>Furka31_22a-BA04...</td>\n      <td>8</td>\n      <td>2914</td>\n    </tr>\n    <tr>\n      <th>10</th>\n      <td>Furka34_22a-BA11...</td>\n      <td>9</td>\n      <td>1084</td>\n    </tr>\n    <tr>\n      <th>11</th>\n      <td>Furka34_22a-BA07...</td>\n      <td>10</td>\n      <td>2142</td>\n    </tr>\n    <tr>\n      <th>12</th>\n      <td>Furka14_22a-BA13...</td>\n      <td>11</td>\n      <td>1541</td>\n    </tr>\n    <tr>\n      <th>13</th>\n      <td>Furka14_22a-BA02...</td>\n      <td>11</td>\n      <td>3233</td>\n    </tr>\n    <tr>\n      <th>14</th>\n      <td>Joch4_22a-BA18_B...</td>\n      <td>12</td>\n      <td>837</td>\n    </tr>\n    <tr>\n      <th>15</th>\n      <td>Furka12_22a-BA14...</td>\n      <td>12</td>\n      <td>3272</td>\n    </tr>\n    <tr>\n      <th>16</th>\n      <td>Joch4_22a-BA15_B...</td>\n      <td>12</td>\n      <td>142</td>\n    </tr>\n    <tr>\n      <th>17</th>\n      <td>Furka10_22a-BA12...</td>\n      <td>13</td>\n      <td>2446</td>\n    </tr>\n    <tr>\n      <th>18</th>\n      <td>Furka10_22a-BA03...</td>\n      <td>13</td>\n      <td>2206</td>\n    </tr>\n    <tr>\n      <th>19</th>\n      <td>AT_2_2_1_22-BA12...</td>\n      <td>14</td>\n      <td>3558</td>\n    </tr>\n    <tr>\n      <th>20</th>\n      <td>AT_2_2_1_22-BA08...</td>\n      <td>15</td>\n      <td>3586</td>\n    </tr>\n    <tr>\n      <th>21</th>\n      <td>AT_1_8_1_22-BA11...</td>\n      <td>15</td>\n      <td>2714</td>\n    </tr>\n    <tr>\n      <th>22</th>\n      <td>AT_1_8_1_22-BA09...</td>\n      <td>16</td>\n      <td>2531</td>\n    </tr>\n    <tr>\n      <th>23</th>\n      <td>Furka13_22a-BA15...</td>\n      <td>17</td>\n      <td>2667</td>\n    </tr>\n    <tr>\n      <th>24</th>\n      <td>Furka13_22a-BA08...</td>\n      <td>17</td>\n      <td>1711</td>\n    </tr>\n    <tr>\n      <th>25</th>\n      <td>Furka12_22a-BA06...</td>\n      <td>18</td>\n      <td>46</td>\n    </tr>\n  </tbody>\n</table>\n</div>"
     },
     "execution_count": 72,
     "metadata": {},
     "output_type": "execute_result"
    }
   ],
   "source": [
    "ba_agg_df = count_samples_per_file(ba_data[~ba_data['is_silence']])\n",
    "ba_agg_df['recording'] = ba_agg_df['recording'].apply(lambda rec: f'{rec[:16]}...')\n",
    "ba_agg_df"
   ],
   "metadata": {
    "collapsed": false
   }
  },
  {
   "cell_type": "code",
   "execution_count": 73,
   "outputs": [
    {
     "data": {
      "text/plain": "    class  sample_count\n0       2           536\n1       3           855\n2       4          1237\n3       5          1158\n4       6          3037\n5       7          1348\n6       8          5094\n7       9          1084\n8      10          2142\n9      11          4774\n10     12          4251\n11     13          4652\n12     14          3558\n13     15          6300\n14     16          2531\n15     17          4378\n16     18            46",
      "text/html": "<div>\n<style scoped>\n    .dataframe tbody tr th:only-of-type {\n        vertical-align: middle;\n    }\n\n    .dataframe tbody tr th {\n        vertical-align: top;\n    }\n\n    .dataframe thead th {\n        text-align: right;\n    }\n</style>\n<table border=\"1\" class=\"dataframe\">\n  <thead>\n    <tr style=\"text-align: right;\">\n      <th></th>\n      <th>class</th>\n      <th>sample_count</th>\n    </tr>\n  </thead>\n  <tbody>\n    <tr>\n      <th>0</th>\n      <td>2</td>\n      <td>536</td>\n    </tr>\n    <tr>\n      <th>1</th>\n      <td>3</td>\n      <td>855</td>\n    </tr>\n    <tr>\n      <th>2</th>\n      <td>4</td>\n      <td>1237</td>\n    </tr>\n    <tr>\n      <th>3</th>\n      <td>5</td>\n      <td>1158</td>\n    </tr>\n    <tr>\n      <th>4</th>\n      <td>6</td>\n      <td>3037</td>\n    </tr>\n    <tr>\n      <th>5</th>\n      <td>7</td>\n      <td>1348</td>\n    </tr>\n    <tr>\n      <th>6</th>\n      <td>8</td>\n      <td>5094</td>\n    </tr>\n    <tr>\n      <th>7</th>\n      <td>9</td>\n      <td>1084</td>\n    </tr>\n    <tr>\n      <th>8</th>\n      <td>10</td>\n      <td>2142</td>\n    </tr>\n    <tr>\n      <th>9</th>\n      <td>11</td>\n      <td>4774</td>\n    </tr>\n    <tr>\n      <th>10</th>\n      <td>12</td>\n      <td>4251</td>\n    </tr>\n    <tr>\n      <th>11</th>\n      <td>13</td>\n      <td>4652</td>\n    </tr>\n    <tr>\n      <th>12</th>\n      <td>14</td>\n      <td>3558</td>\n    </tr>\n    <tr>\n      <th>13</th>\n      <td>15</td>\n      <td>6300</td>\n    </tr>\n    <tr>\n      <th>14</th>\n      <td>16</td>\n      <td>2531</td>\n    </tr>\n    <tr>\n      <th>15</th>\n      <td>17</td>\n      <td>4378</td>\n    </tr>\n    <tr>\n      <th>16</th>\n      <td>18</td>\n      <td>46</td>\n    </tr>\n  </tbody>\n</table>\n</div>"
     },
     "execution_count": 73,
     "metadata": {},
     "output_type": "execute_result"
    }
   ],
   "source": [
    "ba_cls_agg_df = ba_agg_df[['class', 'sample_count']].groupby('class').sum().sort_values(by = 'class').reset_index()\n",
    "ba_cls_agg_df"
   ],
   "metadata": {
    "collapsed": false
   }
  },
  {
   "cell_type": "code",
   "execution_count": 95,
   "outputs": [
    {
     "data": {
      "text/plain": "              recording  class  sample_count\n0   Furka14_22a-BA02...      2           249\n1   Furka10_22a-BA03...      3           651\n2   AT_1_2_1_22-BA04...      4           200\n3   Furka31_22a-BA04...      4           286\n4   Furka33_22a-BA05...      5           211\n5   Furka12_22a-BA06...      6           419\n6   AT_1_6_1_22-BA06...      6           171\n7   Furka34_22a-BA07...      7           307\n8   AT_2_2_1_22-BA08...      8           248\n9   Furka13_22a-BA08...      8           399\n10  AT_1_8_1_22-BA09...      9           301\n11  AT_1_2_1_22-BA10...     10           182\n12  AT_1_8_1_22-BA11...     11           351\n13  Furka34_22a-BA11...     11           203\n14  AT_2_2_1_22-BA12...     12           153\n15  Furka10_22a-BA12...     12           136\n16  AT_1_3_1_22-BA12...     12            14\n17  AT_1_6_1_22-BA13...     13           202\n18  Furka14_22a-BA13...     13           126\n19  Furka12_22a-BA14...     14           370\n20  Furka13_22a-BA15...     15            66\n21  Joch4_22a-BA15_B...     15            84\n22  Furka31_22a-BA16...     16           103\n23  Furka33_22a-BA17...     17            26\n24  AT_1_3_1_22-BA17...     17           366\n25  Joch4_22a-BA18_B...     18            29",
      "text/html": "<div>\n<style scoped>\n    .dataframe tbody tr th:only-of-type {\n        vertical-align: middle;\n    }\n\n    .dataframe tbody tr th {\n        vertical-align: top;\n    }\n\n    .dataframe thead th {\n        text-align: right;\n    }\n</style>\n<table border=\"1\" class=\"dataframe\">\n  <thead>\n    <tr style=\"text-align: right;\">\n      <th></th>\n      <th>recording</th>\n      <th>class</th>\n      <th>sample_count</th>\n    </tr>\n  </thead>\n  <tbody>\n    <tr>\n      <th>0</th>\n      <td>Furka14_22a-BA02...</td>\n      <td>2</td>\n      <td>249</td>\n    </tr>\n    <tr>\n      <th>1</th>\n      <td>Furka10_22a-BA03...</td>\n      <td>3</td>\n      <td>651</td>\n    </tr>\n    <tr>\n      <th>2</th>\n      <td>AT_1_2_1_22-BA04...</td>\n      <td>4</td>\n      <td>200</td>\n    </tr>\n    <tr>\n      <th>3</th>\n      <td>Furka31_22a-BA04...</td>\n      <td>4</td>\n      <td>286</td>\n    </tr>\n    <tr>\n      <th>4</th>\n      <td>Furka33_22a-BA05...</td>\n      <td>5</td>\n      <td>211</td>\n    </tr>\n    <tr>\n      <th>5</th>\n      <td>Furka12_22a-BA06...</td>\n      <td>6</td>\n      <td>419</td>\n    </tr>\n    <tr>\n      <th>6</th>\n      <td>AT_1_6_1_22-BA06...</td>\n      <td>6</td>\n      <td>171</td>\n    </tr>\n    <tr>\n      <th>7</th>\n      <td>Furka34_22a-BA07...</td>\n      <td>7</td>\n      <td>307</td>\n    </tr>\n    <tr>\n      <th>8</th>\n      <td>AT_2_2_1_22-BA08...</td>\n      <td>8</td>\n      <td>248</td>\n    </tr>\n    <tr>\n      <th>9</th>\n      <td>Furka13_22a-BA08...</td>\n      <td>8</td>\n      <td>399</td>\n    </tr>\n    <tr>\n      <th>10</th>\n      <td>AT_1_8_1_22-BA09...</td>\n      <td>9</td>\n      <td>301</td>\n    </tr>\n    <tr>\n      <th>11</th>\n      <td>AT_1_2_1_22-BA10...</td>\n      <td>10</td>\n      <td>182</td>\n    </tr>\n    <tr>\n      <th>12</th>\n      <td>AT_1_8_1_22-BA11...</td>\n      <td>11</td>\n      <td>351</td>\n    </tr>\n    <tr>\n      <th>13</th>\n      <td>Furka34_22a-BA11...</td>\n      <td>11</td>\n      <td>203</td>\n    </tr>\n    <tr>\n      <th>14</th>\n      <td>AT_2_2_1_22-BA12...</td>\n      <td>12</td>\n      <td>153</td>\n    </tr>\n    <tr>\n      <th>15</th>\n      <td>Furka10_22a-BA12...</td>\n      <td>12</td>\n      <td>136</td>\n    </tr>\n    <tr>\n      <th>16</th>\n      <td>AT_1_3_1_22-BA12...</td>\n      <td>12</td>\n      <td>14</td>\n    </tr>\n    <tr>\n      <th>17</th>\n      <td>AT_1_6_1_22-BA13...</td>\n      <td>13</td>\n      <td>202</td>\n    </tr>\n    <tr>\n      <th>18</th>\n      <td>Furka14_22a-BA13...</td>\n      <td>13</td>\n      <td>126</td>\n    </tr>\n    <tr>\n      <th>19</th>\n      <td>Furka12_22a-BA14...</td>\n      <td>14</td>\n      <td>370</td>\n    </tr>\n    <tr>\n      <th>20</th>\n      <td>Furka13_22a-BA15...</td>\n      <td>15</td>\n      <td>66</td>\n    </tr>\n    <tr>\n      <th>21</th>\n      <td>Joch4_22a-BA15_B...</td>\n      <td>15</td>\n      <td>84</td>\n    </tr>\n    <tr>\n      <th>22</th>\n      <td>Furka31_22a-BA16...</td>\n      <td>16</td>\n      <td>103</td>\n    </tr>\n    <tr>\n      <th>23</th>\n      <td>Furka33_22a-BA17...</td>\n      <td>17</td>\n      <td>26</td>\n    </tr>\n    <tr>\n      <th>24</th>\n      <td>AT_1_3_1_22-BA17...</td>\n      <td>17</td>\n      <td>366</td>\n    </tr>\n    <tr>\n      <th>25</th>\n      <td>Joch4_22a-BA18_B...</td>\n      <td>18</td>\n      <td>29</td>\n    </tr>\n  </tbody>\n</table>\n</div>"
     },
     "execution_count": 95,
     "metadata": {},
     "output_type": "execute_result"
    }
   ],
   "source": [
    "ba_feed_agg_df = count_samples_per_file(ba_data.loc[~ba_data['is_silence'] & (ba_data['event'] == 'feeding')])\n",
    "ba_feed_agg_df['recording'] = ba_feed_agg_df['recording'].apply(lambda rec: f'{rec[:16]}...')\n",
    "ba_feed_agg_df"
   ],
   "metadata": {
    "collapsed": false
   }
  },
  {
   "cell_type": "code",
   "execution_count": 96,
   "outputs": [
    {
     "data": {
      "text/plain": "    class  sample_count\n0       2           249\n1       3           651\n2       4           486\n3       5           211\n4       6           590\n5       7           307\n6       8           647\n7       9           301\n8      10           182\n9      11           554\n10     12           303\n11     13           328\n12     14           370\n13     15           150\n14     16           103\n15     17           392\n16     18            29",
      "text/html": "<div>\n<style scoped>\n    .dataframe tbody tr th:only-of-type {\n        vertical-align: middle;\n    }\n\n    .dataframe tbody tr th {\n        vertical-align: top;\n    }\n\n    .dataframe thead th {\n        text-align: right;\n    }\n</style>\n<table border=\"1\" class=\"dataframe\">\n  <thead>\n    <tr style=\"text-align: right;\">\n      <th></th>\n      <th>class</th>\n      <th>sample_count</th>\n    </tr>\n  </thead>\n  <tbody>\n    <tr>\n      <th>0</th>\n      <td>2</td>\n      <td>249</td>\n    </tr>\n    <tr>\n      <th>1</th>\n      <td>3</td>\n      <td>651</td>\n    </tr>\n    <tr>\n      <th>2</th>\n      <td>4</td>\n      <td>486</td>\n    </tr>\n    <tr>\n      <th>3</th>\n      <td>5</td>\n      <td>211</td>\n    </tr>\n    <tr>\n      <th>4</th>\n      <td>6</td>\n      <td>590</td>\n    </tr>\n    <tr>\n      <th>5</th>\n      <td>7</td>\n      <td>307</td>\n    </tr>\n    <tr>\n      <th>6</th>\n      <td>8</td>\n      <td>647</td>\n    </tr>\n    <tr>\n      <th>7</th>\n      <td>9</td>\n      <td>301</td>\n    </tr>\n    <tr>\n      <th>8</th>\n      <td>10</td>\n      <td>182</td>\n    </tr>\n    <tr>\n      <th>9</th>\n      <td>11</td>\n      <td>554</td>\n    </tr>\n    <tr>\n      <th>10</th>\n      <td>12</td>\n      <td>303</td>\n    </tr>\n    <tr>\n      <th>11</th>\n      <td>13</td>\n      <td>328</td>\n    </tr>\n    <tr>\n      <th>12</th>\n      <td>14</td>\n      <td>370</td>\n    </tr>\n    <tr>\n      <th>13</th>\n      <td>15</td>\n      <td>150</td>\n    </tr>\n    <tr>\n      <th>14</th>\n      <td>16</td>\n      <td>103</td>\n    </tr>\n    <tr>\n      <th>15</th>\n      <td>17</td>\n      <td>392</td>\n    </tr>\n    <tr>\n      <th>16</th>\n      <td>18</td>\n      <td>29</td>\n    </tr>\n  </tbody>\n</table>\n</div>"
     },
     "execution_count": 96,
     "metadata": {},
     "output_type": "execute_result"
    }
   ],
   "source": [
    "ba_feed_cls_agg_df = ba_feed_agg_df[['class', 'sample_count']].groupby('class').sum().sort_values(\n",
    "\tby = 'class').reset_index()\n",
    "ba_feed_cls_agg_df"
   ],
   "metadata": {
    "collapsed": false
   }
  },
  {
   "cell_type": "code",
   "execution_count": 76,
   "outputs": [
    {
     "data": {
      "text/plain": "                                            recording  class  sample_count\n0   Furka14_22a-BA02_BS04-24F3190160370695_2022060...      2           287\n1   Furka10_22a-BA03_BS04-24E144045FDF1AD9_2022060...      3           204\n2   AT_1_2_1_22-BA04_BS02-2466C2065B90281B_2022060...      4           161\n3   Furka31_22a-BA04_BS03-247AA5015FDF2A00_2022072...      4           590\n4   Furka33_22a-BA05_BS02-248D9B02603706BB_2022071...      5           947\n5   Furka12_22a-BA06_BS05-24F3190160370695_2022072...      6          2194\n6   AT_1_6_1_22-BA06_BS03-243B1F075C79F9E9_2022060...      6           253\n7   Furka34_22a-BA07_BS04-247AA5015FDF2A00_2022061...      7          1041\n8   AT_2_2_1_22-BA08_BS04-247AA5015BA4439B_2022060...      8          1932\n9   Furka13_22a-BA08_BS05-248D9B02603706BB_2022060...      8          2515\n10  AT_1_8_1_22-BA09_BS04-247AA5015C0309FF_2022060...      9           783\n11  AT_1_2_1_22-BA10_BS02-24E144035BA44417_2022061...     10          1960\n12  AT_1_8_1_22-BA11_BS04-24E144035BA44334_2022061...     11          1190\n13  Furka34_22a-BA11_BS04-247AA5015FDF2A00_2022061...     11          3030\n14  AT_2_2_1_22-BA12_BS04-2466C2065B902810_2022061...     12           684\n15  Furka10_22a-BA12_BS04-24E144045FDF1AD9_2022061...     12          3136\n16  AT_1_3_1_22-BA12_BS03-24E144045FDEF471_2022061...     12           128\n17  AT_1_6_1_22-BA13_BS03-243B1F055AD2F48C_2022061...     13          2244\n18  Furka14_22a-BA13_BS04-24F3190160370695_2022061...     13          2080\n19  Furka12_22a-BA14_BS04-24F3190160370695_2022072...     14          3188\n20  Furka13_22a-BA15_BS05-248D9B02603706BB_2022061...     15          3520\n21  Joch4_22a-BA15_BS04-242A260460375836_20220621_...     15          2630\n22  Furka31_22a-BA16_BS03-247AA5015FDF2A00_2022080...     16          2428\n23  Furka33_22a-BA17_BS02-248D9B02603706BB_2022072...     17          2641\n24  AT_1_3_1_22-BA17_BS03-243B1F075C79F9E9_2022061...     17          1345\n25  Joch4_22a-BA18_BS04-242A260460375836_20220624_...     18            17",
      "text/html": "<div>\n<style scoped>\n    .dataframe tbody tr th:only-of-type {\n        vertical-align: middle;\n    }\n\n    .dataframe tbody tr th {\n        vertical-align: top;\n    }\n\n    .dataframe thead th {\n        text-align: right;\n    }\n</style>\n<table border=\"1\" class=\"dataframe\">\n  <thead>\n    <tr style=\"text-align: right;\">\n      <th></th>\n      <th>recording</th>\n      <th>class</th>\n      <th>sample_count</th>\n    </tr>\n  </thead>\n  <tbody>\n    <tr>\n      <th>0</th>\n      <td>Furka14_22a-BA02_BS04-24F3190160370695_2022060...</td>\n      <td>2</td>\n      <td>287</td>\n    </tr>\n    <tr>\n      <th>1</th>\n      <td>Furka10_22a-BA03_BS04-24E144045FDF1AD9_2022060...</td>\n      <td>3</td>\n      <td>204</td>\n    </tr>\n    <tr>\n      <th>2</th>\n      <td>AT_1_2_1_22-BA04_BS02-2466C2065B90281B_2022060...</td>\n      <td>4</td>\n      <td>161</td>\n    </tr>\n    <tr>\n      <th>3</th>\n      <td>Furka31_22a-BA04_BS03-247AA5015FDF2A00_2022072...</td>\n      <td>4</td>\n      <td>590</td>\n    </tr>\n    <tr>\n      <th>4</th>\n      <td>Furka33_22a-BA05_BS02-248D9B02603706BB_2022071...</td>\n      <td>5</td>\n      <td>947</td>\n    </tr>\n    <tr>\n      <th>5</th>\n      <td>Furka12_22a-BA06_BS05-24F3190160370695_2022072...</td>\n      <td>6</td>\n      <td>2194</td>\n    </tr>\n    <tr>\n      <th>6</th>\n      <td>AT_1_6_1_22-BA06_BS03-243B1F075C79F9E9_2022060...</td>\n      <td>6</td>\n      <td>253</td>\n    </tr>\n    <tr>\n      <th>7</th>\n      <td>Furka34_22a-BA07_BS04-247AA5015FDF2A00_2022061...</td>\n      <td>7</td>\n      <td>1041</td>\n    </tr>\n    <tr>\n      <th>8</th>\n      <td>AT_2_2_1_22-BA08_BS04-247AA5015BA4439B_2022060...</td>\n      <td>8</td>\n      <td>1932</td>\n    </tr>\n    <tr>\n      <th>9</th>\n      <td>Furka13_22a-BA08_BS05-248D9B02603706BB_2022060...</td>\n      <td>8</td>\n      <td>2515</td>\n    </tr>\n    <tr>\n      <th>10</th>\n      <td>AT_1_8_1_22-BA09_BS04-247AA5015C0309FF_2022060...</td>\n      <td>9</td>\n      <td>783</td>\n    </tr>\n    <tr>\n      <th>11</th>\n      <td>AT_1_2_1_22-BA10_BS02-24E144035BA44417_2022061...</td>\n      <td>10</td>\n      <td>1960</td>\n    </tr>\n    <tr>\n      <th>12</th>\n      <td>AT_1_8_1_22-BA11_BS04-24E144035BA44334_2022061...</td>\n      <td>11</td>\n      <td>1190</td>\n    </tr>\n    <tr>\n      <th>13</th>\n      <td>Furka34_22a-BA11_BS04-247AA5015FDF2A00_2022061...</td>\n      <td>11</td>\n      <td>3030</td>\n    </tr>\n    <tr>\n      <th>14</th>\n      <td>AT_2_2_1_22-BA12_BS04-2466C2065B902810_2022061...</td>\n      <td>12</td>\n      <td>684</td>\n    </tr>\n    <tr>\n      <th>15</th>\n      <td>Furka10_22a-BA12_BS04-24E144045FDF1AD9_2022061...</td>\n      <td>12</td>\n      <td>3136</td>\n    </tr>\n    <tr>\n      <th>16</th>\n      <td>AT_1_3_1_22-BA12_BS03-24E144045FDEF471_2022061...</td>\n      <td>12</td>\n      <td>128</td>\n    </tr>\n    <tr>\n      <th>17</th>\n      <td>AT_1_6_1_22-BA13_BS03-243B1F055AD2F48C_2022061...</td>\n      <td>13</td>\n      <td>2244</td>\n    </tr>\n    <tr>\n      <th>18</th>\n      <td>Furka14_22a-BA13_BS04-24F3190160370695_2022061...</td>\n      <td>13</td>\n      <td>2080</td>\n    </tr>\n    <tr>\n      <th>19</th>\n      <td>Furka12_22a-BA14_BS04-24F3190160370695_2022072...</td>\n      <td>14</td>\n      <td>3188</td>\n    </tr>\n    <tr>\n      <th>20</th>\n      <td>Furka13_22a-BA15_BS05-248D9B02603706BB_2022061...</td>\n      <td>15</td>\n      <td>3520</td>\n    </tr>\n    <tr>\n      <th>21</th>\n      <td>Joch4_22a-BA15_BS04-242A260460375836_20220621_...</td>\n      <td>15</td>\n      <td>2630</td>\n    </tr>\n    <tr>\n      <th>22</th>\n      <td>Furka31_22a-BA16_BS03-247AA5015FDF2A00_2022080...</td>\n      <td>16</td>\n      <td>2428</td>\n    </tr>\n    <tr>\n      <th>23</th>\n      <td>Furka33_22a-BA17_BS02-248D9B02603706BB_2022072...</td>\n      <td>17</td>\n      <td>2641</td>\n    </tr>\n    <tr>\n      <th>24</th>\n      <td>AT_1_3_1_22-BA17_BS03-243B1F075C79F9E9_2022061...</td>\n      <td>17</td>\n      <td>1345</td>\n    </tr>\n    <tr>\n      <th>25</th>\n      <td>Joch4_22a-BA18_BS04-242A260460375836_20220624_...</td>\n      <td>18</td>\n      <td>17</td>\n    </tr>\n  </tbody>\n</table>\n</div>"
     },
     "execution_count": 76,
     "metadata": {},
     "output_type": "execute_result"
    }
   ],
   "source": [
    "ba_contact_agg_df = count_samples_per_file(ba_data.loc[~ba_data['is_silence'] & (ba_data['event'] == 'contact')])\n",
    "ba_contact_agg_df"
   ],
   "metadata": {
    "collapsed": false
   }
  },
  {
   "cell_type": "code",
   "execution_count": 77,
   "outputs": [
    {
     "data": {
      "text/plain": "    class  sample_count\n0       2           287\n1       3           204\n2       4           751\n3       5           947\n4       6          2447\n5       7          1041\n6       8          4447\n7       9           783\n8      10          1960\n9      11          4220\n10     12          3948\n11     13          4324\n12     14          3188\n13     15          6150\n14     16          2428\n15     17          3986\n16     18            17",
      "text/html": "<div>\n<style scoped>\n    .dataframe tbody tr th:only-of-type {\n        vertical-align: middle;\n    }\n\n    .dataframe tbody tr th {\n        vertical-align: top;\n    }\n\n    .dataframe thead th {\n        text-align: right;\n    }\n</style>\n<table border=\"1\" class=\"dataframe\">\n  <thead>\n    <tr style=\"text-align: right;\">\n      <th></th>\n      <th>class</th>\n      <th>sample_count</th>\n    </tr>\n  </thead>\n  <tbody>\n    <tr>\n      <th>0</th>\n      <td>2</td>\n      <td>287</td>\n    </tr>\n    <tr>\n      <th>1</th>\n      <td>3</td>\n      <td>204</td>\n    </tr>\n    <tr>\n      <th>2</th>\n      <td>4</td>\n      <td>751</td>\n    </tr>\n    <tr>\n      <th>3</th>\n      <td>5</td>\n      <td>947</td>\n    </tr>\n    <tr>\n      <th>4</th>\n      <td>6</td>\n      <td>2447</td>\n    </tr>\n    <tr>\n      <th>5</th>\n      <td>7</td>\n      <td>1041</td>\n    </tr>\n    <tr>\n      <th>6</th>\n      <td>8</td>\n      <td>4447</td>\n    </tr>\n    <tr>\n      <th>7</th>\n      <td>9</td>\n      <td>783</td>\n    </tr>\n    <tr>\n      <th>8</th>\n      <td>10</td>\n      <td>1960</td>\n    </tr>\n    <tr>\n      <th>9</th>\n      <td>11</td>\n      <td>4220</td>\n    </tr>\n    <tr>\n      <th>10</th>\n      <td>12</td>\n      <td>3948</td>\n    </tr>\n    <tr>\n      <th>11</th>\n      <td>13</td>\n      <td>4324</td>\n    </tr>\n    <tr>\n      <th>12</th>\n      <td>14</td>\n      <td>3188</td>\n    </tr>\n    <tr>\n      <th>13</th>\n      <td>15</td>\n      <td>6150</td>\n    </tr>\n    <tr>\n      <th>14</th>\n      <td>16</td>\n      <td>2428</td>\n    </tr>\n    <tr>\n      <th>15</th>\n      <td>17</td>\n      <td>3986</td>\n    </tr>\n    <tr>\n      <th>16</th>\n      <td>18</td>\n      <td>17</td>\n    </tr>\n  </tbody>\n</table>\n</div>"
     },
     "execution_count": 77,
     "metadata": {},
     "output_type": "execute_result"
    }
   ],
   "source": [
    "ba_contact_cls_agg_df = ba_contact_agg_df[['class', 'sample_count']].groupby('class').sum().sort_values(\n",
    "\tby = 'class').reset_index()\n",
    "ba_contact_cls_agg_df"
   ],
   "metadata": {
    "collapsed": false
   }
  },
  {
   "cell_type": "code",
   "execution_count": 97,
   "outputs": [],
   "source": [
    "plot_sample_count(\n",
    "\tba_agg_df.iloc[:12], x_label_col = 'recording', x_rotation = 'vertical', x_label = 'Recording',\n",
    "\ttitle = '2s samples per brood age 2 - 10'\n",
    ")\n",
    "\n",
    "plot_sample_count(\n",
    "\tba_agg_df.iloc[12:], x_label_col = 'recording', x_rotation = 'vertical', x_label = 'Recording',\n",
    "\ttitle = '2s samples per brood age 11 - 18'\n",
    ")\n",
    "\n",
    "plot_sample_count(\n",
    "\tba_cls_agg_df[:10], x_label_col = 'class', x_rotation = 'horizontal', x_label = 'Brood age',\n",
    "\ttitle = '2s samples per recording, age 2 - 10'\n",
    ")\n",
    "\n",
    "plot_sample_count(\n",
    "\tba_cls_agg_df[10:], x_label_col = 'class', x_rotation = 'horizontal', x_label = 'Brood age',\n",
    "\ttitle = '2s samples per recording age 11 - 18'\n",
    ")\n",
    "\n",
    "plot_sample_count(\n",
    "\tba_feed_agg_df.iloc[:12], x_label_col = 'recording', x_rotation = 'vertical', x_label = 'Recording',\n",
    "\ttitle = 'Feeding 2s samples per brood age 2 - 10'\n",
    ")\n",
    "\n",
    "plot_sample_count(\n",
    "\tba_feed_agg_df.iloc[12:], x_label_col = 'recording', x_rotation = 'vertical', x_label = 'Recording',\n",
    "\ttitle = 'Feeding 2s samples per brood age 11 - 18'\n",
    ")\n",
    "\n",
    "plot_sample_count(\n",
    "\tba_feed_cls_agg_df[:10], x_label_col = 'class', x_rotation = 'horizontal', x_label = 'Brood age',\n",
    "\ttitle = 'Feeding 2s samples per recording, age 2 - 10'\n",
    ")\n",
    "\n",
    "plot_sample_count(\n",
    "\tba_feed_cls_agg_df[10:], x_label_col = 'class', x_rotation = 'horizontal', x_label = 'Brood age',\n",
    "\ttitle = 'Feeding 2s samples per recording age 11 - 18'\n",
    ")\n",
    "\n",
    "plot_sample_count(\n",
    "\tba_contact_agg_df.iloc[:12], x_label_col = 'recording', x_rotation = 'vertical', x_label = 'Recording',\n",
    "\ttitle = 'Contact 2s samples per brood age 2 - 10'\n",
    ")\n",
    "\n",
    "plot_sample_count(\n",
    "\tba_contact_agg_df.iloc[12:], x_label_col = 'recording', x_rotation = 'vertical', x_label = 'Recording',\n",
    "\ttitle = 'Contact 2s samples per brood age 11 - 18'\n",
    ")\n",
    "\n",
    "plot_sample_count(\n",
    "\tba_contact_cls_agg_df[:10], x_label_col = 'class', x_rotation = 'horizontal', x_label = 'Brood age',\n",
    "\ttitle = 'Contact 2s samples per recording, age 2 - 10'\n",
    ")\n",
    "\n",
    "plot_sample_count(\n",
    "\tba_contact_cls_agg_df[10:], x_label_col = 'class', x_rotation = 'horizontal', x_label = 'Brood age',\n",
    "\ttitle = 'Contact 2s samples per recording age 11 - 18'\n",
    ")"
   ],
   "metadata": {
    "collapsed": false
   }
  },
  {
   "cell_type": "markdown",
   "source": [
    "### Age grouping"
   ],
   "metadata": {
    "collapsed": false
   }
  },
  {
   "cell_type": "code",
   "execution_count": 100,
   "outputs": [
    {
     "name": "stderr",
     "output_type": "stream",
     "text": [
      "c:\\users\\barto\\devel\\repos\\pycharmprojects\\snowfinchwire.broodanalyzer\\venv\\lib\\site-packages\\tqdm\\auto.py:22: TqdmWarning: IProgress not found. Please update jupyter and ipywidgets. See https://ipywidgets.readthedocs.io/en/stable/user_install.html\n",
      "  from .autonotebook import tqdm as notebook_tqdm\n"
     ]
    }
   ],
   "source": [
    "from sfw_brood.preprocessing import group_ages\n",
    "from sklearn.preprocessing import OneHotEncoder"
   ],
   "metadata": {
    "collapsed": false
   }
  },
  {
   "cell_type": "code",
   "execution_count": 117,
   "outputs": [
    {
     "name": "stderr",
     "output_type": "stream",
     "text": [
      "C:\\Users\\barto\\Devel\\Repos\\PycharmProjects\\SnowfinchWire.BroodAnalyzer\\sfw_brood\\preprocessing.py:168: SettingWithCopyWarning: \n",
      "A value is trying to be set on a copy of a slice from a DataFrame.\n",
      "Try using .loc[row_indexer,col_indexer] = value instead\n",
      "\n",
      "See the caveats in the documentation: https://pandas.pydata.org/pandas-docs/stable/user_guide/indexing.html#returning-a-view-versus-a-copy\n",
      "  age_group_df['class'] = age_group_df['class'].apply(map_age)\n"
     ]
    },
    {
     "data": {
      "text/plain": "                                                   file  class  00-04  05-07  \\\n0     AT_1_2_1_22-BA04_BS02-2466C2065B90281B_2022060...  00-04    1.0    0.0   \n1     Furka10_22a-BA03_BS04-24E144045FDF1AD9_2022060...  00-04    1.0    0.0   \n2     Furka10_22a-BA03_BS04-24E144045FDF1AD9_2022060...  00-04    1.0    0.0   \n3     Furka10_22a-BA03_BS04-24E144045FDF1AD9_2022060...  00-04    1.0    0.0   \n4     Furka10_22a-BA03_BS04-24E144045FDF1AD9_2022060...  00-04    1.0    0.0   \n...                                                 ...    ...    ...    ...   \n5848  AT_1_3_1_22-BA17_BS03-243B1F075C79F9E9_2022061...  14-30    0.0    0.0   \n5849  AT_1_3_1_22-BA17_BS03-243B1F075C79F9E9_2022061...  14-30    0.0    0.0   \n5850  AT_1_3_1_22-BA17_BS03-243B1F075C79F9E9_2022061...  14-30    0.0    0.0   \n5851  AT_1_3_1_22-BA17_BS03-243B1F075C79F9E9_2022061...  14-30    0.0    0.0   \n5852  Furka33_22a-BA17_BS02-248D9B02603706BB_2022072...  14-30    0.0    0.0   \n\n      08-10  11-13  14-30  \n0       0.0    0.0    0.0  \n1       0.0    0.0    0.0  \n2       0.0    0.0    0.0  \n3       0.0    0.0    0.0  \n4       0.0    0.0    0.0  \n...     ...    ...    ...  \n5848    0.0    0.0    1.0  \n5849    0.0    0.0    1.0  \n5850    0.0    0.0    1.0  \n5851    0.0    0.0    1.0  \n5852    0.0    0.0    1.0  \n\n[5853 rows x 7 columns]",
      "text/html": "<div>\n<style scoped>\n    .dataframe tbody tr th:only-of-type {\n        vertical-align: middle;\n    }\n\n    .dataframe tbody tr th {\n        vertical-align: top;\n    }\n\n    .dataframe thead th {\n        text-align: right;\n    }\n</style>\n<table border=\"1\" class=\"dataframe\">\n  <thead>\n    <tr style=\"text-align: right;\">\n      <th></th>\n      <th>file</th>\n      <th>class</th>\n      <th>00-04</th>\n      <th>05-07</th>\n      <th>08-10</th>\n      <th>11-13</th>\n      <th>14-30</th>\n    </tr>\n  </thead>\n  <tbody>\n    <tr>\n      <th>0</th>\n      <td>AT_1_2_1_22-BA04_BS02-2466C2065B90281B_2022060...</td>\n      <td>00-04</td>\n      <td>1.0</td>\n      <td>0.0</td>\n      <td>0.0</td>\n      <td>0.0</td>\n      <td>0.0</td>\n    </tr>\n    <tr>\n      <th>1</th>\n      <td>Furka10_22a-BA03_BS04-24E144045FDF1AD9_2022060...</td>\n      <td>00-04</td>\n      <td>1.0</td>\n      <td>0.0</td>\n      <td>0.0</td>\n      <td>0.0</td>\n      <td>0.0</td>\n    </tr>\n    <tr>\n      <th>2</th>\n      <td>Furka10_22a-BA03_BS04-24E144045FDF1AD9_2022060...</td>\n      <td>00-04</td>\n      <td>1.0</td>\n      <td>0.0</td>\n      <td>0.0</td>\n      <td>0.0</td>\n      <td>0.0</td>\n    </tr>\n    <tr>\n      <th>3</th>\n      <td>Furka10_22a-BA03_BS04-24E144045FDF1AD9_2022060...</td>\n      <td>00-04</td>\n      <td>1.0</td>\n      <td>0.0</td>\n      <td>0.0</td>\n      <td>0.0</td>\n      <td>0.0</td>\n    </tr>\n    <tr>\n      <th>4</th>\n      <td>Furka10_22a-BA03_BS04-24E144045FDF1AD9_2022060...</td>\n      <td>00-04</td>\n      <td>1.0</td>\n      <td>0.0</td>\n      <td>0.0</td>\n      <td>0.0</td>\n      <td>0.0</td>\n    </tr>\n    <tr>\n      <th>...</th>\n      <td>...</td>\n      <td>...</td>\n      <td>...</td>\n      <td>...</td>\n      <td>...</td>\n      <td>...</td>\n      <td>...</td>\n    </tr>\n    <tr>\n      <th>5848</th>\n      <td>AT_1_3_1_22-BA17_BS03-243B1F075C79F9E9_2022061...</td>\n      <td>14-30</td>\n      <td>0.0</td>\n      <td>0.0</td>\n      <td>0.0</td>\n      <td>0.0</td>\n      <td>1.0</td>\n    </tr>\n    <tr>\n      <th>5849</th>\n      <td>AT_1_3_1_22-BA17_BS03-243B1F075C79F9E9_2022061...</td>\n      <td>14-30</td>\n      <td>0.0</td>\n      <td>0.0</td>\n      <td>0.0</td>\n      <td>0.0</td>\n      <td>1.0</td>\n    </tr>\n    <tr>\n      <th>5850</th>\n      <td>AT_1_3_1_22-BA17_BS03-243B1F075C79F9E9_2022061...</td>\n      <td>14-30</td>\n      <td>0.0</td>\n      <td>0.0</td>\n      <td>0.0</td>\n      <td>0.0</td>\n      <td>1.0</td>\n    </tr>\n    <tr>\n      <th>5851</th>\n      <td>AT_1_3_1_22-BA17_BS03-243B1F075C79F9E9_2022061...</td>\n      <td>14-30</td>\n      <td>0.0</td>\n      <td>0.0</td>\n      <td>0.0</td>\n      <td>0.0</td>\n      <td>1.0</td>\n    </tr>\n    <tr>\n      <th>5852</th>\n      <td>Furka33_22a-BA17_BS02-248D9B02603706BB_2022072...</td>\n      <td>14-30</td>\n      <td>0.0</td>\n      <td>0.0</td>\n      <td>0.0</td>\n      <td>0.0</td>\n      <td>1.0</td>\n    </tr>\n  </tbody>\n</table>\n<p>5853 rows × 7 columns</p>\n</div>"
     },
     "execution_count": 117,
     "metadata": {},
     "output_type": "execute_result"
    }
   ],
   "source": [
    "age_group_df = group_ages(\n",
    "\tba_data[~ba_data['is_silence'] & (ba_data['event'] == 'feeding')],\n",
    "\t# groups = [(0, 5), (6, 8), (9, 12), (13, 30)]\n",
    "\tgroups = [(0, 4), (5, 7), (8, 10), (11, 13), (14, 30)]\n",
    ")\n",
    "age_group_df"
   ],
   "metadata": {
    "collapsed": false
   }
  },
  {
   "cell_type": "code",
   "execution_count": 118,
   "outputs": [
    {
     "data": {
      "text/plain": "       file\nclass      \n00-04  1386\n05-07  1108\n08-10  1130\n11-13  1185\n14-30  1044",
      "text/html": "<div>\n<style scoped>\n    .dataframe tbody tr th:only-of-type {\n        vertical-align: middle;\n    }\n\n    .dataframe tbody tr th {\n        vertical-align: top;\n    }\n\n    .dataframe thead th {\n        text-align: right;\n    }\n</style>\n<table border=\"1\" class=\"dataframe\">\n  <thead>\n    <tr style=\"text-align: right;\">\n      <th></th>\n      <th>file</th>\n    </tr>\n    <tr>\n      <th>class</th>\n      <th></th>\n    </tr>\n  </thead>\n  <tbody>\n    <tr>\n      <th>00-04</th>\n      <td>1386</td>\n    </tr>\n    <tr>\n      <th>05-07</th>\n      <td>1108</td>\n    </tr>\n    <tr>\n      <th>08-10</th>\n      <td>1130</td>\n    </tr>\n    <tr>\n      <th>11-13</th>\n      <td>1185</td>\n    </tr>\n    <tr>\n      <th>14-30</th>\n      <td>1044</td>\n    </tr>\n  </tbody>\n</table>\n</div>"
     },
     "execution_count": 118,
     "metadata": {},
     "output_type": "execute_result"
    }
   ],
   "source": [
    "age_group_agg_df = age_group_df[['file', 'class']].groupby('class').count()\n",
    "# age_group_agg_df = age_group_agg_df.reset_index().drop(columns = 'index').rename(columns = { 'file': 'sample_count' })\n",
    "age_group_agg_df"
   ],
   "metadata": {
    "collapsed": false
   }
  },
  {
   "cell_type": "code",
   "execution_count": null,
   "outputs": [],
   "source": [],
   "metadata": {
    "collapsed": false
   }
  }
 ],
 "metadata": {
  "kernelspec": {
   "display_name": "Python 3",
   "language": "python",
   "name": "python3"
  },
  "language_info": {
   "codemirror_mode": {
    "name": "ipython",
    "version": 2
   },
   "file_extension": ".py",
   "mimetype": "text/x-python",
   "name": "python",
   "nbconvert_exporter": "python",
   "pygments_lexer": "ipython2",
   "version": "2.7.6"
  }
 },
 "nbformat": 4,
 "nbformat_minor": 0
}
