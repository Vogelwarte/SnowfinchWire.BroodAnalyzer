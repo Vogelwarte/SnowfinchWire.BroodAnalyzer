{
 "cells": [
  {
   "cell_type": "code",
   "execution_count": 1,
   "metadata": {
    "collapsed": true,
    "ExecuteTime": {
     "start_time": "2023-05-03T11:45:43.915841Z",
     "end_time": "2023-05-03T11:45:44.306587Z"
    }
   },
   "outputs": [],
   "source": [
    "import numpy as np\n",
    "import pandas as pd\n",
    "from datetime import datetime, timedelta"
   ]
  },
  {
   "cell_type": "code",
   "execution_count": 2,
   "outputs": [],
   "source": [
    "def normalize_confusion_matrix(cm: np.ndarray) -> np.ndarray:\n",
    "\tdiv = cm.sum(axis = 1, keepdims = True)\n",
    "\tdiv = np.where(div > 0, div, 1)\n",
    "\treturn cm / div\n",
    "\n",
    "\n",
    "def assign_periods(df: pd.DataFrame, period_days: int) -> pd.DataFrame:\n",
    "\tdef calculate_period_start(rec_time, min_date):\n",
    "\t\tperiod_offset = (rec_time.date() - min_date).days // period_days\n",
    "\t\treturn min_date + timedelta(days = period_days * period_offset)\n",
    "\n",
    "\tperiod_df = pd.DataFrame()\n",
    "\n",
    "\tfor brood in df['brood_id'].unique():\n",
    "\t\tbrood_df = df[df['brood_id'] == brood]\n",
    "\t\tbrood_min_date = brood_df['datetime'].min().date()\n",
    "\t\tbrood_df['period_start'] = brood_df['datetime'].apply(lambda dt: calculate_period_start(dt, brood_min_date))\n",
    "\t\tperiod_df = pd.concat([period_df, brood_df])\n",
    "\n",
    "\treturn period_df"
   ],
   "metadata": {
    "collapsed": false,
    "ExecuteTime": {
     "start_time": "2023-05-03T11:45:44.314588Z",
     "end_time": "2023-05-03T11:45:44.435904Z"
    }
   }
  },
  {
   "cell_type": "markdown",
   "source": [
    "# Test data preparation"
   ],
   "metadata": {
    "collapsed": false
   }
  },
  {
   "cell_type": "code",
   "execution_count": 3,
   "outputs": [
    {
     "data": {
      "text/plain": "                                               rec_path     brood_id   \n0     2022/AT_Grossglockner/12_1_1_22/12_1_1_22_2206...    12_1_1_22  \\\n1     2022/AT_Grossglockner/12_1_1_22/12_1_1_22_2206...    12_1_1_22   \n2     2022/AT_Grossglockner/12_1_1_22/12_1_1_22_2206...    12_1_1_22   \n3     2022/AT_Grossglockner/12_1_1_22/12_1_1_22_2206...    12_1_1_22   \n4     2022/AT_Grossglockner/12_1_1_22/12_1_1_22_2206...    12_1_1_22   \n...                                                 ...          ...   \n4188  2022/Switzerland/Furka13_22a/22_06_20/20220617...  Furka13_22a   \n4189  2022/Switzerland/Furka13_22a/22_06_20/20220618...  Furka13_22a   \n4190  2022/Switzerland/Furka13_22a/22_06_20/20220617...  Furka13_22a   \n4191  2022/Switzerland/Furka13_22a/22_06_20/20220616...  Furka13_22a   \n4192  2022/Switzerland/Furka13_22a/22_06_20/20220618...  Furka13_22a   \n\n                datetime  age_min  age_max  brood_size  \n0    2022-06-25 09:00:01      4.0      5.0           3  \n1    2022-06-22 17:00:00      1.0      2.0           4  \n2    2022-06-26 06:00:00      5.0      6.0           3  \n3    2022-06-22 07:19:15      1.0      2.0           4  \n4    2022-06-25 18:00:00      4.0      5.0           3  \n...                  ...      ...      ...         ...  \n4188 2022-06-17 17:30:00     19.0     20.0           5  \n4189 2022-06-18 13:30:00     20.0     21.0           5  \n4190 2022-06-17 05:30:00     19.0     20.0           5  \n4191 2022-06-16 20:30:00     18.0     19.0           5  \n4192 2022-06-18 20:30:00     20.0     21.0           5  \n\n[4193 rows x 6 columns]",
      "text/html": "<div>\n<style scoped>\n    .dataframe tbody tr th:only-of-type {\n        vertical-align: middle;\n    }\n\n    .dataframe tbody tr th {\n        vertical-align: top;\n    }\n\n    .dataframe thead th {\n        text-align: right;\n    }\n</style>\n<table border=\"1\" class=\"dataframe\">\n  <thead>\n    <tr style=\"text-align: right;\">\n      <th></th>\n      <th>rec_path</th>\n      <th>brood_id</th>\n      <th>datetime</th>\n      <th>age_min</th>\n      <th>age_max</th>\n      <th>brood_size</th>\n    </tr>\n  </thead>\n  <tbody>\n    <tr>\n      <th>0</th>\n      <td>2022/AT_Grossglockner/12_1_1_22/12_1_1_22_2206...</td>\n      <td>12_1_1_22</td>\n      <td>2022-06-25 09:00:01</td>\n      <td>4.0</td>\n      <td>5.0</td>\n      <td>3</td>\n    </tr>\n    <tr>\n      <th>1</th>\n      <td>2022/AT_Grossglockner/12_1_1_22/12_1_1_22_2206...</td>\n      <td>12_1_1_22</td>\n      <td>2022-06-22 17:00:00</td>\n      <td>1.0</td>\n      <td>2.0</td>\n      <td>4</td>\n    </tr>\n    <tr>\n      <th>2</th>\n      <td>2022/AT_Grossglockner/12_1_1_22/12_1_1_22_2206...</td>\n      <td>12_1_1_22</td>\n      <td>2022-06-26 06:00:00</td>\n      <td>5.0</td>\n      <td>6.0</td>\n      <td>3</td>\n    </tr>\n    <tr>\n      <th>3</th>\n      <td>2022/AT_Grossglockner/12_1_1_22/12_1_1_22_2206...</td>\n      <td>12_1_1_22</td>\n      <td>2022-06-22 07:19:15</td>\n      <td>1.0</td>\n      <td>2.0</td>\n      <td>4</td>\n    </tr>\n    <tr>\n      <th>4</th>\n      <td>2022/AT_Grossglockner/12_1_1_22/12_1_1_22_2206...</td>\n      <td>12_1_1_22</td>\n      <td>2022-06-25 18:00:00</td>\n      <td>4.0</td>\n      <td>5.0</td>\n      <td>3</td>\n    </tr>\n    <tr>\n      <th>...</th>\n      <td>...</td>\n      <td>...</td>\n      <td>...</td>\n      <td>...</td>\n      <td>...</td>\n      <td>...</td>\n    </tr>\n    <tr>\n      <th>4188</th>\n      <td>2022/Switzerland/Furka13_22a/22_06_20/20220617...</td>\n      <td>Furka13_22a</td>\n      <td>2022-06-17 17:30:00</td>\n      <td>19.0</td>\n      <td>20.0</td>\n      <td>5</td>\n    </tr>\n    <tr>\n      <th>4189</th>\n      <td>2022/Switzerland/Furka13_22a/22_06_20/20220618...</td>\n      <td>Furka13_22a</td>\n      <td>2022-06-18 13:30:00</td>\n      <td>20.0</td>\n      <td>21.0</td>\n      <td>5</td>\n    </tr>\n    <tr>\n      <th>4190</th>\n      <td>2022/Switzerland/Furka13_22a/22_06_20/20220617...</td>\n      <td>Furka13_22a</td>\n      <td>2022-06-17 05:30:00</td>\n      <td>19.0</td>\n      <td>20.0</td>\n      <td>5</td>\n    </tr>\n    <tr>\n      <th>4191</th>\n      <td>2022/Switzerland/Furka13_22a/22_06_20/20220616...</td>\n      <td>Furka13_22a</td>\n      <td>2022-06-16 20:30:00</td>\n      <td>18.0</td>\n      <td>19.0</td>\n      <td>5</td>\n    </tr>\n    <tr>\n      <th>4192</th>\n      <td>2022/Switzerland/Furka13_22a/22_06_20/20220618...</td>\n      <td>Furka13_22a</td>\n      <td>2022-06-18 20:30:00</td>\n      <td>20.0</td>\n      <td>21.0</td>\n      <td>5</td>\n    </tr>\n  </tbody>\n</table>\n<p>4193 rows × 6 columns</p>\n</div>"
     },
     "execution_count": 3,
     "metadata": {},
     "output_type": "execute_result"
    }
   ],
   "source": [
    "rec_df = pd.read_csv('_data/snowfinch-recordings.csv')\n",
    "rec_df['datetime'] = pd.to_datetime(rec_df['datetime'])\n",
    "rec_df"
   ],
   "metadata": {
    "collapsed": false,
    "ExecuteTime": {
     "start_time": "2023-05-03T11:45:44.443107Z",
     "end_time": "2023-05-03T11:45:44.601208Z"
    }
   }
  },
  {
   "cell_type": "code",
   "execution_count": 4,
   "outputs": [
    {
     "name": "stderr",
     "output_type": "stream",
     "text": [
      "/tmp/ipykernel_909/4081892371.py:17: SettingWithCopyWarning: \n",
      "A value is trying to be set on a copy of a slice from a DataFrame.\n",
      "Try using .loc[row_indexer,col_indexer] = value instead\n",
      "\n",
      "See the caveats in the documentation: https://pandas.pydata.org/pandas-docs/stable/user_guide/indexing.html#returning-a-view-versus-a-copy\n",
      "  brood_df['period_start'] = brood_df['datetime'].apply(lambda dt: calculate_period_start(dt, brood_min_date))\n",
      "/tmp/ipykernel_909/4081892371.py:17: SettingWithCopyWarning: \n",
      "A value is trying to be set on a copy of a slice from a DataFrame.\n",
      "Try using .loc[row_indexer,col_indexer] = value instead\n",
      "\n",
      "See the caveats in the documentation: https://pandas.pydata.org/pandas-docs/stable/user_guide/indexing.html#returning-a-view-versus-a-copy\n",
      "  brood_df['period_start'] = brood_df['datetime'].apply(lambda dt: calculate_period_start(dt, brood_min_date))\n"
     ]
    },
    {
     "data": {
      "text/plain": "                                              rec_path     brood_id   \n0    2022/Switzerland/Furka10_22a/22_06_14/20220610...  Furka10_22a  \\\n1    2022/Switzerland/Furka10_22a/22_06_14/20220610...  Furka10_22a   \n2    2022/Switzerland/Furka10_22a/22_06_14/20220610...  Furka10_22a   \n3    2022/Switzerland/Furka10_22a/22_06_14/20220610...  Furka10_22a   \n4    2022/Switzerland/Furka10_22a/22_06_14/20220610...  Furka10_22a   \n..                                                 ...          ...   \n124  2022/Switzerland/Furka12_22a/22_07_19/20220717...  Furka12_22a   \n125  2022/Switzerland/Furka12_22a/22_07_19/20220719...  Furka12_22a   \n126  2022/Switzerland/Furka12_22a/22_07_19/20220717...  Furka12_22a   \n127  2022/Switzerland/Furka12_22a/22_07_19/20220718...  Furka12_22a   \n128  2022/Switzerland/Furka12_22a/22_07_19/20220717...  Furka12_22a   \n\n               datetime  age_min  age_max  brood_size period_start  \n0   2022-06-10 15:30:00     10.0     10.0           4   2022-06-09  \n1   2022-06-10 21:30:00     10.0     10.0           4   2022-06-09  \n2   2022-06-10 14:30:00     10.0     10.0           4   2022-06-09  \n3   2022-06-10 12:30:00     10.0     10.0           4   2022-06-09  \n4   2022-06-10 16:30:00     10.0     10.0           4   2022-06-09  \n..                  ...      ...      ...         ...          ...  \n124 2022-07-17 18:30:00      2.0      5.0           5   2022-07-17  \n125 2022-07-19 05:30:00      4.0      7.0           5   2022-07-19  \n126 2022-07-17 15:30:00      2.0      5.0           5   2022-07-17  \n127 2022-07-18 11:30:00      3.0      6.0           5   2022-07-17  \n128 2022-07-17 07:30:00      2.0      5.0           5   2022-07-17  \n\n[129 rows x 7 columns]",
      "text/html": "<div>\n<style scoped>\n    .dataframe tbody tr th:only-of-type {\n        vertical-align: middle;\n    }\n\n    .dataframe tbody tr th {\n        vertical-align: top;\n    }\n\n    .dataframe thead th {\n        text-align: right;\n    }\n</style>\n<table border=\"1\" class=\"dataframe\">\n  <thead>\n    <tr style=\"text-align: right;\">\n      <th></th>\n      <th>rec_path</th>\n      <th>brood_id</th>\n      <th>datetime</th>\n      <th>age_min</th>\n      <th>age_max</th>\n      <th>brood_size</th>\n      <th>period_start</th>\n    </tr>\n  </thead>\n  <tbody>\n    <tr>\n      <th>0</th>\n      <td>2022/Switzerland/Furka10_22a/22_06_14/20220610...</td>\n      <td>Furka10_22a</td>\n      <td>2022-06-10 15:30:00</td>\n      <td>10.0</td>\n      <td>10.0</td>\n      <td>4</td>\n      <td>2022-06-09</td>\n    </tr>\n    <tr>\n      <th>1</th>\n      <td>2022/Switzerland/Furka10_22a/22_06_14/20220610...</td>\n      <td>Furka10_22a</td>\n      <td>2022-06-10 21:30:00</td>\n      <td>10.0</td>\n      <td>10.0</td>\n      <td>4</td>\n      <td>2022-06-09</td>\n    </tr>\n    <tr>\n      <th>2</th>\n      <td>2022/Switzerland/Furka10_22a/22_06_14/20220610...</td>\n      <td>Furka10_22a</td>\n      <td>2022-06-10 14:30:00</td>\n      <td>10.0</td>\n      <td>10.0</td>\n      <td>4</td>\n      <td>2022-06-09</td>\n    </tr>\n    <tr>\n      <th>3</th>\n      <td>2022/Switzerland/Furka10_22a/22_06_14/20220610...</td>\n      <td>Furka10_22a</td>\n      <td>2022-06-10 12:30:00</td>\n      <td>10.0</td>\n      <td>10.0</td>\n      <td>4</td>\n      <td>2022-06-09</td>\n    </tr>\n    <tr>\n      <th>4</th>\n      <td>2022/Switzerland/Furka10_22a/22_06_14/20220610...</td>\n      <td>Furka10_22a</td>\n      <td>2022-06-10 16:30:00</td>\n      <td>10.0</td>\n      <td>10.0</td>\n      <td>4</td>\n      <td>2022-06-09</td>\n    </tr>\n    <tr>\n      <th>...</th>\n      <td>...</td>\n      <td>...</td>\n      <td>...</td>\n      <td>...</td>\n      <td>...</td>\n      <td>...</td>\n      <td>...</td>\n    </tr>\n    <tr>\n      <th>124</th>\n      <td>2022/Switzerland/Furka12_22a/22_07_19/20220717...</td>\n      <td>Furka12_22a</td>\n      <td>2022-07-17 18:30:00</td>\n      <td>2.0</td>\n      <td>5.0</td>\n      <td>5</td>\n      <td>2022-07-17</td>\n    </tr>\n    <tr>\n      <th>125</th>\n      <td>2022/Switzerland/Furka12_22a/22_07_19/20220719...</td>\n      <td>Furka12_22a</td>\n      <td>2022-07-19 05:30:00</td>\n      <td>4.0</td>\n      <td>7.0</td>\n      <td>5</td>\n      <td>2022-07-19</td>\n    </tr>\n    <tr>\n      <th>126</th>\n      <td>2022/Switzerland/Furka12_22a/22_07_19/20220717...</td>\n      <td>Furka12_22a</td>\n      <td>2022-07-17 15:30:00</td>\n      <td>2.0</td>\n      <td>5.0</td>\n      <td>5</td>\n      <td>2022-07-17</td>\n    </tr>\n    <tr>\n      <th>127</th>\n      <td>2022/Switzerland/Furka12_22a/22_07_19/20220718...</td>\n      <td>Furka12_22a</td>\n      <td>2022-07-18 11:30:00</td>\n      <td>3.0</td>\n      <td>6.0</td>\n      <td>5</td>\n      <td>2022-07-17</td>\n    </tr>\n    <tr>\n      <th>128</th>\n      <td>2022/Switzerland/Furka12_22a/22_07_19/20220717...</td>\n      <td>Furka12_22a</td>\n      <td>2022-07-17 07:30:00</td>\n      <td>2.0</td>\n      <td>5.0</td>\n      <td>5</td>\n      <td>2022-07-17</td>\n    </tr>\n  </tbody>\n</table>\n<p>129 rows × 7 columns</p>\n</div>"
     },
     "execution_count": 4,
     "metadata": {},
     "output_type": "execute_result"
    }
   ],
   "source": [
    "f10_start = datetime(2022, 6, 7)\n",
    "f10_end = datetime(2022, 6, 11)\n",
    "f10_idx = (rec_df['brood_id'] == 'Furka10_22a') & (rec_df['datetime'] >= f10_start) & (rec_df['datetime'] < f10_end)\n",
    "\n",
    "f12_start = datetime(2022, 7, 16)\n",
    "f12_end = datetime(2022, 7, 20)\n",
    "f12_idx = (rec_df['brood_id'] == 'Furka12_22a') & (rec_df['datetime'] >= f12_start) & (rec_df['datetime'] < f12_end)\n",
    "\n",
    "test_df = rec_df[f10_idx | f12_idx].reset_index().drop(columns = 'index')\n",
    "test_df = assign_periods(test_df, period_days = 2)\n",
    "test_df"
   ],
   "metadata": {
    "collapsed": false,
    "ExecuteTime": {
     "start_time": "2023-05-03T11:45:44.556057Z",
     "end_time": "2023-05-03T11:45:44.725220Z"
    }
   }
  },
  {
   "cell_type": "markdown",
   "source": [
    "# Brood size"
   ],
   "metadata": {
    "collapsed": false
   }
  },
  {
   "cell_type": "code",
   "execution_count": 5,
   "outputs": [
    {
     "data": {
      "text/plain": "                                              rec_path     brood_id   \n0    2022/Switzerland/Furka10_22a/22_06_14/20220610...  Furka10_22a  \\\n1    2022/Switzerland/Furka10_22a/22_06_14/20220610...  Furka10_22a   \n2    2022/Switzerland/Furka10_22a/22_06_14/20220610...  Furka10_22a   \n3    2022/Switzerland/Furka10_22a/22_06_14/20220610...  Furka10_22a   \n4    2022/Switzerland/Furka10_22a/22_06_14/20220610...  Furka10_22a   \n..                                                 ...          ...   \n124  2022/Switzerland/Furka12_22a/22_07_19/20220717...  Furka12_22a   \n125  2022/Switzerland/Furka12_22a/22_07_19/20220719...  Furka12_22a   \n126  2022/Switzerland/Furka12_22a/22_07_19/20220717...  Furka12_22a   \n127  2022/Switzerland/Furka12_22a/22_07_19/20220718...  Furka12_22a   \n128  2022/Switzerland/Furka12_22a/22_07_19/20220717...  Furka12_22a   \n\n    period_start  2  3  4  5  \n0     2022-06-09  0  0  1  0  \n1     2022-06-09  0  0  1  0  \n2     2022-06-09  0  0  1  0  \n3     2022-06-09  0  0  1  0  \n4     2022-06-09  0  0  1  0  \n..           ... .. .. .. ..  \n124   2022-07-17  0  0  0  1  \n125   2022-07-19  0  0  0  1  \n126   2022-07-17  0  0  0  1  \n127   2022-07-17  0  0  0  1  \n128   2022-07-17  0  0  0  1  \n\n[129 rows x 7 columns]",
      "text/html": "<div>\n<style scoped>\n    .dataframe tbody tr th:only-of-type {\n        vertical-align: middle;\n    }\n\n    .dataframe tbody tr th {\n        vertical-align: top;\n    }\n\n    .dataframe thead th {\n        text-align: right;\n    }\n</style>\n<table border=\"1\" class=\"dataframe\">\n  <thead>\n    <tr style=\"text-align: right;\">\n      <th></th>\n      <th>rec_path</th>\n      <th>brood_id</th>\n      <th>period_start</th>\n      <th>2</th>\n      <th>3</th>\n      <th>4</th>\n      <th>5</th>\n    </tr>\n  </thead>\n  <tbody>\n    <tr>\n      <th>0</th>\n      <td>2022/Switzerland/Furka10_22a/22_06_14/20220610...</td>\n      <td>Furka10_22a</td>\n      <td>2022-06-09</td>\n      <td>0</td>\n      <td>0</td>\n      <td>1</td>\n      <td>0</td>\n    </tr>\n    <tr>\n      <th>1</th>\n      <td>2022/Switzerland/Furka10_22a/22_06_14/20220610...</td>\n      <td>Furka10_22a</td>\n      <td>2022-06-09</td>\n      <td>0</td>\n      <td>0</td>\n      <td>1</td>\n      <td>0</td>\n    </tr>\n    <tr>\n      <th>2</th>\n      <td>2022/Switzerland/Furka10_22a/22_06_14/20220610...</td>\n      <td>Furka10_22a</td>\n      <td>2022-06-09</td>\n      <td>0</td>\n      <td>0</td>\n      <td>1</td>\n      <td>0</td>\n    </tr>\n    <tr>\n      <th>3</th>\n      <td>2022/Switzerland/Furka10_22a/22_06_14/20220610...</td>\n      <td>Furka10_22a</td>\n      <td>2022-06-09</td>\n      <td>0</td>\n      <td>0</td>\n      <td>1</td>\n      <td>0</td>\n    </tr>\n    <tr>\n      <th>4</th>\n      <td>2022/Switzerland/Furka10_22a/22_06_14/20220610...</td>\n      <td>Furka10_22a</td>\n      <td>2022-06-09</td>\n      <td>0</td>\n      <td>0</td>\n      <td>1</td>\n      <td>0</td>\n    </tr>\n    <tr>\n      <th>...</th>\n      <td>...</td>\n      <td>...</td>\n      <td>...</td>\n      <td>...</td>\n      <td>...</td>\n      <td>...</td>\n      <td>...</td>\n    </tr>\n    <tr>\n      <th>124</th>\n      <td>2022/Switzerland/Furka12_22a/22_07_19/20220717...</td>\n      <td>Furka12_22a</td>\n      <td>2022-07-17</td>\n      <td>0</td>\n      <td>0</td>\n      <td>0</td>\n      <td>1</td>\n    </tr>\n    <tr>\n      <th>125</th>\n      <td>2022/Switzerland/Furka12_22a/22_07_19/20220719...</td>\n      <td>Furka12_22a</td>\n      <td>2022-07-19</td>\n      <td>0</td>\n      <td>0</td>\n      <td>0</td>\n      <td>1</td>\n    </tr>\n    <tr>\n      <th>126</th>\n      <td>2022/Switzerland/Furka12_22a/22_07_19/20220717...</td>\n      <td>Furka12_22a</td>\n      <td>2022-07-17</td>\n      <td>0</td>\n      <td>0</td>\n      <td>0</td>\n      <td>1</td>\n    </tr>\n    <tr>\n      <th>127</th>\n      <td>2022/Switzerland/Furka12_22a/22_07_19/20220718...</td>\n      <td>Furka12_22a</td>\n      <td>2022-07-17</td>\n      <td>0</td>\n      <td>0</td>\n      <td>0</td>\n      <td>1</td>\n    </tr>\n    <tr>\n      <th>128</th>\n      <td>2022/Switzerland/Furka12_22a/22_07_19/20220717...</td>\n      <td>Furka12_22a</td>\n      <td>2022-07-17</td>\n      <td>0</td>\n      <td>0</td>\n      <td>0</td>\n      <td>1</td>\n    </tr>\n  </tbody>\n</table>\n<p>129 rows × 7 columns</p>\n</div>"
     },
     "execution_count": 5,
     "metadata": {},
     "output_type": "execute_result"
    }
   ],
   "source": [
    "size_test_df = test_df.drop(columns = ['age_min', 'age_max', 'datetime'])\n",
    "\n",
    "size_test_df['brood_size'] = size_test_df['brood_size'].astype('category')\n",
    "size_test_df['brood_size'] = size_test_df['brood_size'].cat.set_categories([2, 3, 4, 5])\n",
    "\n",
    "size_1hot = pd.get_dummies(size_test_df['brood_size'])\n",
    "size_test_df = pd.concat([size_test_df.drop(columns = 'brood_size'), size_1hot.astype('int')], axis = 1)\n",
    "size_test_df"
   ],
   "metadata": {
    "collapsed": false,
    "ExecuteTime": {
     "start_time": "2023-05-03T11:45:44.698207Z",
     "end_time": "2023-05-03T11:45:44.854209Z"
    }
   }
  },
  {
   "cell_type": "code",
   "execution_count": 6,
   "outputs": [
    {
     "data": {
      "text/plain": "      brood_id period_start  rec_count  2  3  4  5\n0  Furka10_22a   2022-06-07         37  0  0  1  0\n1  Furka10_22a   2022-06-09         37  0  0  1  0\n2  Furka12_22a   2022-07-17         36  0  0  0  1\n3  Furka12_22a   2022-07-19         19  0  0  0  1",
      "text/html": "<div>\n<style scoped>\n    .dataframe tbody tr th:only-of-type {\n        vertical-align: middle;\n    }\n\n    .dataframe tbody tr th {\n        vertical-align: top;\n    }\n\n    .dataframe thead th {\n        text-align: right;\n    }\n</style>\n<table border=\"1\" class=\"dataframe\">\n  <thead>\n    <tr style=\"text-align: right;\">\n      <th></th>\n      <th>brood_id</th>\n      <th>period_start</th>\n      <th>rec_count</th>\n      <th>2</th>\n      <th>3</th>\n      <th>4</th>\n      <th>5</th>\n    </tr>\n  </thead>\n  <tbody>\n    <tr>\n      <th>0</th>\n      <td>Furka10_22a</td>\n      <td>2022-06-07</td>\n      <td>37</td>\n      <td>0</td>\n      <td>0</td>\n      <td>1</td>\n      <td>0</td>\n    </tr>\n    <tr>\n      <th>1</th>\n      <td>Furka10_22a</td>\n      <td>2022-06-09</td>\n      <td>37</td>\n      <td>0</td>\n      <td>0</td>\n      <td>1</td>\n      <td>0</td>\n    </tr>\n    <tr>\n      <th>2</th>\n      <td>Furka12_22a</td>\n      <td>2022-07-17</td>\n      <td>36</td>\n      <td>0</td>\n      <td>0</td>\n      <td>0</td>\n      <td>1</td>\n    </tr>\n    <tr>\n      <th>3</th>\n      <td>Furka12_22a</td>\n      <td>2022-07-19</td>\n      <td>19</td>\n      <td>0</td>\n      <td>0</td>\n      <td>0</td>\n      <td>1</td>\n    </tr>\n  </tbody>\n</table>\n</div>"
     },
     "execution_count": 6,
     "metadata": {},
     "output_type": "execute_result"
    }
   ],
   "source": [
    "agg_map = { 'rec_path': 'count' }\n",
    "for bs in [2, 3, 4, 5]:\n",
    "\tagg_map[bs] = 'sum'\n",
    "\n",
    "size_test_agg = size_test_df.groupby(['brood_id', 'period_start']).agg(agg_map).reset_index()\n",
    "size_test_agg = size_test_agg.rename(columns = { 'rec_path': 'rec_count' })\n",
    "\n",
    "for bs in [2, 3, 4, 5]:\n",
    "\tsize_test_agg[bs] = np.where(size_test_agg[bs] / size_test_agg['rec_count'] > 0.8, 1, 0)\n",
    "\n",
    "size_test_agg"
   ],
   "metadata": {
    "collapsed": false,
    "ExecuteTime": {
     "start_time": "2023-05-03T11:45:44.816210Z",
     "end_time": "2023-05-03T11:45:44.981847Z"
    }
   }
  },
  {
   "cell_type": "code",
   "execution_count": 7,
   "outputs": [
    {
     "name": "stderr",
     "output_type": "stream",
     "text": [
      "/tmp/ipykernel_909/4081892371.py:17: SettingWithCopyWarning: \n",
      "A value is trying to be set on a copy of a slice from a DataFrame.\n",
      "Try using .loc[row_indexer,col_indexer] = value instead\n",
      "\n",
      "See the caveats in the documentation: https://pandas.pydata.org/pandas-docs/stable/user_guide/indexing.html#returning-a-view-versus-a-copy\n",
      "  brood_df['period_start'] = brood_df['datetime'].apply(lambda dt: calculate_period_start(dt, brood_min_date))\n",
      "/tmp/ipykernel_909/4081892371.py:17: SettingWithCopyWarning: \n",
      "A value is trying to be set on a copy of a slice from a DataFrame.\n",
      "Try using .loc[row_indexer,col_indexer] = value instead\n",
      "\n",
      "See the caveats in the documentation: https://pandas.pydata.org/pandas-docs/stable/user_guide/indexing.html#returning-a-view-versus-a-copy\n",
      "  brood_df['period_start'] = brood_df['datetime'].apply(lambda dt: calculate_period_start(dt, brood_min_date))\n"
     ]
    },
    {
     "data": {
      "text/plain": "                                            rec_path  n_samples  duration   \n0  home/gardzielb/test/Furka10_22a/22_06_10/20220...         86     172.0  \\\n1  home/gardzielb/test/Furka10_22a/22_06_10/20220...        184     368.0   \n2  home/gardzielb/test/Furka10_22a/22_06_10/20220...        142     284.0   \n3  home/gardzielb/test/Furka10_22a/22_06_10/20220...        171     342.0   \n4  home/gardzielb/test/Furka10_22a/22_06_10/20220...         22      44.0   \n5  home/gardzielb/test/Furka12_22a/22_07_19/20220...        101     202.0   \n6  home/gardzielb/test/Furka12_22a/22_07_19/20220...         94     188.0   \n7  home/gardzielb/test/Furka12_22a/22_07_19/20220...        249     498.0   \n8  home/gardzielb/test/Furka12_22a/22_07_19/20220...         23      46.0   \n\n   2_n_samples  3_n_samples  4_n_samples  5_n_samples     brood_id   \n0            0           65            9           12  Furka10_22a  \\\n1            6          117           28           33  Furka10_22a   \n2           15          103           11           13  Furka10_22a   \n3            8          100           21           42  Furka10_22a   \n4            5           10            2            5  Furka10_22a   \n5            3           88            9            1  Furka12_22a   \n6            5           78           10            1  Furka12_22a   \n7           14          184           43            8  Furka12_22a   \n8            0           16            4            3  Furka12_22a   \n\n             datetime   2_score   3_score   4_score   5_score period_start  \n0 2022-06-07 16:30:00  0.000000  0.755814  0.104651  0.139535   2022-06-07  \n1 2022-06-08 12:30:00  0.032609  0.635870  0.152174  0.179348   2022-06-07  \n2 2022-06-09 12:30:00  0.105634  0.725352  0.077465  0.091549   2022-06-09  \n3 2022-06-10 10:30:00  0.046784  0.584795  0.122807  0.245614   2022-06-09  \n4 2022-06-10 11:30:00  0.227273  0.454545  0.090909  0.227273   2022-06-09  \n5 2022-07-17 11:30:00  0.029703  0.871287  0.089109  0.009901   2022-07-17  \n6 2022-07-18 12:30:00  0.053191  0.829787  0.106383  0.010638   2022-07-17  \n7 2022-07-18 13:30:00  0.056225  0.738956  0.172691  0.032129   2022-07-17  \n8 2022-07-19 11:30:00  0.000000  0.695652  0.173913  0.130435   2022-07-19  ",
      "text/html": "<div>\n<style scoped>\n    .dataframe tbody tr th:only-of-type {\n        vertical-align: middle;\n    }\n\n    .dataframe tbody tr th {\n        vertical-align: top;\n    }\n\n    .dataframe thead th {\n        text-align: right;\n    }\n</style>\n<table border=\"1\" class=\"dataframe\">\n  <thead>\n    <tr style=\"text-align: right;\">\n      <th></th>\n      <th>rec_path</th>\n      <th>n_samples</th>\n      <th>duration</th>\n      <th>2_n_samples</th>\n      <th>3_n_samples</th>\n      <th>4_n_samples</th>\n      <th>5_n_samples</th>\n      <th>brood_id</th>\n      <th>datetime</th>\n      <th>2_score</th>\n      <th>3_score</th>\n      <th>4_score</th>\n      <th>5_score</th>\n      <th>period_start</th>\n    </tr>\n  </thead>\n  <tbody>\n    <tr>\n      <th>0</th>\n      <td>home/gardzielb/test/Furka10_22a/22_06_10/20220...</td>\n      <td>86</td>\n      <td>172.0</td>\n      <td>0</td>\n      <td>65</td>\n      <td>9</td>\n      <td>12</td>\n      <td>Furka10_22a</td>\n      <td>2022-06-07 16:30:00</td>\n      <td>0.000000</td>\n      <td>0.755814</td>\n      <td>0.104651</td>\n      <td>0.139535</td>\n      <td>2022-06-07</td>\n    </tr>\n    <tr>\n      <th>1</th>\n      <td>home/gardzielb/test/Furka10_22a/22_06_10/20220...</td>\n      <td>184</td>\n      <td>368.0</td>\n      <td>6</td>\n      <td>117</td>\n      <td>28</td>\n      <td>33</td>\n      <td>Furka10_22a</td>\n      <td>2022-06-08 12:30:00</td>\n      <td>0.032609</td>\n      <td>0.635870</td>\n      <td>0.152174</td>\n      <td>0.179348</td>\n      <td>2022-06-07</td>\n    </tr>\n    <tr>\n      <th>2</th>\n      <td>home/gardzielb/test/Furka10_22a/22_06_10/20220...</td>\n      <td>142</td>\n      <td>284.0</td>\n      <td>15</td>\n      <td>103</td>\n      <td>11</td>\n      <td>13</td>\n      <td>Furka10_22a</td>\n      <td>2022-06-09 12:30:00</td>\n      <td>0.105634</td>\n      <td>0.725352</td>\n      <td>0.077465</td>\n      <td>0.091549</td>\n      <td>2022-06-09</td>\n    </tr>\n    <tr>\n      <th>3</th>\n      <td>home/gardzielb/test/Furka10_22a/22_06_10/20220...</td>\n      <td>171</td>\n      <td>342.0</td>\n      <td>8</td>\n      <td>100</td>\n      <td>21</td>\n      <td>42</td>\n      <td>Furka10_22a</td>\n      <td>2022-06-10 10:30:00</td>\n      <td>0.046784</td>\n      <td>0.584795</td>\n      <td>0.122807</td>\n      <td>0.245614</td>\n      <td>2022-06-09</td>\n    </tr>\n    <tr>\n      <th>4</th>\n      <td>home/gardzielb/test/Furka10_22a/22_06_10/20220...</td>\n      <td>22</td>\n      <td>44.0</td>\n      <td>5</td>\n      <td>10</td>\n      <td>2</td>\n      <td>5</td>\n      <td>Furka10_22a</td>\n      <td>2022-06-10 11:30:00</td>\n      <td>0.227273</td>\n      <td>0.454545</td>\n      <td>0.090909</td>\n      <td>0.227273</td>\n      <td>2022-06-09</td>\n    </tr>\n    <tr>\n      <th>5</th>\n      <td>home/gardzielb/test/Furka12_22a/22_07_19/20220...</td>\n      <td>101</td>\n      <td>202.0</td>\n      <td>3</td>\n      <td>88</td>\n      <td>9</td>\n      <td>1</td>\n      <td>Furka12_22a</td>\n      <td>2022-07-17 11:30:00</td>\n      <td>0.029703</td>\n      <td>0.871287</td>\n      <td>0.089109</td>\n      <td>0.009901</td>\n      <td>2022-07-17</td>\n    </tr>\n    <tr>\n      <th>6</th>\n      <td>home/gardzielb/test/Furka12_22a/22_07_19/20220...</td>\n      <td>94</td>\n      <td>188.0</td>\n      <td>5</td>\n      <td>78</td>\n      <td>10</td>\n      <td>1</td>\n      <td>Furka12_22a</td>\n      <td>2022-07-18 12:30:00</td>\n      <td>0.053191</td>\n      <td>0.829787</td>\n      <td>0.106383</td>\n      <td>0.010638</td>\n      <td>2022-07-17</td>\n    </tr>\n    <tr>\n      <th>7</th>\n      <td>home/gardzielb/test/Furka12_22a/22_07_19/20220...</td>\n      <td>249</td>\n      <td>498.0</td>\n      <td>14</td>\n      <td>184</td>\n      <td>43</td>\n      <td>8</td>\n      <td>Furka12_22a</td>\n      <td>2022-07-18 13:30:00</td>\n      <td>0.056225</td>\n      <td>0.738956</td>\n      <td>0.172691</td>\n      <td>0.032129</td>\n      <td>2022-07-17</td>\n    </tr>\n    <tr>\n      <th>8</th>\n      <td>home/gardzielb/test/Furka12_22a/22_07_19/20220...</td>\n      <td>23</td>\n      <td>46.0</td>\n      <td>0</td>\n      <td>16</td>\n      <td>4</td>\n      <td>3</td>\n      <td>Furka12_22a</td>\n      <td>2022-07-19 11:30:00</td>\n      <td>0.000000</td>\n      <td>0.695652</td>\n      <td>0.173913</td>\n      <td>0.130435</td>\n      <td>2022-07-19</td>\n    </tr>\n  </tbody>\n</table>\n</div>"
     },
     "execution_count": 7,
     "metadata": {},
     "output_type": "execute_result"
    }
   ],
   "source": [
    "size_pred_df = pd.read_csv('_out/bs-pred.csv')\n",
    "size_pred_df['datetime'] = pd.to_datetime(size_pred_df['datetime'])\n",
    "size_pred_df = assign_periods(size_pred_df, period_days = 2)\n",
    "size_pred_df"
   ],
   "metadata": {
    "collapsed": false,
    "ExecuteTime": {
     "start_time": "2023-05-03T11:45:44.940314Z",
     "end_time": "2023-05-03T11:45:45.117860Z"
    }
   }
  },
  {
   "cell_type": "code",
   "execution_count": 17,
   "outputs": [
    {
     "data": {
      "text/plain": "      brood_id period_start  rec_count  n_samples  2_n_samples  3_n_samples   \n0  Furka10_22a   2022-06-07          2        270            6          182  \\\n1  Furka10_22a   2022-06-09          3        335           28          213   \n2  Furka12_22a   2022-07-17          3        444           22          350   \n3  Furka12_22a   2022-07-19          1         23            0           16   \n\n   4_n_samples  5_n_samples  2  3  4  5  \n0           37           45  0  1  0  0  \n1           34           60  0  1  0  0  \n2           62           10  0  1  0  0  \n3            4            3  0  1  0  0  ",
      "text/html": "<div>\n<style scoped>\n    .dataframe tbody tr th:only-of-type {\n        vertical-align: middle;\n    }\n\n    .dataframe tbody tr th {\n        vertical-align: top;\n    }\n\n    .dataframe thead th {\n        text-align: right;\n    }\n</style>\n<table border=\"1\" class=\"dataframe\">\n  <thead>\n    <tr style=\"text-align: right;\">\n      <th></th>\n      <th>brood_id</th>\n      <th>period_start</th>\n      <th>rec_count</th>\n      <th>n_samples</th>\n      <th>2_n_samples</th>\n      <th>3_n_samples</th>\n      <th>4_n_samples</th>\n      <th>5_n_samples</th>\n      <th>2</th>\n      <th>3</th>\n      <th>4</th>\n      <th>5</th>\n    </tr>\n  </thead>\n  <tbody>\n    <tr>\n      <th>0</th>\n      <td>Furka10_22a</td>\n      <td>2022-06-07</td>\n      <td>2</td>\n      <td>270</td>\n      <td>6</td>\n      <td>182</td>\n      <td>37</td>\n      <td>45</td>\n      <td>0</td>\n      <td>1</td>\n      <td>0</td>\n      <td>0</td>\n    </tr>\n    <tr>\n      <th>1</th>\n      <td>Furka10_22a</td>\n      <td>2022-06-09</td>\n      <td>3</td>\n      <td>335</td>\n      <td>28</td>\n      <td>213</td>\n      <td>34</td>\n      <td>60</td>\n      <td>0</td>\n      <td>1</td>\n      <td>0</td>\n      <td>0</td>\n    </tr>\n    <tr>\n      <th>2</th>\n      <td>Furka12_22a</td>\n      <td>2022-07-17</td>\n      <td>3</td>\n      <td>444</td>\n      <td>22</td>\n      <td>350</td>\n      <td>62</td>\n      <td>10</td>\n      <td>0</td>\n      <td>1</td>\n      <td>0</td>\n      <td>0</td>\n    </tr>\n    <tr>\n      <th>3</th>\n      <td>Furka12_22a</td>\n      <td>2022-07-19</td>\n      <td>1</td>\n      <td>23</td>\n      <td>0</td>\n      <td>16</td>\n      <td>4</td>\n      <td>3</td>\n      <td>0</td>\n      <td>1</td>\n      <td>0</td>\n      <td>0</td>\n    </tr>\n  </tbody>\n</table>\n</div>"
     },
     "execution_count": 17,
     "metadata": {},
     "output_type": "execute_result"
    }
   ],
   "source": [
    "agg_map = { 'rec_path': 'count' }\n",
    "test_cols = ['rec_path', 'brood_id', 'period_start']\n",
    "\n",
    "for col in size_pred_df.columns:\n",
    "\tif 'n_samples' in col:\n",
    "\t\ttest_cols.append(col)\n",
    "\t\tagg_map[col] = 'sum'\n",
    "\n",
    "size_pred_agg = size_pred_df[test_cols].groupby(['brood_id', 'period_start']).agg(agg_map).reset_index()\n",
    "size_pred_agg = size_pred_agg.rename(columns = { 'rec_path': 'rec_count' })\n",
    "\n",
    "for bs in [2, 3, 4, 5]:\n",
    "\tsize_pred_agg[bs] = size_pred_df[f'{bs}_n_samples'] / size_pred_df['n_samples']\n",
    "\n",
    "for bs in [2, 3, 4, 5]:\n",
    "\tbs_max = size_pred_agg[[2, 3, 4, 5]].idxmax(axis = 1)\n",
    "\tsize_pred_agg[bs] = np.where(bs_max == bs, 1, 0)\n",
    "\n",
    "size_pred_agg"
   ],
   "metadata": {
    "collapsed": false,
    "ExecuteTime": {
     "start_time": "2023-05-03T11:46:55.592820Z",
     "end_time": "2023-05-03T11:46:55.673241Z"
    }
   }
  },
  {
   "cell_type": "code",
   "execution_count": 18,
   "outputs": [
    {
     "data": {
      "text/plain": "      brood_id period_start  rec_count  n_samples  2_n_samples  3_n_samples   \n1  Furka10_22a   2022-06-09          3        335           28          213  \\\n2  Furka12_22a   2022-07-17          3        444           22          350   \n3  Furka12_22a   2022-07-19          1         23            0           16   \n\n   4_n_samples  5_n_samples  2  3  4  5  \n1           34           60  0  1  0  0  \n2           62           10  0  1  0  0  \n3            4            3  0  1  0  0  ",
      "text/html": "<div>\n<style scoped>\n    .dataframe tbody tr th:only-of-type {\n        vertical-align: middle;\n    }\n\n    .dataframe tbody tr th {\n        vertical-align: top;\n    }\n\n    .dataframe thead th {\n        text-align: right;\n    }\n</style>\n<table border=\"1\" class=\"dataframe\">\n  <thead>\n    <tr style=\"text-align: right;\">\n      <th></th>\n      <th>brood_id</th>\n      <th>period_start</th>\n      <th>rec_count</th>\n      <th>n_samples</th>\n      <th>2_n_samples</th>\n      <th>3_n_samples</th>\n      <th>4_n_samples</th>\n      <th>5_n_samples</th>\n      <th>2</th>\n      <th>3</th>\n      <th>4</th>\n      <th>5</th>\n    </tr>\n  </thead>\n  <tbody>\n    <tr>\n      <th>1</th>\n      <td>Furka10_22a</td>\n      <td>2022-06-09</td>\n      <td>3</td>\n      <td>335</td>\n      <td>28</td>\n      <td>213</td>\n      <td>34</td>\n      <td>60</td>\n      <td>0</td>\n      <td>1</td>\n      <td>0</td>\n      <td>0</td>\n    </tr>\n    <tr>\n      <th>2</th>\n      <td>Furka12_22a</td>\n      <td>2022-07-17</td>\n      <td>3</td>\n      <td>444</td>\n      <td>22</td>\n      <td>350</td>\n      <td>62</td>\n      <td>10</td>\n      <td>0</td>\n      <td>1</td>\n      <td>0</td>\n      <td>0</td>\n    </tr>\n    <tr>\n      <th>3</th>\n      <td>Furka12_22a</td>\n      <td>2022-07-19</td>\n      <td>1</td>\n      <td>23</td>\n      <td>0</td>\n      <td>16</td>\n      <td>4</td>\n      <td>3</td>\n      <td>0</td>\n      <td>1</td>\n      <td>0</td>\n      <td>0</td>\n    </tr>\n  </tbody>\n</table>\n</div>"
     },
     "execution_count": 18,
     "metadata": {},
     "output_type": "execute_result"
    }
   ],
   "source": [
    "size_pred_agg = size_pred_agg.drop(index = 0)\n",
    "size_pred_agg"
   ],
   "metadata": {
    "collapsed": false,
    "ExecuteTime": {
     "start_time": "2023-05-03T11:46:56.892682Z",
     "end_time": "2023-05-03T11:46:57.069686Z"
    }
   }
  },
  {
   "cell_type": "code",
   "execution_count": 19,
   "outputs": [
    {
     "name": "stdout",
     "output_type": "stream",
     "text": [
      "y_true = 0    4\n",
      "1    4\n",
      "2    5\n",
      "3    5\n",
      "dtype: int64\n",
      "y_pred = 1    3\n",
      "2    3\n",
      "3    3\n",
      "dtype: int64\n"
     ]
    },
    {
     "ename": "ValueError",
     "evalue": "Found input variables with inconsistent numbers of samples: [4, 3]",
     "output_type": "error",
     "traceback": [
      "\u001B[0;31m---------------------------------------------------------------------------\u001B[0m",
      "\u001B[0;31mValueError\u001B[0m                                Traceback (most recent call last)",
      "Cell \u001B[0;32mIn[19], line 3\u001B[0m\n\u001B[1;32m      1\u001B[0m \u001B[38;5;28;01mfrom\u001B[39;00m \u001B[38;5;21;01msfw_brood\u001B[39;00m\u001B[38;5;21;01m.\u001B[39;00m\u001B[38;5;21;01mvalidation\u001B[39;00m \u001B[38;5;28;01mimport\u001B[39;00m generate_validation_results\n\u001B[0;32m----> 3\u001B[0m \u001B[43mgenerate_validation_results\u001B[49m\u001B[43m(\u001B[49m\n\u001B[1;32m      4\u001B[0m \u001B[43m\t\u001B[49m\u001B[43mtest_df\u001B[49m\u001B[43m \u001B[49m\u001B[38;5;241;43m=\u001B[39;49m\u001B[43m \u001B[49m\u001B[43msize_test_agg\u001B[49m\u001B[43m[\u001B[49m\u001B[43m[\u001B[49m\u001B[38;5;241;43m2\u001B[39;49m\u001B[43m,\u001B[49m\u001B[43m \u001B[49m\u001B[38;5;241;43m3\u001B[39;49m\u001B[43m,\u001B[49m\u001B[43m \u001B[49m\u001B[38;5;241;43m4\u001B[39;49m\u001B[43m,\u001B[49m\u001B[43m \u001B[49m\u001B[38;5;241;43m5\u001B[39;49m\u001B[43m]\u001B[49m\u001B[43m]\u001B[49m\u001B[43m,\u001B[49m\n\u001B[1;32m      5\u001B[0m \u001B[43m\t\u001B[49m\u001B[43mpred_df\u001B[49m\u001B[43m \u001B[49m\u001B[38;5;241;43m=\u001B[39;49m\u001B[43m \u001B[49m\u001B[43msize_pred_agg\u001B[49m\u001B[43m[\u001B[49m\u001B[43m[\u001B[49m\u001B[38;5;241;43m2\u001B[39;49m\u001B[43m,\u001B[49m\u001B[43m \u001B[49m\u001B[38;5;241;43m3\u001B[39;49m\u001B[43m,\u001B[49m\u001B[43m \u001B[49m\u001B[38;5;241;43m4\u001B[39;49m\u001B[43m,\u001B[49m\u001B[43m \u001B[49m\u001B[38;5;241;43m5\u001B[39;49m\u001B[43m]\u001B[49m\u001B[43m]\u001B[49m\u001B[43m,\u001B[49m\n\u001B[1;32m      6\u001B[0m \u001B[43m\t\u001B[49m\u001B[43mclasses\u001B[49m\u001B[43m \u001B[49m\u001B[38;5;241;43m=\u001B[39;49m\u001B[43m \u001B[49m\u001B[43m[\u001B[49m\u001B[38;5;241;43m2\u001B[39;49m\u001B[43m,\u001B[49m\u001B[43m \u001B[49m\u001B[38;5;241;43m3\u001B[39;49m\u001B[43m,\u001B[49m\u001B[43m \u001B[49m\u001B[38;5;241;43m4\u001B[39;49m\u001B[43m,\u001B[49m\u001B[43m \u001B[49m\u001B[38;5;241;43m5\u001B[39;49m\u001B[43m]\u001B[49m\u001B[43m,\u001B[49m\n\u001B[1;32m      7\u001B[0m \u001B[43m\t\u001B[49m\u001B[43mtarget_label\u001B[49m\u001B[43m \u001B[49m\u001B[38;5;241;43m=\u001B[39;49m\u001B[43m \u001B[49m\u001B[38;5;124;43m'\u001B[39;49m\u001B[38;5;124;43mbrood size\u001B[39;49m\u001B[38;5;124;43m'\u001B[39;49m\u001B[43m,\u001B[49m\n\u001B[1;32m      8\u001B[0m \u001B[43m\t\u001B[49m\u001B[43moutput\u001B[49m\u001B[43m \u001B[49m\u001B[38;5;241;43m=\u001B[39;49m\u001B[43m \u001B[49m\u001B[38;5;124;43m'\u001B[39;49m\u001B[38;5;124;43mshow\u001B[39;49m\u001B[38;5;124;43m'\u001B[39;49m\u001B[43m,\u001B[49m\n\u001B[1;32m      9\u001B[0m \u001B[43m\t\u001B[49m\u001B[43mmulti_target\u001B[49m\u001B[43m \u001B[49m\u001B[38;5;241;43m=\u001B[39;49m\u001B[43m \u001B[49m\u001B[38;5;28;43;01mFalse\u001B[39;49;00m\n\u001B[1;32m     10\u001B[0m \u001B[43m)\u001B[49m\n",
      "File \u001B[0;32m/mnt/d/Devel/Repos/PycharmProjects/SnowfinchWire.BroodAnalyzer/sfw_brood/validation.py:35\u001B[0m, in \u001B[0;36mgenerate_validation_results\u001B[0;34m(test_df, pred_df, classes, target_label, output, multi_target)\u001B[0m\n\u001B[1;32m     32\u001B[0m \t\u001B[38;5;28mprint\u001B[39m(\u001B[38;5;124mf\u001B[39m\u001B[38;5;124m'\u001B[39m\u001B[38;5;124my_true = \u001B[39m\u001B[38;5;132;01m{\u001B[39;00my_true\u001B[38;5;132;01m}\u001B[39;00m\u001B[38;5;124m'\u001B[39m)\n\u001B[1;32m     33\u001B[0m \t\u001B[38;5;28mprint\u001B[39m(\u001B[38;5;124mf\u001B[39m\u001B[38;5;124m'\u001B[39m\u001B[38;5;124my_pred = \u001B[39m\u001B[38;5;132;01m{\u001B[39;00my_pred\u001B[38;5;132;01m}\u001B[39;00m\u001B[38;5;124m'\u001B[39m)\n\u001B[1;32m     34\u001B[0m \tresult \u001B[38;5;241m=\u001B[39m {\n\u001B[0;32m---> 35\u001B[0m \t\t\u001B[38;5;124m'\u001B[39m\u001B[38;5;124maccuracy\u001B[39m\u001B[38;5;124m'\u001B[39m: \u001B[43maccuracy_score\u001B[49m\u001B[43m(\u001B[49m\u001B[43my_true\u001B[49m\u001B[43m,\u001B[49m\u001B[43m \u001B[49m\u001B[43my_pred\u001B[49m\u001B[43m)\u001B[49m\n\u001B[1;32m     36\u001B[0m \t}\n\u001B[1;32m     38\u001B[0m \u001B[38;5;28;01mif\u001B[39;00m output:\n\u001B[1;32m     39\u001B[0m \t\u001B[38;5;28mprint\u001B[39m(\u001B[38;5;124m'\u001B[39m\u001B[38;5;124mGenerating classification report and confusion matrix\u001B[39m\u001B[38;5;124m'\u001B[39m)\n",
      "File \u001B[0;32m~/oss-venv/lib/python3.9/site-packages/sklearn/utils/_param_validation.py:192\u001B[0m, in \u001B[0;36mvalidate_params.<locals>.decorator.<locals>.wrapper\u001B[0;34m(*args, **kwargs)\u001B[0m\n\u001B[1;32m    187\u001B[0m validate_parameter_constraints(\n\u001B[1;32m    188\u001B[0m     parameter_constraints, params, caller_name\u001B[38;5;241m=\u001B[39mfunc\u001B[38;5;241m.\u001B[39m\u001B[38;5;18m__qualname__\u001B[39m\n\u001B[1;32m    189\u001B[0m )\n\u001B[1;32m    191\u001B[0m \u001B[38;5;28;01mtry\u001B[39;00m:\n\u001B[0;32m--> 192\u001B[0m     \u001B[38;5;28;01mreturn\u001B[39;00m \u001B[43mfunc\u001B[49m\u001B[43m(\u001B[49m\u001B[38;5;241;43m*\u001B[39;49m\u001B[43margs\u001B[49m\u001B[43m,\u001B[49m\u001B[43m \u001B[49m\u001B[38;5;241;43m*\u001B[39;49m\u001B[38;5;241;43m*\u001B[39;49m\u001B[43mkwargs\u001B[49m\u001B[43m)\u001B[49m\n\u001B[1;32m    193\u001B[0m \u001B[38;5;28;01mexcept\u001B[39;00m InvalidParameterError \u001B[38;5;28;01mas\u001B[39;00m e:\n\u001B[1;32m    194\u001B[0m     \u001B[38;5;66;03m# When the function is just a wrapper around an estimator, we allow\u001B[39;00m\n\u001B[1;32m    195\u001B[0m     \u001B[38;5;66;03m# the function to delegate validation to the estimator, but we replace\u001B[39;00m\n\u001B[1;32m    196\u001B[0m     \u001B[38;5;66;03m# the name of the estimator by the name of the function in the error\u001B[39;00m\n\u001B[1;32m    197\u001B[0m     \u001B[38;5;66;03m# message to avoid confusion.\u001B[39;00m\n\u001B[1;32m    198\u001B[0m     msg \u001B[38;5;241m=\u001B[39m re\u001B[38;5;241m.\u001B[39msub(\n\u001B[1;32m    199\u001B[0m         \u001B[38;5;124mr\u001B[39m\u001B[38;5;124m\"\u001B[39m\u001B[38;5;124mparameter of \u001B[39m\u001B[38;5;124m\\\u001B[39m\u001B[38;5;124mw+ must be\u001B[39m\u001B[38;5;124m\"\u001B[39m,\n\u001B[1;32m    200\u001B[0m         \u001B[38;5;124mf\u001B[39m\u001B[38;5;124m\"\u001B[39m\u001B[38;5;124mparameter of \u001B[39m\u001B[38;5;132;01m{\u001B[39;00mfunc\u001B[38;5;241m.\u001B[39m\u001B[38;5;18m__qualname__\u001B[39m\u001B[38;5;132;01m}\u001B[39;00m\u001B[38;5;124m must be\u001B[39m\u001B[38;5;124m\"\u001B[39m,\n\u001B[1;32m    201\u001B[0m         \u001B[38;5;28mstr\u001B[39m(e),\n\u001B[1;32m    202\u001B[0m     )\n",
      "File \u001B[0;32m~/oss-venv/lib/python3.9/site-packages/sklearn/metrics/_classification.py:221\u001B[0m, in \u001B[0;36maccuracy_score\u001B[0;34m(y_true, y_pred, normalize, sample_weight)\u001B[0m\n\u001B[1;32m    155\u001B[0m \u001B[38;5;250m\u001B[39m\u001B[38;5;124;03m\"\"\"Accuracy classification score.\u001B[39;00m\n\u001B[1;32m    156\u001B[0m \n\u001B[1;32m    157\u001B[0m \u001B[38;5;124;03mIn multilabel classification, this function computes subset accuracy:\u001B[39;00m\n\u001B[0;32m   (...)\u001B[0m\n\u001B[1;32m    217\u001B[0m \u001B[38;5;124;03m0.5\u001B[39;00m\n\u001B[1;32m    218\u001B[0m \u001B[38;5;124;03m\"\"\"\u001B[39;00m\n\u001B[1;32m    220\u001B[0m \u001B[38;5;66;03m# Compute accuracy for each possible representation\u001B[39;00m\n\u001B[0;32m--> 221\u001B[0m y_type, y_true, y_pred \u001B[38;5;241m=\u001B[39m \u001B[43m_check_targets\u001B[49m\u001B[43m(\u001B[49m\u001B[43my_true\u001B[49m\u001B[43m,\u001B[49m\u001B[43m \u001B[49m\u001B[43my_pred\u001B[49m\u001B[43m)\u001B[49m\n\u001B[1;32m    222\u001B[0m check_consistent_length(y_true, y_pred, sample_weight)\n\u001B[1;32m    223\u001B[0m \u001B[38;5;28;01mif\u001B[39;00m y_type\u001B[38;5;241m.\u001B[39mstartswith(\u001B[38;5;124m\"\u001B[39m\u001B[38;5;124mmultilabel\u001B[39m\u001B[38;5;124m\"\u001B[39m):\n",
      "File \u001B[0;32m~/oss-venv/lib/python3.9/site-packages/sklearn/metrics/_classification.py:86\u001B[0m, in \u001B[0;36m_check_targets\u001B[0;34m(y_true, y_pred)\u001B[0m\n\u001B[1;32m     59\u001B[0m \u001B[38;5;28;01mdef\u001B[39;00m \u001B[38;5;21m_check_targets\u001B[39m(y_true, y_pred):\n\u001B[1;32m     60\u001B[0m \u001B[38;5;250m    \u001B[39m\u001B[38;5;124;03m\"\"\"Check that y_true and y_pred belong to the same classification task.\u001B[39;00m\n\u001B[1;32m     61\u001B[0m \n\u001B[1;32m     62\u001B[0m \u001B[38;5;124;03m    This converts multiclass or binary types to a common shape, and raises a\u001B[39;00m\n\u001B[0;32m   (...)\u001B[0m\n\u001B[1;32m     84\u001B[0m \u001B[38;5;124;03m    y_pred : array or indicator matrix\u001B[39;00m\n\u001B[1;32m     85\u001B[0m \u001B[38;5;124;03m    \"\"\"\u001B[39;00m\n\u001B[0;32m---> 86\u001B[0m     \u001B[43mcheck_consistent_length\u001B[49m\u001B[43m(\u001B[49m\u001B[43my_true\u001B[49m\u001B[43m,\u001B[49m\u001B[43m \u001B[49m\u001B[43my_pred\u001B[49m\u001B[43m)\u001B[49m\n\u001B[1;32m     87\u001B[0m     type_true \u001B[38;5;241m=\u001B[39m type_of_target(y_true, input_name\u001B[38;5;241m=\u001B[39m\u001B[38;5;124m\"\u001B[39m\u001B[38;5;124my_true\u001B[39m\u001B[38;5;124m\"\u001B[39m)\n\u001B[1;32m     88\u001B[0m     type_pred \u001B[38;5;241m=\u001B[39m type_of_target(y_pred, input_name\u001B[38;5;241m=\u001B[39m\u001B[38;5;124m\"\u001B[39m\u001B[38;5;124my_pred\u001B[39m\u001B[38;5;124m\"\u001B[39m)\n",
      "File \u001B[0;32m~/oss-venv/lib/python3.9/site-packages/sklearn/utils/validation.py:397\u001B[0m, in \u001B[0;36mcheck_consistent_length\u001B[0;34m(*arrays)\u001B[0m\n\u001B[1;32m    395\u001B[0m uniques \u001B[38;5;241m=\u001B[39m np\u001B[38;5;241m.\u001B[39munique(lengths)\n\u001B[1;32m    396\u001B[0m \u001B[38;5;28;01mif\u001B[39;00m \u001B[38;5;28mlen\u001B[39m(uniques) \u001B[38;5;241m>\u001B[39m \u001B[38;5;241m1\u001B[39m:\n\u001B[0;32m--> 397\u001B[0m     \u001B[38;5;28;01mraise\u001B[39;00m \u001B[38;5;167;01mValueError\u001B[39;00m(\n\u001B[1;32m    398\u001B[0m         \u001B[38;5;124m\"\u001B[39m\u001B[38;5;124mFound input variables with inconsistent numbers of samples: \u001B[39m\u001B[38;5;132;01m%r\u001B[39;00m\u001B[38;5;124m\"\u001B[39m\n\u001B[1;32m    399\u001B[0m         \u001B[38;5;241m%\u001B[39m [\u001B[38;5;28mint\u001B[39m(l) \u001B[38;5;28;01mfor\u001B[39;00m l \u001B[38;5;129;01min\u001B[39;00m lengths]\n\u001B[1;32m    400\u001B[0m     )\n",
      "\u001B[0;31mValueError\u001B[0m: Found input variables with inconsistent numbers of samples: [4, 3]"
     ]
    }
   ],
   "source": [
    "from sfw_brood.validation import generate_validation_results\n",
    "\n",
    "generate_validation_results(\n",
    "\ttest_df = size_test_agg[[2, 3, 4, 5]],\n",
    "\tpred_df = size_pred_agg[[2, 3, 4, 5]],\n",
    "\tclasses = [2, 3, 4, 5],\n",
    "\ttarget_label = 'brood size',\n",
    "\toutput = 'show',\n",
    "\tmulti_target = False\n",
    ")"
   ],
   "metadata": {
    "collapsed": false,
    "ExecuteTime": {
     "start_time": "2023-05-03T11:45:45.202852Z",
     "end_time": "2023-05-03T11:45:46.241271Z"
    }
   }
  },
  {
   "cell_type": "markdown",
   "source": [
    "# Brood age"
   ],
   "metadata": {
    "collapsed": false
   }
  },
  {
   "cell_type": "code",
   "execution_count": 10,
   "outputs": [
    {
     "name": "stderr",
     "output_type": "stream",
     "text": [
      "/home/bartosz/oss-venv/lib/python3.9/site-packages/tqdm/auto.py:21: TqdmWarning: IProgress not found. Please update jupyter and ipywidgets. See https://ipywidgets.readthedocs.io/en/stable/user_install.html\n",
      "  from .autonotebook import tqdm as notebook_tqdm\n"
     ]
    }
   ],
   "source": [
    "from sfw_brood.preprocessing import group_ages"
   ],
   "metadata": {
    "collapsed": false,
    "ExecuteTime": {
     "start_time": "2023-05-03T11:45:46.241271Z",
     "end_time": "2023-05-03T11:45:50.273726Z"
    }
   }
  },
  {
   "cell_type": "code",
   "execution_count": 11,
   "outputs": [
    {
     "data": {
      "text/plain": "                                              rec_path     brood_id   \n0    2022/Switzerland/Furka10_22a/22_06_14/20220610...  Furka10_22a  \\\n1    2022/Switzerland/Furka10_22a/22_06_14/20220610...  Furka10_22a   \n2    2022/Switzerland/Furka10_22a/22_06_14/20220610...  Furka10_22a   \n3    2022/Switzerland/Furka10_22a/22_06_14/20220610...  Furka10_22a   \n4    2022/Switzerland/Furka10_22a/22_06_14/20220610...  Furka10_22a   \n..                                                 ...          ...   \n124  2022/Switzerland/Furka12_22a/22_07_19/20220717...  Furka12_22a   \n125  2022/Switzerland/Furka12_22a/22_07_19/20220719...  Furka12_22a   \n126  2022/Switzerland/Furka12_22a/22_07_19/20220717...  Furka12_22a   \n127  2022/Switzerland/Furka12_22a/22_07_19/20220718...  Furka12_22a   \n128  2022/Switzerland/Furka12_22a/22_07_19/20220717...  Furka12_22a   \n\n     brood_size period_start  00.0-05.5  06.0-08.5  09.0-11.5  12.0-14.5   \n0             4   2022-06-09        0.0        0.0        1.0        0.0  \\\n1             4   2022-06-09        0.0        0.0        1.0        0.0   \n2             4   2022-06-09        0.0        0.0        1.0        0.0   \n3             4   2022-06-09        0.0        0.0        1.0        0.0   \n4             4   2022-06-09        0.0        0.0        1.0        0.0   \n..          ...          ...        ...        ...        ...        ...   \n124           5   2022-07-17        1.0        0.0        0.0        0.0   \n125           5   2022-07-19        1.0        1.0        0.0        0.0   \n126           5   2022-07-17        1.0        0.0        0.0        0.0   \n127           5   2022-07-17        1.0        1.0        0.0        0.0   \n128           5   2022-07-17        1.0        0.0        0.0        0.0   \n\n     15.0-30.0  \n0          0.0  \n1          0.0  \n2          0.0  \n3          0.0  \n4          0.0  \n..         ...  \n124        0.0  \n125        0.0  \n126        0.0  \n127        0.0  \n128        0.0  \n\n[129 rows x 9 columns]",
      "text/html": "<div>\n<style scoped>\n    .dataframe tbody tr th:only-of-type {\n        vertical-align: middle;\n    }\n\n    .dataframe tbody tr th {\n        vertical-align: top;\n    }\n\n    .dataframe thead th {\n        text-align: right;\n    }\n</style>\n<table border=\"1\" class=\"dataframe\">\n  <thead>\n    <tr style=\"text-align: right;\">\n      <th></th>\n      <th>rec_path</th>\n      <th>brood_id</th>\n      <th>brood_size</th>\n      <th>period_start</th>\n      <th>00.0-05.5</th>\n      <th>06.0-08.5</th>\n      <th>09.0-11.5</th>\n      <th>12.0-14.5</th>\n      <th>15.0-30.0</th>\n    </tr>\n  </thead>\n  <tbody>\n    <tr>\n      <th>0</th>\n      <td>2022/Switzerland/Furka10_22a/22_06_14/20220610...</td>\n      <td>Furka10_22a</td>\n      <td>4</td>\n      <td>2022-06-09</td>\n      <td>0.0</td>\n      <td>0.0</td>\n      <td>1.0</td>\n      <td>0.0</td>\n      <td>0.0</td>\n    </tr>\n    <tr>\n      <th>1</th>\n      <td>2022/Switzerland/Furka10_22a/22_06_14/20220610...</td>\n      <td>Furka10_22a</td>\n      <td>4</td>\n      <td>2022-06-09</td>\n      <td>0.0</td>\n      <td>0.0</td>\n      <td>1.0</td>\n      <td>0.0</td>\n      <td>0.0</td>\n    </tr>\n    <tr>\n      <th>2</th>\n      <td>2022/Switzerland/Furka10_22a/22_06_14/20220610...</td>\n      <td>Furka10_22a</td>\n      <td>4</td>\n      <td>2022-06-09</td>\n      <td>0.0</td>\n      <td>0.0</td>\n      <td>1.0</td>\n      <td>0.0</td>\n      <td>0.0</td>\n    </tr>\n    <tr>\n      <th>3</th>\n      <td>2022/Switzerland/Furka10_22a/22_06_14/20220610...</td>\n      <td>Furka10_22a</td>\n      <td>4</td>\n      <td>2022-06-09</td>\n      <td>0.0</td>\n      <td>0.0</td>\n      <td>1.0</td>\n      <td>0.0</td>\n      <td>0.0</td>\n    </tr>\n    <tr>\n      <th>4</th>\n      <td>2022/Switzerland/Furka10_22a/22_06_14/20220610...</td>\n      <td>Furka10_22a</td>\n      <td>4</td>\n      <td>2022-06-09</td>\n      <td>0.0</td>\n      <td>0.0</td>\n      <td>1.0</td>\n      <td>0.0</td>\n      <td>0.0</td>\n    </tr>\n    <tr>\n      <th>...</th>\n      <td>...</td>\n      <td>...</td>\n      <td>...</td>\n      <td>...</td>\n      <td>...</td>\n      <td>...</td>\n      <td>...</td>\n      <td>...</td>\n      <td>...</td>\n    </tr>\n    <tr>\n      <th>124</th>\n      <td>2022/Switzerland/Furka12_22a/22_07_19/20220717...</td>\n      <td>Furka12_22a</td>\n      <td>5</td>\n      <td>2022-07-17</td>\n      <td>1.0</td>\n      <td>0.0</td>\n      <td>0.0</td>\n      <td>0.0</td>\n      <td>0.0</td>\n    </tr>\n    <tr>\n      <th>125</th>\n      <td>2022/Switzerland/Furka12_22a/22_07_19/20220719...</td>\n      <td>Furka12_22a</td>\n      <td>5</td>\n      <td>2022-07-19</td>\n      <td>1.0</td>\n      <td>1.0</td>\n      <td>0.0</td>\n      <td>0.0</td>\n      <td>0.0</td>\n    </tr>\n    <tr>\n      <th>126</th>\n      <td>2022/Switzerland/Furka12_22a/22_07_19/20220717...</td>\n      <td>Furka12_22a</td>\n      <td>5</td>\n      <td>2022-07-17</td>\n      <td>1.0</td>\n      <td>0.0</td>\n      <td>0.0</td>\n      <td>0.0</td>\n      <td>0.0</td>\n    </tr>\n    <tr>\n      <th>127</th>\n      <td>2022/Switzerland/Furka12_22a/22_07_19/20220718...</td>\n      <td>Furka12_22a</td>\n      <td>5</td>\n      <td>2022-07-17</td>\n      <td>1.0</td>\n      <td>1.0</td>\n      <td>0.0</td>\n      <td>0.0</td>\n      <td>0.0</td>\n    </tr>\n    <tr>\n      <th>128</th>\n      <td>2022/Switzerland/Furka12_22a/22_07_19/20220717...</td>\n      <td>Furka12_22a</td>\n      <td>5</td>\n      <td>2022-07-17</td>\n      <td>1.0</td>\n      <td>0.0</td>\n      <td>0.0</td>\n      <td>0.0</td>\n      <td>0.0</td>\n    </tr>\n  </tbody>\n</table>\n<p>129 rows × 9 columns</p>\n</div>"
     },
     "execution_count": 11,
     "metadata": {},
     "output_type": "execute_result"
    }
   ],
   "source": [
    "age_test_df, age_group_labels = group_ages(\n",
    "\ttest_df.rename(columns = { 'age_min': 'class_min', 'age_max': 'class_max' }),\n",
    "\tgroups = [(0, 5.5), (6, 8.5), (9, 11.5), (12, 14.5), (15, 30)],\n",
    "\tmulti_target = True\n",
    ")\n",
    "age_test_df = age_test_df.drop(columns = ['datetime', 'age_min', 'age_max'])\n",
    "age_test_df"
   ],
   "metadata": {
    "collapsed": false,
    "ExecuteTime": {
     "start_time": "2023-05-03T11:45:50.273726Z",
     "end_time": "2023-05-03T11:45:50.399758Z"
    }
   }
  },
  {
   "cell_type": "code",
   "execution_count": 12,
   "outputs": [
    {
     "data": {
      "text/plain": "      brood_id period_start  rec_count  00.0-05.5  06.0-08.5  09.0-11.5   \n0  Furka10_22a   2022-06-07         37          0          1          0  \\\n1  Furka10_22a   2022-06-09         37          0          0          1   \n2  Furka12_22a   2022-07-17         36          1          1          0   \n3  Furka12_22a   2022-07-19         19          1          1          0   \n\n   12.0-14.5  15.0-30.0  \n0          0          0  \n1          0          0  \n2          0          0  \n3          0          0  ",
      "text/html": "<div>\n<style scoped>\n    .dataframe tbody tr th:only-of-type {\n        vertical-align: middle;\n    }\n\n    .dataframe tbody tr th {\n        vertical-align: top;\n    }\n\n    .dataframe thead th {\n        text-align: right;\n    }\n</style>\n<table border=\"1\" class=\"dataframe\">\n  <thead>\n    <tr style=\"text-align: right;\">\n      <th></th>\n      <th>brood_id</th>\n      <th>period_start</th>\n      <th>rec_count</th>\n      <th>00.0-05.5</th>\n      <th>06.0-08.5</th>\n      <th>09.0-11.5</th>\n      <th>12.0-14.5</th>\n      <th>15.0-30.0</th>\n    </tr>\n  </thead>\n  <tbody>\n    <tr>\n      <th>0</th>\n      <td>Furka10_22a</td>\n      <td>2022-06-07</td>\n      <td>37</td>\n      <td>0</td>\n      <td>1</td>\n      <td>0</td>\n      <td>0</td>\n      <td>0</td>\n    </tr>\n    <tr>\n      <th>1</th>\n      <td>Furka10_22a</td>\n      <td>2022-06-09</td>\n      <td>37</td>\n      <td>0</td>\n      <td>0</td>\n      <td>1</td>\n      <td>0</td>\n      <td>0</td>\n    </tr>\n    <tr>\n      <th>2</th>\n      <td>Furka12_22a</td>\n      <td>2022-07-17</td>\n      <td>36</td>\n      <td>1</td>\n      <td>1</td>\n      <td>0</td>\n      <td>0</td>\n      <td>0</td>\n    </tr>\n    <tr>\n      <th>3</th>\n      <td>Furka12_22a</td>\n      <td>2022-07-19</td>\n      <td>19</td>\n      <td>1</td>\n      <td>1</td>\n      <td>0</td>\n      <td>0</td>\n      <td>0</td>\n    </tr>\n  </tbody>\n</table>\n</div>"
     },
     "execution_count": 12,
     "metadata": {},
     "output_type": "execute_result"
    }
   ],
   "source": [
    "agg_map = { 'rec_path': 'count' }\n",
    "for age_group in age_group_labels:\n",
    "\tagg_map[age_group] = 'sum'\n",
    "\n",
    "age_test_agg = age_test_df.groupby(['brood_id', 'period_start']).agg(agg_map).reset_index()\n",
    "age_test_agg = age_test_agg.rename(columns = { 'rec_path': 'rec_count' })\n",
    "\n",
    "for age_group in age_group_labels:\n",
    "\tage_test_agg[age_group] = np.where(age_test_agg[age_group] / age_test_agg['rec_count'] > 0.3, 1, 0)\n",
    "\n",
    "age_test_agg"
   ],
   "metadata": {
    "collapsed": false,
    "ExecuteTime": {
     "start_time": "2023-05-03T11:45:50.398759Z",
     "end_time": "2023-05-03T11:45:50.529799Z"
    }
   }
  },
  {
   "cell_type": "code",
   "execution_count": 13,
   "outputs": [
    {
     "name": "stderr",
     "output_type": "stream",
     "text": [
      "/tmp/ipykernel_909/4081892371.py:17: SettingWithCopyWarning: \n",
      "A value is trying to be set on a copy of a slice from a DataFrame.\n",
      "Try using .loc[row_indexer,col_indexer] = value instead\n",
      "\n",
      "See the caveats in the documentation: https://pandas.pydata.org/pandas-docs/stable/user_guide/indexing.html#returning-a-view-versus-a-copy\n",
      "  brood_df['period_start'] = brood_df['datetime'].apply(lambda dt: calculate_period_start(dt, brood_min_date))\n",
      "/tmp/ipykernel_909/4081892371.py:17: SettingWithCopyWarning: \n",
      "A value is trying to be set on a copy of a slice from a DataFrame.\n",
      "Try using .loc[row_indexer,col_indexer] = value instead\n",
      "\n",
      "See the caveats in the documentation: https://pandas.pydata.org/pandas-docs/stable/user_guide/indexing.html#returning-a-view-versus-a-copy\n",
      "  brood_df['period_start'] = brood_df['datetime'].apply(lambda dt: calculate_period_start(dt, brood_min_date))\n"
     ]
    },
    {
     "data": {
      "text/plain": "                                            rec_path  n_samples  duration   \n0  home/gardzielb/test/Furka10_22a/22_06_10/20220...         86     172.0  \\\n1  home/gardzielb/test/Furka10_22a/22_06_10/20220...        184     368.0   \n2  home/gardzielb/test/Furka10_22a/22_06_10/20220...        142     284.0   \n3  home/gardzielb/test/Furka10_22a/22_06_10/20220...        171     342.0   \n4  home/gardzielb/test/Furka10_22a/22_06_10/20220...         22      44.0   \n5  home/gardzielb/test/Furka12_22a/22_07_19/20220...        101     202.0   \n6  home/gardzielb/test/Furka12_22a/22_07_19/20220...         94     188.0   \n7  home/gardzielb/test/Furka12_22a/22_07_19/20220...        249     498.0   \n8  home/gardzielb/test/Furka12_22a/22_07_19/20220...         23      46.0   \n\n   00.0-05.5_n_samples  09.0-11.5_n_samples  15.0-30.0_n_samples   \n0                    0                    1                    0  \\\n1                    1                   51                    0   \n2                    0                   78                    0   \n3                    0                   70                    1   \n4                    0                   12                    1   \n5                   91                    0                    0   \n6                   60                    0                    0   \n7                  152                    0                    0   \n8                   15                    0                    0   \n\n   06.0-08.5_n_samples  12.0-14.5_n_samples     brood_id            datetime   \n0                   50                    0  Furka10_22a 2022-06-07 16:30:00  \\\n1                   60                    0  Furka10_22a 2022-06-08 12:30:00   \n2                    1                    0  Furka10_22a 2022-06-09 12:30:00   \n3                    0                    0  Furka10_22a 2022-06-10 10:30:00   \n4                    0                    0  Furka10_22a 2022-06-10 11:30:00   \n5                    1                    0  Furka12_22a 2022-07-17 11:30:00   \n6                    1                    0  Furka12_22a 2022-07-18 12:30:00   \n7                    7                    0  Furka12_22a 2022-07-18 13:30:00   \n8                    0                    0  Furka12_22a 2022-07-19 11:30:00   \n\n   00.0-05.5_score  09.0-11.5_score  15.0-30.0_score  06.0-08.5_score   \n0         0.000000         0.011628         0.000000         0.581395  \\\n1         0.005435         0.277174         0.000000         0.326087   \n2         0.000000         0.549296         0.000000         0.007042   \n3         0.000000         0.409357         0.005848         0.000000   \n4         0.000000         0.545455         0.045455         0.000000   \n5         0.900990         0.000000         0.000000         0.009901   \n6         0.638298         0.000000         0.000000         0.010638   \n7         0.610442         0.000000         0.000000         0.028112   \n8         0.652174         0.000000         0.000000         0.000000   \n\n   12.0-14.5_score period_start  \n0              0.0   2022-06-07  \n1              0.0   2022-06-07  \n2              0.0   2022-06-09  \n3              0.0   2022-06-09  \n4              0.0   2022-06-09  \n5              0.0   2022-07-17  \n6              0.0   2022-07-17  \n7              0.0   2022-07-17  \n8              0.0   2022-07-19  ",
      "text/html": "<div>\n<style scoped>\n    .dataframe tbody tr th:only-of-type {\n        vertical-align: middle;\n    }\n\n    .dataframe tbody tr th {\n        vertical-align: top;\n    }\n\n    .dataframe thead th {\n        text-align: right;\n    }\n</style>\n<table border=\"1\" class=\"dataframe\">\n  <thead>\n    <tr style=\"text-align: right;\">\n      <th></th>\n      <th>rec_path</th>\n      <th>n_samples</th>\n      <th>duration</th>\n      <th>00.0-05.5_n_samples</th>\n      <th>09.0-11.5_n_samples</th>\n      <th>15.0-30.0_n_samples</th>\n      <th>06.0-08.5_n_samples</th>\n      <th>12.0-14.5_n_samples</th>\n      <th>brood_id</th>\n      <th>datetime</th>\n      <th>00.0-05.5_score</th>\n      <th>09.0-11.5_score</th>\n      <th>15.0-30.0_score</th>\n      <th>06.0-08.5_score</th>\n      <th>12.0-14.5_score</th>\n      <th>period_start</th>\n    </tr>\n  </thead>\n  <tbody>\n    <tr>\n      <th>0</th>\n      <td>home/gardzielb/test/Furka10_22a/22_06_10/20220...</td>\n      <td>86</td>\n      <td>172.0</td>\n      <td>0</td>\n      <td>1</td>\n      <td>0</td>\n      <td>50</td>\n      <td>0</td>\n      <td>Furka10_22a</td>\n      <td>2022-06-07 16:30:00</td>\n      <td>0.000000</td>\n      <td>0.011628</td>\n      <td>0.000000</td>\n      <td>0.581395</td>\n      <td>0.0</td>\n      <td>2022-06-07</td>\n    </tr>\n    <tr>\n      <th>1</th>\n      <td>home/gardzielb/test/Furka10_22a/22_06_10/20220...</td>\n      <td>184</td>\n      <td>368.0</td>\n      <td>1</td>\n      <td>51</td>\n      <td>0</td>\n      <td>60</td>\n      <td>0</td>\n      <td>Furka10_22a</td>\n      <td>2022-06-08 12:30:00</td>\n      <td>0.005435</td>\n      <td>0.277174</td>\n      <td>0.000000</td>\n      <td>0.326087</td>\n      <td>0.0</td>\n      <td>2022-06-07</td>\n    </tr>\n    <tr>\n      <th>2</th>\n      <td>home/gardzielb/test/Furka10_22a/22_06_10/20220...</td>\n      <td>142</td>\n      <td>284.0</td>\n      <td>0</td>\n      <td>78</td>\n      <td>0</td>\n      <td>1</td>\n      <td>0</td>\n      <td>Furka10_22a</td>\n      <td>2022-06-09 12:30:00</td>\n      <td>0.000000</td>\n      <td>0.549296</td>\n      <td>0.000000</td>\n      <td>0.007042</td>\n      <td>0.0</td>\n      <td>2022-06-09</td>\n    </tr>\n    <tr>\n      <th>3</th>\n      <td>home/gardzielb/test/Furka10_22a/22_06_10/20220...</td>\n      <td>171</td>\n      <td>342.0</td>\n      <td>0</td>\n      <td>70</td>\n      <td>1</td>\n      <td>0</td>\n      <td>0</td>\n      <td>Furka10_22a</td>\n      <td>2022-06-10 10:30:00</td>\n      <td>0.000000</td>\n      <td>0.409357</td>\n      <td>0.005848</td>\n      <td>0.000000</td>\n      <td>0.0</td>\n      <td>2022-06-09</td>\n    </tr>\n    <tr>\n      <th>4</th>\n      <td>home/gardzielb/test/Furka10_22a/22_06_10/20220...</td>\n      <td>22</td>\n      <td>44.0</td>\n      <td>0</td>\n      <td>12</td>\n      <td>1</td>\n      <td>0</td>\n      <td>0</td>\n      <td>Furka10_22a</td>\n      <td>2022-06-10 11:30:00</td>\n      <td>0.000000</td>\n      <td>0.545455</td>\n      <td>0.045455</td>\n      <td>0.000000</td>\n      <td>0.0</td>\n      <td>2022-06-09</td>\n    </tr>\n    <tr>\n      <th>5</th>\n      <td>home/gardzielb/test/Furka12_22a/22_07_19/20220...</td>\n      <td>101</td>\n      <td>202.0</td>\n      <td>91</td>\n      <td>0</td>\n      <td>0</td>\n      <td>1</td>\n      <td>0</td>\n      <td>Furka12_22a</td>\n      <td>2022-07-17 11:30:00</td>\n      <td>0.900990</td>\n      <td>0.000000</td>\n      <td>0.000000</td>\n      <td>0.009901</td>\n      <td>0.0</td>\n      <td>2022-07-17</td>\n    </tr>\n    <tr>\n      <th>6</th>\n      <td>home/gardzielb/test/Furka12_22a/22_07_19/20220...</td>\n      <td>94</td>\n      <td>188.0</td>\n      <td>60</td>\n      <td>0</td>\n      <td>0</td>\n      <td>1</td>\n      <td>0</td>\n      <td>Furka12_22a</td>\n      <td>2022-07-18 12:30:00</td>\n      <td>0.638298</td>\n      <td>0.000000</td>\n      <td>0.000000</td>\n      <td>0.010638</td>\n      <td>0.0</td>\n      <td>2022-07-17</td>\n    </tr>\n    <tr>\n      <th>7</th>\n      <td>home/gardzielb/test/Furka12_22a/22_07_19/20220...</td>\n      <td>249</td>\n      <td>498.0</td>\n      <td>152</td>\n      <td>0</td>\n      <td>0</td>\n      <td>7</td>\n      <td>0</td>\n      <td>Furka12_22a</td>\n      <td>2022-07-18 13:30:00</td>\n      <td>0.610442</td>\n      <td>0.000000</td>\n      <td>0.000000</td>\n      <td>0.028112</td>\n      <td>0.0</td>\n      <td>2022-07-17</td>\n    </tr>\n    <tr>\n      <th>8</th>\n      <td>home/gardzielb/test/Furka12_22a/22_07_19/20220...</td>\n      <td>23</td>\n      <td>46.0</td>\n      <td>15</td>\n      <td>0</td>\n      <td>0</td>\n      <td>0</td>\n      <td>0</td>\n      <td>Furka12_22a</td>\n      <td>2022-07-19 11:30:00</td>\n      <td>0.652174</td>\n      <td>0.000000</td>\n      <td>0.000000</td>\n      <td>0.000000</td>\n      <td>0.0</td>\n      <td>2022-07-19</td>\n    </tr>\n  </tbody>\n</table>\n</div>"
     },
     "execution_count": 13,
     "metadata": {},
     "output_type": "execute_result"
    }
   ],
   "source": [
    "age_pred_df = pd.read_csv('_out/ba-pred.csv')\n",
    "age_pred_df['datetime'] = pd.to_datetime(age_pred_df['datetime'])\n",
    "age_pred_df = assign_periods(age_pred_df, period_days = 2)\n",
    "age_pred_df"
   ],
   "metadata": {
    "collapsed": false,
    "ExecuteTime": {
     "start_time": "2023-05-03T11:45:50.520807Z",
     "end_time": "2023-05-03T11:45:50.664664Z"
    }
   }
  },
  {
   "cell_type": "code",
   "execution_count": 14,
   "outputs": [
    {
     "data": {
      "text/plain": "      brood_id period_start  rec_count  n_samples  00.0-05.5_n_samples   \n0  Furka10_22a   2022-06-07          2        270                    1  \\\n1  Furka10_22a   2022-06-09          3        335                    0   \n2  Furka12_22a   2022-07-17          3        444                  303   \n3  Furka12_22a   2022-07-19          1         23                   15   \n\n   09.0-11.5_n_samples  15.0-30.0_n_samples  06.0-08.5_n_samples   \n0                   52                    0                  110  \\\n1                  160                    2                    1   \n2                    0                    0                    9   \n3                    0                    0                    0   \n\n   12.0-14.5_n_samples  00.0-05.5  06.0-08.5  09.0-11.5  12.0-14.5  15.0-30.0  \n0                    0          0          1          0          0          0  \n1                    0          0          0          1          0          0  \n2                    0          1          0          0          0          0  \n3                    0          1          0          0          0          0  ",
      "text/html": "<div>\n<style scoped>\n    .dataframe tbody tr th:only-of-type {\n        vertical-align: middle;\n    }\n\n    .dataframe tbody tr th {\n        vertical-align: top;\n    }\n\n    .dataframe thead th {\n        text-align: right;\n    }\n</style>\n<table border=\"1\" class=\"dataframe\">\n  <thead>\n    <tr style=\"text-align: right;\">\n      <th></th>\n      <th>brood_id</th>\n      <th>period_start</th>\n      <th>rec_count</th>\n      <th>n_samples</th>\n      <th>00.0-05.5_n_samples</th>\n      <th>09.0-11.5_n_samples</th>\n      <th>15.0-30.0_n_samples</th>\n      <th>06.0-08.5_n_samples</th>\n      <th>12.0-14.5_n_samples</th>\n      <th>00.0-05.5</th>\n      <th>06.0-08.5</th>\n      <th>09.0-11.5</th>\n      <th>12.0-14.5</th>\n      <th>15.0-30.0</th>\n    </tr>\n  </thead>\n  <tbody>\n    <tr>\n      <th>0</th>\n      <td>Furka10_22a</td>\n      <td>2022-06-07</td>\n      <td>2</td>\n      <td>270</td>\n      <td>1</td>\n      <td>52</td>\n      <td>0</td>\n      <td>110</td>\n      <td>0</td>\n      <td>0</td>\n      <td>1</td>\n      <td>0</td>\n      <td>0</td>\n      <td>0</td>\n    </tr>\n    <tr>\n      <th>1</th>\n      <td>Furka10_22a</td>\n      <td>2022-06-09</td>\n      <td>3</td>\n      <td>335</td>\n      <td>0</td>\n      <td>160</td>\n      <td>2</td>\n      <td>1</td>\n      <td>0</td>\n      <td>0</td>\n      <td>0</td>\n      <td>1</td>\n      <td>0</td>\n      <td>0</td>\n    </tr>\n    <tr>\n      <th>2</th>\n      <td>Furka12_22a</td>\n      <td>2022-07-17</td>\n      <td>3</td>\n      <td>444</td>\n      <td>303</td>\n      <td>0</td>\n      <td>0</td>\n      <td>9</td>\n      <td>0</td>\n      <td>1</td>\n      <td>0</td>\n      <td>0</td>\n      <td>0</td>\n      <td>0</td>\n    </tr>\n    <tr>\n      <th>3</th>\n      <td>Furka12_22a</td>\n      <td>2022-07-19</td>\n      <td>1</td>\n      <td>23</td>\n      <td>15</td>\n      <td>0</td>\n      <td>0</td>\n      <td>0</td>\n      <td>0</td>\n      <td>1</td>\n      <td>0</td>\n      <td>0</td>\n      <td>0</td>\n      <td>0</td>\n    </tr>\n  </tbody>\n</table>\n</div>"
     },
     "execution_count": 14,
     "metadata": {},
     "output_type": "execute_result"
    }
   ],
   "source": [
    "agg_map = { 'rec_path': 'count' }\n",
    "test_cols = ['rec_path', 'brood_id', 'period_start']\n",
    "\n",
    "for col in age_pred_df.columns:\n",
    "\tif 'n_samples' in col:\n",
    "\t\ttest_cols.append(col)\n",
    "\t\tagg_map[col] = 'sum'\n",
    "\n",
    "age_pred_agg = age_pred_df[test_cols].groupby(['brood_id', 'period_start']).agg(agg_map).reset_index()\n",
    "age_pred_agg = age_pred_agg.rename(columns = { 'rec_path': 'rec_count' })\n",
    "\n",
    "for age_group in age_group_labels:\n",
    "\tage_pred_agg[age_group] = np.where(age_pred_agg[f'{age_group}_n_samples'] / age_pred_agg['n_samples'] > 0.3, 1, 0)\n",
    "\n",
    "age_pred_agg"
   ],
   "metadata": {
    "collapsed": false,
    "ExecuteTime": {
     "start_time": "2023-05-03T11:45:50.663659Z",
     "end_time": "2023-05-03T11:45:50.786664Z"
    }
   }
  },
  {
   "cell_type": "code",
   "execution_count": 15,
   "outputs": [
    {
     "name": "stdout",
     "output_type": "stream",
     "text": [
      "Generating classification report and confusion matrix\n"
     ]
    },
    {
     "data": {
      "text/plain": "<Figure size 800x600 with 8 Axes>",
      "image/png": "[encoded data removed]"
     },
     "metadata": {},
     "output_type": "display_data"
    },
    {
     "name": "stdout",
     "output_type": "stream",
     "text": [
      "{'subset_accuracy': 0.5, 'label_ranking_precision': 0.8500000000000001}\n",
      "Classification report and confusion matrix saved to show\n"
     ]
    },
    {
     "data": {
      "text/plain": "{'subset_accuracy': 0.5, 'label_ranking_precision': 0.8500000000000001}"
     },
     "execution_count": 15,
     "metadata": {},
     "output_type": "execute_result"
    }
   ],
   "source": [
    "generate_validation_results(\n",
    "\ttest_df = age_test_agg[age_group_labels],\n",
    "\tpred_df = age_pred_agg[age_group_labels],\n",
    "\tclasses = age_group_labels,\n",
    "\ttarget_label = 'brood age',\n",
    "\toutput = 'show',\n",
    "\tmulti_target = True\n",
    ")"
   ],
   "metadata": {
    "collapsed": false,
    "ExecuteTime": {
     "start_time": "2023-05-03T11:45:50.797661Z",
     "end_time": "2023-05-03T11:45:51.903687Z"
    }
   }
  },
  {
   "cell_type": "code",
   "execution_count": 15,
   "outputs": [],
   "source": [],
   "metadata": {
    "collapsed": false,
    "ExecuteTime": {
     "start_time": "2023-05-03T11:45:51.860676Z",
     "end_time": "2023-05-03T11:45:51.921683Z"
    }
   }
  }
 ],
 "metadata": {
  "kernelspec": {
   "display_name": "Python 3",
   "language": "python",
   "name": "python3"
  },
  "language_info": {
   "codemirror_mode": {
    "name": "ipython",
    "version": 2
   },
   "file_extension": ".py",
   "mimetype": "text/x-python",
   "name": "python",
   "nbconvert_exporter": "python",
   "pygments_lexer": "ipython2",
   "version": "2.7.6"
  }
 },
 "nbformat": 4,
 "nbformat_minor": 0
}
