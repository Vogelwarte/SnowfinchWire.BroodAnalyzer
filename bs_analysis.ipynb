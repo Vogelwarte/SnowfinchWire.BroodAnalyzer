{
 "cells": [
  {
   "cell_type": "code",
   "execution_count": 1,
   "metadata": {
    "collapsed": true,
    "ExecuteTime": {
     "start_time": "2023-05-03T17:19:25.436457Z",
     "end_time": "2023-05-03T17:19:26.398043Z"
    }
   },
   "outputs": [],
   "source": [
    "from pathlib import Path\n",
    "import pandas as pd"
   ]
  },
  {
   "cell_type": "code",
   "execution_count": 2,
   "outputs": [
    {
     "data": {
      "text/plain": "                                               rec_path     brood_id   \n0     2022/AT_Grossglockner/12_1_1_22/12_1_1_22_2206...    12_1_1_22  \\\n1     2022/AT_Grossglockner/12_1_1_22/12_1_1_22_2206...    12_1_1_22   \n2     2022/AT_Grossglockner/12_1_1_22/12_1_1_22_2206...    12_1_1_22   \n3     2022/AT_Grossglockner/12_1_1_22/12_1_1_22_2206...    12_1_1_22   \n4     2022/AT_Grossglockner/12_1_1_22/12_1_1_22_2206...    12_1_1_22   \n...                                                 ...          ...   \n4188  2022/Switzerland/Furka13_22a/22_06_20/20220617...  Furka13_22a   \n4189  2022/Switzerland/Furka13_22a/22_06_20/20220618...  Furka13_22a   \n4190  2022/Switzerland/Furka13_22a/22_06_20/20220617...  Furka13_22a   \n4191  2022/Switzerland/Furka13_22a/22_06_20/20220616...  Furka13_22a   \n4192  2022/Switzerland/Furka13_22a/22_06_20/20220618...  Furka13_22a   \n\n                 datetime  age_min  age_max  brood_size  \n0     2022-06-25 09:00:01      4.0      5.0           3  \n1     2022-06-22 17:00:00      1.0      2.0           4  \n2     2022-06-26 06:00:00      5.0      6.0           3  \n3     2022-06-22 07:19:15      1.0      2.0           4  \n4     2022-06-25 18:00:00      4.0      5.0           3  \n...                   ...      ...      ...         ...  \n4188  2022-06-17 17:30:00     19.0     20.0           5  \n4189  2022-06-18 13:30:00     20.0     21.0           5  \n4190  2022-06-17 05:30:00     19.0     20.0           5  \n4191  2022-06-16 20:30:00     18.0     19.0           5  \n4192  2022-06-18 20:30:00     20.0     21.0           5  \n\n[4193 rows x 6 columns]",
      "text/html": "<div>\n<style scoped>\n    .dataframe tbody tr th:only-of-type {\n        vertical-align: middle;\n    }\n\n    .dataframe tbody tr th {\n        vertical-align: top;\n    }\n\n    .dataframe thead th {\n        text-align: right;\n    }\n</style>\n<table border=\"1\" class=\"dataframe\">\n  <thead>\n    <tr style=\"text-align: right;\">\n      <th></th>\n      <th>rec_path</th>\n      <th>brood_id</th>\n      <th>datetime</th>\n      <th>age_min</th>\n      <th>age_max</th>\n      <th>brood_size</th>\n    </tr>\n  </thead>\n  <tbody>\n    <tr>\n      <th>0</th>\n      <td>2022/AT_Grossglockner/12_1_1_22/12_1_1_22_2206...</td>\n      <td>12_1_1_22</td>\n      <td>2022-06-25 09:00:01</td>\n      <td>4.0</td>\n      <td>5.0</td>\n      <td>3</td>\n    </tr>\n    <tr>\n      <th>1</th>\n      <td>2022/AT_Grossglockner/12_1_1_22/12_1_1_22_2206...</td>\n      <td>12_1_1_22</td>\n      <td>2022-06-22 17:00:00</td>\n      <td>1.0</td>\n      <td>2.0</td>\n      <td>4</td>\n    </tr>\n    <tr>\n      <th>2</th>\n      <td>2022/AT_Grossglockner/12_1_1_22/12_1_1_22_2206...</td>\n      <td>12_1_1_22</td>\n      <td>2022-06-26 06:00:00</td>\n      <td>5.0</td>\n      <td>6.0</td>\n      <td>3</td>\n    </tr>\n    <tr>\n      <th>3</th>\n      <td>2022/AT_Grossglockner/12_1_1_22/12_1_1_22_2206...</td>\n      <td>12_1_1_22</td>\n      <td>2022-06-22 07:19:15</td>\n      <td>1.0</td>\n      <td>2.0</td>\n      <td>4</td>\n    </tr>\n    <tr>\n      <th>4</th>\n      <td>2022/AT_Grossglockner/12_1_1_22/12_1_1_22_2206...</td>\n      <td>12_1_1_22</td>\n      <td>2022-06-25 18:00:00</td>\n      <td>4.0</td>\n      <td>5.0</td>\n      <td>3</td>\n    </tr>\n    <tr>\n      <th>...</th>\n      <td>...</td>\n      <td>...</td>\n      <td>...</td>\n      <td>...</td>\n      <td>...</td>\n      <td>...</td>\n    </tr>\n    <tr>\n      <th>4188</th>\n      <td>2022/Switzerland/Furka13_22a/22_06_20/20220617...</td>\n      <td>Furka13_22a</td>\n      <td>2022-06-17 17:30:00</td>\n      <td>19.0</td>\n      <td>20.0</td>\n      <td>5</td>\n    </tr>\n    <tr>\n      <th>4189</th>\n      <td>2022/Switzerland/Furka13_22a/22_06_20/20220618...</td>\n      <td>Furka13_22a</td>\n      <td>2022-06-18 13:30:00</td>\n      <td>20.0</td>\n      <td>21.0</td>\n      <td>5</td>\n    </tr>\n    <tr>\n      <th>4190</th>\n      <td>2022/Switzerland/Furka13_22a/22_06_20/20220617...</td>\n      <td>Furka13_22a</td>\n      <td>2022-06-17 05:30:00</td>\n      <td>19.0</td>\n      <td>20.0</td>\n      <td>5</td>\n    </tr>\n    <tr>\n      <th>4191</th>\n      <td>2022/Switzerland/Furka13_22a/22_06_20/20220616...</td>\n      <td>Furka13_22a</td>\n      <td>2022-06-16 20:30:00</td>\n      <td>18.0</td>\n      <td>19.0</td>\n      <td>5</td>\n    </tr>\n    <tr>\n      <th>4192</th>\n      <td>2022/Switzerland/Furka13_22a/22_06_20/20220618...</td>\n      <td>Furka13_22a</td>\n      <td>2022-06-18 20:30:00</td>\n      <td>20.0</td>\n      <td>21.0</td>\n      <td>5</td>\n    </tr>\n  </tbody>\n</table>\n<p>4193 rows × 6 columns</p>\n</div>"
     },
     "execution_count": 2,
     "metadata": {},
     "output_type": "execute_result"
    }
   ],
   "source": [
    "rec_df = pd.read_csv('_data/snowfinch-recordings.csv')\n",
    "rec_df"
   ],
   "metadata": {
    "collapsed": false,
    "ExecuteTime": {
     "start_time": "2023-05-03T17:20:12.479018Z",
     "end_time": "2023-05-03T17:20:12.846225Z"
    }
   }
  },
  {
   "cell_type": "code",
   "execution_count": 4,
   "outputs": [
    {
     "data": {
      "text/plain": "                                     file    event  is_silence  class    1   \n0        12_1_1_22_20220626_150000__0.wav  feeding       False      3  0.0  \\\n1        12_1_1_22_20220626_150000__1.wav  feeding       False      3  0.0   \n2        12_1_1_22_20220626_150000__2.wav  feeding       False      3  0.0   \n3        12_1_1_22_20220626_150000__3.wav  feeding       False      3  0.0   \n4        12_1_1_22_20220626_150000__4.wav  feeding       False      3  0.0   \n...                                   ...      ...         ...    ...  ...   \n83770  Furka13_22a_20220617_173000__0.wav  feeding       False      5  0.0   \n83771  Furka13_22a_20220617_173000__1.wav  feeding       False      5  0.0   \n83772  Furka13_22a_20220617_173000__2.wav  feeding       False      5  0.0   \n83773  Furka13_22a_20220617_173000__3.wav  feeding       False      5  0.0   \n83774  Furka13_22a_20220617_173000__4.wav  feeding       False      5  0.0   \n\n         2    3    4    5                    recording     brood_id  \n0      0.0  1.0  0.0  0.0    12_1_1_22_20220626_150000    12_1_1_22  \n1      0.0  1.0  0.0  0.0    12_1_1_22_20220626_150000    12_1_1_22  \n2      0.0  1.0  0.0  0.0    12_1_1_22_20220626_150000    12_1_1_22  \n3      0.0  1.0  0.0  0.0    12_1_1_22_20220626_150000    12_1_1_22  \n4      0.0  1.0  0.0  0.0    12_1_1_22_20220626_150000    12_1_1_22  \n...    ...  ...  ...  ...                          ...          ...  \n83770  0.0  0.0  0.0  1.0  Furka13_22a_20220617_173000  Furka13_22a  \n83771  0.0  0.0  0.0  1.0  Furka13_22a_20220617_173000  Furka13_22a  \n83772  0.0  0.0  0.0  1.0  Furka13_22a_20220617_173000  Furka13_22a  \n83773  0.0  0.0  0.0  1.0  Furka13_22a_20220617_173000  Furka13_22a  \n83774  0.0  0.0  0.0  1.0  Furka13_22a_20220617_173000  Furka13_22a  \n\n[83775 rows x 11 columns]",
      "text/html": "<div>\n<style scoped>\n    .dataframe tbody tr th:only-of-type {\n        vertical-align: middle;\n    }\n\n    .dataframe tbody tr th {\n        vertical-align: top;\n    }\n\n    .dataframe thead th {\n        text-align: right;\n    }\n</style>\n<table border=\"1\" class=\"dataframe\">\n  <thead>\n    <tr style=\"text-align: right;\">\n      <th></th>\n      <th>file</th>\n      <th>event</th>\n      <th>is_silence</th>\n      <th>class</th>\n      <th>1</th>\n      <th>2</th>\n      <th>3</th>\n      <th>4</th>\n      <th>5</th>\n      <th>recording</th>\n      <th>brood_id</th>\n    </tr>\n  </thead>\n  <tbody>\n    <tr>\n      <th>0</th>\n      <td>12_1_1_22_20220626_150000__0.wav</td>\n      <td>feeding</td>\n      <td>False</td>\n      <td>3</td>\n      <td>0.0</td>\n      <td>0.0</td>\n      <td>1.0</td>\n      <td>0.0</td>\n      <td>0.0</td>\n      <td>12_1_1_22_20220626_150000</td>\n      <td>12_1_1_22</td>\n    </tr>\n    <tr>\n      <th>1</th>\n      <td>12_1_1_22_20220626_150000__1.wav</td>\n      <td>feeding</td>\n      <td>False</td>\n      <td>3</td>\n      <td>0.0</td>\n      <td>0.0</td>\n      <td>1.0</td>\n      <td>0.0</td>\n      <td>0.0</td>\n      <td>12_1_1_22_20220626_150000</td>\n      <td>12_1_1_22</td>\n    </tr>\n    <tr>\n      <th>2</th>\n      <td>12_1_1_22_20220626_150000__2.wav</td>\n      <td>feeding</td>\n      <td>False</td>\n      <td>3</td>\n      <td>0.0</td>\n      <td>0.0</td>\n      <td>1.0</td>\n      <td>0.0</td>\n      <td>0.0</td>\n      <td>12_1_1_22_20220626_150000</td>\n      <td>12_1_1_22</td>\n    </tr>\n    <tr>\n      <th>3</th>\n      <td>12_1_1_22_20220626_150000__3.wav</td>\n      <td>feeding</td>\n      <td>False</td>\n      <td>3</td>\n      <td>0.0</td>\n      <td>0.0</td>\n      <td>1.0</td>\n      <td>0.0</td>\n      <td>0.0</td>\n      <td>12_1_1_22_20220626_150000</td>\n      <td>12_1_1_22</td>\n    </tr>\n    <tr>\n      <th>4</th>\n      <td>12_1_1_22_20220626_150000__4.wav</td>\n      <td>feeding</td>\n      <td>False</td>\n      <td>3</td>\n      <td>0.0</td>\n      <td>0.0</td>\n      <td>1.0</td>\n      <td>0.0</td>\n      <td>0.0</td>\n      <td>12_1_1_22_20220626_150000</td>\n      <td>12_1_1_22</td>\n    </tr>\n    <tr>\n      <th>...</th>\n      <td>...</td>\n      <td>...</td>\n      <td>...</td>\n      <td>...</td>\n      <td>...</td>\n      <td>...</td>\n      <td>...</td>\n      <td>...</td>\n      <td>...</td>\n      <td>...</td>\n      <td>...</td>\n    </tr>\n    <tr>\n      <th>83770</th>\n      <td>Furka13_22a_20220617_173000__0.wav</td>\n      <td>feeding</td>\n      <td>False</td>\n      <td>5</td>\n      <td>0.0</td>\n      <td>0.0</td>\n      <td>0.0</td>\n      <td>0.0</td>\n      <td>1.0</td>\n      <td>Furka13_22a_20220617_173000</td>\n      <td>Furka13_22a</td>\n    </tr>\n    <tr>\n      <th>83771</th>\n      <td>Furka13_22a_20220617_173000__1.wav</td>\n      <td>feeding</td>\n      <td>False</td>\n      <td>5</td>\n      <td>0.0</td>\n      <td>0.0</td>\n      <td>0.0</td>\n      <td>0.0</td>\n      <td>1.0</td>\n      <td>Furka13_22a_20220617_173000</td>\n      <td>Furka13_22a</td>\n    </tr>\n    <tr>\n      <th>83772</th>\n      <td>Furka13_22a_20220617_173000__2.wav</td>\n      <td>feeding</td>\n      <td>False</td>\n      <td>5</td>\n      <td>0.0</td>\n      <td>0.0</td>\n      <td>0.0</td>\n      <td>0.0</td>\n      <td>1.0</td>\n      <td>Furka13_22a_20220617_173000</td>\n      <td>Furka13_22a</td>\n    </tr>\n    <tr>\n      <th>83773</th>\n      <td>Furka13_22a_20220617_173000__3.wav</td>\n      <td>feeding</td>\n      <td>False</td>\n      <td>5</td>\n      <td>0.0</td>\n      <td>0.0</td>\n      <td>0.0</td>\n      <td>0.0</td>\n      <td>1.0</td>\n      <td>Furka13_22a_20220617_173000</td>\n      <td>Furka13_22a</td>\n    </tr>\n    <tr>\n      <th>83774</th>\n      <td>Furka13_22a_20220617_173000__4.wav</td>\n      <td>feeding</td>\n      <td>False</td>\n      <td>5</td>\n      <td>0.0</td>\n      <td>0.0</td>\n      <td>0.0</td>\n      <td>0.0</td>\n      <td>1.0</td>\n      <td>Furka13_22a_20220617_173000</td>\n      <td>Furka13_22a</td>\n    </tr>\n  </tbody>\n</table>\n<p>83775 rows × 11 columns</p>\n</div>"
     },
     "execution_count": 4,
     "metadata": {},
     "output_type": "execute_result"
    }
   ],
   "source": [
    "size_df = pd.read_csv('_data/brood-size.csv')\n",
    "size_df"
   ],
   "metadata": {
    "collapsed": false,
    "ExecuteTime": {
     "start_time": "2023-05-03T17:20:19.064865Z",
     "end_time": "2023-05-03T17:20:19.893490Z"
    }
   }
  },
  {
   "cell_type": "code",
   "execution_count": 5,
   "outputs": [
    {
     "data": {
      "text/plain": "                                brood_id             datetime  age_min   \nrec_id                                                                   \n12_1_1_22_20220625_090001      12_1_1_22  2022-06-25 09:00:01      4.0  \\\n12_1_1_22_20220622_170000      12_1_1_22  2022-06-22 17:00:00      1.0   \n12_1_1_22_20220626_060000      12_1_1_22  2022-06-26 06:00:00      5.0   \n12_1_1_22_20220622_071915      12_1_1_22  2022-06-22 07:19:15      1.0   \n12_1_1_22_20220625_180000      12_1_1_22  2022-06-25 18:00:00      4.0   \n...                                  ...                  ...      ...   \nFurka13_22a_20220617_173000  Furka13_22a  2022-06-17 17:30:00     19.0   \nFurka13_22a_20220618_133000  Furka13_22a  2022-06-18 13:30:00     20.0   \nFurka13_22a_20220617_053000  Furka13_22a  2022-06-17 05:30:00     19.0   \nFurka13_22a_20220616_203000  Furka13_22a  2022-06-16 20:30:00     18.0   \nFurka13_22a_20220618_203000  Furka13_22a  2022-06-18 20:30:00     20.0   \n\n                             age_max  brood_size  \nrec_id                                            \n12_1_1_22_20220625_090001        5.0           3  \n12_1_1_22_20220622_170000        2.0           4  \n12_1_1_22_20220626_060000        6.0           3  \n12_1_1_22_20220622_071915        2.0           4  \n12_1_1_22_20220625_180000        5.0           3  \n...                              ...         ...  \nFurka13_22a_20220617_173000     20.0           5  \nFurka13_22a_20220618_133000     21.0           5  \nFurka13_22a_20220617_053000     20.0           5  \nFurka13_22a_20220616_203000     19.0           5  \nFurka13_22a_20220618_203000     21.0           5  \n\n[4170 rows x 5 columns]",
      "text/html": "<div>\n<style scoped>\n    .dataframe tbody tr th:only-of-type {\n        vertical-align: middle;\n    }\n\n    .dataframe tbody tr th {\n        vertical-align: top;\n    }\n\n    .dataframe thead th {\n        text-align: right;\n    }\n</style>\n<table border=\"1\" class=\"dataframe\">\n  <thead>\n    <tr style=\"text-align: right;\">\n      <th></th>\n      <th>brood_id</th>\n      <th>datetime</th>\n      <th>age_min</th>\n      <th>age_max</th>\n      <th>brood_size</th>\n    </tr>\n    <tr>\n      <th>rec_id</th>\n      <th></th>\n      <th></th>\n      <th></th>\n      <th></th>\n      <th></th>\n    </tr>\n  </thead>\n  <tbody>\n    <tr>\n      <th>12_1_1_22_20220625_090001</th>\n      <td>12_1_1_22</td>\n      <td>2022-06-25 09:00:01</td>\n      <td>4.0</td>\n      <td>5.0</td>\n      <td>3</td>\n    </tr>\n    <tr>\n      <th>12_1_1_22_20220622_170000</th>\n      <td>12_1_1_22</td>\n      <td>2022-06-22 17:00:00</td>\n      <td>1.0</td>\n      <td>2.0</td>\n      <td>4</td>\n    </tr>\n    <tr>\n      <th>12_1_1_22_20220626_060000</th>\n      <td>12_1_1_22</td>\n      <td>2022-06-26 06:00:00</td>\n      <td>5.0</td>\n      <td>6.0</td>\n      <td>3</td>\n    </tr>\n    <tr>\n      <th>12_1_1_22_20220622_071915</th>\n      <td>12_1_1_22</td>\n      <td>2022-06-22 07:19:15</td>\n      <td>1.0</td>\n      <td>2.0</td>\n      <td>4</td>\n    </tr>\n    <tr>\n      <th>12_1_1_22_20220625_180000</th>\n      <td>12_1_1_22</td>\n      <td>2022-06-25 18:00:00</td>\n      <td>4.0</td>\n      <td>5.0</td>\n      <td>3</td>\n    </tr>\n    <tr>\n      <th>...</th>\n      <td>...</td>\n      <td>...</td>\n      <td>...</td>\n      <td>...</td>\n      <td>...</td>\n    </tr>\n    <tr>\n      <th>Furka13_22a_20220617_173000</th>\n      <td>Furka13_22a</td>\n      <td>2022-06-17 17:30:00</td>\n      <td>19.0</td>\n      <td>20.0</td>\n      <td>5</td>\n    </tr>\n    <tr>\n      <th>Furka13_22a_20220618_133000</th>\n      <td>Furka13_22a</td>\n      <td>2022-06-18 13:30:00</td>\n      <td>20.0</td>\n      <td>21.0</td>\n      <td>5</td>\n    </tr>\n    <tr>\n      <th>Furka13_22a_20220617_053000</th>\n      <td>Furka13_22a</td>\n      <td>2022-06-17 05:30:00</td>\n      <td>19.0</td>\n      <td>20.0</td>\n      <td>5</td>\n    </tr>\n    <tr>\n      <th>Furka13_22a_20220616_203000</th>\n      <td>Furka13_22a</td>\n      <td>2022-06-16 20:30:00</td>\n      <td>18.0</td>\n      <td>19.0</td>\n      <td>5</td>\n    </tr>\n    <tr>\n      <th>Furka13_22a_20220618_203000</th>\n      <td>Furka13_22a</td>\n      <td>2022-06-18 20:30:00</td>\n      <td>20.0</td>\n      <td>21.0</td>\n      <td>5</td>\n    </tr>\n  </tbody>\n</table>\n<p>4170 rows × 5 columns</p>\n</div>"
     },
     "execution_count": 5,
     "metadata": {},
     "output_type": "execute_result"
    }
   ],
   "source": [
    "rec_df['rec_id'] = rec_df['rec_path'].apply(lambda path: Path(path).stem)\n",
    "rec_df['rec_id'] = rec_df['brood_id'] + '_' + rec_df['rec_id']\n",
    "rec_df = rec_df.set_index('rec_id')\n",
    "rec_df = rec_df.drop(columns = 'rec_path').drop_duplicates()\n",
    "rec_df"
   ],
   "metadata": {
    "collapsed": false,
    "ExecuteTime": {
     "start_time": "2023-05-03T17:20:42.399541Z",
     "end_time": "2023-05-03T17:20:43.762587Z"
    }
   }
  },
  {
   "cell_type": "code",
   "execution_count": 6,
   "outputs": [
    {
     "data": {
      "text/plain": "                                     file    event  is_silence  class    1   \n0        12_1_1_22_20220626_150000__0.wav  feeding       False      3  0.0  \\\n1        12_1_1_22_20220626_150000__1.wav  feeding       False      3  0.0   \n2        12_1_1_22_20220626_150000__2.wav  feeding       False      3  0.0   \n3        12_1_1_22_20220626_150000__3.wav  feeding       False      3  0.0   \n4        12_1_1_22_20220626_150000__4.wav  feeding       False      3  0.0   \n...                                   ...      ...         ...    ...  ...   \n83770  Furka13_22a_20220617_173000__0.wav  feeding       False      5  0.0   \n83771  Furka13_22a_20220617_173000__1.wav  feeding       False      5  0.0   \n83772  Furka13_22a_20220617_173000__2.wav  feeding       False      5  0.0   \n83773  Furka13_22a_20220617_173000__3.wav  feeding       False      5  0.0   \n83774  Furka13_22a_20220617_173000__4.wav  feeding       False      5  0.0   \n\n         2    3    4    5                    recording     brood_id  age_min   \n0      0.0  1.0  0.0  0.0    12_1_1_22_20220626_150000    12_1_1_22      5.0  \\\n1      0.0  1.0  0.0  0.0    12_1_1_22_20220626_150000    12_1_1_22      5.0   \n2      0.0  1.0  0.0  0.0    12_1_1_22_20220626_150000    12_1_1_22      5.0   \n3      0.0  1.0  0.0  0.0    12_1_1_22_20220626_150000    12_1_1_22      5.0   \n4      0.0  1.0  0.0  0.0    12_1_1_22_20220626_150000    12_1_1_22      5.0   \n...    ...  ...  ...  ...                          ...          ...      ...   \n83770  0.0  0.0  0.0  1.0  Furka13_22a_20220617_173000  Furka13_22a     19.0   \n83771  0.0  0.0  0.0  1.0  Furka13_22a_20220617_173000  Furka13_22a     19.0   \n83772  0.0  0.0  0.0  1.0  Furka13_22a_20220617_173000  Furka13_22a     19.0   \n83773  0.0  0.0  0.0  1.0  Furka13_22a_20220617_173000  Furka13_22a     19.0   \n83774  0.0  0.0  0.0  1.0  Furka13_22a_20220617_173000  Furka13_22a     19.0   \n\n       age_max  \n0          6.0  \n1          6.0  \n2          6.0  \n3          6.0  \n4          6.0  \n...        ...  \n83770     20.0  \n83771     20.0  \n83772     20.0  \n83773     20.0  \n83774     20.0  \n\n[83775 rows x 13 columns]",
      "text/html": "<div>\n<style scoped>\n    .dataframe tbody tr th:only-of-type {\n        vertical-align: middle;\n    }\n\n    .dataframe tbody tr th {\n        vertical-align: top;\n    }\n\n    .dataframe thead th {\n        text-align: right;\n    }\n</style>\n<table border=\"1\" class=\"dataframe\">\n  <thead>\n    <tr style=\"text-align: right;\">\n      <th></th>\n      <th>file</th>\n      <th>event</th>\n      <th>is_silence</th>\n      <th>class</th>\n      <th>1</th>\n      <th>2</th>\n      <th>3</th>\n      <th>4</th>\n      <th>5</th>\n      <th>recording</th>\n      <th>brood_id</th>\n      <th>age_min</th>\n      <th>age_max</th>\n    </tr>\n  </thead>\n  <tbody>\n    <tr>\n      <th>0</th>\n      <td>12_1_1_22_20220626_150000__0.wav</td>\n      <td>feeding</td>\n      <td>False</td>\n      <td>3</td>\n      <td>0.0</td>\n      <td>0.0</td>\n      <td>1.0</td>\n      <td>0.0</td>\n      <td>0.0</td>\n      <td>12_1_1_22_20220626_150000</td>\n      <td>12_1_1_22</td>\n      <td>5.0</td>\n      <td>6.0</td>\n    </tr>\n    <tr>\n      <th>1</th>\n      <td>12_1_1_22_20220626_150000__1.wav</td>\n      <td>feeding</td>\n      <td>False</td>\n      <td>3</td>\n      <td>0.0</td>\n      <td>0.0</td>\n      <td>1.0</td>\n      <td>0.0</td>\n      <td>0.0</td>\n      <td>12_1_1_22_20220626_150000</td>\n      <td>12_1_1_22</td>\n      <td>5.0</td>\n      <td>6.0</td>\n    </tr>\n    <tr>\n      <th>2</th>\n      <td>12_1_1_22_20220626_150000__2.wav</td>\n      <td>feeding</td>\n      <td>False</td>\n      <td>3</td>\n      <td>0.0</td>\n      <td>0.0</td>\n      <td>1.0</td>\n      <td>0.0</td>\n      <td>0.0</td>\n      <td>12_1_1_22_20220626_150000</td>\n      <td>12_1_1_22</td>\n      <td>5.0</td>\n      <td>6.0</td>\n    </tr>\n    <tr>\n      <th>3</th>\n      <td>12_1_1_22_20220626_150000__3.wav</td>\n      <td>feeding</td>\n      <td>False</td>\n      <td>3</td>\n      <td>0.0</td>\n      <td>0.0</td>\n      <td>1.0</td>\n      <td>0.0</td>\n      <td>0.0</td>\n      <td>12_1_1_22_20220626_150000</td>\n      <td>12_1_1_22</td>\n      <td>5.0</td>\n      <td>6.0</td>\n    </tr>\n    <tr>\n      <th>4</th>\n      <td>12_1_1_22_20220626_150000__4.wav</td>\n      <td>feeding</td>\n      <td>False</td>\n      <td>3</td>\n      <td>0.0</td>\n      <td>0.0</td>\n      <td>1.0</td>\n      <td>0.0</td>\n      <td>0.0</td>\n      <td>12_1_1_22_20220626_150000</td>\n      <td>12_1_1_22</td>\n      <td>5.0</td>\n      <td>6.0</td>\n    </tr>\n    <tr>\n      <th>...</th>\n      <td>...</td>\n      <td>...</td>\n      <td>...</td>\n      <td>...</td>\n      <td>...</td>\n      <td>...</td>\n      <td>...</td>\n      <td>...</td>\n      <td>...</td>\n      <td>...</td>\n      <td>...</td>\n      <td>...</td>\n      <td>...</td>\n    </tr>\n    <tr>\n      <th>83770</th>\n      <td>Furka13_22a_20220617_173000__0.wav</td>\n      <td>feeding</td>\n      <td>False</td>\n      <td>5</td>\n      <td>0.0</td>\n      <td>0.0</td>\n      <td>0.0</td>\n      <td>0.0</td>\n      <td>1.0</td>\n      <td>Furka13_22a_20220617_173000</td>\n      <td>Furka13_22a</td>\n      <td>19.0</td>\n      <td>20.0</td>\n    </tr>\n    <tr>\n      <th>83771</th>\n      <td>Furka13_22a_20220617_173000__1.wav</td>\n      <td>feeding</td>\n      <td>False</td>\n      <td>5</td>\n      <td>0.0</td>\n      <td>0.0</td>\n      <td>0.0</td>\n      <td>0.0</td>\n      <td>1.0</td>\n      <td>Furka13_22a_20220617_173000</td>\n      <td>Furka13_22a</td>\n      <td>19.0</td>\n      <td>20.0</td>\n    </tr>\n    <tr>\n      <th>83772</th>\n      <td>Furka13_22a_20220617_173000__2.wav</td>\n      <td>feeding</td>\n      <td>False</td>\n      <td>5</td>\n      <td>0.0</td>\n      <td>0.0</td>\n      <td>0.0</td>\n      <td>0.0</td>\n      <td>1.0</td>\n      <td>Furka13_22a_20220617_173000</td>\n      <td>Furka13_22a</td>\n      <td>19.0</td>\n      <td>20.0</td>\n    </tr>\n    <tr>\n      <th>83773</th>\n      <td>Furka13_22a_20220617_173000__3.wav</td>\n      <td>feeding</td>\n      <td>False</td>\n      <td>5</td>\n      <td>0.0</td>\n      <td>0.0</td>\n      <td>0.0</td>\n      <td>0.0</td>\n      <td>1.0</td>\n      <td>Furka13_22a_20220617_173000</td>\n      <td>Furka13_22a</td>\n      <td>19.0</td>\n      <td>20.0</td>\n    </tr>\n    <tr>\n      <th>83774</th>\n      <td>Furka13_22a_20220617_173000__4.wav</td>\n      <td>feeding</td>\n      <td>False</td>\n      <td>5</td>\n      <td>0.0</td>\n      <td>0.0</td>\n      <td>0.0</td>\n      <td>0.0</td>\n      <td>1.0</td>\n      <td>Furka13_22a_20220617_173000</td>\n      <td>Furka13_22a</td>\n      <td>19.0</td>\n      <td>20.0</td>\n    </tr>\n  </tbody>\n</table>\n<p>83775 rows × 13 columns</p>\n</div>"
     },
     "execution_count": 6,
     "metadata": {},
     "output_type": "execute_result"
    }
   ],
   "source": [
    "size_df['age_min'] = size_df['recording'].apply(lambda rec: rec_df.loc[rec, 'age_min']).astype('float')\n",
    "size_df['age_max'] = size_df['recording'].apply(lambda rec: rec_df.loc[rec, 'age_max']).astype('float')\n",
    "size_df"
   ],
   "metadata": {
    "collapsed": false,
    "ExecuteTime": {
     "start_time": "2023-05-03T17:20:50.380973Z",
     "end_time": "2023-05-03T17:20:52.017227Z"
    }
   }
  },
  {
   "cell_type": "code",
   "execution_count": 7,
   "outputs": [
    {
     "data": {
      "text/plain": "                                     file    event  is_silence  class    1   \n0        12_1_1_22_20220626_150000__0.wav  feeding       False      3  0.0  \\\n1        12_1_1_22_20220626_150000__1.wav  feeding       False      3  0.0   \n2        12_1_1_22_20220626_150000__2.wav  feeding       False      3  0.0   \n3        12_1_1_22_20220626_150000__3.wav  feeding       False      3  0.0   \n4        12_1_1_22_20220626_150000__4.wav  feeding       False      3  0.0   \n...                                   ...      ...         ...    ...  ...   \n83770  Furka13_22a_20220617_173000__0.wav  feeding       False      5  0.0   \n83771  Furka13_22a_20220617_173000__1.wav  feeding       False      5  0.0   \n83772  Furka13_22a_20220617_173000__2.wav  feeding       False      5  0.0   \n83773  Furka13_22a_20220617_173000__3.wav  feeding       False      5  0.0   \n83774  Furka13_22a_20220617_173000__4.wav  feeding       False      5  0.0   \n\n         2    3    4    5                    recording     brood_id  age_min   \n0      0.0  1.0  0.0  0.0    12_1_1_22_20220626_150000    12_1_1_22      5.0  \\\n1      0.0  1.0  0.0  0.0    12_1_1_22_20220626_150000    12_1_1_22      5.0   \n2      0.0  1.0  0.0  0.0    12_1_1_22_20220626_150000    12_1_1_22      5.0   \n3      0.0  1.0  0.0  0.0    12_1_1_22_20220626_150000    12_1_1_22      5.0   \n4      0.0  1.0  0.0  0.0    12_1_1_22_20220626_150000    12_1_1_22      5.0   \n...    ...  ...  ...  ...                          ...          ...      ...   \n83770  0.0  0.0  0.0  1.0  Furka13_22a_20220617_173000  Furka13_22a     19.0   \n83771  0.0  0.0  0.0  1.0  Furka13_22a_20220617_173000  Furka13_22a     19.0   \n83772  0.0  0.0  0.0  1.0  Furka13_22a_20220617_173000  Furka13_22a     19.0   \n83773  0.0  0.0  0.0  1.0  Furka13_22a_20220617_173000  Furka13_22a     19.0   \n83774  0.0  0.0  0.0  1.0  Furka13_22a_20220617_173000  Furka13_22a     19.0   \n\n       age_max  \n0          6.0  \n1          6.0  \n2          6.0  \n3          6.0  \n4          6.0  \n...        ...  \n83770     20.0  \n83771     20.0  \n83772     20.0  \n83773     20.0  \n83774     20.0  \n\n[83285 rows x 13 columns]",
      "text/html": "<div>\n<style scoped>\n    .dataframe tbody tr th:only-of-type {\n        vertical-align: middle;\n    }\n\n    .dataframe tbody tr th {\n        vertical-align: top;\n    }\n\n    .dataframe thead th {\n        text-align: right;\n    }\n</style>\n<table border=\"1\" class=\"dataframe\">\n  <thead>\n    <tr style=\"text-align: right;\">\n      <th></th>\n      <th>file</th>\n      <th>event</th>\n      <th>is_silence</th>\n      <th>class</th>\n      <th>1</th>\n      <th>2</th>\n      <th>3</th>\n      <th>4</th>\n      <th>5</th>\n      <th>recording</th>\n      <th>brood_id</th>\n      <th>age_min</th>\n      <th>age_max</th>\n    </tr>\n  </thead>\n  <tbody>\n    <tr>\n      <th>0</th>\n      <td>12_1_1_22_20220626_150000__0.wav</td>\n      <td>feeding</td>\n      <td>False</td>\n      <td>3</td>\n      <td>0.0</td>\n      <td>0.0</td>\n      <td>1.0</td>\n      <td>0.0</td>\n      <td>0.0</td>\n      <td>12_1_1_22_20220626_150000</td>\n      <td>12_1_1_22</td>\n      <td>5.0</td>\n      <td>6.0</td>\n    </tr>\n    <tr>\n      <th>1</th>\n      <td>12_1_1_22_20220626_150000__1.wav</td>\n      <td>feeding</td>\n      <td>False</td>\n      <td>3</td>\n      <td>0.0</td>\n      <td>0.0</td>\n      <td>1.0</td>\n      <td>0.0</td>\n      <td>0.0</td>\n      <td>12_1_1_22_20220626_150000</td>\n      <td>12_1_1_22</td>\n      <td>5.0</td>\n      <td>6.0</td>\n    </tr>\n    <tr>\n      <th>2</th>\n      <td>12_1_1_22_20220626_150000__2.wav</td>\n      <td>feeding</td>\n      <td>False</td>\n      <td>3</td>\n      <td>0.0</td>\n      <td>0.0</td>\n      <td>1.0</td>\n      <td>0.0</td>\n      <td>0.0</td>\n      <td>12_1_1_22_20220626_150000</td>\n      <td>12_1_1_22</td>\n      <td>5.0</td>\n      <td>6.0</td>\n    </tr>\n    <tr>\n      <th>3</th>\n      <td>12_1_1_22_20220626_150000__3.wav</td>\n      <td>feeding</td>\n      <td>False</td>\n      <td>3</td>\n      <td>0.0</td>\n      <td>0.0</td>\n      <td>1.0</td>\n      <td>0.0</td>\n      <td>0.0</td>\n      <td>12_1_1_22_20220626_150000</td>\n      <td>12_1_1_22</td>\n      <td>5.0</td>\n      <td>6.0</td>\n    </tr>\n    <tr>\n      <th>4</th>\n      <td>12_1_1_22_20220626_150000__4.wav</td>\n      <td>feeding</td>\n      <td>False</td>\n      <td>3</td>\n      <td>0.0</td>\n      <td>0.0</td>\n      <td>1.0</td>\n      <td>0.0</td>\n      <td>0.0</td>\n      <td>12_1_1_22_20220626_150000</td>\n      <td>12_1_1_22</td>\n      <td>5.0</td>\n      <td>6.0</td>\n    </tr>\n    <tr>\n      <th>...</th>\n      <td>...</td>\n      <td>...</td>\n      <td>...</td>\n      <td>...</td>\n      <td>...</td>\n      <td>...</td>\n      <td>...</td>\n      <td>...</td>\n      <td>...</td>\n      <td>...</td>\n      <td>...</td>\n      <td>...</td>\n      <td>...</td>\n    </tr>\n    <tr>\n      <th>83770</th>\n      <td>Furka13_22a_20220617_173000__0.wav</td>\n      <td>feeding</td>\n      <td>False</td>\n      <td>5</td>\n      <td>0.0</td>\n      <td>0.0</td>\n      <td>0.0</td>\n      <td>0.0</td>\n      <td>1.0</td>\n      <td>Furka13_22a_20220617_173000</td>\n      <td>Furka13_22a</td>\n      <td>19.0</td>\n      <td>20.0</td>\n    </tr>\n    <tr>\n      <th>83771</th>\n      <td>Furka13_22a_20220617_173000__1.wav</td>\n      <td>feeding</td>\n      <td>False</td>\n      <td>5</td>\n      <td>0.0</td>\n      <td>0.0</td>\n      <td>0.0</td>\n      <td>0.0</td>\n      <td>1.0</td>\n      <td>Furka13_22a_20220617_173000</td>\n      <td>Furka13_22a</td>\n      <td>19.0</td>\n      <td>20.0</td>\n    </tr>\n    <tr>\n      <th>83772</th>\n      <td>Furka13_22a_20220617_173000__2.wav</td>\n      <td>feeding</td>\n      <td>False</td>\n      <td>5</td>\n      <td>0.0</td>\n      <td>0.0</td>\n      <td>0.0</td>\n      <td>0.0</td>\n      <td>1.0</td>\n      <td>Furka13_22a_20220617_173000</td>\n      <td>Furka13_22a</td>\n      <td>19.0</td>\n      <td>20.0</td>\n    </tr>\n    <tr>\n      <th>83773</th>\n      <td>Furka13_22a_20220617_173000__3.wav</td>\n      <td>feeding</td>\n      <td>False</td>\n      <td>5</td>\n      <td>0.0</td>\n      <td>0.0</td>\n      <td>0.0</td>\n      <td>0.0</td>\n      <td>1.0</td>\n      <td>Furka13_22a_20220617_173000</td>\n      <td>Furka13_22a</td>\n      <td>19.0</td>\n      <td>20.0</td>\n    </tr>\n    <tr>\n      <th>83774</th>\n      <td>Furka13_22a_20220617_173000__4.wav</td>\n      <td>feeding</td>\n      <td>False</td>\n      <td>5</td>\n      <td>0.0</td>\n      <td>0.0</td>\n      <td>0.0</td>\n      <td>0.0</td>\n      <td>1.0</td>\n      <td>Furka13_22a_20220617_173000</td>\n      <td>Furka13_22a</td>\n      <td>19.0</td>\n      <td>20.0</td>\n    </tr>\n  </tbody>\n</table>\n<p>83285 rows × 13 columns</p>\n</div>"
     },
     "execution_count": 7,
     "metadata": {},
     "output_type": "execute_result"
    }
   ],
   "source": [
    "size_df = size_df[~size_df['is_silence']]\n",
    "size_df"
   ],
   "metadata": {
    "collapsed": false,
    "ExecuteTime": {
     "start_time": "2023-05-03T17:20:52.840762Z",
     "end_time": "2023-05-03T17:20:53.663017Z"
    }
   }
  },
  {
   "cell_type": "code",
   "execution_count": 8,
   "outputs": [
    {
     "data": {
      "text/plain": "                                      file    event  is_silence  class    1   \n0         12_1_1_22_20220626_150000__0.wav  feeding       False      3  0.0  \\\n1         12_1_1_22_20220626_150000__1.wav  feeding       False      3  0.0   \n2         12_1_1_22_20220626_150000__2.wav  feeding       False      3  0.0   \n3         12_1_1_22_20220626_150000__3.wav  feeding       False      3  0.0   \n4         12_1_1_22_20220626_150000__4.wav  feeding       False      3  0.0   \n...                                    ...      ...         ...    ...  ...   \n82502  Furka13_22a_20220604_093000__76.wav  feeding       False      5  0.0   \n82503  Furka13_22a_20220604_093000__77.wav  feeding       False      5  0.0   \n82504  Furka13_22a_20220604_093000__78.wav  feeding       False      5  0.0   \n82505  Furka13_22a_20220604_093000__79.wav  feeding       False      5  0.0   \n82506  Furka13_22a_20220604_093000__80.wav  feeding       False      5  0.0   \n\n         2    3    4    5                    recording     brood_id  age_min   \n0      0.0  1.0  0.0  0.0    12_1_1_22_20220626_150000    12_1_1_22      5.0  \\\n1      0.0  1.0  0.0  0.0    12_1_1_22_20220626_150000    12_1_1_22      5.0   \n2      0.0  1.0  0.0  0.0    12_1_1_22_20220626_150000    12_1_1_22      5.0   \n3      0.0  1.0  0.0  0.0    12_1_1_22_20220626_150000    12_1_1_22      5.0   \n4      0.0  1.0  0.0  0.0    12_1_1_22_20220626_150000    12_1_1_22      5.0   \n...    ...  ...  ...  ...                          ...          ...      ...   \n82502  0.0  0.0  0.0  1.0  Furka13_22a_20220604_093000  Furka13_22a      6.0   \n82503  0.0  0.0  0.0  1.0  Furka13_22a_20220604_093000  Furka13_22a      6.0   \n82504  0.0  0.0  0.0  1.0  Furka13_22a_20220604_093000  Furka13_22a      6.0   \n82505  0.0  0.0  0.0  1.0  Furka13_22a_20220604_093000  Furka13_22a      6.0   \n82506  0.0  0.0  0.0  1.0  Furka13_22a_20220604_093000  Furka13_22a      6.0   \n\n       age_max  \n0          6.0  \n1          6.0  \n2          6.0  \n3          6.0  \n4          6.0  \n...        ...  \n82502      7.0  \n82503      7.0  \n82504      7.0  \n82505      7.0  \n82506      7.0  \n\n[27667 rows x 13 columns]",
      "text/html": "<div>\n<style scoped>\n    .dataframe tbody tr th:only-of-type {\n        vertical-align: middle;\n    }\n\n    .dataframe tbody tr th {\n        vertical-align: top;\n    }\n\n    .dataframe thead th {\n        text-align: right;\n    }\n</style>\n<table border=\"1\" class=\"dataframe\">\n  <thead>\n    <tr style=\"text-align: right;\">\n      <th></th>\n      <th>file</th>\n      <th>event</th>\n      <th>is_silence</th>\n      <th>class</th>\n      <th>1</th>\n      <th>2</th>\n      <th>3</th>\n      <th>4</th>\n      <th>5</th>\n      <th>recording</th>\n      <th>brood_id</th>\n      <th>age_min</th>\n      <th>age_max</th>\n    </tr>\n  </thead>\n  <tbody>\n    <tr>\n      <th>0</th>\n      <td>12_1_1_22_20220626_150000__0.wav</td>\n      <td>feeding</td>\n      <td>False</td>\n      <td>3</td>\n      <td>0.0</td>\n      <td>0.0</td>\n      <td>1.0</td>\n      <td>0.0</td>\n      <td>0.0</td>\n      <td>12_1_1_22_20220626_150000</td>\n      <td>12_1_1_22</td>\n      <td>5.0</td>\n      <td>6.0</td>\n    </tr>\n    <tr>\n      <th>1</th>\n      <td>12_1_1_22_20220626_150000__1.wav</td>\n      <td>feeding</td>\n      <td>False</td>\n      <td>3</td>\n      <td>0.0</td>\n      <td>0.0</td>\n      <td>1.0</td>\n      <td>0.0</td>\n      <td>0.0</td>\n      <td>12_1_1_22_20220626_150000</td>\n      <td>12_1_1_22</td>\n      <td>5.0</td>\n      <td>6.0</td>\n    </tr>\n    <tr>\n      <th>2</th>\n      <td>12_1_1_22_20220626_150000__2.wav</td>\n      <td>feeding</td>\n      <td>False</td>\n      <td>3</td>\n      <td>0.0</td>\n      <td>0.0</td>\n      <td>1.0</td>\n      <td>0.0</td>\n      <td>0.0</td>\n      <td>12_1_1_22_20220626_150000</td>\n      <td>12_1_1_22</td>\n      <td>5.0</td>\n      <td>6.0</td>\n    </tr>\n    <tr>\n      <th>3</th>\n      <td>12_1_1_22_20220626_150000__3.wav</td>\n      <td>feeding</td>\n      <td>False</td>\n      <td>3</td>\n      <td>0.0</td>\n      <td>0.0</td>\n      <td>1.0</td>\n      <td>0.0</td>\n      <td>0.0</td>\n      <td>12_1_1_22_20220626_150000</td>\n      <td>12_1_1_22</td>\n      <td>5.0</td>\n      <td>6.0</td>\n    </tr>\n    <tr>\n      <th>4</th>\n      <td>12_1_1_22_20220626_150000__4.wav</td>\n      <td>feeding</td>\n      <td>False</td>\n      <td>3</td>\n      <td>0.0</td>\n      <td>0.0</td>\n      <td>1.0</td>\n      <td>0.0</td>\n      <td>0.0</td>\n      <td>12_1_1_22_20220626_150000</td>\n      <td>12_1_1_22</td>\n      <td>5.0</td>\n      <td>6.0</td>\n    </tr>\n    <tr>\n      <th>...</th>\n      <td>...</td>\n      <td>...</td>\n      <td>...</td>\n      <td>...</td>\n      <td>...</td>\n      <td>...</td>\n      <td>...</td>\n      <td>...</td>\n      <td>...</td>\n      <td>...</td>\n      <td>...</td>\n      <td>...</td>\n      <td>...</td>\n    </tr>\n    <tr>\n      <th>82502</th>\n      <td>Furka13_22a_20220604_093000__76.wav</td>\n      <td>feeding</td>\n      <td>False</td>\n      <td>5</td>\n      <td>0.0</td>\n      <td>0.0</td>\n      <td>0.0</td>\n      <td>0.0</td>\n      <td>1.0</td>\n      <td>Furka13_22a_20220604_093000</td>\n      <td>Furka13_22a</td>\n      <td>6.0</td>\n      <td>7.0</td>\n    </tr>\n    <tr>\n      <th>82503</th>\n      <td>Furka13_22a_20220604_093000__77.wav</td>\n      <td>feeding</td>\n      <td>False</td>\n      <td>5</td>\n      <td>0.0</td>\n      <td>0.0</td>\n      <td>0.0</td>\n      <td>0.0</td>\n      <td>1.0</td>\n      <td>Furka13_22a_20220604_093000</td>\n      <td>Furka13_22a</td>\n      <td>6.0</td>\n      <td>7.0</td>\n    </tr>\n    <tr>\n      <th>82504</th>\n      <td>Furka13_22a_20220604_093000__78.wav</td>\n      <td>feeding</td>\n      <td>False</td>\n      <td>5</td>\n      <td>0.0</td>\n      <td>0.0</td>\n      <td>0.0</td>\n      <td>0.0</td>\n      <td>1.0</td>\n      <td>Furka13_22a_20220604_093000</td>\n      <td>Furka13_22a</td>\n      <td>6.0</td>\n      <td>7.0</td>\n    </tr>\n    <tr>\n      <th>82505</th>\n      <td>Furka13_22a_20220604_093000__79.wav</td>\n      <td>feeding</td>\n      <td>False</td>\n      <td>5</td>\n      <td>0.0</td>\n      <td>0.0</td>\n      <td>0.0</td>\n      <td>0.0</td>\n      <td>1.0</td>\n      <td>Furka13_22a_20220604_093000</td>\n      <td>Furka13_22a</td>\n      <td>6.0</td>\n      <td>7.0</td>\n    </tr>\n    <tr>\n      <th>82506</th>\n      <td>Furka13_22a_20220604_093000__80.wav</td>\n      <td>feeding</td>\n      <td>False</td>\n      <td>5</td>\n      <td>0.0</td>\n      <td>0.0</td>\n      <td>0.0</td>\n      <td>0.0</td>\n      <td>1.0</td>\n      <td>Furka13_22a_20220604_093000</td>\n      <td>Furka13_22a</td>\n      <td>6.0</td>\n      <td>7.0</td>\n    </tr>\n  </tbody>\n</table>\n<p>27667 rows × 13 columns</p>\n</div>"
     },
     "execution_count": 8,
     "metadata": {},
     "output_type": "execute_result"
    }
   ],
   "source": [
    "mid_size_df = size_df[(size_df['age_min'] >= 5) & (size_df['age_max'] < 10)]\n",
    "mid_size_df"
   ],
   "metadata": {
    "collapsed": false,
    "ExecuteTime": {
     "start_time": "2023-05-03T17:20:53.666016Z",
     "end_time": "2023-05-03T17:20:54.483033Z"
    }
   }
  },
  {
   "cell_type": "code",
   "execution_count": 9,
   "outputs": [
    {
     "data": {
      "text/plain": "        file\nclass       \n2       3119\n3       4125\n4      14749\n5       5674",
      "text/html": "<div>\n<style scoped>\n    .dataframe tbody tr th:only-of-type {\n        vertical-align: middle;\n    }\n\n    .dataframe tbody tr th {\n        vertical-align: top;\n    }\n\n    .dataframe thead th {\n        text-align: right;\n    }\n</style>\n<table border=\"1\" class=\"dataframe\">\n  <thead>\n    <tr style=\"text-align: right;\">\n      <th></th>\n      <th>file</th>\n    </tr>\n    <tr>\n      <th>class</th>\n      <th></th>\n    </tr>\n  </thead>\n  <tbody>\n    <tr>\n      <th>2</th>\n      <td>3119</td>\n    </tr>\n    <tr>\n      <th>3</th>\n      <td>4125</td>\n    </tr>\n    <tr>\n      <th>4</th>\n      <td>14749</td>\n    </tr>\n    <tr>\n      <th>5</th>\n      <td>5674</td>\n    </tr>\n  </tbody>\n</table>\n</div>"
     },
     "execution_count": 9,
     "metadata": {},
     "output_type": "execute_result"
    }
   ],
   "source": [
    "mid_size_df[['file', 'class']].groupby('class').count()"
   ],
   "metadata": {
    "collapsed": false,
    "ExecuteTime": {
     "start_time": "2023-05-03T17:20:54.483033Z",
     "end_time": "2023-05-03T17:20:55.308522Z"
    }
   }
  },
  {
   "cell_type": "code",
   "execution_count": 10,
   "outputs": [
    {
     "data": {
      "text/plain": "                 class  file\nbrood_id                    \n1_2_1_22             2  1545\nFurka33_22a          2  1402\nFurka33_22a_val      2   172\n10_1_1_22            3   448\n12_1_1_22            3   643\n1_6_1_22             3   883\nFurka31_22a          3  2151\nFurka14_22a          4  2397\nFurka10_22a          4  4143\n4_4_1_22             4  1057\n2_2_1_22             4  1094\n1_8_1_22             4  2045\n7_1_1_22             4   831\nFurka34_22a          4  3182\nFurka12_22a          5  2295\nFurka13_22a          5  2987\nFurka13_22a_val      5   392",
      "text/html": "<div>\n<style scoped>\n    .dataframe tbody tr th:only-of-type {\n        vertical-align: middle;\n    }\n\n    .dataframe tbody tr th {\n        vertical-align: top;\n    }\n\n    .dataframe thead th {\n        text-align: right;\n    }\n</style>\n<table border=\"1\" class=\"dataframe\">\n  <thead>\n    <tr style=\"text-align: right;\">\n      <th></th>\n      <th>class</th>\n      <th>file</th>\n    </tr>\n    <tr>\n      <th>brood_id</th>\n      <th></th>\n      <th></th>\n    </tr>\n  </thead>\n  <tbody>\n    <tr>\n      <th>1_2_1_22</th>\n      <td>2</td>\n      <td>1545</td>\n    </tr>\n    <tr>\n      <th>Furka33_22a</th>\n      <td>2</td>\n      <td>1402</td>\n    </tr>\n    <tr>\n      <th>Furka33_22a_val</th>\n      <td>2</td>\n      <td>172</td>\n    </tr>\n    <tr>\n      <th>10_1_1_22</th>\n      <td>3</td>\n      <td>448</td>\n    </tr>\n    <tr>\n      <th>12_1_1_22</th>\n      <td>3</td>\n      <td>643</td>\n    </tr>\n    <tr>\n      <th>1_6_1_22</th>\n      <td>3</td>\n      <td>883</td>\n    </tr>\n    <tr>\n      <th>Furka31_22a</th>\n      <td>3</td>\n      <td>2151</td>\n    </tr>\n    <tr>\n      <th>Furka14_22a</th>\n      <td>4</td>\n      <td>2397</td>\n    </tr>\n    <tr>\n      <th>Furka10_22a</th>\n      <td>4</td>\n      <td>4143</td>\n    </tr>\n    <tr>\n      <th>4_4_1_22</th>\n      <td>4</td>\n      <td>1057</td>\n    </tr>\n    <tr>\n      <th>2_2_1_22</th>\n      <td>4</td>\n      <td>1094</td>\n    </tr>\n    <tr>\n      <th>1_8_1_22</th>\n      <td>4</td>\n      <td>2045</td>\n    </tr>\n    <tr>\n      <th>7_1_1_22</th>\n      <td>4</td>\n      <td>831</td>\n    </tr>\n    <tr>\n      <th>Furka34_22a</th>\n      <td>4</td>\n      <td>3182</td>\n    </tr>\n    <tr>\n      <th>Furka12_22a</th>\n      <td>5</td>\n      <td>2295</td>\n    </tr>\n    <tr>\n      <th>Furka13_22a</th>\n      <td>5</td>\n      <td>2987</td>\n    </tr>\n    <tr>\n      <th>Furka13_22a_val</th>\n      <td>5</td>\n      <td>392</td>\n    </tr>\n  </tbody>\n</table>\n</div>"
     },
     "execution_count": 10,
     "metadata": {},
     "output_type": "execute_result"
    }
   ],
   "source": [
    "mid_size_df[['file', 'class', 'brood_id']].groupby('brood_id').agg({'class': 'max', 'file': 'count'}).sort_values('class')"
   ],
   "metadata": {
    "collapsed": false,
    "ExecuteTime": {
     "start_time": "2023-05-03T17:20:56.142512Z",
     "end_time": "2023-05-03T17:20:56.958527Z"
    }
   }
  },
  {
   "cell_type": "code",
   "execution_count": null,
   "outputs": [],
   "source": [],
   "metadata": {
    "collapsed": false
   }
  }
 ],
 "metadata": {
  "kernelspec": {
   "display_name": "Python 3",
   "language": "python",
   "name": "python3"
  },
  "language_info": {
   "codemirror_mode": {
    "name": "ipython",
    "version": 2
   },
   "file_extension": ".py",
   "mimetype": "text/x-python",
   "name": "python",
   "nbconvert_exporter": "python",
   "pygments_lexer": "ipython2",
   "version": "2.7.6"
  }
 },
 "nbformat": 4,
 "nbformat_minor": 0
}
