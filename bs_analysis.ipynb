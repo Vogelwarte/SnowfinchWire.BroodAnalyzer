{
 "cells": [
  {
   "cell_type": "code",
   "execution_count": 1,
   "metadata": {
    "collapsed": true,
    "ExecuteTime": {
     "start_time": "2023-04-24T18:46:59.471319Z",
     "end_time": "2023-04-24T18:47:00.027391Z"
    }
   },
   "outputs": [],
   "source": [
    "from pathlib import Path\n",
    "import pandas as pd"
   ]
  },
  {
   "cell_type": "code",
   "execution_count": 7,
   "outputs": [
    {
     "data": {
      "text/plain": "                                               rec_path     brood_id   \n0     2022/AT_Grossglockner/12_1_1_22/12_1_1_22_2206...    12_1_1_22  \\\n1     2022/AT_Grossglockner/12_1_1_22/12_1_1_22_2206...    12_1_1_22   \n2     2022/AT_Grossglockner/12_1_1_22/12_1_1_22_2206...    12_1_1_22   \n3     2022/AT_Grossglockner/12_1_1_22/12_1_1_22_2206...    12_1_1_22   \n4     2022/AT_Grossglockner/12_1_1_22/12_1_1_22_2206...    12_1_1_22   \n...                                                 ...          ...   \n4188  2022/Switzerland/Furka13_22a/22_06_20/20220617...  Furka13_22a   \n4189  2022/Switzerland/Furka13_22a/22_06_20/20220618...  Furka13_22a   \n4190  2022/Switzerland/Furka13_22a/22_06_20/20220617...  Furka13_22a   \n4191  2022/Switzerland/Furka13_22a/22_06_20/20220616...  Furka13_22a   \n4192  2022/Switzerland/Furka13_22a/22_06_20/20220618...  Furka13_22a   \n\n                 datetime  age_min  age_max  brood_size  \n0     2022-06-25 09:00:01      4.0      5.0           3  \n1     2022-06-22 17:00:00      1.0      2.0           4  \n2     2022-06-26 06:00:00      5.0      6.0           3  \n3     2022-06-22 07:19:15      1.0      2.0           4  \n4     2022-06-25 18:00:00      4.0      5.0           3  \n...                   ...      ...      ...         ...  \n4188  2022-06-17 17:30:00     19.0     20.0           5  \n4189  2022-06-18 13:30:00     20.0     21.0           5  \n4190  2022-06-17 05:30:00     19.0     20.0           5  \n4191  2022-06-16 20:30:00     18.0     19.0           5  \n4192  2022-06-18 20:30:00     20.0     21.0           5  \n\n[4193 rows x 6 columns]",
      "text/html": "<div>\n<style scoped>\n    .dataframe tbody tr th:only-of-type {\n        vertical-align: middle;\n    }\n\n    .dataframe tbody tr th {\n        vertical-align: top;\n    }\n\n    .dataframe thead th {\n        text-align: right;\n    }\n</style>\n<table border=\"1\" class=\"dataframe\">\n  <thead>\n    <tr style=\"text-align: right;\">\n      <th></th>\n      <th>rec_path</th>\n      <th>brood_id</th>\n      <th>datetime</th>\n      <th>age_min</th>\n      <th>age_max</th>\n      <th>brood_size</th>\n    </tr>\n  </thead>\n  <tbody>\n    <tr>\n      <th>0</th>\n      <td>2022/AT_Grossglockner/12_1_1_22/12_1_1_22_2206...</td>\n      <td>12_1_1_22</td>\n      <td>2022-06-25 09:00:01</td>\n      <td>4.0</td>\n      <td>5.0</td>\n      <td>3</td>\n    </tr>\n    <tr>\n      <th>1</th>\n      <td>2022/AT_Grossglockner/12_1_1_22/12_1_1_22_2206...</td>\n      <td>12_1_1_22</td>\n      <td>2022-06-22 17:00:00</td>\n      <td>1.0</td>\n      <td>2.0</td>\n      <td>4</td>\n    </tr>\n    <tr>\n      <th>2</th>\n      <td>2022/AT_Grossglockner/12_1_1_22/12_1_1_22_2206...</td>\n      <td>12_1_1_22</td>\n      <td>2022-06-26 06:00:00</td>\n      <td>5.0</td>\n      <td>6.0</td>\n      <td>3</td>\n    </tr>\n    <tr>\n      <th>3</th>\n      <td>2022/AT_Grossglockner/12_1_1_22/12_1_1_22_2206...</td>\n      <td>12_1_1_22</td>\n      <td>2022-06-22 07:19:15</td>\n      <td>1.0</td>\n      <td>2.0</td>\n      <td>4</td>\n    </tr>\n    <tr>\n      <th>4</th>\n      <td>2022/AT_Grossglockner/12_1_1_22/12_1_1_22_2206...</td>\n      <td>12_1_1_22</td>\n      <td>2022-06-25 18:00:00</td>\n      <td>4.0</td>\n      <td>5.0</td>\n      <td>3</td>\n    </tr>\n    <tr>\n      <th>...</th>\n      <td>...</td>\n      <td>...</td>\n      <td>...</td>\n      <td>...</td>\n      <td>...</td>\n      <td>...</td>\n    </tr>\n    <tr>\n      <th>4188</th>\n      <td>2022/Switzerland/Furka13_22a/22_06_20/20220617...</td>\n      <td>Furka13_22a</td>\n      <td>2022-06-17 17:30:00</td>\n      <td>19.0</td>\n      <td>20.0</td>\n      <td>5</td>\n    </tr>\n    <tr>\n      <th>4189</th>\n      <td>2022/Switzerland/Furka13_22a/22_06_20/20220618...</td>\n      <td>Furka13_22a</td>\n      <td>2022-06-18 13:30:00</td>\n      <td>20.0</td>\n      <td>21.0</td>\n      <td>5</td>\n    </tr>\n    <tr>\n      <th>4190</th>\n      <td>2022/Switzerland/Furka13_22a/22_06_20/20220617...</td>\n      <td>Furka13_22a</td>\n      <td>2022-06-17 05:30:00</td>\n      <td>19.0</td>\n      <td>20.0</td>\n      <td>5</td>\n    </tr>\n    <tr>\n      <th>4191</th>\n      <td>2022/Switzerland/Furka13_22a/22_06_20/20220616...</td>\n      <td>Furka13_22a</td>\n      <td>2022-06-16 20:30:00</td>\n      <td>18.0</td>\n      <td>19.0</td>\n      <td>5</td>\n    </tr>\n    <tr>\n      <th>4192</th>\n      <td>2022/Switzerland/Furka13_22a/22_06_20/20220618...</td>\n      <td>Furka13_22a</td>\n      <td>2022-06-18 20:30:00</td>\n      <td>20.0</td>\n      <td>21.0</td>\n      <td>5</td>\n    </tr>\n  </tbody>\n</table>\n<p>4193 rows × 6 columns</p>\n</div>"
     },
     "execution_count": 7,
     "metadata": {},
     "output_type": "execute_result"
    }
   ],
   "source": [
    "rec_df = pd.read_csv('_data/snowfinch-recordings.csv')\n",
    "rec_df"
   ],
   "metadata": {
    "collapsed": false,
    "ExecuteTime": {
     "start_time": "2023-04-24T18:50:41.745185Z",
     "end_time": "2023-04-24T18:50:41.781281Z"
    }
   }
  },
  {
   "cell_type": "code",
   "execution_count": 3,
   "outputs": [
    {
     "data": {
      "text/plain": "                                       file    event  is_silence  class    1   \n0          12_1_1_22_20220626_120000__0.wav  feeding       False      3  0.0  \\\n1          12_1_1_22_20220626_120000__1.wav  feeding       False      3  0.0   \n2          12_1_1_22_20220626_120000__2.wav  feeding       False      3  0.0   \n3          12_1_1_22_20220626_120000__3.wav  feeding       False      3  0.0   \n4          12_1_1_22_20220626_120000__4.wav  feeding       False      3  0.0   \n...                                     ...      ...         ...    ...  ...   \n587475  Furka13_22a_20220616_173000__25.wav  feeding       False      5  0.0   \n587476  Furka13_22a_20220616_173000__26.wav  feeding       False      5  0.0   \n587477  Furka13_22a_20220616_173000__27.wav  feeding       False      5  0.0   \n587478  Furka13_22a_20220616_173000__28.wav  feeding       False      5  0.0   \n587479  Furka13_22a_20220616_173000__29.wav  feeding       False      5  0.0   \n\n          2    3    4    5                    recording     brood_id  \n0       0.0  1.0  0.0  0.0    12_1_1_22_20220626_120000    12_1_1_22  \n1       0.0  1.0  0.0  0.0    12_1_1_22_20220626_120000    12_1_1_22  \n2       0.0  1.0  0.0  0.0    12_1_1_22_20220626_120000    12_1_1_22  \n3       0.0  1.0  0.0  0.0    12_1_1_22_20220626_120000    12_1_1_22  \n4       0.0  1.0  0.0  0.0    12_1_1_22_20220626_120000    12_1_1_22  \n...     ...  ...  ...  ...                          ...          ...  \n587475  0.0  0.0  0.0  1.0  Furka13_22a_20220616_173000  Furka13_22a  \n587476  0.0  0.0  0.0  1.0  Furka13_22a_20220616_173000  Furka13_22a  \n587477  0.0  0.0  0.0  1.0  Furka13_22a_20220616_173000  Furka13_22a  \n587478  0.0  0.0  0.0  1.0  Furka13_22a_20220616_173000  Furka13_22a  \n587479  0.0  0.0  0.0  1.0  Furka13_22a_20220616_173000  Furka13_22a  \n\n[587480 rows x 11 columns]",
      "text/html": "<div>\n<style scoped>\n    .dataframe tbody tr th:only-of-type {\n        vertical-align: middle;\n    }\n\n    .dataframe tbody tr th {\n        vertical-align: top;\n    }\n\n    .dataframe thead th {\n        text-align: right;\n    }\n</style>\n<table border=\"1\" class=\"dataframe\">\n  <thead>\n    <tr style=\"text-align: right;\">\n      <th></th>\n      <th>file</th>\n      <th>event</th>\n      <th>is_silence</th>\n      <th>class</th>\n      <th>1</th>\n      <th>2</th>\n      <th>3</th>\n      <th>4</th>\n      <th>5</th>\n      <th>recording</th>\n      <th>brood_id</th>\n    </tr>\n  </thead>\n  <tbody>\n    <tr>\n      <th>0</th>\n      <td>12_1_1_22_20220626_120000__0.wav</td>\n      <td>feeding</td>\n      <td>False</td>\n      <td>3</td>\n      <td>0.0</td>\n      <td>0.0</td>\n      <td>1.0</td>\n      <td>0.0</td>\n      <td>0.0</td>\n      <td>12_1_1_22_20220626_120000</td>\n      <td>12_1_1_22</td>\n    </tr>\n    <tr>\n      <th>1</th>\n      <td>12_1_1_22_20220626_120000__1.wav</td>\n      <td>feeding</td>\n      <td>False</td>\n      <td>3</td>\n      <td>0.0</td>\n      <td>0.0</td>\n      <td>1.0</td>\n      <td>0.0</td>\n      <td>0.0</td>\n      <td>12_1_1_22_20220626_120000</td>\n      <td>12_1_1_22</td>\n    </tr>\n    <tr>\n      <th>2</th>\n      <td>12_1_1_22_20220626_120000__2.wav</td>\n      <td>feeding</td>\n      <td>False</td>\n      <td>3</td>\n      <td>0.0</td>\n      <td>0.0</td>\n      <td>1.0</td>\n      <td>0.0</td>\n      <td>0.0</td>\n      <td>12_1_1_22_20220626_120000</td>\n      <td>12_1_1_22</td>\n    </tr>\n    <tr>\n      <th>3</th>\n      <td>12_1_1_22_20220626_120000__3.wav</td>\n      <td>feeding</td>\n      <td>False</td>\n      <td>3</td>\n      <td>0.0</td>\n      <td>0.0</td>\n      <td>1.0</td>\n      <td>0.0</td>\n      <td>0.0</td>\n      <td>12_1_1_22_20220626_120000</td>\n      <td>12_1_1_22</td>\n    </tr>\n    <tr>\n      <th>4</th>\n      <td>12_1_1_22_20220626_120000__4.wav</td>\n      <td>feeding</td>\n      <td>False</td>\n      <td>3</td>\n      <td>0.0</td>\n      <td>0.0</td>\n      <td>1.0</td>\n      <td>0.0</td>\n      <td>0.0</td>\n      <td>12_1_1_22_20220626_120000</td>\n      <td>12_1_1_22</td>\n    </tr>\n    <tr>\n      <th>...</th>\n      <td>...</td>\n      <td>...</td>\n      <td>...</td>\n      <td>...</td>\n      <td>...</td>\n      <td>...</td>\n      <td>...</td>\n      <td>...</td>\n      <td>...</td>\n      <td>...</td>\n      <td>...</td>\n    </tr>\n    <tr>\n      <th>587475</th>\n      <td>Furka13_22a_20220616_173000__25.wav</td>\n      <td>feeding</td>\n      <td>False</td>\n      <td>5</td>\n      <td>0.0</td>\n      <td>0.0</td>\n      <td>0.0</td>\n      <td>0.0</td>\n      <td>1.0</td>\n      <td>Furka13_22a_20220616_173000</td>\n      <td>Furka13_22a</td>\n    </tr>\n    <tr>\n      <th>587476</th>\n      <td>Furka13_22a_20220616_173000__26.wav</td>\n      <td>feeding</td>\n      <td>False</td>\n      <td>5</td>\n      <td>0.0</td>\n      <td>0.0</td>\n      <td>0.0</td>\n      <td>0.0</td>\n      <td>1.0</td>\n      <td>Furka13_22a_20220616_173000</td>\n      <td>Furka13_22a</td>\n    </tr>\n    <tr>\n      <th>587477</th>\n      <td>Furka13_22a_20220616_173000__27.wav</td>\n      <td>feeding</td>\n      <td>False</td>\n      <td>5</td>\n      <td>0.0</td>\n      <td>0.0</td>\n      <td>0.0</td>\n      <td>0.0</td>\n      <td>1.0</td>\n      <td>Furka13_22a_20220616_173000</td>\n      <td>Furka13_22a</td>\n    </tr>\n    <tr>\n      <th>587478</th>\n      <td>Furka13_22a_20220616_173000__28.wav</td>\n      <td>feeding</td>\n      <td>False</td>\n      <td>5</td>\n      <td>0.0</td>\n      <td>0.0</td>\n      <td>0.0</td>\n      <td>0.0</td>\n      <td>1.0</td>\n      <td>Furka13_22a_20220616_173000</td>\n      <td>Furka13_22a</td>\n    </tr>\n    <tr>\n      <th>587479</th>\n      <td>Furka13_22a_20220616_173000__29.wav</td>\n      <td>feeding</td>\n      <td>False</td>\n      <td>5</td>\n      <td>0.0</td>\n      <td>0.0</td>\n      <td>0.0</td>\n      <td>0.0</td>\n      <td>1.0</td>\n      <td>Furka13_22a_20220616_173000</td>\n      <td>Furka13_22a</td>\n    </tr>\n  </tbody>\n</table>\n<p>587480 rows × 11 columns</p>\n</div>"
     },
     "execution_count": 3,
     "metadata": {},
     "output_type": "execute_result"
    }
   ],
   "source": [
    "size_df = pd.read_csv('_data/brood-size.csv')\n",
    "size_df"
   ],
   "metadata": {
    "collapsed": false,
    "ExecuteTime": {
     "start_time": "2023-04-24T18:47:07.022273Z",
     "end_time": "2023-04-24T18:47:08.178699Z"
    }
   }
  },
  {
   "cell_type": "code",
   "execution_count": 8,
   "outputs": [
    {
     "data": {
      "text/plain": "                                brood_id             datetime  age_min   \nrec_id                                                                   \n12_1_1_22_20220625_090001      12_1_1_22  2022-06-25 09:00:01      4.0  \\\n12_1_1_22_20220622_170000      12_1_1_22  2022-06-22 17:00:00      1.0   \n12_1_1_22_20220626_060000      12_1_1_22  2022-06-26 06:00:00      5.0   \n12_1_1_22_20220622_071915      12_1_1_22  2022-06-22 07:19:15      1.0   \n12_1_1_22_20220625_180000      12_1_1_22  2022-06-25 18:00:00      4.0   \n...                                  ...                  ...      ...   \nFurka13_22a_20220617_173000  Furka13_22a  2022-06-17 17:30:00     19.0   \nFurka13_22a_20220618_133000  Furka13_22a  2022-06-18 13:30:00     20.0   \nFurka13_22a_20220617_053000  Furka13_22a  2022-06-17 05:30:00     19.0   \nFurka13_22a_20220616_203000  Furka13_22a  2022-06-16 20:30:00     18.0   \nFurka13_22a_20220618_203000  Furka13_22a  2022-06-18 20:30:00     20.0   \n\n                             age_max  brood_size  \nrec_id                                            \n12_1_1_22_20220625_090001        5.0           3  \n12_1_1_22_20220622_170000        2.0           4  \n12_1_1_22_20220626_060000        6.0           3  \n12_1_1_22_20220622_071915        2.0           4  \n12_1_1_22_20220625_180000        5.0           3  \n...                              ...         ...  \nFurka13_22a_20220617_173000     20.0           5  \nFurka13_22a_20220618_133000     21.0           5  \nFurka13_22a_20220617_053000     20.0           5  \nFurka13_22a_20220616_203000     19.0           5  \nFurka13_22a_20220618_203000     21.0           5  \n\n[4170 rows x 5 columns]",
      "text/html": "<div>\n<style scoped>\n    .dataframe tbody tr th:only-of-type {\n        vertical-align: middle;\n    }\n\n    .dataframe tbody tr th {\n        vertical-align: top;\n    }\n\n    .dataframe thead th {\n        text-align: right;\n    }\n</style>\n<table border=\"1\" class=\"dataframe\">\n  <thead>\n    <tr style=\"text-align: right;\">\n      <th></th>\n      <th>brood_id</th>\n      <th>datetime</th>\n      <th>age_min</th>\n      <th>age_max</th>\n      <th>brood_size</th>\n    </tr>\n    <tr>\n      <th>rec_id</th>\n      <th></th>\n      <th></th>\n      <th></th>\n      <th></th>\n      <th></th>\n    </tr>\n  </thead>\n  <tbody>\n    <tr>\n      <th>12_1_1_22_20220625_090001</th>\n      <td>12_1_1_22</td>\n      <td>2022-06-25 09:00:01</td>\n      <td>4.0</td>\n      <td>5.0</td>\n      <td>3</td>\n    </tr>\n    <tr>\n      <th>12_1_1_22_20220622_170000</th>\n      <td>12_1_1_22</td>\n      <td>2022-06-22 17:00:00</td>\n      <td>1.0</td>\n      <td>2.0</td>\n      <td>4</td>\n    </tr>\n    <tr>\n      <th>12_1_1_22_20220626_060000</th>\n      <td>12_1_1_22</td>\n      <td>2022-06-26 06:00:00</td>\n      <td>5.0</td>\n      <td>6.0</td>\n      <td>3</td>\n    </tr>\n    <tr>\n      <th>12_1_1_22_20220622_071915</th>\n      <td>12_1_1_22</td>\n      <td>2022-06-22 07:19:15</td>\n      <td>1.0</td>\n      <td>2.0</td>\n      <td>4</td>\n    </tr>\n    <tr>\n      <th>12_1_1_22_20220625_180000</th>\n      <td>12_1_1_22</td>\n      <td>2022-06-25 18:00:00</td>\n      <td>4.0</td>\n      <td>5.0</td>\n      <td>3</td>\n    </tr>\n    <tr>\n      <th>...</th>\n      <td>...</td>\n      <td>...</td>\n      <td>...</td>\n      <td>...</td>\n      <td>...</td>\n    </tr>\n    <tr>\n      <th>Furka13_22a_20220617_173000</th>\n      <td>Furka13_22a</td>\n      <td>2022-06-17 17:30:00</td>\n      <td>19.0</td>\n      <td>20.0</td>\n      <td>5</td>\n    </tr>\n    <tr>\n      <th>Furka13_22a_20220618_133000</th>\n      <td>Furka13_22a</td>\n      <td>2022-06-18 13:30:00</td>\n      <td>20.0</td>\n      <td>21.0</td>\n      <td>5</td>\n    </tr>\n    <tr>\n      <th>Furka13_22a_20220617_053000</th>\n      <td>Furka13_22a</td>\n      <td>2022-06-17 05:30:00</td>\n      <td>19.0</td>\n      <td>20.0</td>\n      <td>5</td>\n    </tr>\n    <tr>\n      <th>Furka13_22a_20220616_203000</th>\n      <td>Furka13_22a</td>\n      <td>2022-06-16 20:30:00</td>\n      <td>18.0</td>\n      <td>19.0</td>\n      <td>5</td>\n    </tr>\n    <tr>\n      <th>Furka13_22a_20220618_203000</th>\n      <td>Furka13_22a</td>\n      <td>2022-06-18 20:30:00</td>\n      <td>20.0</td>\n      <td>21.0</td>\n      <td>5</td>\n    </tr>\n  </tbody>\n</table>\n<p>4170 rows × 5 columns</p>\n</div>"
     },
     "execution_count": 8,
     "metadata": {},
     "output_type": "execute_result"
    }
   ],
   "source": [
    "rec_df['rec_id'] = rec_df['rec_path'].apply(lambda path: Path(path).stem)\n",
    "rec_df['rec_id'] = rec_df['brood_id'] + '_' + rec_df['rec_id']\n",
    "rec_df = rec_df.set_index('rec_id')\n",
    "rec_df = rec_df.drop(columns = 'rec_path').drop_duplicates()\n",
    "rec_df"
   ],
   "metadata": {
    "collapsed": false,
    "ExecuteTime": {
     "start_time": "2023-04-24T18:50:52.420808Z",
     "end_time": "2023-04-24T18:50:52.479733Z"
    }
   }
  },
  {
   "cell_type": "code",
   "execution_count": 9,
   "outputs": [
    {
     "data": {
      "text/plain": "                                       file    event  is_silence  class    1   \n0          12_1_1_22_20220626_120000__0.wav  feeding       False      3  0.0  \\\n1          12_1_1_22_20220626_120000__1.wav  feeding       False      3  0.0   \n2          12_1_1_22_20220626_120000__2.wav  feeding       False      3  0.0   \n3          12_1_1_22_20220626_120000__3.wav  feeding       False      3  0.0   \n4          12_1_1_22_20220626_120000__4.wav  feeding       False      3  0.0   \n...                                     ...      ...         ...    ...  ...   \n587475  Furka13_22a_20220616_173000__25.wav  feeding       False      5  0.0   \n587476  Furka13_22a_20220616_173000__26.wav  feeding       False      5  0.0   \n587477  Furka13_22a_20220616_173000__27.wav  feeding       False      5  0.0   \n587478  Furka13_22a_20220616_173000__28.wav  feeding       False      5  0.0   \n587479  Furka13_22a_20220616_173000__29.wav  feeding       False      5  0.0   \n\n          2    3    4    5                    recording     brood_id  age_min   \n0       0.0  1.0  0.0  0.0    12_1_1_22_20220626_120000    12_1_1_22      5.0  \\\n1       0.0  1.0  0.0  0.0    12_1_1_22_20220626_120000    12_1_1_22      5.0   \n2       0.0  1.0  0.0  0.0    12_1_1_22_20220626_120000    12_1_1_22      5.0   \n3       0.0  1.0  0.0  0.0    12_1_1_22_20220626_120000    12_1_1_22      5.0   \n4       0.0  1.0  0.0  0.0    12_1_1_22_20220626_120000    12_1_1_22      5.0   \n...     ...  ...  ...  ...                          ...          ...      ...   \n587475  0.0  0.0  0.0  1.0  Furka13_22a_20220616_173000  Furka13_22a     18.0   \n587476  0.0  0.0  0.0  1.0  Furka13_22a_20220616_173000  Furka13_22a     18.0   \n587477  0.0  0.0  0.0  1.0  Furka13_22a_20220616_173000  Furka13_22a     18.0   \n587478  0.0  0.0  0.0  1.0  Furka13_22a_20220616_173000  Furka13_22a     18.0   \n587479  0.0  0.0  0.0  1.0  Furka13_22a_20220616_173000  Furka13_22a     18.0   \n\n        age_max  \n0           6.0  \n1           6.0  \n2           6.0  \n3           6.0  \n4           6.0  \n...         ...  \n587475     19.0  \n587476     19.0  \n587477     19.0  \n587478     19.0  \n587479     19.0  \n\n[587480 rows x 13 columns]",
      "text/html": "<div>\n<style scoped>\n    .dataframe tbody tr th:only-of-type {\n        vertical-align: middle;\n    }\n\n    .dataframe tbody tr th {\n        vertical-align: top;\n    }\n\n    .dataframe thead th {\n        text-align: right;\n    }\n</style>\n<table border=\"1\" class=\"dataframe\">\n  <thead>\n    <tr style=\"text-align: right;\">\n      <th></th>\n      <th>file</th>\n      <th>event</th>\n      <th>is_silence</th>\n      <th>class</th>\n      <th>1</th>\n      <th>2</th>\n      <th>3</th>\n      <th>4</th>\n      <th>5</th>\n      <th>recording</th>\n      <th>brood_id</th>\n      <th>age_min</th>\n      <th>age_max</th>\n    </tr>\n  </thead>\n  <tbody>\n    <tr>\n      <th>0</th>\n      <td>12_1_1_22_20220626_120000__0.wav</td>\n      <td>feeding</td>\n      <td>False</td>\n      <td>3</td>\n      <td>0.0</td>\n      <td>0.0</td>\n      <td>1.0</td>\n      <td>0.0</td>\n      <td>0.0</td>\n      <td>12_1_1_22_20220626_120000</td>\n      <td>12_1_1_22</td>\n      <td>5.0</td>\n      <td>6.0</td>\n    </tr>\n    <tr>\n      <th>1</th>\n      <td>12_1_1_22_20220626_120000__1.wav</td>\n      <td>feeding</td>\n      <td>False</td>\n      <td>3</td>\n      <td>0.0</td>\n      <td>0.0</td>\n      <td>1.0</td>\n      <td>0.0</td>\n      <td>0.0</td>\n      <td>12_1_1_22_20220626_120000</td>\n      <td>12_1_1_22</td>\n      <td>5.0</td>\n      <td>6.0</td>\n    </tr>\n    <tr>\n      <th>2</th>\n      <td>12_1_1_22_20220626_120000__2.wav</td>\n      <td>feeding</td>\n      <td>False</td>\n      <td>3</td>\n      <td>0.0</td>\n      <td>0.0</td>\n      <td>1.0</td>\n      <td>0.0</td>\n      <td>0.0</td>\n      <td>12_1_1_22_20220626_120000</td>\n      <td>12_1_1_22</td>\n      <td>5.0</td>\n      <td>6.0</td>\n    </tr>\n    <tr>\n      <th>3</th>\n      <td>12_1_1_22_20220626_120000__3.wav</td>\n      <td>feeding</td>\n      <td>False</td>\n      <td>3</td>\n      <td>0.0</td>\n      <td>0.0</td>\n      <td>1.0</td>\n      <td>0.0</td>\n      <td>0.0</td>\n      <td>12_1_1_22_20220626_120000</td>\n      <td>12_1_1_22</td>\n      <td>5.0</td>\n      <td>6.0</td>\n    </tr>\n    <tr>\n      <th>4</th>\n      <td>12_1_1_22_20220626_120000__4.wav</td>\n      <td>feeding</td>\n      <td>False</td>\n      <td>3</td>\n      <td>0.0</td>\n      <td>0.0</td>\n      <td>1.0</td>\n      <td>0.0</td>\n      <td>0.0</td>\n      <td>12_1_1_22_20220626_120000</td>\n      <td>12_1_1_22</td>\n      <td>5.0</td>\n      <td>6.0</td>\n    </tr>\n    <tr>\n      <th>...</th>\n      <td>...</td>\n      <td>...</td>\n      <td>...</td>\n      <td>...</td>\n      <td>...</td>\n      <td>...</td>\n      <td>...</td>\n      <td>...</td>\n      <td>...</td>\n      <td>...</td>\n      <td>...</td>\n      <td>...</td>\n      <td>...</td>\n    </tr>\n    <tr>\n      <th>587475</th>\n      <td>Furka13_22a_20220616_173000__25.wav</td>\n      <td>feeding</td>\n      <td>False</td>\n      <td>5</td>\n      <td>0.0</td>\n      <td>0.0</td>\n      <td>0.0</td>\n      <td>0.0</td>\n      <td>1.0</td>\n      <td>Furka13_22a_20220616_173000</td>\n      <td>Furka13_22a</td>\n      <td>18.0</td>\n      <td>19.0</td>\n    </tr>\n    <tr>\n      <th>587476</th>\n      <td>Furka13_22a_20220616_173000__26.wav</td>\n      <td>feeding</td>\n      <td>False</td>\n      <td>5</td>\n      <td>0.0</td>\n      <td>0.0</td>\n      <td>0.0</td>\n      <td>0.0</td>\n      <td>1.0</td>\n      <td>Furka13_22a_20220616_173000</td>\n      <td>Furka13_22a</td>\n      <td>18.0</td>\n      <td>19.0</td>\n    </tr>\n    <tr>\n      <th>587477</th>\n      <td>Furka13_22a_20220616_173000__27.wav</td>\n      <td>feeding</td>\n      <td>False</td>\n      <td>5</td>\n      <td>0.0</td>\n      <td>0.0</td>\n      <td>0.0</td>\n      <td>0.0</td>\n      <td>1.0</td>\n      <td>Furka13_22a_20220616_173000</td>\n      <td>Furka13_22a</td>\n      <td>18.0</td>\n      <td>19.0</td>\n    </tr>\n    <tr>\n      <th>587478</th>\n      <td>Furka13_22a_20220616_173000__28.wav</td>\n      <td>feeding</td>\n      <td>False</td>\n      <td>5</td>\n      <td>0.0</td>\n      <td>0.0</td>\n      <td>0.0</td>\n      <td>0.0</td>\n      <td>1.0</td>\n      <td>Furka13_22a_20220616_173000</td>\n      <td>Furka13_22a</td>\n      <td>18.0</td>\n      <td>19.0</td>\n    </tr>\n    <tr>\n      <th>587479</th>\n      <td>Furka13_22a_20220616_173000__29.wav</td>\n      <td>feeding</td>\n      <td>False</td>\n      <td>5</td>\n      <td>0.0</td>\n      <td>0.0</td>\n      <td>0.0</td>\n      <td>0.0</td>\n      <td>1.0</td>\n      <td>Furka13_22a_20220616_173000</td>\n      <td>Furka13_22a</td>\n      <td>18.0</td>\n      <td>19.0</td>\n    </tr>\n  </tbody>\n</table>\n<p>587480 rows × 13 columns</p>\n</div>"
     },
     "execution_count": 9,
     "metadata": {},
     "output_type": "execute_result"
    }
   ],
   "source": [
    "size_df['age_min'] = size_df['recording'].apply(lambda rec: rec_df.loc[rec, 'age_min']).astype('float')\n",
    "size_df['age_max'] = size_df['recording'].apply(lambda rec: rec_df.loc[rec, 'age_max']).astype('float')\n",
    "size_df"
   ],
   "metadata": {
    "collapsed": false,
    "ExecuteTime": {
     "start_time": "2023-04-24T18:51:00.393145Z",
     "end_time": "2023-04-24T18:51:07.138139Z"
    }
   }
  },
  {
   "cell_type": "code",
   "execution_count": 10,
   "outputs": [
    {
     "data": {
      "text/plain": "                                       file    event  is_silence  class    1   \n0          12_1_1_22_20220626_120000__0.wav  feeding       False      3  0.0  \\\n1          12_1_1_22_20220626_120000__1.wav  feeding       False      3  0.0   \n2          12_1_1_22_20220626_120000__2.wav  feeding       False      3  0.0   \n3          12_1_1_22_20220626_120000__3.wav  feeding       False      3  0.0   \n4          12_1_1_22_20220626_120000__4.wav  feeding       False      3  0.0   \n...                                     ...      ...         ...    ...  ...   \n587475  Furka13_22a_20220616_173000__25.wav  feeding       False      5  0.0   \n587476  Furka13_22a_20220616_173000__26.wav  feeding       False      5  0.0   \n587477  Furka13_22a_20220616_173000__27.wav  feeding       False      5  0.0   \n587478  Furka13_22a_20220616_173000__28.wav  feeding       False      5  0.0   \n587479  Furka13_22a_20220616_173000__29.wav  feeding       False      5  0.0   \n\n          2    3    4    5                    recording     brood_id  age_min   \n0       0.0  1.0  0.0  0.0    12_1_1_22_20220626_120000    12_1_1_22      5.0  \\\n1       0.0  1.0  0.0  0.0    12_1_1_22_20220626_120000    12_1_1_22      5.0   \n2       0.0  1.0  0.0  0.0    12_1_1_22_20220626_120000    12_1_1_22      5.0   \n3       0.0  1.0  0.0  0.0    12_1_1_22_20220626_120000    12_1_1_22      5.0   \n4       0.0  1.0  0.0  0.0    12_1_1_22_20220626_120000    12_1_1_22      5.0   \n...     ...  ...  ...  ...                          ...          ...      ...   \n587475  0.0  0.0  0.0  1.0  Furka13_22a_20220616_173000  Furka13_22a     18.0   \n587476  0.0  0.0  0.0  1.0  Furka13_22a_20220616_173000  Furka13_22a     18.0   \n587477  0.0  0.0  0.0  1.0  Furka13_22a_20220616_173000  Furka13_22a     18.0   \n587478  0.0  0.0  0.0  1.0  Furka13_22a_20220616_173000  Furka13_22a     18.0   \n587479  0.0  0.0  0.0  1.0  Furka13_22a_20220616_173000  Furka13_22a     18.0   \n\n        age_max  \n0           6.0  \n1           6.0  \n2           6.0  \n3           6.0  \n4           6.0  \n...         ...  \n587475     19.0  \n587476     19.0  \n587477     19.0  \n587478     19.0  \n587479     19.0  \n\n[586485 rows x 13 columns]",
      "text/html": "<div>\n<style scoped>\n    .dataframe tbody tr th:only-of-type {\n        vertical-align: middle;\n    }\n\n    .dataframe tbody tr th {\n        vertical-align: top;\n    }\n\n    .dataframe thead th {\n        text-align: right;\n    }\n</style>\n<table border=\"1\" class=\"dataframe\">\n  <thead>\n    <tr style=\"text-align: right;\">\n      <th></th>\n      <th>file</th>\n      <th>event</th>\n      <th>is_silence</th>\n      <th>class</th>\n      <th>1</th>\n      <th>2</th>\n      <th>3</th>\n      <th>4</th>\n      <th>5</th>\n      <th>recording</th>\n      <th>brood_id</th>\n      <th>age_min</th>\n      <th>age_max</th>\n    </tr>\n  </thead>\n  <tbody>\n    <tr>\n      <th>0</th>\n      <td>12_1_1_22_20220626_120000__0.wav</td>\n      <td>feeding</td>\n      <td>False</td>\n      <td>3</td>\n      <td>0.0</td>\n      <td>0.0</td>\n      <td>1.0</td>\n      <td>0.0</td>\n      <td>0.0</td>\n      <td>12_1_1_22_20220626_120000</td>\n      <td>12_1_1_22</td>\n      <td>5.0</td>\n      <td>6.0</td>\n    </tr>\n    <tr>\n      <th>1</th>\n      <td>12_1_1_22_20220626_120000__1.wav</td>\n      <td>feeding</td>\n      <td>False</td>\n      <td>3</td>\n      <td>0.0</td>\n      <td>0.0</td>\n      <td>1.0</td>\n      <td>0.0</td>\n      <td>0.0</td>\n      <td>12_1_1_22_20220626_120000</td>\n      <td>12_1_1_22</td>\n      <td>5.0</td>\n      <td>6.0</td>\n    </tr>\n    <tr>\n      <th>2</th>\n      <td>12_1_1_22_20220626_120000__2.wav</td>\n      <td>feeding</td>\n      <td>False</td>\n      <td>3</td>\n      <td>0.0</td>\n      <td>0.0</td>\n      <td>1.0</td>\n      <td>0.0</td>\n      <td>0.0</td>\n      <td>12_1_1_22_20220626_120000</td>\n      <td>12_1_1_22</td>\n      <td>5.0</td>\n      <td>6.0</td>\n    </tr>\n    <tr>\n      <th>3</th>\n      <td>12_1_1_22_20220626_120000__3.wav</td>\n      <td>feeding</td>\n      <td>False</td>\n      <td>3</td>\n      <td>0.0</td>\n      <td>0.0</td>\n      <td>1.0</td>\n      <td>0.0</td>\n      <td>0.0</td>\n      <td>12_1_1_22_20220626_120000</td>\n      <td>12_1_1_22</td>\n      <td>5.0</td>\n      <td>6.0</td>\n    </tr>\n    <tr>\n      <th>4</th>\n      <td>12_1_1_22_20220626_120000__4.wav</td>\n      <td>feeding</td>\n      <td>False</td>\n      <td>3</td>\n      <td>0.0</td>\n      <td>0.0</td>\n      <td>1.0</td>\n      <td>0.0</td>\n      <td>0.0</td>\n      <td>12_1_1_22_20220626_120000</td>\n      <td>12_1_1_22</td>\n      <td>5.0</td>\n      <td>6.0</td>\n    </tr>\n    <tr>\n      <th>...</th>\n      <td>...</td>\n      <td>...</td>\n      <td>...</td>\n      <td>...</td>\n      <td>...</td>\n      <td>...</td>\n      <td>...</td>\n      <td>...</td>\n      <td>...</td>\n      <td>...</td>\n      <td>...</td>\n      <td>...</td>\n      <td>...</td>\n    </tr>\n    <tr>\n      <th>587475</th>\n      <td>Furka13_22a_20220616_173000__25.wav</td>\n      <td>feeding</td>\n      <td>False</td>\n      <td>5</td>\n      <td>0.0</td>\n      <td>0.0</td>\n      <td>0.0</td>\n      <td>0.0</td>\n      <td>1.0</td>\n      <td>Furka13_22a_20220616_173000</td>\n      <td>Furka13_22a</td>\n      <td>18.0</td>\n      <td>19.0</td>\n    </tr>\n    <tr>\n      <th>587476</th>\n      <td>Furka13_22a_20220616_173000__26.wav</td>\n      <td>feeding</td>\n      <td>False</td>\n      <td>5</td>\n      <td>0.0</td>\n      <td>0.0</td>\n      <td>0.0</td>\n      <td>0.0</td>\n      <td>1.0</td>\n      <td>Furka13_22a_20220616_173000</td>\n      <td>Furka13_22a</td>\n      <td>18.0</td>\n      <td>19.0</td>\n    </tr>\n    <tr>\n      <th>587477</th>\n      <td>Furka13_22a_20220616_173000__27.wav</td>\n      <td>feeding</td>\n      <td>False</td>\n      <td>5</td>\n      <td>0.0</td>\n      <td>0.0</td>\n      <td>0.0</td>\n      <td>0.0</td>\n      <td>1.0</td>\n      <td>Furka13_22a_20220616_173000</td>\n      <td>Furka13_22a</td>\n      <td>18.0</td>\n      <td>19.0</td>\n    </tr>\n    <tr>\n      <th>587478</th>\n      <td>Furka13_22a_20220616_173000__28.wav</td>\n      <td>feeding</td>\n      <td>False</td>\n      <td>5</td>\n      <td>0.0</td>\n      <td>0.0</td>\n      <td>0.0</td>\n      <td>0.0</td>\n      <td>1.0</td>\n      <td>Furka13_22a_20220616_173000</td>\n      <td>Furka13_22a</td>\n      <td>18.0</td>\n      <td>19.0</td>\n    </tr>\n    <tr>\n      <th>587479</th>\n      <td>Furka13_22a_20220616_173000__29.wav</td>\n      <td>feeding</td>\n      <td>False</td>\n      <td>5</td>\n      <td>0.0</td>\n      <td>0.0</td>\n      <td>0.0</td>\n      <td>0.0</td>\n      <td>1.0</td>\n      <td>Furka13_22a_20220616_173000</td>\n      <td>Furka13_22a</td>\n      <td>18.0</td>\n      <td>19.0</td>\n    </tr>\n  </tbody>\n</table>\n<p>586485 rows × 13 columns</p>\n</div>"
     },
     "execution_count": 10,
     "metadata": {},
     "output_type": "execute_result"
    }
   ],
   "source": [
    "size_df = size_df[~size_df['is_silence']]\n",
    "size_df"
   ],
   "metadata": {
    "collapsed": false,
    "ExecuteTime": {
     "start_time": "2023-04-24T18:51:34.681778Z",
     "end_time": "2023-04-24T18:51:34.768775Z"
    }
   }
  },
  {
   "cell_type": "code",
   "execution_count": 14,
   "outputs": [
    {
     "data": {
      "text/plain": "                                        file    event  is_silence  class    1   \n0           12_1_1_22_20220626_120000__0.wav  feeding       False      3  0.0  \\\n1           12_1_1_22_20220626_120000__1.wav  feeding       False      3  0.0   \n2           12_1_1_22_20220626_120000__2.wav  feeding       False      3  0.0   \n3           12_1_1_22_20220626_120000__3.wav  feeding       False      3  0.0   \n4           12_1_1_22_20220626_120000__4.wav  feeding       False      3  0.0   \n...                                      ...      ...         ...    ...  ...   \n577358  Furka13_22a_20220603_163000__557.wav  feeding       False      5  0.0   \n577359  Furka13_22a_20220603_163000__558.wav  feeding       False      5  0.0   \n577360  Furka13_22a_20220603_163000__559.wav  feeding       False      5  0.0   \n577361  Furka13_22a_20220603_163000__560.wav  feeding       False      5  0.0   \n577362  Furka13_22a_20220603_163000__561.wav  feeding       False      5  0.0   \n\n          2    3    4    5                    recording     brood_id  age_min   \n0       0.0  1.0  0.0  0.0    12_1_1_22_20220626_120000    12_1_1_22      5.0  \\\n1       0.0  1.0  0.0  0.0    12_1_1_22_20220626_120000    12_1_1_22      5.0   \n2       0.0  1.0  0.0  0.0    12_1_1_22_20220626_120000    12_1_1_22      5.0   \n3       0.0  1.0  0.0  0.0    12_1_1_22_20220626_120000    12_1_1_22      5.0   \n4       0.0  1.0  0.0  0.0    12_1_1_22_20220626_120000    12_1_1_22      5.0   \n...     ...  ...  ...  ...                          ...          ...      ...   \n577358  0.0  0.0  0.0  1.0  Furka13_22a_20220603_163000  Furka13_22a      5.0   \n577359  0.0  0.0  0.0  1.0  Furka13_22a_20220603_163000  Furka13_22a      5.0   \n577360  0.0  0.0  0.0  1.0  Furka13_22a_20220603_163000  Furka13_22a      5.0   \n577361  0.0  0.0  0.0  1.0  Furka13_22a_20220603_163000  Furka13_22a      5.0   \n577362  0.0  0.0  0.0  1.0  Furka13_22a_20220603_163000  Furka13_22a      5.0   \n\n        age_max  \n0           6.0  \n1           6.0  \n2           6.0  \n3           6.0  \n4           6.0  \n...         ...  \n577358      6.0  \n577359      6.0  \n577360      6.0  \n577361      6.0  \n577362      6.0  \n\n[205374 rows x 13 columns]",
      "text/html": "<div>\n<style scoped>\n    .dataframe tbody tr th:only-of-type {\n        vertical-align: middle;\n    }\n\n    .dataframe tbody tr th {\n        vertical-align: top;\n    }\n\n    .dataframe thead th {\n        text-align: right;\n    }\n</style>\n<table border=\"1\" class=\"dataframe\">\n  <thead>\n    <tr style=\"text-align: right;\">\n      <th></th>\n      <th>file</th>\n      <th>event</th>\n      <th>is_silence</th>\n      <th>class</th>\n      <th>1</th>\n      <th>2</th>\n      <th>3</th>\n      <th>4</th>\n      <th>5</th>\n      <th>recording</th>\n      <th>brood_id</th>\n      <th>age_min</th>\n      <th>age_max</th>\n    </tr>\n  </thead>\n  <tbody>\n    <tr>\n      <th>0</th>\n      <td>12_1_1_22_20220626_120000__0.wav</td>\n      <td>feeding</td>\n      <td>False</td>\n      <td>3</td>\n      <td>0.0</td>\n      <td>0.0</td>\n      <td>1.0</td>\n      <td>0.0</td>\n      <td>0.0</td>\n      <td>12_1_1_22_20220626_120000</td>\n      <td>12_1_1_22</td>\n      <td>5.0</td>\n      <td>6.0</td>\n    </tr>\n    <tr>\n      <th>1</th>\n      <td>12_1_1_22_20220626_120000__1.wav</td>\n      <td>feeding</td>\n      <td>False</td>\n      <td>3</td>\n      <td>0.0</td>\n      <td>0.0</td>\n      <td>1.0</td>\n      <td>0.0</td>\n      <td>0.0</td>\n      <td>12_1_1_22_20220626_120000</td>\n      <td>12_1_1_22</td>\n      <td>5.0</td>\n      <td>6.0</td>\n    </tr>\n    <tr>\n      <th>2</th>\n      <td>12_1_1_22_20220626_120000__2.wav</td>\n      <td>feeding</td>\n      <td>False</td>\n      <td>3</td>\n      <td>0.0</td>\n      <td>0.0</td>\n      <td>1.0</td>\n      <td>0.0</td>\n      <td>0.0</td>\n      <td>12_1_1_22_20220626_120000</td>\n      <td>12_1_1_22</td>\n      <td>5.0</td>\n      <td>6.0</td>\n    </tr>\n    <tr>\n      <th>3</th>\n      <td>12_1_1_22_20220626_120000__3.wav</td>\n      <td>feeding</td>\n      <td>False</td>\n      <td>3</td>\n      <td>0.0</td>\n      <td>0.0</td>\n      <td>1.0</td>\n      <td>0.0</td>\n      <td>0.0</td>\n      <td>12_1_1_22_20220626_120000</td>\n      <td>12_1_1_22</td>\n      <td>5.0</td>\n      <td>6.0</td>\n    </tr>\n    <tr>\n      <th>4</th>\n      <td>12_1_1_22_20220626_120000__4.wav</td>\n      <td>feeding</td>\n      <td>False</td>\n      <td>3</td>\n      <td>0.0</td>\n      <td>0.0</td>\n      <td>1.0</td>\n      <td>0.0</td>\n      <td>0.0</td>\n      <td>12_1_1_22_20220626_120000</td>\n      <td>12_1_1_22</td>\n      <td>5.0</td>\n      <td>6.0</td>\n    </tr>\n    <tr>\n      <th>...</th>\n      <td>...</td>\n      <td>...</td>\n      <td>...</td>\n      <td>...</td>\n      <td>...</td>\n      <td>...</td>\n      <td>...</td>\n      <td>...</td>\n      <td>...</td>\n      <td>...</td>\n      <td>...</td>\n      <td>...</td>\n      <td>...</td>\n    </tr>\n    <tr>\n      <th>577358</th>\n      <td>Furka13_22a_20220603_163000__557.wav</td>\n      <td>feeding</td>\n      <td>False</td>\n      <td>5</td>\n      <td>0.0</td>\n      <td>0.0</td>\n      <td>0.0</td>\n      <td>0.0</td>\n      <td>1.0</td>\n      <td>Furka13_22a_20220603_163000</td>\n      <td>Furka13_22a</td>\n      <td>5.0</td>\n      <td>6.0</td>\n    </tr>\n    <tr>\n      <th>577359</th>\n      <td>Furka13_22a_20220603_163000__558.wav</td>\n      <td>feeding</td>\n      <td>False</td>\n      <td>5</td>\n      <td>0.0</td>\n      <td>0.0</td>\n      <td>0.0</td>\n      <td>0.0</td>\n      <td>1.0</td>\n      <td>Furka13_22a_20220603_163000</td>\n      <td>Furka13_22a</td>\n      <td>5.0</td>\n      <td>6.0</td>\n    </tr>\n    <tr>\n      <th>577360</th>\n      <td>Furka13_22a_20220603_163000__559.wav</td>\n      <td>feeding</td>\n      <td>False</td>\n      <td>5</td>\n      <td>0.0</td>\n      <td>0.0</td>\n      <td>0.0</td>\n      <td>0.0</td>\n      <td>1.0</td>\n      <td>Furka13_22a_20220603_163000</td>\n      <td>Furka13_22a</td>\n      <td>5.0</td>\n      <td>6.0</td>\n    </tr>\n    <tr>\n      <th>577361</th>\n      <td>Furka13_22a_20220603_163000__560.wav</td>\n      <td>feeding</td>\n      <td>False</td>\n      <td>5</td>\n      <td>0.0</td>\n      <td>0.0</td>\n      <td>0.0</td>\n      <td>0.0</td>\n      <td>1.0</td>\n      <td>Furka13_22a_20220603_163000</td>\n      <td>Furka13_22a</td>\n      <td>5.0</td>\n      <td>6.0</td>\n    </tr>\n    <tr>\n      <th>577362</th>\n      <td>Furka13_22a_20220603_163000__561.wav</td>\n      <td>feeding</td>\n      <td>False</td>\n      <td>5</td>\n      <td>0.0</td>\n      <td>0.0</td>\n      <td>0.0</td>\n      <td>0.0</td>\n      <td>1.0</td>\n      <td>Furka13_22a_20220603_163000</td>\n      <td>Furka13_22a</td>\n      <td>5.0</td>\n      <td>6.0</td>\n    </tr>\n  </tbody>\n</table>\n<p>205374 rows × 13 columns</p>\n</div>"
     },
     "execution_count": 14,
     "metadata": {},
     "output_type": "execute_result"
    }
   ],
   "source": [
    "mid_size_df = size_df[(size_df['age_min'] >= 5) & (size_df['age_max'] < 10)]\n",
    "mid_size_df"
   ],
   "metadata": {
    "collapsed": false,
    "ExecuteTime": {
     "start_time": "2023-04-24T18:55:18.774408Z",
     "end_time": "2023-04-24T18:55:18.816403Z"
    }
   }
  },
  {
   "cell_type": "code",
   "execution_count": 15,
   "outputs": [
    {
     "data": {
      "text/plain": "         file\nclass        \n2       21791\n3       29550\n4      110404\n5       43629",
      "text/html": "<div>\n<style scoped>\n    .dataframe tbody tr th:only-of-type {\n        vertical-align: middle;\n    }\n\n    .dataframe tbody tr th {\n        vertical-align: top;\n    }\n\n    .dataframe thead th {\n        text-align: right;\n    }\n</style>\n<table border=\"1\" class=\"dataframe\">\n  <thead>\n    <tr style=\"text-align: right;\">\n      <th></th>\n      <th>file</th>\n    </tr>\n    <tr>\n      <th>class</th>\n      <th></th>\n    </tr>\n  </thead>\n  <tbody>\n    <tr>\n      <th>2</th>\n      <td>21791</td>\n    </tr>\n    <tr>\n      <th>3</th>\n      <td>29550</td>\n    </tr>\n    <tr>\n      <th>4</th>\n      <td>110404</td>\n    </tr>\n    <tr>\n      <th>5</th>\n      <td>43629</td>\n    </tr>\n  </tbody>\n</table>\n</div>"
     },
     "execution_count": 15,
     "metadata": {},
     "output_type": "execute_result"
    }
   ],
   "source": [
    "mid_size_df[['file', 'class']].groupby('class').count()"
   ],
   "metadata": {
    "collapsed": false,
    "ExecuteTime": {
     "start_time": "2023-04-24T18:55:24.589308Z",
     "end_time": "2023-04-24T18:55:24.612318Z"
    }
   }
  },
  {
   "cell_type": "code",
   "execution_count": 18,
   "outputs": [
    {
     "data": {
      "text/plain": "                 class   file\nbrood_id                     \n1_2_1_22             2  10414\nFurka33_22a          2  10111\nFurka33_22a_val      2   1266\n10_1_1_22            3   2867\n12_1_1_22            3   4347\n1_6_1_22             3   6413\nFurka31_22a          3  15923\nFurka14_22a          4  17862\nFurka10_22a          4  32046\n4_4_1_22             4   7374\n2_2_1_22             4   7976\n1_8_1_22             4  15201\n7_1_1_22             4   5928\nFurka34_22a          4  24017\nFurka12_22a          5  17895\nFurka13_22a          5  22685\nFurka13_22a_val      5   3049",
      "text/html": "<div>\n<style scoped>\n    .dataframe tbody tr th:only-of-type {\n        vertical-align: middle;\n    }\n\n    .dataframe tbody tr th {\n        vertical-align: top;\n    }\n\n    .dataframe thead th {\n        text-align: right;\n    }\n</style>\n<table border=\"1\" class=\"dataframe\">\n  <thead>\n    <tr style=\"text-align: right;\">\n      <th></th>\n      <th>class</th>\n      <th>file</th>\n    </tr>\n    <tr>\n      <th>brood_id</th>\n      <th></th>\n      <th></th>\n    </tr>\n  </thead>\n  <tbody>\n    <tr>\n      <th>1_2_1_22</th>\n      <td>2</td>\n      <td>10414</td>\n    </tr>\n    <tr>\n      <th>Furka33_22a</th>\n      <td>2</td>\n      <td>10111</td>\n    </tr>\n    <tr>\n      <th>Furka33_22a_val</th>\n      <td>2</td>\n      <td>1266</td>\n    </tr>\n    <tr>\n      <th>10_1_1_22</th>\n      <td>3</td>\n      <td>2867</td>\n    </tr>\n    <tr>\n      <th>12_1_1_22</th>\n      <td>3</td>\n      <td>4347</td>\n    </tr>\n    <tr>\n      <th>1_6_1_22</th>\n      <td>3</td>\n      <td>6413</td>\n    </tr>\n    <tr>\n      <th>Furka31_22a</th>\n      <td>3</td>\n      <td>15923</td>\n    </tr>\n    <tr>\n      <th>Furka14_22a</th>\n      <td>4</td>\n      <td>17862</td>\n    </tr>\n    <tr>\n      <th>Furka10_22a</th>\n      <td>4</td>\n      <td>32046</td>\n    </tr>\n    <tr>\n      <th>4_4_1_22</th>\n      <td>4</td>\n      <td>7374</td>\n    </tr>\n    <tr>\n      <th>2_2_1_22</th>\n      <td>4</td>\n      <td>7976</td>\n    </tr>\n    <tr>\n      <th>1_8_1_22</th>\n      <td>4</td>\n      <td>15201</td>\n    </tr>\n    <tr>\n      <th>7_1_1_22</th>\n      <td>4</td>\n      <td>5928</td>\n    </tr>\n    <tr>\n      <th>Furka34_22a</th>\n      <td>4</td>\n      <td>24017</td>\n    </tr>\n    <tr>\n      <th>Furka12_22a</th>\n      <td>5</td>\n      <td>17895</td>\n    </tr>\n    <tr>\n      <th>Furka13_22a</th>\n      <td>5</td>\n      <td>22685</td>\n    </tr>\n    <tr>\n      <th>Furka13_22a_val</th>\n      <td>5</td>\n      <td>3049</td>\n    </tr>\n  </tbody>\n</table>\n</div>"
     },
     "execution_count": 18,
     "metadata": {},
     "output_type": "execute_result"
    }
   ],
   "source": [
    "mid_size_df[['file', 'class', 'brood_id']].groupby('brood_id').agg({'class': 'max', 'file': 'count'}).sort_values('class')"
   ],
   "metadata": {
    "collapsed": false,
    "ExecuteTime": {
     "start_time": "2023-04-24T18:55:49.790762Z",
     "end_time": "2023-04-24T18:55:49.820771Z"
    }
   }
  },
  {
   "cell_type": "code",
   "execution_count": null,
   "outputs": [],
   "source": [],
   "metadata": {
    "collapsed": false
   }
  }
 ],
 "metadata": {
  "kernelspec": {
   "display_name": "Python 3",
   "language": "python",
   "name": "python3"
  },
  "language_info": {
   "codemirror_mode": {
    "name": "ipython",
    "version": 2
   },
   "file_extension": ".py",
   "mimetype": "text/x-python",
   "name": "python",
   "nbconvert_exporter": "python",
   "pygments_lexer": "ipython2",
   "version": "2.7.6"
  }
 },
 "nbformat": 4,
 "nbformat_minor": 0
}
